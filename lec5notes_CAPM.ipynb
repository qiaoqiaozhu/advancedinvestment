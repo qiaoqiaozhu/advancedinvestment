{
 "cells": [
  {
   "cell_type": "code",
   "execution_count": 3,
   "metadata": {
    "collapsed": true,
    "slideshow": {
     "slide_type": "skip"
    }
   },
   "outputs": [],
   "source": [
    "from __future__ import division\n",
    "from __future__ import print_function\n",
    "import numpy as np\n",
    "from pandas import Series, DataFrame\n",
    "from pandas.tseries.offsets import MonthEnd\n",
    "import pandas as pd\n",
    "import statsmodels.api as sm\n",
    "import statsmodels.formula.api as smf\n",
    "from statsmodels.sandbox.regression.predstd import wls_prediction_std\n",
    "\n",
    "import datetime\n",
    "import pandas_datareader.data as web #v0.5 or higher\n",
    "\n",
    "import matplotlib.pyplot as plt\n",
    "%matplotlib inline\n",
    "import seaborn as sns\n",
    "plt.rc('figure', figsize=(14, 8))\n",
    "np.set_printoptions(precision=3)\n"
   ]
  },
  {
   "cell_type": "markdown",
   "metadata": {
    "slideshow": {
     "slide_type": "slide"
    }
   },
   "source": [
    "# FINM8006 Advanced Investment \n",
    "## CAPM\n",
    "---\n",
    "Qiaoqiao Zhu   \n",
    "Australian National University\n",
    "_________"
   ]
  },
  {
   "cell_type": "markdown",
   "metadata": {
    "slideshow": {
     "slide_type": "slide"
    }
   },
   "source": [
    "Review \n",
    "\n",
    "* Mean-variance Optimization as a way to infer SDF bounds\n",
    "* MV optimization with or without risk free\n",
    "* Two fund theory\n",
    "* Estimation difficulty in applying MVO"
   ]
  },
  {
   "cell_type": "markdown",
   "metadata": {
    "slideshow": {
     "slide_type": "slide"
    }
   },
   "source": [
    "### Efficient Market Portfolio\n",
    "\n",
    "* All investors hold a mean-variance efficient portfolio of weight $\\theta_{j}^{i}$ for person $i$ and security $j$. Market clearance implies: \n",
    "$$ \\sum_{i}\\theta_{j}^{i}W^{i}=\\theta_{Mj}W_{M} \\qquad \\forall j $$\n",
    "\n",
    "$$\\sum_{i}\\theta_{j}^{i}\\frac{W^{i}}{W_{M}}=\\theta_{Mj} \\qquad \\forall j $$\n",
    "* sum of all individual holding equals market cap. \n",
    "* weight on each asset in market portfolio is sum of each individual holding weights weighted by his wealth. \n",
    "* market portfolio weights are a convex combination of the portfolio weights for individuals. From spanning, market portfolio must also on frontier and be efficient!"
   ]
  },
  {
   "cell_type": "markdown",
   "metadata": {
    "slideshow": {
     "slide_type": "slide"
    }
   },
   "source": [
    "* If $R_{f}$ available, two-fund theorem implies all investors hold a risk-free and a tangency portfolio.\n",
    "* The optimal capital allocation line (CAL) is just the capital market line (CML) connecting the risk-free asset to the market portfolio. We can we span or synthesize\n",
    "any frontier return using $R_{f}$ and $R_{M}$: $$ R=\\alpha R_{M}+(1-\\alpha)R_{f}=R_{f}+\\alpha(R_{M}-R_{f})$$\n",
    "\n",
    "* This can alternatively be seen from $$ E_{t}(R^{i}_{t+1})=R^{f}+\\beta_{i,m}\\lambda_{m} $$"
   ]
  },
  {
   "cell_type": "markdown",
   "metadata": {
    "slideshow": {
     "slide_type": "slide"
    }
   },
   "source": [
    "### Equilibrium Pricing\n",
    "----\n",
    "CAPM is an equiliblirium relationship. \n",
    "If everyone in the economy holds an efficient portfolio, then how should securities be priced so that they are actually bought 100% in equilibrium?\n",
    "* Equilibrium meaning no investor wants to do anything differently.\n",
    "* Expected returns are very hard to measure, so a model of what returns should be will be useful."
   ]
  },
  {
   "cell_type": "markdown",
   "metadata": {
    "slideshow": {
     "slide_type": "slide"
    }
   },
   "source": [
    "For example, if based on the expected returns our model comes up with, we found that no maximizing investor would like to buy BHP, then something is wrong. BHP would be priced too high (offer too low an expected return). The price of BHP would have to fall to the point where, in aggregate, investors want to hold exactly the number of BHP shares outstanding."
   ]
  },
  {
   "cell_type": "markdown",
   "metadata": {
    "slideshow": {
     "slide_type": "slide"
    }
   },
   "source": [
    "#### Equilibrium Variance-Covariance\n",
    "\n",
    "Recall $$\\omega =\\lambda \\Sigma^{-1}(\\bar{R}-R_{f}\\iota) $$\n",
    "$$\\hat{\\sigma^{2}_{p}}=\\frac{(\\mu-R_{f})^{2}}{(\\bar{R}-R_{f}\\iota)'\\Sigma^{-1}(\\bar{R}-R_{f}\\iota)}=\\lambda (\\mu-R_{f})$$"
   ]
  },
  {
   "cell_type": "markdown",
   "metadata": {
    "slideshow": {
     "slide_type": "slide"
    }
   },
   "source": [
    "therefore\n",
    "$$ \\sigma_{iM}=\\{\\Sigma\\omega\\}_{i}=\\lambda (E(R_{i})-R_{f})$$\n",
    "$$\\sigma^{2}_{M} =\\lambda (E(R_{M}-R_{f})) $$\n",
    "$$ \\frac{\\sigma_{iM}}{\\sigma^{2}_{M}}\\equiv \\beta_{iM} = \\frac{E(R_{i})-R_{f}}{E(R_{M})-R_{f}}$$"
   ]
  },
  {
   "cell_type": "markdown",
   "metadata": {
    "slideshow": {
     "slide_type": "slide"
    }
   },
   "source": [
    "#### CAPM\n",
    "\n",
    "$$E(R_{i})-R_{f}=\\frac{cov(R_{i},R_{M})}{\\sigma_{M}^{2}}(E(R_{M})-R_{f})$$ $$=\\beta_{iM}(E(R_{M})-R_{f})$$\n",
    "\n",
    "The relationship $$ \\bar{R_{i}}=R_{f}+\\beta_{iM}(\\bar{R}_{Mt}-R_{f}) $$ is called security market line (SML)."
   ]
  },
  {
   "cell_type": "markdown",
   "metadata": {
    "slideshow": {
     "slide_type": "slide"
    }
   },
   "source": [
    "A Conceptual Experiment\n",
    "\n",
    "Starting from efficeint market portfolio, $\\omega_{M}$, how an increase in portfolio weight $\\omega_{i}$, financed by a decrease in the weight on the risk-free asset, affect the mean and variance of the efficient portfolio?\n",
    "\n",
    "$$ \\sigma_{p}^{2} =\\omega_{M}^{2}\\sigma_{M}^{2}+\\omega_{i}^{2}\\sigma_{i}^{2} +2 \\omega_{i}\\omega_{M}\\sigma_{iM} $$\n",
    " $$ R_{p}=R_{f}+\\omega_{M}(E(R_{M})-R_{f}) + \\omega_{i}(E(R_{i})-R_{f}) $$"
   ]
  },
  {
   "cell_type": "markdown",
   "metadata": {
    "slideshow": {
     "slide_type": "slide"
    }
   },
   "source": [
    " At optimal, we know $\\omega_{i}=0$ and  $\\omega_{M}=1$\n",
    "$$ \\frac{\\partial\\sigma_{p}^{2}}{\\partial \\omega_{i}} =2\\omega_{i}\\sigma_{i}^{2} +2\\omega_{M}\\sigma_{iM} \\left.\\right |_{\\omega_{i}=0,\\omega_{M}=1}= 2cov(R_{i},R_{M})  $$\n",
    "\n",
    "$$\\frac{\\partial ER_{p}}{\\partial \\omega_{i}} =E(R_{i})-R_{f}  \\left.\\right |_{\\omega_{i}=0,\\omega_{M}=1}= E(R_{i})-R_{f} $$"
   ]
  },
  {
   "cell_type": "markdown",
   "metadata": {
    "slideshow": {
     "slide_type": "slide"
    }
   },
   "source": [
    "To be equilibrium, the marginal change in portfolio expected return per unit of change in the variance must be equal for all securities (and the market portfolio $M$). This implies:\n",
    "\n",
    "$$ \\frac{\\partial ER_{p}/\\partial \\omega_{i}}{\\partial\\sigma_{p}^{2}/\\partial \\omega_{i}} = \\frac{E(R_{i})-R_{f}}{2cov(R_{i},R_{M})}=\\frac{E(R_{j})-R_{f}}{2cov(R_{j},R_{M})}$$ $$=\\frac{E(R_{M})-R_{f}}{2\\sigma_{M}^{2}} $$\n"
   ]
  },
  {
   "cell_type": "markdown",
   "metadata": {
    "slideshow": {
     "slide_type": "slide"
    }
   },
   "source": [
    "#### Testable Implications\n",
    "\n",
    "* The relation between mean return and beta risk is linear.\n",
    "* Beta is the only risk that is priced.\n",
    "* For risk-averse investors, high risk should be positively correlated with high return.\n",
    "\n",
    "In a regression\n",
    "$$ R_{it}-R_{ft}=\\alpha_{i}+\\beta_{iM}(R_{Mt}-R_{ft})+\\varepsilon_{it}$$\n",
    "$\\alpha_{i}= \\bar{R_{i}}-R_{f}-\\beta_{iM}(\\bar{R}_{Mt}-R_{f}) $, called Jensen's alpha, should be zero for all assets."
   ]
  },
  {
   "cell_type": "markdown",
   "metadata": {
    "slideshow": {
     "slide_type": "slide"
    }
   },
   "source": [
    "Let's grab some data and do some simple regressions. But before we do, a couple of simple questions:\n",
    " * What people usually use to proxy for market portfolio?\n",
    " * Should market return be equally weighted or value weighted?"
   ]
  },
  {
   "cell_type": "code",
   "execution_count": 4,
   "metadata": {
    "slideshow": {
     "slide_type": "slide"
    }
   },
   "outputs": [
    {
     "data": {
      "text/html": [
       "<div>\n",
       "<style>\n",
       "    .dataframe thead tr:only-child th {\n",
       "        text-align: right;\n",
       "    }\n",
       "\n",
       "    .dataframe thead th {\n",
       "        text-align: left;\n",
       "    }\n",
       "\n",
       "    .dataframe tbody tr th {\n",
       "        vertical-align: top;\n",
       "    }\n",
       "</style>\n",
       "<table border=\"1\" class=\"dataframe\">\n",
       "  <thead>\n",
       "    <tr style=\"text-align: right;\">\n",
       "      <th></th>\n",
       "      <th>VWRETD</th>\n",
       "      <th>VWRETX</th>\n",
       "      <th>EWRETD</th>\n",
       "      <th>EWRETX</th>\n",
       "      <th>SPRTRN</th>\n",
       "    </tr>\n",
       "    <tr>\n",
       "      <th>Date</th>\n",
       "      <th></th>\n",
       "      <th></th>\n",
       "      <th></th>\n",
       "      <th></th>\n",
       "      <th></th>\n",
       "    </tr>\n",
       "  </thead>\n",
       "  <tbody>\n",
       "    <tr>\n",
       "      <th>1963-01-31</th>\n",
       "      <td>0.050367</td>\n",
       "      <td>0.048957</td>\n",
       "      <td>0.073533</td>\n",
       "      <td>0.072098</td>\n",
       "      <td>0.049128</td>\n",
       "    </tr>\n",
       "    <tr>\n",
       "      <th>1963-02-28</th>\n",
       "      <td>-0.024189</td>\n",
       "      <td>-0.029164</td>\n",
       "      <td>-0.013529</td>\n",
       "      <td>-0.017706</td>\n",
       "      <td>-0.028852</td>\n",
       "    </tr>\n",
       "    <tr>\n",
       "      <th>1963-03-31</th>\n",
       "      <td>0.036581</td>\n",
       "      <td>0.035156</td>\n",
       "      <td>0.024483</td>\n",
       "      <td>0.021636</td>\n",
       "      <td>0.035464</td>\n",
       "    </tr>\n",
       "    <tr>\n",
       "      <th>1963-04-30</th>\n",
       "      <td>0.049070</td>\n",
       "      <td>0.048177</td>\n",
       "      <td>0.045601</td>\n",
       "      <td>0.044409</td>\n",
       "      <td>0.048520</td>\n",
       "    </tr>\n",
       "    <tr>\n",
       "      <th>1963-05-31</th>\n",
       "      <td>0.019674</td>\n",
       "      <td>0.013844</td>\n",
       "      <td>0.032577</td>\n",
       "      <td>0.028163</td>\n",
       "      <td>0.014327</td>\n",
       "    </tr>\n",
       "  </tbody>\n",
       "</table>\n",
       "</div>"
      ],
      "text/plain": [
       "              VWRETD    VWRETX    EWRETD    EWRETX    SPRTRN\n",
       "Date                                                        \n",
       "1963-01-31  0.050367  0.048957  0.073533  0.072098  0.049128\n",
       "1963-02-28 -0.024189 -0.029164 -0.013529 -0.017706 -0.028852\n",
       "1963-03-31  0.036581  0.035156  0.024483  0.021636  0.035464\n",
       "1963-04-30  0.049070  0.048177  0.045601  0.044409  0.048520\n",
       "1963-05-31  0.019674  0.013844  0.032577  0.028163  0.014327"
      ]
     },
     "execution_count": 4,
     "metadata": {},
     "output_type": "execute_result"
    }
   ],
   "source": [
    "def sasdate(dvar):\n",
    "    return pd.to_timedelta(dvar, unit='D') + pd.Timestamp('1960-1-1')\n",
    "\n",
    "sp500 = pd.read_sas('../datalib/sp500.sas7bdat')\n",
    "sp500['Date'] = sasdate(sp500.caldt) + pd.offsets.MonthEnd(0)\n",
    "sp500 = sp500[sp500.Date>'1963-1-1']\n",
    "sp500 = sp500[['VWRETD', 'VWRETX', 'EWRETD', 'EWRETX', 'SPRTRN', 'Date']].set_index('Date')\n",
    "sp500.head()"
   ]
  },
  {
   "cell_type": "markdown",
   "metadata": {
    "slideshow": {
     "slide_type": "fragment"
    }
   },
   "source": [
    "Usually use monthly return to calculate beta. Daily return is much more volatile and subject to bid-ask spread bounces. "
   ]
  },
  {
   "cell_type": "code",
   "execution_count": 5,
   "metadata": {
    "slideshow": {
     "slide_type": "slide"
    }
   },
   "outputs": [
    {
     "data": {
      "text/html": [
       "<div>\n",
       "<style>\n",
       "    .dataframe thead tr:only-child th {\n",
       "        text-align: right;\n",
       "    }\n",
       "\n",
       "    .dataframe thead th {\n",
       "        text-align: left;\n",
       "    }\n",
       "\n",
       "    .dataframe tbody tr th {\n",
       "        vertical-align: top;\n",
       "    }\n",
       "</style>\n",
       "<table border=\"1\" class=\"dataframe\">\n",
       "  <thead>\n",
       "    <tr style=\"text-align: right;\">\n",
       "      <th></th>\n",
       "      <th>AAPL</th>\n",
       "      <th>IBM</th>\n",
       "      <th>MSFT</th>\n",
       "      <th>SP500</th>\n",
       "      <th>mktrf</th>\n",
       "      <th>rf</th>\n",
       "      <th>mktret</th>\n",
       "    </tr>\n",
       "    <tr>\n",
       "      <th>Date</th>\n",
       "      <th></th>\n",
       "      <th></th>\n",
       "      <th></th>\n",
       "      <th></th>\n",
       "      <th></th>\n",
       "      <th></th>\n",
       "      <th></th>\n",
       "    </tr>\n",
       "  </thead>\n",
       "  <tbody>\n",
       "    <tr>\n",
       "      <th>2005-02-28</th>\n",
       "      <td>0.166710</td>\n",
       "      <td>-0.007101</td>\n",
       "      <td>-0.039664</td>\n",
       "      <td>0.018903</td>\n",
       "      <td>0.0189</td>\n",
       "      <td>0.0016</td>\n",
       "      <td>0.0205</td>\n",
       "    </tr>\n",
       "    <tr>\n",
       "      <th>2005-03-31</th>\n",
       "      <td>-0.071110</td>\n",
       "      <td>-0.012962</td>\n",
       "      <td>-0.039348</td>\n",
       "      <td>-0.019118</td>\n",
       "      <td>-0.0197</td>\n",
       "      <td>0.0021</td>\n",
       "      <td>-0.0176</td>\n",
       "    </tr>\n",
       "    <tr>\n",
       "      <th>2005-04-30</th>\n",
       "      <td>-0.134629</td>\n",
       "      <td>-0.164150</td>\n",
       "      <td>0.046752</td>\n",
       "      <td>-0.020109</td>\n",
       "      <td>-0.0261</td>\n",
       "      <td>0.0021</td>\n",
       "      <td>-0.0240</td>\n",
       "    </tr>\n",
       "    <tr>\n",
       "      <th>2005-05-31</th>\n",
       "      <td>0.102607</td>\n",
       "      <td>-0.008239</td>\n",
       "      <td>0.022998</td>\n",
       "      <td>0.029952</td>\n",
       "      <td>0.0365</td>\n",
       "      <td>0.0024</td>\n",
       "      <td>0.0389</td>\n",
       "    </tr>\n",
       "    <tr>\n",
       "      <th>2005-06-30</th>\n",
       "      <td>-0.074195</td>\n",
       "      <td>-0.017869</td>\n",
       "      <td>-0.037209</td>\n",
       "      <td>-0.000143</td>\n",
       "      <td>0.0057</td>\n",
       "      <td>0.0023</td>\n",
       "      <td>0.0080</td>\n",
       "    </tr>\n",
       "  </tbody>\n",
       "</table>\n",
       "</div>"
      ],
      "text/plain": [
       "                AAPL       IBM      MSFT     SP500   mktrf      rf  mktret\n",
       "Date                                                                      \n",
       "2005-02-28  0.166710 -0.007101 -0.039664  0.018903  0.0189  0.0016  0.0205\n",
       "2005-03-31 -0.071110 -0.012962 -0.039348 -0.019118 -0.0197  0.0021 -0.0176\n",
       "2005-04-30 -0.134629 -0.164150  0.046752 -0.020109 -0.0261  0.0021 -0.0240\n",
       "2005-05-31  0.102607 -0.008239  0.022998  0.029952  0.0365  0.0024  0.0389\n",
       "2005-06-30 -0.074195 -0.017869 -0.037209 -0.000143  0.0057  0.0023  0.0080"
      ]
     },
     "execution_count": 5,
     "metadata": {},
     "output_type": "execute_result"
    }
   ],
   "source": [
    "mreturns = pd.read_csv('../datalib/aapl5.csv')\n",
    "mreturns['mktret'] = mreturns.mktrf + mreturns.rf\n",
    "mreturns = mreturns.set_index('Date')\n",
    "mreturns.head()"
   ]
  },
  {
   "cell_type": "code",
   "execution_count": 6,
   "metadata": {
    "collapsed": true,
    "slideshow": {
     "slide_type": "skip"
    }
   },
   "outputs": [],
   "source": [
    "def olsbeta(df, yvar, xvar='SP500'):\n",
    "    X = df[xvar]\n",
    "    X = sm.add_constant(X)\n",
    "    y = df[yvar]\n",
    "    fit = sm.OLS(y, X).fit()    \n",
    "    return fit"
   ]
  },
  {
   "cell_type": "code",
   "execution_count": 7,
   "metadata": {
    "slideshow": {
     "slide_type": "slide"
    }
   },
   "outputs": [
    {
     "name": "stdout",
     "output_type": "stream",
     "text": [
      "                            OLS Regression Results                            \n",
      "==============================================================================\n",
      "Dep. Variable:                   AAPL   R-squared:                       0.304\n",
      "Model:                            OLS   Adj. R-squared:                  0.298\n",
      "Method:                 Least Squares   F-statistic:                     55.37\n",
      "Date:                Wed, 23 Aug 2017   Prob (F-statistic):           1.32e-11\n",
      "Time:                        13:41:06   Log-Likelihood:                 142.73\n",
      "No. Observations:                 129   AIC:                            -281.5\n",
      "Df Residuals:                     127   BIC:                            -275.7\n",
      "Df Model:                           1                                         \n",
      "Covariance Type:            nonrobust                                         \n",
      "==============================================================================\n",
      "                 coef    std err          t      P>|t|      [0.025      0.975]\n",
      "------------------------------------------------------------------------------\n",
      "const          0.0228      0.007      3.184      0.002       0.009       0.037\n",
      "SP500          1.2525      0.168      7.441      0.000       0.919       1.586\n",
      "==============================================================================\n",
      "Omnibus:                        5.424   Durbin-Watson:                   1.871\n",
      "Prob(Omnibus):                  0.066   Jarque-Bera (JB):                5.317\n",
      "Skew:                          -0.341   Prob(JB):                       0.0700\n",
      "Kurtosis:                       3.724   Cond. No.                         23.7\n",
      "==============================================================================\n",
      "\n",
      "Warnings:\n",
      "[1] Standard Errors assume that the covariance matrix of the errors is correctly specified.\n"
     ]
    }
   ],
   "source": [
    "print(olsbeta(mreturns, 'AAPL').summary())"
   ]
  },
  {
   "cell_type": "code",
   "execution_count": 8,
   "metadata": {
    "slideshow": {
     "slide_type": "slide"
    }
   },
   "outputs": [
    {
     "name": "stdout",
     "output_type": "stream",
     "text": [
      "                            OLS Regression Results                            \n",
      "==============================================================================\n",
      "Dep. Variable:                    IBM   R-squared:                       0.296\n",
      "Model:                            OLS   Adj. R-squared:                  0.290\n",
      "Method:                 Least Squares   F-statistic:                     53.34\n",
      "Date:                Wed, 23 Aug 2017   Prob (F-statistic):           2.72e-11\n",
      "Time:                        13:41:08   Log-Likelihood:                 215.75\n",
      "No. Observations:                 129   AIC:                            -427.5\n",
      "Df Residuals:                     127   BIC:                            -421.8\n",
      "Df Model:                           1                                         \n",
      "Covariance Type:            nonrobust                                         \n",
      "==============================================================================\n",
      "                 coef    std err          t      P>|t|      [0.025      0.975]\n",
      "------------------------------------------------------------------------------\n",
      "const          0.0024      0.004      0.601      0.549      -0.006       0.010\n",
      "SP500          0.6979      0.096      7.304      0.000       0.509       0.887\n",
      "==============================================================================\n",
      "Omnibus:                        7.435   Durbin-Watson:                   1.925\n",
      "Prob(Omnibus):                  0.024   Jarque-Bera (JB):               13.539\n",
      "Skew:                          -0.091   Prob(JB):                      0.00115\n",
      "Kurtosis:                       4.577   Cond. No.                         23.7\n",
      "==============================================================================\n",
      "\n",
      "Warnings:\n",
      "[1] Standard Errors assume that the covariance matrix of the errors is correctly specified.\n"
     ]
    }
   ],
   "source": [
    "print(olsbeta(mreturns, 'IBM').summary())"
   ]
  },
  {
   "cell_type": "code",
   "execution_count": 9,
   "metadata": {
    "slideshow": {
     "slide_type": "slide"
    }
   },
   "outputs": [
    {
     "name": "stdout",
     "output_type": "stream",
     "text": [
      "                            OLS Regression Results                            \n",
      "==============================================================================\n",
      "Dep. Variable:                    IBM   R-squared:                       0.302\n",
      "Model:                            OLS   Adj. R-squared:                  0.297\n",
      "Method:                 Least Squares   F-statistic:                     55.04\n",
      "Date:                Wed, 23 Aug 2017   Prob (F-statistic):           1.49e-11\n",
      "Time:                        13:41:08   Log-Likelihood:                 216.36\n",
      "No. Observations:                 129   AIC:                            -428.7\n",
      "Df Residuals:                     127   BIC:                            -423.0\n",
      "Df Model:                           1                                         \n",
      "Covariance Type:            nonrobust                                         \n",
      "==============================================================================\n",
      "                 coef    std err          t      P>|t|      [0.025      0.975]\n",
      "------------------------------------------------------------------------------\n",
      "const          0.0011      0.004      0.266      0.791      -0.007       0.009\n",
      "mktret         0.6895      0.093      7.419      0.000       0.506       0.873\n",
      "==============================================================================\n",
      "Omnibus:                        6.585   Durbin-Watson:                   1.934\n",
      "Prob(Omnibus):                  0.037   Jarque-Bera (JB):               11.117\n",
      "Skew:                          -0.067   Prob(JB):                      0.00386\n",
      "Kurtosis:                       4.432   Cond. No.                         23.2\n",
      "==============================================================================\n",
      "\n",
      "Warnings:\n",
      "[1] Standard Errors assume that the covariance matrix of the errors is correctly specified.\n"
     ]
    }
   ],
   "source": [
    "print(olsbeta(mreturns, 'IBM', xvar='mktret').summary())"
   ]
  },
  {
   "cell_type": "markdown",
   "metadata": {
    "slideshow": {
     "slide_type": "slide"
    }
   },
   "source": [
    "not much difference in $\\beta$, S&P 500 is a valid proxy. "
   ]
  },
  {
   "cell_type": "markdown",
   "metadata": {
    "slideshow": {
     "slide_type": "slide"
    }
   },
   "source": [
    "Black's version \n",
    "\n",
    "$$ R_{it}-R_{ft}=\\alpha_{i}+\\beta_{iM}(R_{Mt}-R_{ft})+\\varepsilon_{it}$$\n",
    "$$ R_{it}=\\alpha_{i}+(1-\\beta_{iM})R_{ft} +\\beta_{iM}R_{Mt}+\\varepsilon_{it}$$\n",
    "If you run regression \n",
    "$$ R_{it}=a_{i}+b_{iM}R_{Mt}+\\varepsilon_{it}$$\n",
    "$b_{iM}\\approx \\beta_{iM}$ as long as $cov(R_{ft}, R_{Mt}) \\approx 0$"
   ]
  },
  {
   "cell_type": "code",
   "execution_count": 10,
   "metadata": {
    "slideshow": {
     "slide_type": "slide"
    }
   },
   "outputs": [
    {
     "name": "stdout",
     "output_type": "stream",
     "text": [
      "                            OLS Regression Results                            \n",
      "==============================================================================\n",
      "Dep. Variable:                    exr   R-squared:                       0.302\n",
      "Model:                            OLS   Adj. R-squared:                  0.297\n",
      "Method:                 Least Squares   F-statistic:                     55.06\n",
      "Date:                Wed, 23 Aug 2017   Prob (F-statistic):           1.48e-11\n",
      "Time:                        13:41:15   Log-Likelihood:                 216.45\n",
      "No. Observations:                 129   AIC:                            -428.9\n",
      "Df Residuals:                     127   BIC:                            -423.2\n",
      "Df Model:                           1                                         \n",
      "Covariance Type:            nonrobust                                         \n",
      "==============================================================================\n",
      "                 coef    std err          t      P>|t|      [0.025      0.975]\n",
      "------------------------------------------------------------------------------\n",
      "const          0.0008      0.004      0.188      0.851      -0.007       0.009\n",
      "mktrf          0.6875      0.093      7.420      0.000       0.504       0.871\n",
      "==============================================================================\n",
      "Omnibus:                        6.631   Durbin-Watson:                   1.937\n",
      "Prob(Omnibus):                  0.036   Jarque-Bera (JB):               11.227\n",
      "Skew:                          -0.070   Prob(JB):                      0.00365\n",
      "Kurtosis:                       4.438   Cond. No.                         23.1\n",
      "==============================================================================\n",
      "\n",
      "Warnings:\n",
      "[1] Standard Errors assume that the covariance matrix of the errors is correctly specified.\n"
     ]
    }
   ],
   "source": [
    "mreturns['exr'] = mreturns['IBM'] - mreturns['rf']\n",
    "print(olsbeta(mreturns, 'exr', xvar='mktrf').summary())"
   ]
  },
  {
   "cell_type": "code",
   "execution_count": 11,
   "metadata": {
    "slideshow": {
     "slide_type": "slide"
    }
   },
   "outputs": [
    {
     "data": {
      "image/png": "[encoded data removed]",
      "text/plain": [
       "<matplotlib.figure.Figure at 0x115ea8f60>"
      ]
     },
     "metadata": {},
     "output_type": "display_data"
    }
   ],
   "source": [
    "#prstd, iv_l, iv_u = wls_prediction_std(est)\n",
    "est = olsbeta(mreturns, 'exr', xvar='mktrf')\n",
    "pred = est.fittedvalues\n",
    "\n",
    "fig, ax = plt.subplots(figsize=(12,8))\n",
    "ax.plot(mreturns['mktrf'], mreturns['exr'], 'o', label=\"data\")\n",
    "ax.plot(mreturns['mktrf'], pred, '-', label=\"OLS\")\n",
    "#ax.plot(mreturns['mktrf'], iv_u, '--')\n",
    "#ax.plot(mreturns['mktrf'], iv_l, '--')\n",
    "ax.legend(loc='best');\n",
    "plt.show()"
   ]
  },
  {
   "cell_type": "markdown",
   "metadata": {
    "slideshow": {
     "slide_type": "slide"
    }
   },
   "source": [
    "#### Formal testing of CAPM"
   ]
  },
  {
   "cell_type": "markdown",
   "metadata": {
    "slideshow": {
     "slide_type": "slide"
    }
   },
   "source": [
    "###### Empirical Challenges\n",
    "Given historical data, $$ R_{it}-R_{ft}=\\alpha_{i}+\\beta_{iM}(R_{Mt}-R_{ft})+\\varepsilon_{it} $$\n",
    "*  $\\alpha_{i}=0$ may not be true for every asset. Some assets may get \"lucky\"/\"unlucky\", i.e. mispriced. That's fine, it should average out.\n",
    "* $\\beta_{i}$ may not be precisely estimated in time-series (errors in variable). Furthermore, $\\beta_{i}$ and $\\beta_{j}$ may be correlated.\n",
    "* $\\sigma_{\\varepsilon}$ may be correlated with true $\\beta$."
   ]
  },
  {
   "cell_type": "markdown",
   "metadata": {
    "slideshow": {
     "slide_type": "slide"
    }
   },
   "source": [
    "###### An Portfolio Approach\n",
    "Sort assets to form few portfolios that summarize the behavior of a larger set of assets, based on characteristic such as $\\beta$ and market cap (size). Use portfolio return to test CAPM.\n",
    "* Individual stock $\\sigma$ are very high, which makes $\\sigma/\\sqrt{T}$ nearly impossible to accurately estimate $E(R^{e})$. Portfolios have lower  $\\sigma$ through diversification.\n",
    "* $\\beta_{p}$ is more stable and less cross-sectionally correlated.\n",
    "* Test has higher power (rejects the null more often when it is false).\n",
    "* That's what people do in real-world investing."
   ]
  },
  {
   "cell_type": "markdown",
   "metadata": {
    "slideshow": {
     "slide_type": "slide"
    }
   },
   "source": [
    "###### Econometrics of CAPM Testing\n",
    "* Generalized Method of Moments (GMM)\n",
    "* Time series and Cross Section approaches: they work as long as standard errors are properly adjusted. \n",
    "* Fama-MacBeth Procedure: allows for time-varying $\\beta$s, easy to use, and unbiased if time-series correlation is not a big concern."
   ]
  },
  {
   "cell_type": "markdown",
   "metadata": {
    "slideshow": {
     "slide_type": "slide"
    }
   },
   "source": [
    "##### Fama-MacBeth\n",
    "\n",
    "Idea:\n",
    "\n",
    "If CAPM is correct, then you should not be able to make profit/returns in excess of the CAPM model. Check in each period whether you make excess returns. If there are enough periods that excess return is non-zero, then we can reject CAPM"
   ]
  },
  {
   "cell_type": "markdown",
   "metadata": {
    "slideshow": {
     "slide_type": "slide"
    }
   },
   "source": [
    "###### Fama-MacBeth Procedure\n",
    "\n",
    "1. Run time-series regression $R^{e}_{kt}=a_{k}+\\beta_{k}R^{e}_{Mt}+\\varepsilon_{kt}$ to get $\\beta_{k}$.\n",
    "2. Form portfolio $i=1,2,...N$ based on $\\beta_{k}$, and re-estimate $R^{e}_{it}=a_{i}+\\beta_{i}R^{e}_{Mt}+\\varepsilon_{it}$ for $i=1,2,...N$.\n",
    "3. Run cross-sectional regression at each time $t=1...T$, $R^{e}_{it}=(\\gamma_{t})+\\lambda_{t}\\hat\\beta_{i}+\\alpha_{it}$\n",
    "4. Estimates of $\\lambda$ and $\\alpha$ are averages over time\n",
    "$$\\hat{\\lambda}=\\frac{1}{T}\\sum_{t=1}^{T}\\hat{\\lambda}_{t} ; \\quad \\hat{\\alpha}=\\frac{1}{T}\\sum_{t=1}^{T}\\hat{\\alpha}_{t} $$"
   ]
  },
  {
   "cell_type": "markdown",
   "metadata": {
    "slideshow": {
     "slide_type": "slide"
    }
   },
   "source": [
    "Let's do a simplified version using CRSP monthly stock files. "
   ]
  },
  {
   "cell_type": "code",
   "execution_count": 12,
   "metadata": {
    "slideshow": {
     "slide_type": "fragment"
    }
   },
   "outputs": [
    {
     "data": {
      "text/html": [
       "<div>\n",
       "<style>\n",
       "    .dataframe thead tr:only-child th {\n",
       "        text-align: right;\n",
       "    }\n",
       "\n",
       "    .dataframe thead th {\n",
       "        text-align: left;\n",
       "    }\n",
       "\n",
       "    .dataframe tbody tr th {\n",
       "        vertical-align: top;\n",
       "    }\n",
       "</style>\n",
       "<table border=\"1\" class=\"dataframe\">\n",
       "  <thead>\n",
       "    <tr style=\"text-align: right;\">\n",
       "      <th></th>\n",
       "      <th>PERMNO</th>\n",
       "      <th>RET</th>\n",
       "    </tr>\n",
       "    <tr>\n",
       "      <th>Date</th>\n",
       "      <th></th>\n",
       "      <th></th>\n",
       "    </tr>\n",
       "  </thead>\n",
       "  <tbody>\n",
       "    <tr>\n",
       "      <th>1986-02-28</th>\n",
       "      <td>10000.0</td>\n",
       "      <td>-0.257143</td>\n",
       "    </tr>\n",
       "    <tr>\n",
       "      <th>1986-03-31</th>\n",
       "      <td>10000.0</td>\n",
       "      <td>0.365385</td>\n",
       "    </tr>\n",
       "    <tr>\n",
       "      <th>1986-04-30</th>\n",
       "      <td>10000.0</td>\n",
       "      <td>-0.098592</td>\n",
       "    </tr>\n",
       "  </tbody>\n",
       "</table>\n",
       "</div>"
      ],
      "text/plain": [
       "             PERMNO       RET\n",
       "Date                         \n",
       "1986-02-28  10000.0 -0.257143\n",
       "1986-03-31  10000.0  0.365385\n",
       "1986-04-30  10000.0 -0.098592"
      ]
     },
     "execution_count": 12,
     "metadata": {},
     "output_type": "execute_result"
    }
   ],
   "source": [
    "# CRSP stock return data\n",
    "df = pd.read_csv('../datalib/msfcsv.csv')\n",
    "df['Date'] = pd.to_datetime(df.DATE.astype('str')) + MonthEnd(0)\n",
    "df = df.set_index('Date')\n",
    "df = df[['PERMNO', 'RET']]\n",
    "df.head(3)"
   ]
  },
  {
   "cell_type": "code",
   "execution_count": 13,
   "metadata": {
    "slideshow": {
     "slide_type": "fragment"
    }
   },
   "outputs": [
    {
     "name": "stdout",
     "output_type": "stream",
     "text": [
      "Read in market factors. You can get market factors from Fama French Data Libary\n"
     ]
    },
    {
     "data": {
      "text/html": [
       "<div>\n",
       "<style>\n",
       "    .dataframe thead tr:only-child th {\n",
       "        text-align: right;\n",
       "    }\n",
       "\n",
       "    .dataframe thead th {\n",
       "        text-align: left;\n",
       "    }\n",
       "\n",
       "    .dataframe tbody tr th {\n",
       "        vertical-align: top;\n",
       "    }\n",
       "</style>\n",
       "<table border=\"1\" class=\"dataframe\">\n",
       "  <thead>\n",
       "    <tr style=\"text-align: right;\">\n",
       "      <th></th>\n",
       "      <th>PERMNO</th>\n",
       "      <th>RET</th>\n",
       "      <th>mktrf</th>\n",
       "      <th>rf</th>\n",
       "    </tr>\n",
       "    <tr>\n",
       "      <th>Date</th>\n",
       "      <th></th>\n",
       "      <th></th>\n",
       "      <th></th>\n",
       "      <th></th>\n",
       "    </tr>\n",
       "  </thead>\n",
       "  <tbody>\n",
       "    <tr>\n",
       "      <th>1963-01-31</th>\n",
       "      <td>10006.0</td>\n",
       "      <td>0.047002</td>\n",
       "      <td>0.0493</td>\n",
       "      <td>0.0025</td>\n",
       "    </tr>\n",
       "    <tr>\n",
       "      <th>1963-01-31</th>\n",
       "      <td>10014.0</td>\n",
       "      <td>0.034483</td>\n",
       "      <td>0.0493</td>\n",
       "      <td>0.0025</td>\n",
       "    </tr>\n",
       "    <tr>\n",
       "      <th>1963-01-31</th>\n",
       "      <td>10030.0</td>\n",
       "      <td>0.056122</td>\n",
       "      <td>0.0493</td>\n",
       "      <td>0.0025</td>\n",
       "    </tr>\n",
       "  </tbody>\n",
       "</table>\n",
       "</div>"
      ],
      "text/plain": [
       "             PERMNO       RET   mktrf      rf\n",
       "Date                                         \n",
       "1963-01-31  10006.0  0.047002  0.0493  0.0025\n",
       "1963-01-31  10014.0  0.034483  0.0493  0.0025\n",
       "1963-01-31  10030.0  0.056122  0.0493  0.0025"
      ]
     },
     "execution_count": 13,
     "metadata": {},
     "output_type": "execute_result"
    }
   ],
   "source": [
    "print('Read in market factors. You can get market factors from Fama French Data Libary')\n",
    "ff = pd.read_csv('../datalib/ff_factors.csv')\n",
    "ff['Date'] = pd.to_datetime(ff.dateff.astype('str')) + MonthEnd(0)\n",
    "ff = ff.set_index('Date')\n",
    "ff = ff.loc['1963':, ['mktrf', 'rf']]\n",
    "df = df.join(ff).dropna()\n",
    "df.head(3)"
   ]
  },
  {
   "cell_type": "markdown",
   "metadata": {
    "slideshow": {
     "slide_type": "slide"
    }
   },
   "source": [
    "* Create an index for every 5 years, keep stocks that have observation in all 5 years."
   ]
  },
  {
   "cell_type": "code",
   "execution_count": 14,
   "metadata": {
    "slideshow": {
     "slide_type": "slide"
    }
   },
   "outputs": [
    {
     "data": {
      "text/html": [
       "<div>\n",
       "<style>\n",
       "    .dataframe thead tr:only-child th {\n",
       "        text-align: right;\n",
       "    }\n",
       "\n",
       "    .dataframe thead th {\n",
       "        text-align: left;\n",
       "    }\n",
       "\n",
       "    .dataframe tbody tr th {\n",
       "        vertical-align: top;\n",
       "    }\n",
       "</style>\n",
       "<table border=\"1\" class=\"dataframe\">\n",
       "  <thead>\n",
       "    <tr style=\"text-align: right;\">\n",
       "      <th></th>\n",
       "      <th>PERMNO</th>\n",
       "      <th>RET</th>\n",
       "      <th>mktrf</th>\n",
       "      <th>rf</th>\n",
       "      <th>yearg5</th>\n",
       "      <th>rirf</th>\n",
       "    </tr>\n",
       "    <tr>\n",
       "      <th>Date</th>\n",
       "      <th></th>\n",
       "      <th></th>\n",
       "      <th></th>\n",
       "      <th></th>\n",
       "      <th></th>\n",
       "      <th></th>\n",
       "    </tr>\n",
       "  </thead>\n",
       "  <tbody>\n",
       "    <tr>\n",
       "      <th>1963-01-31</th>\n",
       "      <td>10006.0</td>\n",
       "      <td>0.047002</td>\n",
       "      <td>0.0493</td>\n",
       "      <td>0.0025</td>\n",
       "      <td>1</td>\n",
       "      <td>0.044502</td>\n",
       "    </tr>\n",
       "    <tr>\n",
       "      <th>1963-01-31</th>\n",
       "      <td>10014.0</td>\n",
       "      <td>0.034483</td>\n",
       "      <td>0.0493</td>\n",
       "      <td>0.0025</td>\n",
       "      <td>1</td>\n",
       "      <td>0.031983</td>\n",
       "    </tr>\n",
       "    <tr>\n",
       "      <th>1963-01-31</th>\n",
       "      <td>10030.0</td>\n",
       "      <td>0.056122</td>\n",
       "      <td>0.0493</td>\n",
       "      <td>0.0025</td>\n",
       "      <td>1</td>\n",
       "      <td>0.053622</td>\n",
       "    </tr>\n",
       "  </tbody>\n",
       "</table>\n",
       "</div>"
      ],
      "text/plain": [
       "             PERMNO       RET   mktrf      rf  yearg5      rirf\n",
       "Date                                                           \n",
       "1963-01-31  10006.0  0.047002  0.0493  0.0025       1  0.044502\n",
       "1963-01-31  10014.0  0.034483  0.0493  0.0025       1  0.031983\n",
       "1963-01-31  10030.0  0.056122  0.0493  0.0025       1  0.053622"
      ]
     },
     "execution_count": 14,
     "metadata": {},
     "output_type": "execute_result"
    }
   ],
   "source": [
    "df['yearg5'] = (df.index.year-1963)//5+1\n",
    "df['rirf'] = df.RET - df.rf\n",
    "df['nobs'] = df.groupby(['yearg5','PERMNO'])['RET'].transform(lambda x: x.count())\n",
    "df = df[df.nobs>=60]  # at leat 24 observation for a stock in the period\n",
    "df = df.drop('nobs', axis=1)\n",
    "df.head(3)"
   ]
  },
  {
   "cell_type": "markdown",
   "metadata": {
    "slideshow": {
     "slide_type": "slide"
    }
   },
   "source": [
    "* In every 5-year period (yearg5), run time-series regression for every stock (permno)"
   ]
  },
  {
   "cell_type": "code",
   "execution_count": 15,
   "metadata": {
    "collapsed": true,
    "slideshow": {
     "slide_type": "slide"
    }
   },
   "outputs": [],
   "source": [
    "# OLS, output the coefficient on beta\n",
    "def ols_res(df, xcols,  ycol):\n",
    "    X = df[xcols]\n",
    "    X = sm.add_constant(X)\n",
    "    return sm.OLS(df[ycol], X).fit().params[1]"
   ]
  },
  {
   "cell_type": "code",
   "execution_count": 16,
   "metadata": {
    "slideshow": {
     "slide_type": "slide"
    }
   },
   "outputs": [
    {
     "data": {
      "text/html": [
       "<div>\n",
       "<style>\n",
       "    .dataframe thead tr:only-child th {\n",
       "        text-align: right;\n",
       "    }\n",
       "\n",
       "    .dataframe thead th {\n",
       "        text-align: left;\n",
       "    }\n",
       "\n",
       "    .dataframe tbody tr th {\n",
       "        vertical-align: top;\n",
       "    }\n",
       "</style>\n",
       "<table border=\"1\" class=\"dataframe\">\n",
       "  <thead>\n",
       "    <tr style=\"text-align: right;\">\n",
       "      <th></th>\n",
       "      <th></th>\n",
       "      <th>beta</th>\n",
       "    </tr>\n",
       "    <tr>\n",
       "      <th>yearg5</th>\n",
       "      <th>PERMNO</th>\n",
       "      <th></th>\n",
       "    </tr>\n",
       "  </thead>\n",
       "  <tbody>\n",
       "    <tr>\n",
       "      <th rowspan=\"5\" valign=\"top\">1</th>\n",
       "      <th>10006.0</th>\n",
       "      <td>1.300979</td>\n",
       "    </tr>\n",
       "    <tr>\n",
       "      <th>10014.0</th>\n",
       "      <td>1.618225</td>\n",
       "    </tr>\n",
       "    <tr>\n",
       "      <th>10030.0</th>\n",
       "      <td>1.107791</td>\n",
       "    </tr>\n",
       "    <tr>\n",
       "      <th>10057.0</th>\n",
       "      <td>1.371673</td>\n",
       "    </tr>\n",
       "    <tr>\n",
       "      <th>10065.0</th>\n",
       "      <td>0.688413</td>\n",
       "    </tr>\n",
       "  </tbody>\n",
       "</table>\n",
       "</div>"
      ],
      "text/plain": [
       "                    beta\n",
       "yearg5 PERMNO           \n",
       "1      10006.0  1.300979\n",
       "       10014.0  1.618225\n",
       "       10030.0  1.107791\n",
       "       10057.0  1.371673\n",
       "       10065.0  0.688413"
      ]
     },
     "execution_count": 16,
     "metadata": {},
     "output_type": "execute_result"
    }
   ],
   "source": [
    "# beta for each stock in the 5 year periods. \n",
    "portbeta = df.groupby(['yearg5', 'PERMNO']).apply(ols_res, ['mktrf'], ['rirf'])\n",
    "portbeta = pd.DataFrame(portbeta, columns=['beta'])\n",
    "portbeta.head()"
   ]
  },
  {
   "cell_type": "markdown",
   "metadata": {
    "slideshow": {
     "slide_type": "slide"
    }
   },
   "source": [
    "* Within every 5 year period, sort stocks according to beta, and group them into 20 portfolios of similar betas. "
   ]
  },
  {
   "cell_type": "code",
   "execution_count": 17,
   "metadata": {
    "slideshow": {
     "slide_type": "slide"
    }
   },
   "outputs": [
    {
     "data": {
      "text/html": [
       "<div>\n",
       "<style>\n",
       "    .dataframe thead tr:only-child th {\n",
       "        text-align: right;\n",
       "    }\n",
       "\n",
       "    .dataframe thead th {\n",
       "        text-align: left;\n",
       "    }\n",
       "\n",
       "    .dataframe tbody tr th {\n",
       "        vertical-align: top;\n",
       "    }\n",
       "</style>\n",
       "<table border=\"1\" class=\"dataframe\">\n",
       "  <thead>\n",
       "    <tr style=\"text-align: right;\">\n",
       "      <th></th>\n",
       "      <th></th>\n",
       "      <th>beta</th>\n",
       "      <th>port</th>\n",
       "    </tr>\n",
       "    <tr>\n",
       "      <th>yearg5</th>\n",
       "      <th>PERMNO</th>\n",
       "      <th></th>\n",
       "      <th></th>\n",
       "    </tr>\n",
       "  </thead>\n",
       "  <tbody>\n",
       "    <tr>\n",
       "      <th rowspan=\"5\" valign=\"top\">1</th>\n",
       "      <th>10006.0</th>\n",
       "      <td>1.300979</td>\n",
       "      <td>11</td>\n",
       "    </tr>\n",
       "    <tr>\n",
       "      <th>10014.0</th>\n",
       "      <td>1.618225</td>\n",
       "      <td>15</td>\n",
       "    </tr>\n",
       "    <tr>\n",
       "      <th>10030.0</th>\n",
       "      <td>1.107791</td>\n",
       "      <td>8</td>\n",
       "    </tr>\n",
       "    <tr>\n",
       "      <th>10057.0</th>\n",
       "      <td>1.371673</td>\n",
       "      <td>12</td>\n",
       "    </tr>\n",
       "    <tr>\n",
       "      <th>10065.0</th>\n",
       "      <td>0.688413</td>\n",
       "      <td>3</td>\n",
       "    </tr>\n",
       "  </tbody>\n",
       "</table>\n",
       "</div>"
      ],
      "text/plain": [
       "                    beta  port\n",
       "yearg5 PERMNO                 \n",
       "1      10006.0  1.300979    11\n",
       "       10014.0  1.618225    15\n",
       "       10030.0  1.107791     8\n",
       "       10057.0  1.371673    12\n",
       "       10065.0  0.688413     3"
      ]
     },
     "execution_count": 17,
     "metadata": {},
     "output_type": "execute_result"
    }
   ],
   "source": [
    "# assign stocks to 20 portfolios in each period\n",
    "rk = lambda x: pd.Series(pd.qcut(x,20,labels=False),index=x.index)\n",
    "portbeta['port'] = portbeta.groupby(level=['yearg5'])['beta'].apply(rk)\n",
    "portbeta.head()"
   ]
  },
  {
   "cell_type": "code",
   "execution_count": 18,
   "metadata": {
    "slideshow": {
     "slide_type": "slide"
    }
   },
   "outputs": [
    {
     "data": {
      "text/html": [
       "<div>\n",
       "<style>\n",
       "    .dataframe thead tr:only-child th {\n",
       "        text-align: right;\n",
       "    }\n",
       "\n",
       "    .dataframe thead th {\n",
       "        text-align: left;\n",
       "    }\n",
       "\n",
       "    .dataframe tbody tr th {\n",
       "        vertical-align: top;\n",
       "    }\n",
       "</style>\n",
       "<table border=\"1\" class=\"dataframe\">\n",
       "  <thead>\n",
       "    <tr style=\"text-align: right;\">\n",
       "      <th></th>\n",
       "      <th>PERMNO</th>\n",
       "      <th>RET</th>\n",
       "      <th>mktrf</th>\n",
       "      <th>rf</th>\n",
       "      <th>yearg5</th>\n",
       "      <th>rirf</th>\n",
       "      <th>beta</th>\n",
       "      <th>port</th>\n",
       "    </tr>\n",
       "    <tr>\n",
       "      <th>Date</th>\n",
       "      <th></th>\n",
       "      <th></th>\n",
       "      <th></th>\n",
       "      <th></th>\n",
       "      <th></th>\n",
       "      <th></th>\n",
       "      <th></th>\n",
       "      <th></th>\n",
       "    </tr>\n",
       "  </thead>\n",
       "  <tbody>\n",
       "    <tr>\n",
       "      <th>1963-01-31</th>\n",
       "      <td>10006.0</td>\n",
       "      <td>0.047002</td>\n",
       "      <td>0.0493</td>\n",
       "      <td>0.0025</td>\n",
       "      <td>1</td>\n",
       "      <td>0.044502</td>\n",
       "      <td>1.300979</td>\n",
       "      <td>11</td>\n",
       "    </tr>\n",
       "    <tr>\n",
       "      <th>1963-02-28</th>\n",
       "      <td>10006.0</td>\n",
       "      <td>0.038700</td>\n",
       "      <td>-0.0238</td>\n",
       "      <td>0.0023</td>\n",
       "      <td>1</td>\n",
       "      <td>0.036400</td>\n",
       "      <td>1.300979</td>\n",
       "      <td>11</td>\n",
       "    </tr>\n",
       "    <tr>\n",
       "      <th>1963-03-31</th>\n",
       "      <td>10006.0</td>\n",
       "      <td>-0.009009</td>\n",
       "      <td>0.0308</td>\n",
       "      <td>0.0023</td>\n",
       "      <td>1</td>\n",
       "      <td>-0.011309</td>\n",
       "      <td>1.300979</td>\n",
       "      <td>11</td>\n",
       "    </tr>\n",
       "    <tr>\n",
       "      <th>1963-04-30</th>\n",
       "      <td>10006.0</td>\n",
       "      <td>0.084848</td>\n",
       "      <td>0.0451</td>\n",
       "      <td>0.0025</td>\n",
       "      <td>1</td>\n",
       "      <td>0.082348</td>\n",
       "      <td>1.300979</td>\n",
       "      <td>11</td>\n",
       "    </tr>\n",
       "    <tr>\n",
       "      <th>1963-05-31</th>\n",
       "      <td>10006.0</td>\n",
       "      <td>0.091620</td>\n",
       "      <td>0.0176</td>\n",
       "      <td>0.0024</td>\n",
       "      <td>1</td>\n",
       "      <td>0.089220</td>\n",
       "      <td>1.300979</td>\n",
       "      <td>11</td>\n",
       "    </tr>\n",
       "  </tbody>\n",
       "</table>\n",
       "</div>"
      ],
      "text/plain": [
       "             PERMNO       RET   mktrf      rf  yearg5      rirf      beta  \\\n",
       "Date                                                                        \n",
       "1963-01-31  10006.0  0.047002  0.0493  0.0025       1  0.044502  1.300979   \n",
       "1963-02-28  10006.0  0.038700 -0.0238  0.0023       1  0.036400  1.300979   \n",
       "1963-03-31  10006.0 -0.009009  0.0308  0.0023       1 -0.011309  1.300979   \n",
       "1963-04-30  10006.0  0.084848  0.0451  0.0025       1  0.082348  1.300979   \n",
       "1963-05-31  10006.0  0.091620  0.0176  0.0024       1  0.089220  1.300979   \n",
       "\n",
       "            port  \n",
       "Date              \n",
       "1963-01-31    11  \n",
       "1963-02-28    11  \n",
       "1963-03-31    11  \n",
       "1963-04-30    11  \n",
       "1963-05-31    11  "
      ]
     },
     "execution_count": 18,
     "metadata": {},
     "output_type": "execute_result"
    }
   ],
   "source": [
    "df = df.reset_index().merge(portbeta.reset_index(), how='inner', on=['yearg5', 'PERMNO']).set_index('Date')\n",
    "df.head()"
   ]
  },
  {
   "cell_type": "code",
   "execution_count": 19,
   "metadata": {
    "slideshow": {
     "slide_type": "slide"
    }
   },
   "outputs": [
    {
     "data": {
      "text/html": [
       "<div>\n",
       "<style>\n",
       "    .dataframe thead tr:only-child th {\n",
       "        text-align: right;\n",
       "    }\n",
       "\n",
       "    .dataframe thead th {\n",
       "        text-align: left;\n",
       "    }\n",
       "\n",
       "    .dataframe tbody tr th {\n",
       "        vertical-align: top;\n",
       "    }\n",
       "</style>\n",
       "<table border=\"1\" class=\"dataframe\">\n",
       "  <thead>\n",
       "    <tr style=\"text-align: right;\">\n",
       "      <th></th>\n",
       "      <th>Date</th>\n",
       "      <th>port</th>\n",
       "      <th>rirf</th>\n",
       "      <th>RET</th>\n",
       "      <th>mktrf</th>\n",
       "      <th>yearg5</th>\n",
       "    </tr>\n",
       "  </thead>\n",
       "  <tbody>\n",
       "    <tr>\n",
       "      <th>0</th>\n",
       "      <td>1963-01-31</td>\n",
       "      <td>0</td>\n",
       "      <td>0.042378</td>\n",
       "      <td>0.044878</td>\n",
       "      <td>0.0493</td>\n",
       "      <td>1</td>\n",
       "    </tr>\n",
       "    <tr>\n",
       "      <th>1</th>\n",
       "      <td>1963-01-31</td>\n",
       "      <td>1</td>\n",
       "      <td>0.048106</td>\n",
       "      <td>0.050606</td>\n",
       "      <td>0.0493</td>\n",
       "      <td>1</td>\n",
       "    </tr>\n",
       "    <tr>\n",
       "      <th>2</th>\n",
       "      <td>1963-01-31</td>\n",
       "      <td>2</td>\n",
       "      <td>0.047389</td>\n",
       "      <td>0.049889</td>\n",
       "      <td>0.0493</td>\n",
       "      <td>1</td>\n",
       "    </tr>\n",
       "    <tr>\n",
       "      <th>3</th>\n",
       "      <td>1963-01-31</td>\n",
       "      <td>3</td>\n",
       "      <td>0.048151</td>\n",
       "      <td>0.050651</td>\n",
       "      <td>0.0493</td>\n",
       "      <td>1</td>\n",
       "    </tr>\n",
       "    <tr>\n",
       "      <th>4</th>\n",
       "      <td>1963-01-31</td>\n",
       "      <td>4</td>\n",
       "      <td>0.057545</td>\n",
       "      <td>0.060045</td>\n",
       "      <td>0.0493</td>\n",
       "      <td>1</td>\n",
       "    </tr>\n",
       "  </tbody>\n",
       "</table>\n",
       "</div>"
      ],
      "text/plain": [
       "        Date  port      rirf       RET   mktrf  yearg5\n",
       "0 1963-01-31     0  0.042378  0.044878  0.0493       1\n",
       "1 1963-01-31     1  0.048106  0.050606  0.0493       1\n",
       "2 1963-01-31     2  0.047389  0.049889  0.0493       1\n",
       "3 1963-01-31     3  0.048151  0.050651  0.0493       1\n",
       "4 1963-01-31     4  0.057545  0.060045  0.0493       1"
      ]
     },
     "execution_count": 19,
     "metadata": {},
     "output_type": "execute_result"
    }
   ],
   "source": [
    "# Calculate the portfolio means\n",
    "# note, market return and yearg5 do not change \n",
    "# from pandas 20, you can refer to index name 'Date' directly\n",
    "portmeanret = df.groupby([df.index.get_level_values(0),'port'])['rirf','RET', 'mktrf','yearg5'].mean()\n",
    "portmeanret = portmeanret.reset_index()\n",
    "portmeanret.head()"
   ]
  },
  {
   "cell_type": "markdown",
   "metadata": {
    "slideshow": {
     "slide_type": "slide"
    }
   },
   "source": [
    "* re-run CAPM regression to estimate the portfolio $\\beta$"
   ]
  },
  {
   "cell_type": "code",
   "execution_count": 20,
   "metadata": {
    "slideshow": {
     "slide_type": "slide"
    }
   },
   "outputs": [
    {
     "data": {
      "text/html": [
       "<div>\n",
       "<style>\n",
       "    .dataframe thead tr:only-child th {\n",
       "        text-align: right;\n",
       "    }\n",
       "\n",
       "    .dataframe thead th {\n",
       "        text-align: left;\n",
       "    }\n",
       "\n",
       "    .dataframe tbody tr th {\n",
       "        vertical-align: top;\n",
       "    }\n",
       "</style>\n",
       "<table border=\"1\" class=\"dataframe\">\n",
       "  <thead>\n",
       "    <tr style=\"text-align: right;\">\n",
       "      <th></th>\n",
       "      <th></th>\n",
       "      <th>betahat</th>\n",
       "    </tr>\n",
       "    <tr>\n",
       "      <th>yearg5</th>\n",
       "      <th>port</th>\n",
       "      <th></th>\n",
       "    </tr>\n",
       "  </thead>\n",
       "  <tbody>\n",
       "    <tr>\n",
       "      <th rowspan=\"5\" valign=\"top\">1</th>\n",
       "      <th>0</th>\n",
       "      <td>0.179803</td>\n",
       "    </tr>\n",
       "    <tr>\n",
       "      <th>1</th>\n",
       "      <td>0.517008</td>\n",
       "    </tr>\n",
       "    <tr>\n",
       "      <th>2</th>\n",
       "      <td>0.626185</td>\n",
       "    </tr>\n",
       "    <tr>\n",
       "      <th>3</th>\n",
       "      <td>0.712161</td>\n",
       "    </tr>\n",
       "    <tr>\n",
       "      <th>4</th>\n",
       "      <td>0.792042</td>\n",
       "    </tr>\n",
       "  </tbody>\n",
       "</table>\n",
       "</div>"
      ],
      "text/plain": [
       "              betahat\n",
       "yearg5 port          \n",
       "1      0     0.179803\n",
       "       1     0.517008\n",
       "       2     0.626185\n",
       "       3     0.712161\n",
       "       4     0.792042"
      ]
     },
     "execution_count": 20,
     "metadata": {},
     "output_type": "execute_result"
    }
   ],
   "source": [
    "portbetahut = portmeanret.groupby(['yearg5', 'port']).apply(ols_res, ['mktrf'], ['rirf'])\n",
    "portbetahut.name = 'betahat'\n",
    "portbetahut = DataFrame(portbetahut)\n",
    "portbetahut.head()"
   ]
  },
  {
   "cell_type": "markdown",
   "metadata": {
    "slideshow": {
     "slide_type": "slide"
    }
   },
   "source": [
    "* If we calculate the average $\\beta$ of portfolio, we get the same results. \n",
    "* $\\beta$ follows linear rule. "
   ]
  },
  {
   "cell_type": "code",
   "execution_count": 21,
   "metadata": {
    "slideshow": {
     "slide_type": "fragment"
    }
   },
   "outputs": [
    {
     "data": {
      "text/html": [
       "<div>\n",
       "<style>\n",
       "    .dataframe thead tr:only-child th {\n",
       "        text-align: right;\n",
       "    }\n",
       "\n",
       "    .dataframe thead th {\n",
       "        text-align: left;\n",
       "    }\n",
       "\n",
       "    .dataframe tbody tr th {\n",
       "        vertical-align: top;\n",
       "    }\n",
       "</style>\n",
       "<table border=\"1\" class=\"dataframe\">\n",
       "  <thead>\n",
       "    <tr style=\"text-align: right;\">\n",
       "      <th></th>\n",
       "      <th></th>\n",
       "      <th>beta</th>\n",
       "    </tr>\n",
       "    <tr>\n",
       "      <th>yearg5</th>\n",
       "      <th>port</th>\n",
       "      <th></th>\n",
       "    </tr>\n",
       "  </thead>\n",
       "  <tbody>\n",
       "    <tr>\n",
       "      <th rowspan=\"5\" valign=\"top\">1</th>\n",
       "      <th>0</th>\n",
       "      <td>0.179803</td>\n",
       "    </tr>\n",
       "    <tr>\n",
       "      <th>1</th>\n",
       "      <td>0.517008</td>\n",
       "    </tr>\n",
       "    <tr>\n",
       "      <th>2</th>\n",
       "      <td>0.626185</td>\n",
       "    </tr>\n",
       "    <tr>\n",
       "      <th>3</th>\n",
       "      <td>0.712161</td>\n",
       "    </tr>\n",
       "    <tr>\n",
       "      <th>4</th>\n",
       "      <td>0.792042</td>\n",
       "    </tr>\n",
       "  </tbody>\n",
       "</table>\n",
       "</div>"
      ],
      "text/plain": [
       "                 beta\n",
       "yearg5 port          \n",
       "1      0     0.179803\n",
       "       1     0.517008\n",
       "       2     0.626185\n",
       "       3     0.712161\n",
       "       4     0.792042"
      ]
     },
     "execution_count": 21,
     "metadata": {},
     "output_type": "execute_result"
    }
   ],
   "source": [
    "portbetamean = portbeta.reset_index().groupby(['yearg5', 'port'])['beta'].mean()\n",
    "portbetamean = DataFrame(portbetamean)\n",
    "portbetamean.head()"
   ]
  },
  {
   "cell_type": "code",
   "execution_count": 22,
   "metadata": {
    "slideshow": {
     "slide_type": "slide"
    }
   },
   "outputs": [
    {
     "data": {
      "text/html": [
       "<div>\n",
       "<style>\n",
       "    .dataframe thead tr:only-child th {\n",
       "        text-align: right;\n",
       "    }\n",
       "\n",
       "    .dataframe thead th {\n",
       "        text-align: left;\n",
       "    }\n",
       "\n",
       "    .dataframe tbody tr th {\n",
       "        vertical-align: top;\n",
       "    }\n",
       "</style>\n",
       "<table border=\"1\" class=\"dataframe\">\n",
       "  <thead>\n",
       "    <tr style=\"text-align: right;\">\n",
       "      <th></th>\n",
       "      <th>yearg5</th>\n",
       "      <th>port</th>\n",
       "      <th>Date</th>\n",
       "      <th>rirf</th>\n",
       "      <th>RET</th>\n",
       "      <th>mktrf</th>\n",
       "      <th>betahat</th>\n",
       "    </tr>\n",
       "  </thead>\n",
       "  <tbody>\n",
       "    <tr>\n",
       "      <th>0</th>\n",
       "      <td>1</td>\n",
       "      <td>0</td>\n",
       "      <td>1963-01-31</td>\n",
       "      <td>0.042378</td>\n",
       "      <td>0.044878</td>\n",
       "      <td>0.0493</td>\n",
       "      <td>0.179803</td>\n",
       "    </tr>\n",
       "    <tr>\n",
       "      <th>1</th>\n",
       "      <td>1</td>\n",
       "      <td>0</td>\n",
       "      <td>1963-02-28</td>\n",
       "      <td>0.008400</td>\n",
       "      <td>0.010700</td>\n",
       "      <td>-0.0238</td>\n",
       "      <td>0.179803</td>\n",
       "    </tr>\n",
       "    <tr>\n",
       "      <th>2</th>\n",
       "      <td>1</td>\n",
       "      <td>0</td>\n",
       "      <td>1963-03-31</td>\n",
       "      <td>0.003536</td>\n",
       "      <td>0.005836</td>\n",
       "      <td>0.0308</td>\n",
       "      <td>0.179803</td>\n",
       "    </tr>\n",
       "  </tbody>\n",
       "</table>\n",
       "</div>"
      ],
      "text/plain": [
       "   yearg5  port       Date      rirf       RET   mktrf   betahat\n",
       "0       1     0 1963-01-31  0.042378  0.044878  0.0493  0.179803\n",
       "1       1     0 1963-02-28  0.008400  0.010700 -0.0238  0.179803\n",
       "2       1     0 1963-03-31  0.003536  0.005836  0.0308  0.179803"
      ]
     },
     "execution_count": 22,
     "metadata": {},
     "output_type": "execute_result"
    }
   ],
   "source": [
    "# merge portfolio beta back to portfolio mean return data\n",
    "portmeanret = portmeanret.set_index(['yearg5', 'port']).join(portbetahut).reset_index()\n",
    "portmeanret.head(3)"
   ]
  },
  {
   "cell_type": "markdown",
   "metadata": {
    "slideshow": {
     "slide_type": "slide"
    }
   },
   "source": [
    "* Run cross sectional regression of portfolio excess return on portfolio $\\beta$. "
   ]
  },
  {
   "cell_type": "code",
   "execution_count": 23,
   "metadata": {
    "slideshow": {
     "slide_type": "slide"
    }
   },
   "outputs": [
    {
     "data": {
      "text/html": [
       "<div>\n",
       "<style>\n",
       "    .dataframe thead tr:only-child th {\n",
       "        text-align: right;\n",
       "    }\n",
       "\n",
       "    .dataframe thead th {\n",
       "        text-align: left;\n",
       "    }\n",
       "\n",
       "    .dataframe tbody tr th {\n",
       "        vertical-align: top;\n",
       "    }\n",
       "</style>\n",
       "<table border=\"1\" class=\"dataframe\">\n",
       "  <thead>\n",
       "    <tr style=\"text-align: right;\">\n",
       "      <th></th>\n",
       "      <th>const</th>\n",
       "      <th>betahat</th>\n",
       "    </tr>\n",
       "    <tr>\n",
       "      <th>Date</th>\n",
       "      <th></th>\n",
       "      <th></th>\n",
       "    </tr>\n",
       "  </thead>\n",
       "  <tbody>\n",
       "    <tr>\n",
       "      <th>1963-01-31</th>\n",
       "      <td>0.016720</td>\n",
       "      <td>0.054059</td>\n",
       "    </tr>\n",
       "    <tr>\n",
       "      <th>1963-02-28</th>\n",
       "      <td>0.004757</td>\n",
       "      <td>-0.018487</td>\n",
       "    </tr>\n",
       "    <tr>\n",
       "      <th>1963-03-31</th>\n",
       "      <td>0.009127</td>\n",
       "      <td>0.003057</td>\n",
       "    </tr>\n",
       "    <tr>\n",
       "      <th>1963-04-30</th>\n",
       "      <td>0.013936</td>\n",
       "      <td>0.010528</td>\n",
       "    </tr>\n",
       "    <tr>\n",
       "      <th>1963-05-31</th>\n",
       "      <td>0.003226</td>\n",
       "      <td>0.021550</td>\n",
       "    </tr>\n",
       "  </tbody>\n",
       "</table>\n",
       "</div>"
      ],
      "text/plain": [
       "               const   betahat\n",
       "Date                          \n",
       "1963-01-31  0.016720  0.054059\n",
       "1963-02-28  0.004757 -0.018487\n",
       "1963-03-31  0.009127  0.003057\n",
       "1963-04-30  0.013936  0.010528\n",
       "1963-05-31  0.003226  0.021550"
      ]
     },
     "execution_count": 23,
     "metadata": {},
     "output_type": "execute_result"
    }
   ],
   "source": [
    "# here output both alpha and betahat coefficient\n",
    "def ols_beta(df, xcols,  ycol):\n",
    "    X = df[xcols]\n",
    "    X = sm.add_constant(X)\n",
    "    return sm.OLS(df[ycol], X).fit().params\n",
    "\n",
    "df2 = portmeanret.groupby(['Date']).apply(ols_beta, ['betahat'], ['rirf'])\n",
    "df2.head()"
   ]
  },
  {
   "cell_type": "markdown",
   "metadata": {
    "slideshow": {
     "slide_type": "slide"
    }
   },
   "source": [
    "* Finally, T-test on estimated $\\alpha$ and  $\\lambda$."
   ]
  },
  {
   "cell_type": "code",
   "execution_count": 24,
   "metadata": {
    "slideshow": {
     "slide_type": "slide"
    }
   },
   "outputs": [
    {
     "name": "stdout",
     "output_type": "stream",
     "text": [
      "mean alpha: 0.046281915864726714\n"
     ]
    },
    {
     "data": {
      "text/plain": [
       "Ttest_1sampResult(statistic=4.044183301652537, pvalue=5.9368796431608229e-05)"
      ]
     },
     "execution_count": 24,
     "metadata": {},
     "output_type": "execute_result"
    }
   ],
   "source": [
    "from scipy.stats import ttest_1samp\n",
    "print('mean alpha:', df2.const.mean()*12)\n",
    "ttest_1samp(df2.const, 0)"
   ]
  },
  {
   "cell_type": "code",
   "execution_count": 25,
   "metadata": {
    "slideshow": {
     "slide_type": "slide"
    }
   },
   "outputs": [
    {
     "name": "stdout",
     "output_type": "stream",
     "text": [
      "Coefficeint on beta: 0.0606494378280812\n"
     ]
    },
    {
     "data": {
      "text/plain": [
       "Ttest_1sampResult(statistic=2.4025480660790417, pvalue=0.016584555111045743)"
      ]
     },
     "execution_count": 25,
     "metadata": {},
     "output_type": "execute_result"
    }
   ],
   "source": [
    "print('Coefficeint on beta:', df2.betahat.mean()*12)\n",
    "ttest_1samp(df2.betahat, 0)"
   ]
  },
  {
   "cell_type": "markdown",
   "metadata": {
    "slideshow": {
     "slide_type": "slide"
    }
   },
   "source": [
    "Risk Premium is close to $E(R_M-R_f)$, but CAPM is strongly rejected!"
   ]
  },
  {
   "cell_type": "code",
   "execution_count": 26,
   "metadata": {
    "slideshow": {
     "slide_type": "fragment"
    }
   },
   "outputs": [
    {
     "data": {
      "text/plain": [
       "0.05712751094054584"
      ]
     },
     "execution_count": 26,
     "metadata": {},
     "output_type": "execute_result"
    }
   ],
   "source": [
    "df.mktrf.mean()*12"
   ]
  },
  {
   "cell_type": "code",
   "execution_count": 27,
   "metadata": {
    "slideshow": {
     "slide_type": "slide"
    }
   },
   "outputs": [
    {
     "data": {
      "text/html": [
       "<div>\n",
       "<style>\n",
       "    .dataframe thead tr:only-child th {\n",
       "        text-align: right;\n",
       "    }\n",
       "\n",
       "    .dataframe thead th {\n",
       "        text-align: left;\n",
       "    }\n",
       "\n",
       "    .dataframe tbody tr th {\n",
       "        vertical-align: top;\n",
       "    }\n",
       "</style>\n",
       "<table border=\"1\" class=\"dataframe\">\n",
       "  <thead>\n",
       "    <tr style=\"text-align: right;\">\n",
       "      <th></th>\n",
       "      <th>coef</th>\n",
       "      <th>stderr</th>\n",
       "      <th>tvalue</th>\n",
       "      <th>pvalue</th>\n",
       "      <th>stars</th>\n",
       "    </tr>\n",
       "  </thead>\n",
       "  <tbody>\n",
       "    <tr>\n",
       "      <th>Intercept</th>\n",
       "      <td>0.003857</td>\n",
       "      <td>0.001132</td>\n",
       "      <td>3.407180</td>\n",
       "      <td>0.000700</td>\n",
       "      <td>***</td>\n",
       "    </tr>\n",
       "    <tr>\n",
       "      <th>betahat</th>\n",
       "      <td>0.005054</td>\n",
       "      <td>0.002280</td>\n",
       "      <td>2.217189</td>\n",
       "      <td>0.026985</td>\n",
       "      <td>**</td>\n",
       "    </tr>\n",
       "  </tbody>\n",
       "</table>\n",
       "</div>"
      ],
      "text/plain": [
       "               coef    stderr    tvalue    pvalue stars\n",
       "Intercept  0.003857  0.001132  3.407180  0.000700   ***\n",
       "betahat    0.005054  0.002280  2.217189  0.026985    **"
      ]
     },
     "execution_count": 27,
     "metadata": {},
     "output_type": "execute_result"
    },
    {
     "data": {
      "text/plain": [
       "<matplotlib.figure.Figure at 0x115ec6b70>"
      ]
     },
     "metadata": {},
     "output_type": "display_data"
    }
   ],
   "source": [
    "# using a function, here we can control for correlation between months. lag=3\n",
    "%run fama_macbeth.py\n",
    "fama_macbeth('rirf ~ betahat', 'Date', portmeanret)"
   ]
  },
  {
   "cell_type": "markdown",
   "metadata": {
    "slideshow": {
     "slide_type": "slide"
    }
   },
   "source": [
    "###### The Roll (1977)'s Critique\n",
    "\n",
    "the true market portfolio is unobservable, and the proxy used for the market return is not necessarily mean-variance efficient. Then we won't learn anything from the regression."
   ]
  },
  {
   "cell_type": "markdown",
   "metadata": {
    "slideshow": {
     "slide_type": "slide"
    }
   },
   "source": [
    "#### Beta Sort \n"
   ]
  },
  {
   "cell_type": "code",
   "execution_count": 39,
   "metadata": {
    "slideshow": {
     "slide_type": "fragment"
    }
   },
   "outputs": [
    {
     "data": {
      "image/jpeg": "[encoded data removed]",
      "text/plain": [
       "<IPython.core.display.Image object>"
      ]
     },
     "execution_count": 39,
     "metadata": {
      "image/jpeg": {
       "height": 620,
       "width": 780
      }
     },
     "output_type": "execute_result"
    }
   ],
   "source": [
    "Image(\"../img/FF_JEP_figure2.JPG\", width=780, height=620)"
   ]
  },
  {
   "cell_type": "markdown",
   "metadata": {
    "collapsed": true,
    "slideshow": {
     "slide_type": "slide"
    }
   },
   "source": [
    "###### Industry Sort"
   ]
  },
  {
   "cell_type": "raw",
   "metadata": {
    "slideshow": {
     "slide_type": "skip"
    }
   },
   "source": [
    "# 25 Portfolios Formed on Book-to-Market and Operating Profitability\n",
    "from pandas_datareader.famafrench import get_available_datasets\n",
    "get_available_datasets()"
   ]
  },
  {
   "cell_type": "code",
   "execution_count": 28,
   "metadata": {
    "slideshow": {
     "slide_type": "fragment"
    }
   },
   "outputs": [
    {
     "data": {
      "text/html": [
       "<div>\n",
       "<style>\n",
       "    .dataframe thead tr:only-child th {\n",
       "        text-align: right;\n",
       "    }\n",
       "\n",
       "    .dataframe thead th {\n",
       "        text-align: left;\n",
       "    }\n",
       "\n",
       "    .dataframe tbody tr th {\n",
       "        vertical-align: top;\n",
       "    }\n",
       "</style>\n",
       "<table border=\"1\" class=\"dataframe\">\n",
       "  <thead>\n",
       "    <tr style=\"text-align: right;\">\n",
       "      <th></th>\n",
       "      <th>NoDur</th>\n",
       "      <th>Durbl</th>\n",
       "      <th>Manuf</th>\n",
       "      <th>Enrgy</th>\n",
       "      <th>HiTec</th>\n",
       "      <th>Telcm</th>\n",
       "      <th>Shops</th>\n",
       "      <th>Hlth</th>\n",
       "      <th>Utils</th>\n",
       "      <th>Other</th>\n",
       "    </tr>\n",
       "    <tr>\n",
       "      <th>Date</th>\n",
       "      <th></th>\n",
       "      <th></th>\n",
       "      <th></th>\n",
       "      <th></th>\n",
       "      <th></th>\n",
       "      <th></th>\n",
       "      <th></th>\n",
       "      <th></th>\n",
       "      <th></th>\n",
       "      <th></th>\n",
       "    </tr>\n",
       "  </thead>\n",
       "  <tbody>\n",
       "    <tr>\n",
       "      <th>1964-01-31</th>\n",
       "      <td>0.79</td>\n",
       "      <td>1.19</td>\n",
       "      <td>2.69</td>\n",
       "      <td>4.84</td>\n",
       "      <td>2.91</td>\n",
       "      <td>3.35</td>\n",
       "      <td>2.54</td>\n",
       "      <td>3.68</td>\n",
       "      <td>1.40</td>\n",
       "      <td>1.23</td>\n",
       "    </tr>\n",
       "    <tr>\n",
       "      <th>1964-02-29</th>\n",
       "      <td>1.85</td>\n",
       "      <td>2.14</td>\n",
       "      <td>2.76</td>\n",
       "      <td>1.06</td>\n",
       "      <td>1.96</td>\n",
       "      <td>-0.28</td>\n",
       "      <td>1.61</td>\n",
       "      <td>1.66</td>\n",
       "      <td>0.85</td>\n",
       "      <td>5.46</td>\n",
       "    </tr>\n",
       "    <tr>\n",
       "      <th>1964-03-31</th>\n",
       "      <td>3.08</td>\n",
       "      <td>0.93</td>\n",
       "      <td>3.70</td>\n",
       "      <td>1.40</td>\n",
       "      <td>3.38</td>\n",
       "      <td>-0.94</td>\n",
       "      <td>2.50</td>\n",
       "      <td>-1.94</td>\n",
       "      <td>-0.74</td>\n",
       "      <td>2.17</td>\n",
       "    </tr>\n",
       "    <tr>\n",
       "      <th>1964-04-30</th>\n",
       "      <td>-0.45</td>\n",
       "      <td>1.93</td>\n",
       "      <td>-1.72</td>\n",
       "      <td>4.02</td>\n",
       "      <td>-3.63</td>\n",
       "      <td>0.81</td>\n",
       "      <td>2.85</td>\n",
       "      <td>-1.42</td>\n",
       "      <td>1.04</td>\n",
       "      <td>0.29</td>\n",
       "    </tr>\n",
       "    <tr>\n",
       "      <th>1964-05-31</th>\n",
       "      <td>1.56</td>\n",
       "      <td>1.12</td>\n",
       "      <td>1.77</td>\n",
       "      <td>2.14</td>\n",
       "      <td>2.74</td>\n",
       "      <td>-0.40</td>\n",
       "      <td>3.88</td>\n",
       "      <td>0.53</td>\n",
       "      <td>0.83</td>\n",
       "      <td>2.43</td>\n",
       "    </tr>\n",
       "  </tbody>\n",
       "</table>\n",
       "</div>"
      ],
      "text/plain": [
       "            NoDur  Durbl  Manuf  Enrgy  HiTec  Telcm  Shops  Hlth   Utils  \\\n",
       "Date                                                                        \n",
       "1964-01-31   0.79   1.19   2.69   4.84   2.91   3.35   2.54   3.68   1.40   \n",
       "1964-02-29   1.85   2.14   2.76   1.06   1.96  -0.28   1.61   1.66   0.85   \n",
       "1964-03-31   3.08   0.93   3.70   1.40   3.38  -0.94   2.50  -1.94  -0.74   \n",
       "1964-04-30  -0.45   1.93  -1.72   4.02  -3.63   0.81   2.85  -1.42   1.04   \n",
       "1964-05-31   1.56   1.12   1.77   2.14   2.74  -0.40   3.88   0.53   0.83   \n",
       "\n",
       "            Other  \n",
       "Date               \n",
       "1964-01-31   1.23  \n",
       "1964-02-29   5.46  \n",
       "1964-03-31   2.17  \n",
       "1964-04-30   0.29  \n",
       "1964-05-31   2.43  "
      ]
     },
     "execution_count": 28,
     "metadata": {},
     "output_type": "execute_result"
    }
   ],
   "source": [
    "start = datetime.datetime(1964, 1, 1)\n",
    "end = datetime.datetime(2015, 12, 30)\n",
    "ds = web.DataReader(\"10_Industry_Portfolios\", \"famafrench\", start, end)\n",
    "#print(ds['DESCR'])\n",
    "tb = pd.DataFrame(ds[0])\n",
    "tb.index = tb.index.to_timestamp() + MonthEnd(0)\n",
    "tb.head()"
   ]
  },
  {
   "cell_type": "code",
   "execution_count": 29,
   "metadata": {
    "slideshow": {
     "slide_type": "skip"
    }
   },
   "outputs": [
    {
     "data": {
      "text/html": [
       "<div>\n",
       "<style>\n",
       "    .dataframe thead tr:only-child th {\n",
       "        text-align: right;\n",
       "    }\n",
       "\n",
       "    .dataframe thead th {\n",
       "        text-align: left;\n",
       "    }\n",
       "\n",
       "    .dataframe tbody tr th {\n",
       "        vertical-align: top;\n",
       "    }\n",
       "</style>\n",
       "<table border=\"1\" class=\"dataframe\">\n",
       "  <thead>\n",
       "    <tr style=\"text-align: right;\">\n",
       "      <th></th>\n",
       "      <th>Mkt-RF</th>\n",
       "      <th>SMB</th>\n",
       "      <th>HML</th>\n",
       "      <th>RF</th>\n",
       "    </tr>\n",
       "    <tr>\n",
       "      <th>Date</th>\n",
       "      <th></th>\n",
       "      <th></th>\n",
       "      <th></th>\n",
       "      <th></th>\n",
       "    </tr>\n",
       "  </thead>\n",
       "  <tbody>\n",
       "    <tr>\n",
       "      <th>1964-01-31</th>\n",
       "      <td>2.24</td>\n",
       "      <td>-0.20</td>\n",
       "      <td>1.64</td>\n",
       "      <td>0.30</td>\n",
       "    </tr>\n",
       "    <tr>\n",
       "      <th>1964-02-29</th>\n",
       "      <td>1.54</td>\n",
       "      <td>0.08</td>\n",
       "      <td>2.83</td>\n",
       "      <td>0.26</td>\n",
       "    </tr>\n",
       "    <tr>\n",
       "      <th>1964-03-31</th>\n",
       "      <td>1.41</td>\n",
       "      <td>0.98</td>\n",
       "      <td>3.36</td>\n",
       "      <td>0.31</td>\n",
       "    </tr>\n",
       "    <tr>\n",
       "      <th>1964-04-30</th>\n",
       "      <td>0.10</td>\n",
       "      <td>-1.41</td>\n",
       "      <td>-0.42</td>\n",
       "      <td>0.29</td>\n",
       "    </tr>\n",
       "    <tr>\n",
       "      <th>1964-05-31</th>\n",
       "      <td>1.42</td>\n",
       "      <td>-0.87</td>\n",
       "      <td>1.88</td>\n",
       "      <td>0.26</td>\n",
       "    </tr>\n",
       "  </tbody>\n",
       "</table>\n",
       "</div>"
      ],
      "text/plain": [
       "            Mkt-RF   SMB   HML    RF\n",
       "Date                                \n",
       "1964-01-31    2.24 -0.20  1.64  0.30\n",
       "1964-02-29    1.54  0.08  2.83  0.26\n",
       "1964-03-31    1.41  0.98  3.36  0.31\n",
       "1964-04-30    0.10 -1.41 -0.42  0.29\n",
       "1964-05-31    1.42 -0.87  1.88  0.26"
      ]
     },
     "execution_count": 29,
     "metadata": {},
     "output_type": "execute_result"
    }
   ],
   "source": [
    "ds = web.DataReader(\"F-F_Research_Data_Factors\", \"famafrench\", start, end)\n",
    "#print(ds['DESCR'])\n",
    "ff = pd.DataFrame(ds[0])\n",
    "ff.index = ff.index.to_timestamp() + MonthEnd(0)\n",
    "ff.head()"
   ]
  },
  {
   "cell_type": "code",
   "execution_count": 30,
   "metadata": {
    "collapsed": true,
    "slideshow": {
     "slide_type": "skip"
    }
   },
   "outputs": [],
   "source": [
    "# calculate excess return\n",
    "cl = tb.columns.tolist()\n",
    "tb = tb.join(ff['RF'])\n",
    "tb = tb[cl].apply(lambda x: x-tb['RF'])"
   ]
  },
  {
   "cell_type": "code",
   "execution_count": 31,
   "metadata": {
    "slideshow": {
     "slide_type": "slide"
    }
   },
   "outputs": [
    {
     "data": {
      "text/html": [
       "<div>\n",
       "<style>\n",
       "    .dataframe thead tr:only-child th {\n",
       "        text-align: right;\n",
       "    }\n",
       "\n",
       "    .dataframe thead th {\n",
       "        text-align: left;\n",
       "    }\n",
       "\n",
       "    .dataframe tbody tr th {\n",
       "        vertical-align: top;\n",
       "    }\n",
       "</style>\n",
       "<table border=\"1\" class=\"dataframe\">\n",
       "  <thead>\n",
       "    <tr style=\"text-align: right;\">\n",
       "      <th></th>\n",
       "      <th>Date</th>\n",
       "      <th>port</th>\n",
       "      <th>portret</th>\n",
       "      <th>RMRF</th>\n",
       "      <th>SMB</th>\n",
       "      <th>HML</th>\n",
       "      <th>RF</th>\n",
       "      <th>one</th>\n",
       "    </tr>\n",
       "  </thead>\n",
       "  <tbody>\n",
       "    <tr>\n",
       "      <th>120</th>\n",
       "      <td>1965-01-31</td>\n",
       "      <td>NoDur</td>\n",
       "      <td>5.78</td>\n",
       "      <td>3.54</td>\n",
       "      <td>2.67</td>\n",
       "      <td>0.2</td>\n",
       "      <td>0.28</td>\n",
       "      <td>1</td>\n",
       "    </tr>\n",
       "    <tr>\n",
       "      <th>121</th>\n",
       "      <td>1965-01-31</td>\n",
       "      <td>Durbl</td>\n",
       "      <td>3.48</td>\n",
       "      <td>3.54</td>\n",
       "      <td>2.67</td>\n",
       "      <td>0.2</td>\n",
       "      <td>0.28</td>\n",
       "      <td>1</td>\n",
       "    </tr>\n",
       "    <tr>\n",
       "      <th>122</th>\n",
       "      <td>1965-01-31</td>\n",
       "      <td>Manuf</td>\n",
       "      <td>5.24</td>\n",
       "      <td>3.54</td>\n",
       "      <td>2.67</td>\n",
       "      <td>0.2</td>\n",
       "      <td>0.28</td>\n",
       "      <td>1</td>\n",
       "    </tr>\n",
       "    <tr>\n",
       "      <th>123</th>\n",
       "      <td>1965-01-31</td>\n",
       "      <td>Enrgy</td>\n",
       "      <td>0.23</td>\n",
       "      <td>3.54</td>\n",
       "      <td>2.67</td>\n",
       "      <td>0.2</td>\n",
       "      <td>0.28</td>\n",
       "      <td>1</td>\n",
       "    </tr>\n",
       "    <tr>\n",
       "      <th>124</th>\n",
       "      <td>1965-01-31</td>\n",
       "      <td>HiTec</td>\n",
       "      <td>7.18</td>\n",
       "      <td>3.54</td>\n",
       "      <td>2.67</td>\n",
       "      <td>0.2</td>\n",
       "      <td>0.28</td>\n",
       "      <td>1</td>\n",
       "    </tr>\n",
       "  </tbody>\n",
       "</table>\n",
       "</div>"
      ],
      "text/plain": [
       "          Date   port  portret  RMRF   SMB  HML    RF  one\n",
       "120 1965-01-31  NoDur     5.78  3.54  2.67  0.2  0.28    1\n",
       "121 1965-01-31  Durbl     3.48  3.54  2.67  0.2  0.28    1\n",
       "122 1965-01-31  Manuf     5.24  3.54  2.67  0.2  0.28    1\n",
       "123 1965-01-31  Enrgy     0.23  3.54  2.67  0.2  0.28    1\n",
       "124 1965-01-31  HiTec     7.18  3.54  2.67  0.2  0.28    1"
      ]
     },
     "execution_count": 31,
     "metadata": {},
     "output_type": "execute_result"
    }
   ],
   "source": [
    "# Stack the returns\n",
    "portret = pd.DataFrame(tb.stack(), columns=['portret'])\n",
    "portret.index.names =['Date', \"port\"]\n",
    "portret = portret.join(ff)\n",
    "portret['one']=1\n",
    "portret = portret.rename(columns={'Mkt-RF':'RMRF'})\n",
    "portret = portret.reset_index()\n",
    "portret = portret[portret.Date.dt.year>=1965]\n",
    "portret.head()"
   ]
  },
  {
   "cell_type": "code",
   "execution_count": 32,
   "metadata": {
    "slideshow": {
     "slide_type": "slide"
    }
   },
   "outputs": [
    {
     "data": {
      "text/html": [
       "<div>\n",
       "<style>\n",
       "    .dataframe thead tr:only-child th {\n",
       "        text-align: right;\n",
       "    }\n",
       "\n",
       "    .dataframe thead th {\n",
       "        text-align: left;\n",
       "    }\n",
       "\n",
       "    .dataframe tbody tr th {\n",
       "        vertical-align: top;\n",
       "    }\n",
       "</style>\n",
       "<table border=\"1\" class=\"dataframe\">\n",
       "  <thead>\n",
       "    <tr style=\"text-align: right;\">\n",
       "      <th></th>\n",
       "      <th>beta</th>\n",
       "    </tr>\n",
       "    <tr>\n",
       "      <th>port</th>\n",
       "      <th></th>\n",
       "    </tr>\n",
       "  </thead>\n",
       "  <tbody>\n",
       "    <tr>\n",
       "      <th>Durbl</th>\n",
       "      <td>1.140418</td>\n",
       "    </tr>\n",
       "    <tr>\n",
       "      <th>Enrgy</th>\n",
       "      <td>0.802708</td>\n",
       "    </tr>\n",
       "    <tr>\n",
       "      <th>HiTec</th>\n",
       "      <td>1.254528</td>\n",
       "    </tr>\n",
       "    <tr>\n",
       "      <th>Hlth</th>\n",
       "      <td>0.833119</td>\n",
       "    </tr>\n",
       "    <tr>\n",
       "      <th>Manuf</th>\n",
       "      <td>1.041010</td>\n",
       "    </tr>\n",
       "  </tbody>\n",
       "</table>\n",
       "</div>"
      ],
      "text/plain": [
       "           beta\n",
       "port           \n",
       "Durbl  1.140418\n",
       "Enrgy  0.802708\n",
       "HiTec  1.254528\n",
       "Hlth   0.833119\n",
       "Manuf  1.041010"
      ]
     },
     "execution_count": 32,
     "metadata": {},
     "output_type": "execute_result"
    }
   ],
   "source": [
    "portbeta = portret.groupby('port').apply(ols_res, ['RMRF'], 'portret')\n",
    "portbeta.name = 'beta'\n",
    "portbeta = pd.DataFrame(portbeta)\n",
    "portbeta.head()"
   ]
  },
  {
   "cell_type": "code",
   "execution_count": 33,
   "metadata": {
    "slideshow": {
     "slide_type": "skip"
    }
   },
   "outputs": [
    {
     "data": {
      "text/html": [
       "<div>\n",
       "<style>\n",
       "    .dataframe thead tr:only-child th {\n",
       "        text-align: right;\n",
       "    }\n",
       "\n",
       "    .dataframe thead th {\n",
       "        text-align: left;\n",
       "    }\n",
       "\n",
       "    .dataframe tbody tr th {\n",
       "        vertical-align: top;\n",
       "    }\n",
       "</style>\n",
       "<table border=\"1\" class=\"dataframe\">\n",
       "  <thead>\n",
       "    <tr style=\"text-align: right;\">\n",
       "      <th></th>\n",
       "      <th>portret</th>\n",
       "      <th>beta</th>\n",
       "      <th>pred</th>\n",
       "    </tr>\n",
       "    <tr>\n",
       "      <th>port</th>\n",
       "      <th></th>\n",
       "      <th></th>\n",
       "      <th></th>\n",
       "    </tr>\n",
       "  </thead>\n",
       "  <tbody>\n",
       "    <tr>\n",
       "      <th>Utils</th>\n",
       "      <td>0.407859</td>\n",
       "      <td>0.526987</td>\n",
       "      <td>0.530302</td>\n",
       "    </tr>\n",
       "    <tr>\n",
       "      <th>Telcm</th>\n",
       "      <td>0.460654</td>\n",
       "      <td>0.784713</td>\n",
       "      <td>0.541952</td>\n",
       "    </tr>\n",
       "    <tr>\n",
       "      <th>NoDur</th>\n",
       "      <td>0.681993</td>\n",
       "      <td>0.801108</td>\n",
       "      <td>0.542693</td>\n",
       "    </tr>\n",
       "    <tr>\n",
       "      <th>Enrgy</th>\n",
       "      <td>0.575850</td>\n",
       "      <td>0.802708</td>\n",
       "      <td>0.542765</td>\n",
       "    </tr>\n",
       "    <tr>\n",
       "      <th>Hlth</th>\n",
       "      <td>0.679592</td>\n",
       "      <td>0.833119</td>\n",
       "      <td>0.544140</td>\n",
       "    </tr>\n",
       "    <tr>\n",
       "      <th>Shops</th>\n",
       "      <td>0.610801</td>\n",
       "      <td>1.004019</td>\n",
       "      <td>0.551864</td>\n",
       "    </tr>\n",
       "    <tr>\n",
       "      <th>Manuf</th>\n",
       "      <td>0.545474</td>\n",
       "      <td>1.041010</td>\n",
       "      <td>0.553536</td>\n",
       "    </tr>\n",
       "    <tr>\n",
       "      <th>Other</th>\n",
       "      <td>0.521127</td>\n",
       "      <td>1.104742</td>\n",
       "      <td>0.556417</td>\n",
       "    </tr>\n",
       "    <tr>\n",
       "      <th>Durbl</th>\n",
       "      <td>0.420703</td>\n",
       "      <td>1.140418</td>\n",
       "      <td>0.558030</td>\n",
       "    </tr>\n",
       "    <tr>\n",
       "      <th>HiTec</th>\n",
       "      <td>0.580833</td>\n",
       "      <td>1.254528</td>\n",
       "      <td>0.563187</td>\n",
       "    </tr>\n",
       "  </tbody>\n",
       "</table>\n",
       "</div>"
      ],
      "text/plain": [
       "        portret      beta      pred\n",
       "port                               \n",
       "Utils  0.407859  0.526987  0.530302\n",
       "Telcm  0.460654  0.784713  0.541952\n",
       "NoDur  0.681993  0.801108  0.542693\n",
       "Enrgy  0.575850  0.802708  0.542765\n",
       "Hlth   0.679592  0.833119  0.544140\n",
       "Shops  0.610801  1.004019  0.551864\n",
       "Manuf  0.545474  1.041010  0.553536\n",
       "Other  0.521127  1.104742  0.556417\n",
       "Durbl  0.420703  1.140418  0.558030\n",
       "HiTec  0.580833  1.254528  0.563187"
      ]
     },
     "execution_count": 33,
     "metadata": {},
     "output_type": "execute_result"
    }
   ],
   "source": [
    "portmret = portret.groupby('port')['portret'].mean()\n",
    "portmret = pd.DataFrame(portmret)\n",
    "portmret = portmret.join(portbeta)\n",
    "pred = smf.ols('portret ~ beta', data = portmret).fit().predict()\n",
    "pred = pd.Series(pred, index=portmret.index, name='pred')\n",
    "portmret = portmret.join(pred)\n",
    "portmret = portmret.sort_values(by='beta')\n",
    "\n",
    "portmret"
   ]
  },
  {
   "cell_type": "code",
   "execution_count": 34,
   "metadata": {
    "slideshow": {
     "slide_type": "slide"
    }
   },
   "outputs": [
    {
     "data": {
      "text/plain": [
       "<matplotlib.axes._subplots.AxesSubplot at 0x116c0a518>"
      ]
     },
     "execution_count": 34,
     "metadata": {},
     "output_type": "execute_result"
    },
    {
     "data": {
      "image/png": "[encoded data removed]",
      "text/plain": [
       "<matplotlib.figure.Figure at 0x1401ee128>"
      ]
     },
     "metadata": {},
     "output_type": "display_data"
    }
   ],
   "source": [
    "portmret.beta.plot(style='o')"
   ]
  },
  {
   "cell_type": "code",
   "execution_count": 35,
   "metadata": {
    "collapsed": true,
    "scrolled": false,
    "slideshow": {
     "slide_type": "skip"
    }
   },
   "outputs": [],
   "source": [
    "a = smf.ols('portret ~ beta', data = portmret).fit().params[0]\n",
    "b = smf.ols('portret ~ beta', data = portmret).fit().params[1]\n",
    "x = np.linspace(0,1.5,30)\n",
    "y = a+ b*x\n",
    "a2 = ff['RF'].mean()\n",
    "b2 =ff['Mkt-RF'].mean()"
   ]
  },
  {
   "cell_type": "code",
   "execution_count": 36,
   "metadata": {
    "slideshow": {
     "slide_type": "slide"
    }
   },
   "outputs": [
    {
     "data": {
      "image/png": "[encoded data removed]",
      "text/plain": [
       "<matplotlib.figure.Figure at 0x1114089e8>"
      ]
     },
     "metadata": {},
     "output_type": "display_data"
    }
   ],
   "source": [
    "fig, ax = plt.subplots(figsize=(12,8))\n",
    "#plt.plot(portmret.beta, portmret.pred, '--', label=\"Cross Section CAPM\")\n",
    "plt.plot(x, y, label=\"Cross Section CAPM\")\n",
    "plt.plot(x, b2*x, label='Time Series CAPM')\n",
    "plt.plot(portmret.beta, portmret.portret, 'o', label=\"Mean Industry Excess Returns\")\n",
    "plt.legend(loc='best')\n",
    "plt.xlabel(r'$\\beta$')\n",
    "plt.xlim([0, 1.5])\n",
    "plt.ylim([0, 0.8])\n",
    "plt.show()"
   ]
  },
  {
   "cell_type": "markdown",
   "metadata": {
    "slideshow": {
     "slide_type": "slide"
    }
   },
   "source": [
    "#### CAPM and  Active Portfolio Management"
   ]
  },
  {
   "cell_type": "markdown",
   "metadata": {
    "slideshow": {
     "slide_type": "slide"
    }
   },
   "source": [
    "To create an MV optimal portfolio \n",
    "* Estimate the $E(R_{i})$ and $\\Sigma$ from past empirical data. But that's ignoring market opinion.\n",
    "* If we accept CAPM, market portfolio is efficeint, $E(R_{i})$ and $\\Sigma$ implied by CAPM is the true $E(R_{i})$ and $\\Sigma$. You can \"accept\"  market opinion and simply hold the market portfolio. \n",
    "  - MVO without actually doing the MVO\n",
    "* Incorporate \"views\" starting from market portfolio"
   ]
  },
  {
   "cell_type": "markdown",
   "metadata": {
    "slideshow": {
     "slide_type": "slide"
    }
   },
   "source": [
    "###### Estimating $E(R_{i})$ and $\\Sigma$ with CAPM\n",
    "Estimate $$ R_{it}-R_{ft}=\\alpha_{i}+\\beta_{i}(R_{Mt}-R_{ft})+\\varepsilon_{it} $$\n",
    "For security $i$ and $j$, $ cov(\\varepsilon_{it}, \\varepsilon_{jt})=0 $, so to get covariances/correlations, \n",
    "$$ \\sigma_{i,j}=cov(R_{it}, R_{jt})= \\beta_{i}\\beta_{j}\\sigma^{2}_{M} $$\n",
    "and variances\n",
    "$$ \\sigma^{2}_{i}= \\beta^{2}_{i}\\sigma^{2}_{M}+\\sigma^{2}_{\\varepsilon, i} $$"
   ]
  },
  {
   "cell_type": "markdown",
   "metadata": {
    "slideshow": {
     "slide_type": "slide"
    }
   },
   "source": [
    "$E(R_{it}-R_{ft})$ is obtained by imposing $\\alpha_{i}=0$\n",
    "$$ E[R_{it}-R_{ft}]=\\beta_{i}E(R_{Mt}-R_{ft})$$\n",
    "* We only need to estimate $3N+3$ parameters.\n",
    "* Notice that this approach still rely on historical data"
   ]
  }
 ],
 "metadata": {
  "anaconda-cloud": {},
  "celltoolbar": "Slideshow",
  "hide_input": false,
  "kernelspec": {
   "display_name": "Python 3",
   "language": "python",
   "name": "python3"
  },
  "language_info": {
   "codemirror_mode": {
    "name": "ipython",
    "version": 3
   },
   "file_extension": ".py",
   "mimetype": "text/x-python",
   "name": "python",
   "nbconvert_exporter": "python",
   "pygments_lexer": "ipython3",
   "version": "3.6.1"
  },
  "latex_envs": {
   "bibliofile": "biblio.bib",
   "cite_by": "apalike",
   "current_citInitial": 1,
   "eqLabelWithNumbers": true,
   "eqNumInitial": 0
  }
 },
 "nbformat": 4,
 "nbformat_minor": 1
}
