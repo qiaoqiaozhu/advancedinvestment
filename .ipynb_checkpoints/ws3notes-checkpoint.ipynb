{
 "cells": [
  {
   "cell_type": "code",
   "execution_count": 1,
   "metadata": {
    "collapsed": true,
    "hide_input": false,
    "slideshow": {
     "slide_type": "skip"
    }
   },
   "outputs": [],
   "source": [
    "from __future__ import division\n",
    "from __future__ import print_function\n",
    "import numpy as np\n",
    "from pandas import Series, DataFrame\n",
    "import pandas as pd\n",
    "import statsmodels.api as sm\n",
    "import matplotlib.pyplot as plt\n",
    "%matplotlib inline\n",
    "import seaborn as sns\n",
    "from sympy import *\n",
    "from sympy.stats import Normal, density, E, variance,std, cdf\n",
    "from pandas_datareader import wb\n",
    "init_printing(use_unicode=True)"
   ]
  },
  {
   "cell_type": "code",
   "execution_count": 2,
   "metadata": {
    "collapsed": true,
    "hide_input": false,
    "slideshow": {
     "slide_type": "skip"
    }
   },
   "outputs": [],
   "source": [
    "from numpy.random import randn\n",
    "import scipy.stats as stats\n",
    "\n",
    "np.random.seed(12345)\n",
    "# Set inline figure size \n",
    "plt.rc('figure', figsize=(14, 8))\n",
    "np.set_printoptions(precision=4)\n",
    "from IPython.display import display\n",
    "from ipywidgets import interact, interactive, fixed"
   ]
  },
  {
   "cell_type": "markdown",
   "metadata": {
    "slideshow": {
     "slide_type": "slide"
    }
   },
   "source": [
    "# SDF Pricing with Consumption\n",
    "## Lognormal Example"
   ]
  },
  {
   "cell_type": "markdown",
   "metadata": {
    "slideshow": {
     "slide_type": "slide"
    }
   },
   "source": [
    "Let's consider a two period represent consumer economy with lognormal consumption growth. $c_{1}(z)/c_{0}=e^{z}$, where $z\\sim N(\\mu, \\sigma^2)$. $$\\Delta \\log(c)=\\log c_{1}- \\log c_{0} =z$$, $$U=\\dfrac{c^{1-\\gamma}}{1-\\gamma}$$"
   ]
  },
  {
   "cell_type": "code",
   "execution_count": 3,
   "metadata": {
    "slideshow": {
     "slide_type": "skip"
    }
   },
   "outputs": [],
   "source": [
    "c, c0 ,c1, gamma, beta, sigma, d0, d1= symbols('c c0 c1 gamma beta sigma d0 d1', positive=True, real=True)\n",
    "z, mu, rho= symbols('z mu rho', real=True)"
   ]
  },
  {
   "cell_type": "markdown",
   "metadata": {
    "slideshow": {
     "slide_type": "slide"
    }
   },
   "source": [
    "### SDF \n",
    "$$m=\\beta\\frac{u'(c_{1})}{u'(c_{0})} $$\n",
    "$$=\\beta (\\frac{c_{1}}{c_{0}})^{-\\gamma}$$"
   ]
  },
  {
   "cell_type": "code",
   "execution_count": 4,
   "metadata": {
    "slideshow": {
     "slide_type": "slide"
    }
   },
   "outputs": [
    {
     "name": "stdout",
     "output_type": "stream",
     "text": [
      "u'=\n"
     ]
    },
    {
     "data": {
      "image/png": "[encoded data removed]",
      "text/latex": [
       "$$c^{- \\gamma}$$"
      ],
      "text/plain": [
       " -γ\n",
       "c  "
      ]
     },
     "execution_count": 4,
     "metadata": {},
     "output_type": "execute_result"
    }
   ],
   "source": [
    "def u(c):\n",
    "    return c**(1-gamma)/(1-gamma)\n",
    "uprime = diff(u(c), c)\n",
    "print(\"u'=\",)\n",
    "uprime.simplify()"
   ]
  },
  {
   "cell_type": "code",
   "execution_count": 5,
   "metadata": {
    "slideshow": {
     "slide_type": "fragment"
    }
   },
   "outputs": [
    {
     "name": "stdout",
     "output_type": "stream",
     "text": [
      "SDF is\n"
     ]
    },
    {
     "data": {
      "image/png": "[encoded data removed]",
      "text/latex": [
       "$$\\beta \\left(\\frac{c_{0}}{c_{1}}\\right)^{\\gamma}$$"
      ],
      "text/plain": [
       "      γ\n",
       "  ⎛c₀⎞ \n",
       "β⋅⎜──⎟ \n",
       "  ⎝c₁⎠ "
      ]
     },
     "execution_count": 5,
     "metadata": {},
     "output_type": "execute_result"
    }
   ],
   "source": [
    "sdf = beta*uprime.subs(c, c1)/uprime.subs(c, c0)\n",
    "print('SDF is')\n",
    "sdf.simplify()"
   ]
  },
  {
   "cell_type": "raw",
   "metadata": {
    "slideshow": {
     "slide_type": "skip"
    }
   },
   "source": [
    "# Alternative presentation, define uprime directly\n",
    "c = Symbol('c')\n",
    "def uprime(c):\n",
    "    return diff(c**(1-gamma)/(1-gamma), c)\n",
    "\n",
    "#check uprime\n",
    "print(\"u'=\")\n",
    "display(uprime(c).simplify())\n",
    "\n",
    "# call m from un-simplified MRS sdf\n",
    "print('m= ')\n",
    "sdf = simplify( beta*uprime(c1)/uprime(c0) )\n",
    "sdf"
   ]
  },
  {
   "cell_type": "markdown",
   "metadata": {
    "slideshow": {
     "slide_type": "slide"
    }
   },
   "source": [
    "Take the log of SDF, and substitute in $c_{1}=c_{0}e^{z}$, the resulting $log(m)$ is a function of random variable $z$."
   ]
  },
  {
   "cell_type": "code",
   "execution_count": 6,
   "metadata": {
    "hide_input": true,
    "slideshow": {
     "slide_type": "fragment"
    }
   },
   "outputs": [
    {
     "name": "stdout",
     "output_type": "stream",
     "text": [
      "log(m)=\n"
     ]
    },
    {
     "data": {
      "image/png": "[encoded data removed]",
      "text/latex": [
       "$$- \\gamma z + \\log{\\left (\\beta \\right )}$$"
      ],
      "text/plain": [
       "-γ⋅z + log(β)"
      ]
     },
     "execution_count": 6,
     "metadata": {},
     "output_type": "execute_result"
    }
   ],
   "source": [
    "def c1_f(c0):\n",
    "    return c0*exp(z)\n",
    "logm = ln(sdf).subs(c1, c1_f(c0))\n",
    "logm = expand_log(logm).simplify()\n",
    "print('log(m)=',)\n",
    "logm"
   ]
  },
  {
   "cell_type": "markdown",
   "metadata": {
    "slideshow": {
     "slide_type": "fragment"
    }
   },
   "source": [
    "Clearly, m is lower when $z$ is higher. Good states have lower value. The strength of the effect depends on $\\gamma$. log(m) is distributed $N( \\log(\\beta)-\\gamma \\mu, \\gamma^2 \\sigma^2)$. "
   ]
  },
  {
   "cell_type": "code",
   "execution_count": 7,
   "metadata": {
    "slideshow": {
     "slide_type": "slide"
    }
   },
   "outputs": [
    {
     "name": "stdout",
     "output_type": "stream",
     "text": [
      "m=\n"
     ]
    },
    {
     "data": {
      "image/png": "[encoded data removed]",
      "text/latex": [
       "$$\\beta e^{- \\gamma z}$$"
      ],
      "text/plain": [
       "   -γ⋅z\n",
       "β⋅ℯ    "
      ]
     },
     "execution_count": 7,
     "metadata": {},
     "output_type": "execute_result"
    }
   ],
   "source": [
    "m = exp(logm)\n",
    "print('m='); m"
   ]
  },
  {
   "cell_type": "markdown",
   "metadata": {
    "slideshow": {
     "slide_type": "slide"
    }
   },
   "source": [
    "### (gross) risk free rate \n",
    "$$R_{f}=\\frac{1}{E(m)}$$. If we pass the distribution of $z$ to m, then we can calculate $R_{f}$."
   ]
  },
  {
   "cell_type": "code",
   "execution_count": 8,
   "metadata": {
    "slideshow": {
     "slide_type": "slide"
    }
   },
   "outputs": [
    {
     "name": "stdout",
     "output_type": "stream",
     "text": [
      "Assume z has normal pdf:\n"
     ]
    },
    {
     "data": {
      "image/png": "[encoded data removed]",
      "text/latex": [
       "$$\\frac{\\sqrt{2}}{2 \\sqrt{\\pi} \\sigma} e^{- \\frac{\\left(- \\mu + z\\right)^{2}}{2 \\sigma^{2}}}$$"
      ],
      "text/plain": [
       "                2 \n",
       "       -(-μ + z)  \n",
       "       ───────────\n",
       "              2   \n",
       "  ___      2⋅σ    \n",
       "╲╱ 2 ⋅ℯ           \n",
       "──────────────────\n",
       "        ___       \n",
       "    2⋅╲╱ π ⋅σ     "
      ]
     },
     "execution_count": 8,
     "metadata": {},
     "output_type": "execute_result"
    }
   ],
   "source": [
    "X = Normal(\"z\", mu, sigma)\n",
    "print('Assume z has normal pdf:')\n",
    "density(X)(z)"
   ]
  },
  {
   "cell_type": "code",
   "execution_count": 9,
   "metadata": {
    "slideshow": {
     "slide_type": "fragment"
    }
   },
   "outputs": [
    {
     "name": "stdout",
     "output_type": "stream",
     "text": [
      "Take expectation of m, risk free rate R_f:\n"
     ]
    },
    {
     "data": {
      "image/png": "[encoded data removed]",
      "text/latex": [
       "$$\\frac{1}{\\beta} e^{- \\frac{\\gamma^{2} \\sigma^{2}}{2} + \\gamma \\mu}$$"
      ],
      "text/plain": [
       "    2  2      \n",
       "   γ ⋅σ       \n",
       " - ───── + γ⋅μ\n",
       "     2        \n",
       "ℯ             \n",
       "──────────────\n",
       "      β       "
      ]
     },
     "execution_count": 9,
     "metadata": {},
     "output_type": "execute_result"
    }
   ],
   "source": [
    "m=m.subs(z, X)\n",
    "q1 = E(m).simplify()\n",
    "rf = q1**(-1)\n",
    "print('Take expectation of m, risk free rate R_f:'); rf"
   ]
  },
  {
   "cell_type": "code",
   "execution_count": 10,
   "metadata": {
    "slideshow": {
     "slide_type": "slide"
    }
   },
   "outputs": [
    {
     "name": "stdout",
     "output_type": "stream",
     "text": [
      "log of Rf is\n"
     ]
    },
    {
     "data": {
      "image/png": "[encoded data removed]",
      "text/latex": [
       "$$\\frac{\\gamma}{2} \\left(- \\gamma \\sigma^{2} + 2 \\mu\\right) - \\log{\\left (\\beta \\right )}$$"
      ],
      "text/plain": [
       "  ⎛     2      ⎞         \n",
       "γ⋅⎝- γ⋅σ  + 2⋅μ⎠         \n",
       "──────────────── - log(β)\n",
       "       2                 "
      ]
     },
     "execution_count": 10,
     "metadata": {},
     "output_type": "execute_result"
    }
   ],
   "source": [
    "logrf = log(rf)\n",
    "print('log of Rf is')\n",
    "logrf.simplify()"
   ]
  },
  {
   "cell_type": "markdown",
   "metadata": {
    "slideshow": {
     "slide_type": "slide"
    }
   },
   "source": [
    "Let's find some numbers to plug in. "
   ]
  },
  {
   "cell_type": "code",
   "execution_count": 11,
   "metadata": {
    "hide_input": true,
    "slideshow": {
     "slide_type": "fragment"
    }
   },
   "outputs": [
    {
     "data": {
      "text/html": [
       "<iframe src=\"http://onlinelibrary.wiley.com/doi/10.1111/jofi.12058/abstract\" width=\"800\" height=\"600\"></iframe>"
      ],
      "text/plain": [
       "<IPython.core.display.HTML object>"
      ]
     },
     "metadata": {},
     "output_type": "display_data"
    }
   ],
   "source": [
    "%%html\n",
    "<iframe src=\"http://onlinelibrary.wiley.com/doi/10.1111/jofi.12058/abstract\" width=\"800\" height=\"600\"></iframe>"
   ]
  },
  {
   "cell_type": "raw",
   "metadata": {
    "slideshow": {
     "slide_type": "skip"
    }
   },
   "source": [
    "print('risk free rate: %3f' %rf.subs([(beta, 0.99), (gamma, 2), (mu, 0.005), (sigma, 0.003)]))"
   ]
  },
  {
   "cell_type": "markdown",
   "metadata": {
    "slideshow": {
     "slide_type": "slide"
    }
   },
   "source": [
    "According to that recent paper, $\\mu \\approx 0.5\\%*4$, $\\sigma\\approx 0.3\\%*4$. Or, let's calculate by our own:"
   ]
  },
  {
   "cell_type": "markdown",
   "metadata": {
    "slideshow": {
     "slide_type": "fragment"
    }
   },
   "source": [
    "Alternatively, Let's get data from the World Bank data site, search for 'Household final consumption expenditure...'"
   ]
  },
  {
   "cell_type": "code",
   "execution_count": 13,
   "metadata": {
    "hide_input": false,
    "slideshow": {
     "slide_type": "skip"
    }
   },
   "outputs": [
    {
     "data": {
      "text/html": [
       "<div style=\"max-height:1000px;max-width:1500px;overflow:auto;\">\n",
       "<table border=\"1\" class=\"dataframe\">\n",
       "  <thead>\n",
       "    <tr style=\"text-align: right;\">\n",
       "      <th></th>\n",
       "      <th>id</th>\n",
       "      <th>name</th>\n",
       "    </tr>\n",
       "  </thead>\n",
       "  <tbody>\n",
       "    <tr>\n",
       "      <th>7222</th>\n",
       "      <td>       NE.CON.PETC.CD</td>\n",
       "      <td> Household final consumption expenditure, etc. ...</td>\n",
       "    </tr>\n",
       "    <tr>\n",
       "      <th>7223</th>\n",
       "      <td>       NE.CON.PETC.CN</td>\n",
       "      <td> Household final consumption expenditure, etc. ...</td>\n",
       "    </tr>\n",
       "    <tr>\n",
       "      <th>7224</th>\n",
       "      <td>       NE.CON.PETC.KD</td>\n",
       "      <td> Household final consumption expenditure, etc. ...</td>\n",
       "    </tr>\n",
       "    <tr>\n",
       "      <th>7225</th>\n",
       "      <td>    NE.CON.PETC.KD.ZG</td>\n",
       "      <td> Household final consumption expenditure, etc. ...</td>\n",
       "    </tr>\n",
       "    <tr>\n",
       "      <th>7226</th>\n",
       "      <td>       NE.CON.PETC.KN</td>\n",
       "      <td> Household final consumption expenditure, etc. ...</td>\n",
       "    </tr>\n",
       "    <tr>\n",
       "      <th>7227</th>\n",
       "      <td>       NE.CON.PETC.ZS</td>\n",
       "      <td> Household final consumption expenditure, etc. ...</td>\n",
       "    </tr>\n",
       "    <tr>\n",
       "      <th>7228</th>\n",
       "      <td>       NE.CON.PRVT.CD</td>\n",
       "      <td> Household final consumption expenditure (curre...</td>\n",
       "    </tr>\n",
       "    <tr>\n",
       "      <th>7229</th>\n",
       "      <td>       NE.CON.PRVT.CN</td>\n",
       "      <td> Household final consumption expenditure (curre...</td>\n",
       "    </tr>\n",
       "    <tr>\n",
       "      <th>7230</th>\n",
       "      <td>       NE.CON.PRVT.KD</td>\n",
       "      <td> Household final consumption expenditure (const...</td>\n",
       "    </tr>\n",
       "    <tr>\n",
       "      <th>7231</th>\n",
       "      <td>    NE.CON.PRVT.KD.ZG</td>\n",
       "      <td> Household final consumption expenditure (annua...</td>\n",
       "    </tr>\n",
       "    <tr>\n",
       "      <th>7232</th>\n",
       "      <td>       NE.CON.PRVT.KN</td>\n",
       "      <td> Household final consumption expenditure (const...</td>\n",
       "    </tr>\n",
       "    <tr>\n",
       "      <th>7233</th>\n",
       "      <td>    NE.CON.PRVT.PC.KD</td>\n",
       "      <td> Household final consumption expenditure per ca...</td>\n",
       "    </tr>\n",
       "    <tr>\n",
       "      <th>7234</th>\n",
       "      <td> NE.CON.PRVT.PC.KD.ZG</td>\n",
       "      <td> Household final consumption expenditure per ca...</td>\n",
       "    </tr>\n",
       "    <tr>\n",
       "      <th>7235</th>\n",
       "      <td>    NE.CON.PRVT.PP.CD</td>\n",
       "      <td> Household final consumption expenditure, PPP (...</td>\n",
       "    </tr>\n",
       "    <tr>\n",
       "      <th>7236</th>\n",
       "      <td>    NE.CON.PRVT.PP.KD</td>\n",
       "      <td> Household final consumption expenditure, PPP (...</td>\n",
       "    </tr>\n",
       "  </tbody>\n",
       "</table>\n",
       "</div>"
      ],
      "text/plain": [
       "                        id                                               name\n",
       "7222        NE.CON.PETC.CD  Household final consumption expenditure, etc. ...\n",
       "7223        NE.CON.PETC.CN  Household final consumption expenditure, etc. ...\n",
       "7224        NE.CON.PETC.KD  Household final consumption expenditure, etc. ...\n",
       "7225     NE.CON.PETC.KD.ZG  Household final consumption expenditure, etc. ...\n",
       "7226        NE.CON.PETC.KN  Household final consumption expenditure, etc. ...\n",
       "7227        NE.CON.PETC.ZS  Household final consumption expenditure, etc. ...\n",
       "7228        NE.CON.PRVT.CD  Household final consumption expenditure (curre...\n",
       "7229        NE.CON.PRVT.CN  Household final consumption expenditure (curre...\n",
       "7230        NE.CON.PRVT.KD  Household final consumption expenditure (const...\n",
       "7231     NE.CON.PRVT.KD.ZG  Household final consumption expenditure (annua...\n",
       "7232        NE.CON.PRVT.KN  Household final consumption expenditure (const...\n",
       "7233     NE.CON.PRVT.PC.KD  Household final consumption expenditure per ca...\n",
       "7234  NE.CON.PRVT.PC.KD.ZG  Household final consumption expenditure per ca...\n",
       "7235     NE.CON.PRVT.PP.CD  Household final consumption expenditure, PPP (...\n",
       "7236     NE.CON.PRVT.PP.KD  Household final consumption expenditure, PPP (..."
      ]
     },
     "execution_count": 13,
     "metadata": {},
     "output_type": "execute_result"
    }
   ],
   "source": [
    "wb.search('Household final consumption expenditure*').iloc[:,:2]"
   ]
  },
  {
   "cell_type": "code",
   "execution_count": 14,
   "metadata": {
    "slideshow": {
     "slide_type": "slide"
    }
   },
   "outputs": [
    {
     "name": "stdout",
     "output_type": "stream",
     "text": [
      "consumption growth rate starting from 70s\n"
     ]
    },
    {
     "data": {
      "text/html": [
       "<div style=\"max-height:1000px;max-width:1500px;overflow:auto;\">\n",
       "<table border=\"1\" class=\"dataframe\">\n",
       "  <thead>\n",
       "    <tr style=\"text-align: right;\">\n",
       "      <th></th>\n",
       "      <th></th>\n",
       "      <th>NE.CON.PRVT.KD.ZG</th>\n",
       "    </tr>\n",
       "    <tr>\n",
       "      <th>country</th>\n",
       "      <th>year</th>\n",
       "      <th></th>\n",
       "    </tr>\n",
       "  </thead>\n",
       "  <tbody>\n",
       "    <tr>\n",
       "      <th rowspan=\"5\" valign=\"top\">United States</th>\n",
       "      <th>1975</th>\n",
       "      <td> 2.269684</td>\n",
       "    </tr>\n",
       "    <tr>\n",
       "      <th>1974</th>\n",
       "      <td>-0.824893</td>\n",
       "    </tr>\n",
       "    <tr>\n",
       "      <th>1973</th>\n",
       "      <td> 4.957399</td>\n",
       "    </tr>\n",
       "    <tr>\n",
       "      <th>1972</th>\n",
       "      <td> 6.133150</td>\n",
       "    </tr>\n",
       "    <tr>\n",
       "      <th>1971</th>\n",
       "      <td> 3.816414</td>\n",
       "    </tr>\n",
       "  </tbody>\n",
       "</table>\n",
       "</div>"
      ],
      "text/plain": [
       "                    NE.CON.PRVT.KD.ZG\n",
       "country       year                   \n",
       "United States 1975           2.269684\n",
       "              1974          -0.824893\n",
       "              1973           4.957399\n",
       "              1972           6.133150\n",
       "              1971           3.816414"
      ]
     },
     "execution_count": 14,
     "metadata": {},
     "output_type": "execute_result"
    }
   ],
   "source": [
    "dat = wb.download(indicator='NE.CON.PRVT.KD.ZG', country=['USA', 'AUS', 'CHN'], start=1971, end=2014)\n",
    "print('consumption growth rate starting from 70s')\n",
    "dat.tail()"
   ]
  },
  {
   "cell_type": "code",
   "execution_count": 16,
   "metadata": {
    "slideshow": {
     "slide_type": "slide"
    }
   },
   "outputs": [
    {
     "name": "stdout",
     "output_type": "stream",
     "text": [
      "mean growth rate in percentage:\n"
     ]
    },
    {
     "data": {
      "text/plain": [
       "country\n",
       "Australia        3.345137\n",
       "China            7.787871\n",
       "United States    3.071647\n",
       "dtype: float64"
      ]
     },
     "execution_count": 16,
     "metadata": {},
     "output_type": "execute_result"
    }
   ],
   "source": [
    "# mean growth rate\n",
    "gmean = dat['NE.CON.PRVT.KD.ZG'].groupby(level=0).mean()\n",
    "print('mean growth rate in percentage:')\n",
    "gmean.head()"
   ]
  },
  {
   "cell_type": "code",
   "execution_count": 17,
   "metadata": {
    "slideshow": {
     "slide_type": "fragment"
    }
   },
   "outputs": [
    {
     "name": "stdout",
     "output_type": "stream",
     "text": [
      "Standard deviation of growth rate:\n"
     ]
    },
    {
     "data": {
      "text/plain": [
       "country\n",
       "Australia        1.511550\n",
       "China            2.932579\n",
       "United States    1.839060\n",
       "dtype: float64"
      ]
     },
     "execution_count": 17,
     "metadata": {},
     "output_type": "execute_result"
    }
   ],
   "source": [
    "# standard deviation of growth rate\n",
    "gstd = dat['NE.CON.PRVT.KD.ZG'].groupby(level=0).std()\n",
    "print('Standard deviation of growth rate:')\n",
    "gstd.head()"
   ]
  },
  {
   "cell_type": "code",
   "execution_count": 18,
   "metadata": {
    "slideshow": {
     "slide_type": "slide"
    }
   },
   "outputs": [
    {
     "name": "stdout",
     "output_type": "stream",
     "text": [
      "plug in beta: 0.99, gamma: 2, mu: 0.028, sigma: 0.0184\n",
      "risk free rate: 1.067557\n"
     ]
    }
   ],
   "source": [
    "print('plug in beta: 0.99, gamma: 2, mu: 0.028, sigma: 0.0184')\n",
    "print('risk free rate: %3f' %rf.evalf(subs={beta: 0.99, gamma: 2, mu: 0.028, sigma: 0.0184}) )"
   ]
  },
  {
   "cell_type": "code",
   "execution_count": 17,
   "metadata": {
    "slideshow": {
     "slide_type": "fragment"
    }
   },
   "outputs": [
    {
     "name": "stdout",
     "output_type": "stream",
     "text": [
      "sigma is so small that Rf is not very sensitive to it, here is Rf when sigma = 8%\n",
      "risk free rate: 1.054694\n"
     ]
    }
   ],
   "source": [
    "print('sigma is so small that Rf is not very sensitive to it, here is Rf when sigma = 8%')\n",
    "print('risk free rate: %3f' %rf.evalf(subs={beta: 0.99, gamma: 2, mu: 0.028, sigma: 0.08}) )"
   ]
  },
  {
   "cell_type": "markdown",
   "metadata": {
    "slideshow": {
     "slide_type": "slide"
    }
   },
   "source": [
    "It's remarkable we now have a risk-free rate just by constructing very simple models. However, the number seems a bit too big. It's also not just because consumption volatility is small - increasing $\\sigma$ has small effect on $r_f$ unless by very unrealistic amount. (That's because variance of growth will be small anyway, see $log(R_f)$.)\n",
    "\n",
    "This is still a very active research area as you can see from the above paper. People has been modifying utility function; decomposing consumption growth into permanent and transitory; splitting growth into predictable and changing volatility (long-run risk), etc.    "
   ]
  },
  {
   "cell_type": "markdown",
   "metadata": {
    "slideshow": {
     "slide_type": "slide"
    }
   },
   "source": [
    "For our part, it looks like investors behave as if consumption growth is really small. "
   ]
  },
  {
   "cell_type": "code",
   "execution_count": 18,
   "metadata": {
    "slideshow": {
     "slide_type": "fragment"
    }
   },
   "outputs": [
    {
     "name": "stdout",
     "output_type": "stream",
     "text": [
      "beta: 0.99, gamma: 2, mu: 0.005, sigma: 0.01\n",
      "risk free rate: 1.020049\n"
     ]
    }
   ],
   "source": [
    "print('beta: 0.99, gamma: 2, mu: 0.005, sigma: 0.01')\n",
    "print('risk free rate: %3f' %rf.evalf(subs={beta: 0.99, gamma: 2, mu: 0.005, sigma: 0.01}) )"
   ]
  },
  {
   "cell_type": "markdown",
   "metadata": {
    "slideshow": {
     "slide_type": "slide"
    }
   },
   "source": [
    "### Equity Price\n",
    "Let's carry on to investigate the equity price in this economy. We have pricing formula $$1=E(mR)$$ or\n",
    "$$ P = E(mx) $$. Suppose cash flow is all coming from dividend, let me use slightly different notation here: $$ q^e =E(md)$$. $d$ for dividend. "
   ]
  },
  {
   "cell_type": "markdown",
   "metadata": {
    "slideshow": {
     "slide_type": "slide"
    }
   },
   "source": [
    "Let's assume $\\Delta log(d) = \\rho \\Delta log(c)$ so that correlation betwen log dividend and log consumption is determined by parameter $\\rho$. "
   ]
  },
  {
   "cell_type": "code",
   "execution_count": 12,
   "metadata": {
    "slideshow": {
     "slide_type": "fragment"
    }
   },
   "outputs": [
    {
     "name": "stdout",
     "output_type": "stream",
     "text": [
      "log(d1)=\n"
     ]
    },
    {
     "data": {
      "image/png": "[encoded data removed]",
      "text/latex": [
       "$$\\rho \\left(- \\log{\\left (c_{0} \\right )} + \\log{\\left (c_{1} \\right )}\\right) + \\log{\\left (d_{0} \\right )}$$"
      ],
      "text/plain": [
       "ρ⋅(-log(c₀) + log(c₁)) + log(d₀)"
      ]
     },
     "execution_count": 12,
     "metadata": {},
     "output_type": "execute_result"
    }
   ],
   "source": [
    "logd1=log(d0)+rho*(log(c1)-log(c0))\n",
    "print('log(d1)=')\n",
    "logd1"
   ]
  },
  {
   "cell_type": "code",
   "execution_count": 13,
   "metadata": {
    "hide_input": true,
    "slideshow": {
     "slide_type": "slide"
    }
   },
   "outputs": [
    {
     "name": "stdout",
     "output_type": "stream",
     "text": [
      "d1=\n"
     ]
    },
    {
     "data": {
      "image/png": "[encoded data removed]",
      "text/latex": [
       "$$d_{0} \\left(\\frac{c_{1}}{c_{0}}\\right)^{\\rho}$$"
      ],
      "text/plain": [
       "       ρ\n",
       "   ⎛c₁⎞ \n",
       "d₀⋅⎜──⎟ \n",
       "   ⎝c₀⎠ "
      ]
     },
     "execution_count": 13,
     "metadata": {},
     "output_type": "execute_result"
    }
   ],
   "source": [
    "s=solve(logd1-log(d1), d1)\n",
    "d1 = s[0]\n",
    "print('d1=')\n",
    "d1 "
   ]
  },
  {
   "cell_type": "code",
   "execution_count": 14,
   "metadata": {
    "hide_input": true,
    "slideshow": {
     "slide_type": "fragment"
    }
   },
   "outputs": [
    {
     "name": "stdout",
     "output_type": "stream",
     "text": [
      "substitute out c1=c0*e^rho, d1=\n"
     ]
    },
    {
     "data": {
      "image/png": "[encoded data removed]",
      "text/latex": [
       "$$d_{0} e^{\\rho z}$$"
      ],
      "text/plain": [
       "    ρ⋅z\n",
       "d₀⋅ℯ   "
      ]
     },
     "execution_count": 14,
     "metadata": {},
     "output_type": "execute_result"
    }
   ],
   "source": [
    "d1 = d1.subs(c1, c1_f(c0))\n",
    "print('substitute out c1=c0*e^rho, d1=')\n",
    "d1"
   ]
  },
  {
   "cell_type": "code",
   "execution_count": 15,
   "metadata": {
    "slideshow": {
     "slide_type": "slide"
    }
   },
   "outputs": [
    {
     "name": "stdout",
     "output_type": "stream",
     "text": [
      "equity price, qe=E(m*d1)\n"
     ]
    },
    {
     "data": {
      "image/png": "[encoded data removed]",
      "text/latex": [
       "$$\\beta d_{0} e^{\\mu \\left(- \\gamma + \\rho\\right) + \\frac{\\sigma^{2}}{2} \\left(\\gamma - \\rho\\right)^{2}}$$"
      ],
      "text/plain": [
       "                    2        2\n",
       "                   σ ⋅(γ - ρ) \n",
       "      μ⋅(-γ + ρ) + ───────────\n",
       "                        2     \n",
       "β⋅d₀⋅ℯ                        "
      ]
     },
     "execution_count": 15,
     "metadata": {},
     "output_type": "execute_result"
    }
   ],
   "source": [
    "md1 = m*d1\n",
    "md1=md1.subs(z, X)\n",
    "qe = E(md1).simplify()\n",
    "print('equity price, qe=E(m*d1)')\n",
    "qe"
   ]
  },
  {
   "cell_type": "markdown",
   "metadata": {
    "slideshow": {
     "slide_type": "fragment"
    }
   },
   "source": [
    "equity return = $d_{1}/q^e$"
   ]
  },
  {
   "cell_type": "code",
   "execution_count": 16,
   "metadata": {
    "slideshow": {
     "slide_type": "fragment"
    }
   },
   "outputs": [
    {
     "name": "stdout",
     "output_type": "stream",
     "text": [
      "return of equity, re=d1/qe\n"
     ]
    },
    {
     "data": {
      "image/png": "[encoded data removed]",
      "text/latex": [
       "$$\\frac{1}{\\beta} e^{\\mu \\left(\\gamma - \\rho\\right) + \\rho z - \\frac{\\sigma^{2}}{2} \\left(\\gamma - \\rho\\right)^{2}}$$"
      ],
      "text/plain": [
       "                    2        2\n",
       "                   σ ⋅(γ - ρ) \n",
       " μ⋅(γ - ρ) + ρ⋅z - ───────────\n",
       "                        2     \n",
       "ℯ                             \n",
       "──────────────────────────────\n",
       "              β               "
      ]
     },
     "execution_count": 16,
     "metadata": {},
     "output_type": "execute_result"
    }
   ],
   "source": [
    "re = d1/qe\n",
    "print('return of equity, re=d1/qe')\n",
    "re.simplify()"
   ]
  },
  {
   "cell_type": "markdown",
   "metadata": {
    "slideshow": {
     "slide_type": "slide"
    }
   },
   "source": [
    "Let's check the distribution of $Log(r^{e})$"
   ]
  },
  {
   "cell_type": "code",
   "execution_count": 17,
   "metadata": {
    "slideshow": {
     "slide_type": "fragment"
    }
   },
   "outputs": [
    {
     "name": "stdout",
     "output_type": "stream",
     "text": [
      "log(re)=\n"
     ]
    },
    {
     "data": {
      "image/png": "[encoded data removed]",
      "text/latex": [
       "$$\\mu \\left(\\gamma - \\rho\\right) + \\rho z - \\frac{\\sigma^{2}}{2} \\left(\\gamma - \\rho\\right)^{2} - \\log{\\left (\\beta \\right )}$$"
      ],
      "text/plain": [
       "                   2        2         \n",
       "                  σ ⋅(γ - ρ)          \n",
       "μ⋅(γ - ρ) + ρ⋅z - ─────────── - log(β)\n",
       "                       2              "
      ]
     },
     "execution_count": 17,
     "metadata": {},
     "output_type": "execute_result"
    }
   ],
   "source": [
    "logre = log(re).simplify()\n",
    "print('log(re)=')\n",
    "logre"
   ]
  },
  {
   "cell_type": "code",
   "execution_count": 18,
   "metadata": {
    "slideshow": {
     "slide_type": "fragment"
    }
   },
   "outputs": [
    {
     "name": "stdout",
     "output_type": "stream",
     "text": [
      "take expectations, E(log(re))=\n"
     ]
    },
    {
     "data": {
      "image/png": "[encoded data removed]",
      "text/latex": [
       "$$\\gamma \\mu - \\frac{\\sigma^{2}}{2} \\left(\\gamma - \\rho\\right)^{2} - \\log{\\left (\\beta \\right )}$$"
      ],
      "text/plain": [
       "       2        2         \n",
       "      σ ⋅(γ - ρ)          \n",
       "γ⋅μ - ─────────── - log(β)\n",
       "           2              "
      ]
     },
     "execution_count": 18,
     "metadata": {},
     "output_type": "execute_result"
    }
   ],
   "source": [
    "logre = logre.subs(z,X)\n",
    "print('take expectations, E(log(re))=')\n",
    "E(logre).simplify()"
   ]
  },
  {
   "cell_type": "code",
   "execution_count": 19,
   "metadata": {
    "slideshow": {
     "slide_type": "fragment"
    }
   },
   "outputs": [
    {
     "name": "stdout",
     "output_type": "stream",
     "text": [
      "variance of log equity return:\n"
     ]
    },
    {
     "data": {
      "image/png": "[encoded data removed]",
      "text/latex": [
       "$$\\rho^{2} \\sigma^{2}$$"
      ],
      "text/plain": [
       " 2  2\n",
       "ρ ⋅σ "
      ]
     },
     "execution_count": 19,
     "metadata": {},
     "output_type": "execute_result"
    }
   ],
   "source": [
    "print('variance of log equity return:')\n",
    "variance(logre).simplify()"
   ]
  },
  {
   "cell_type": "markdown",
   "metadata": {
    "slideshow": {
     "slide_type": "fragment"
    }
   },
   "source": [
    "Therefore, $log(r^e)$ is distributed $N(\\mu\\gamma-\\frac{\\sigma^2}{2}(\\gamma-\\rho)^2-log(\\beta), \\rho^2\\sigma^2)$"
   ]
  },
  {
   "cell_type": "markdown",
   "metadata": {
    "slideshow": {
     "slide_type": "slide"
    }
   },
   "source": [
    "#### Risk Premium"
   ]
  },
  {
   "cell_type": "code",
   "execution_count": 20,
   "metadata": {
    "slideshow": {
     "slide_type": "fragment"
    }
   },
   "outputs": [
    {
     "name": "stdout",
     "output_type": "stream",
     "text": [
      "Expected return of equity:\n"
     ]
    },
    {
     "data": {
      "image/png": "[encoded data removed]",
      "text/latex": [
       "$$\\frac{1}{\\beta} e^{- \\frac{\\gamma^{2} \\sigma^{2}}{2} + \\gamma \\mu + \\gamma \\rho \\sigma^{2}}$$"
      ],
      "text/plain": [
       "    2  2               \n",
       "   γ ⋅σ               2\n",
       " - ───── + γ⋅μ + γ⋅ρ⋅σ \n",
       "     2                 \n",
       "ℯ                      \n",
       "───────────────────────\n",
       "           β           "
      ]
     },
     "execution_count": 20,
     "metadata": {},
     "output_type": "execute_result"
    }
   ],
   "source": [
    "re = re.subs(z,X)\n",
    "print('Expected return of equity:')\n",
    "exp_re= E(re).simplify()\n",
    "exp_re"
   ]
  },
  {
   "cell_type": "code",
   "execution_count": 23,
   "metadata": {},
   "outputs": [
    {
     "name": "stdout",
     "output_type": "stream",
     "text": [
      "Log Expected Return\n"
     ]
    },
    {
     "data": {
      "image/png": "[encoded data removed]",
      "text/latex": [
       "$$\\frac{\\gamma}{2} \\left(- \\gamma \\sigma^{2} + 2 \\mu + 2 \\rho \\sigma^{2}\\right) - \\log{\\left (\\beta \\right )}$$"
      ],
      "text/plain": [
       "  ⎛     2              2⎞         \n",
       "γ⋅⎝- γ⋅σ  + 2⋅μ + 2⋅ρ⋅σ ⎠         \n",
       "───────────────────────── - log(β)\n",
       "            2                     "
      ]
     },
     "execution_count": 23,
     "metadata": {},
     "output_type": "execute_result"
    }
   ],
   "source": [
    "print('Log Expected Return')\n",
    "log(exp_re).simplify()"
   ]
  },
  {
   "cell_type": "markdown",
   "metadata": {},
   "source": [
    "indeed we have $log(E(X)) = E(log(X))+1/2var(log(X))$"
   ]
  },
  {
   "cell_type": "code",
   "execution_count": 21,
   "metadata": {
    "slideshow": {
     "slide_type": "fragment"
    }
   },
   "outputs": [
    {
     "name": "stdout",
     "output_type": "stream",
     "text": [
      "Risk Premium = E(re)-rf=\n"
     ]
    },
    {
     "data": {
      "image/png": "[encoded data removed]",
      "text/latex": [
       "$$\\frac{1}{\\beta} \\left(e^{\\gamma \\rho \\sigma^{2}} - 1\\right) e^{- \\frac{\\gamma^{2} \\sigma^{2}}{2} + \\gamma \\mu}$$"
      ],
      "text/plain": [
       "                  2  2      \n",
       "                 γ ⋅σ       \n",
       "⎛      2    ⎞  - ───── + γ⋅μ\n",
       "⎜ γ⋅ρ⋅σ     ⎟      2        \n",
       "⎝ℯ       - 1⎠⋅ℯ             \n",
       "────────────────────────────\n",
       "             β              "
      ]
     },
     "execution_count": 21,
     "metadata": {},
     "output_type": "execute_result"
    }
   ],
   "source": [
    "print('Risk Premium = E(re)-rf=')\n",
    "prem = exp_re - rf\n",
    "prem.simplify()"
   ]
  },
  {
   "cell_type": "markdown",
   "metadata": {
    "slideshow": {
     "slide_type": "fragment"
    }
   },
   "source": [
    "Since $e^x$ is always positive and $e^x>1$ if $x>0$, risk premium is always positive if $\\rho >0$, that is, dividend growth and comsumption growth are positively correlated.  "
   ]
  },
  {
   "cell_type": "code",
   "execution_count": 40,
   "metadata": {
    "slideshow": {
     "slide_type": "slide"
    }
   },
   "outputs": [
    {
     "name": "stdout",
     "output_type": "stream",
     "text": [
      "For some sensible parameters, RP is not big enough. Here is expected equity return when\n",
      "(beta, 0.99), (gamma, 3), (mu, 0.028), (sigma, 0.0184), (rho, 1):\n",
      "1.09805726523050\n",
      "notice that since Rf is high under these parameters, RP is still low\n"
     ]
    }
   ],
   "source": [
    "print('For some sensible parameters, RP is not big enough. Here is expected equity return when')\n",
    "print('(beta, 0.99), (gamma, 3), (mu, 0.028), (sigma, 0.0184), (rho, 1):')\n",
    "\n",
    "print(exp_re.subs([(beta, 0.99), (gamma, 3), (mu, 0.028), (sigma, 0.0184), (rho, 1)]))\n",
    "print('notice that since Rf is high under these parameters, RP is still low')"
   ]
  },
  {
   "cell_type": "code",
   "execution_count": 24,
   "metadata": {
    "slideshow": {
     "slide_type": "fragment"
    }
   },
   "outputs": [
    {
     "name": "stdout",
     "output_type": "stream",
     "text": [
      "for comparison, RP when (beta, 0.99), (gamma, 40), (mu, 0.028), (sigma, 0.0184), (rho, 1):\n"
     ]
    },
    {
     "data": {
      "image/png": "[encoded data removed]",
      "text/latex": [
       "$$0.0308124924533617$$"
      ],
      "text/plain": [
       "0.0308124924533617"
      ]
     },
     "execution_count": 24,
     "metadata": {},
     "output_type": "execute_result"
    }
   ],
   "source": [
    "print('for comparison, RP when (beta, 0.99), (gamma, 40), (mu, 0.028), (sigma, 0.0184), (rho, 1):')\n",
    "prem.subs([(beta, 0.99), (gamma, 40), (mu, 0.003), (sigma, 0.0084), (rho, 10)])"
   ]
  },
  {
   "cell_type": "code",
   "execution_count": 25,
   "metadata": {
    "slideshow": {
     "slide_type": "skip"
    }
   },
   "outputs": [
    {
     "name": "stdout",
     "output_type": "stream",
     "text": [
      "1.06231483730048\n"
     ]
    }
   ],
   "source": [
    "#import ipywidgets as widgets\n",
    "def findexpre(gam, rh=0.5):\n",
    "    print(exp_re.subs([(beta, 0.99), (gamma, gam), (mu, 0.028), (sigma, 0.0184), (rho, rh)]))\n",
    "interact(findexpre, gam=(1.1, 20), rh=(0, 2.5))"
   ]
  },
  {
   "cell_type": "code",
   "execution_count": 26,
   "metadata": {
    "slideshow": {
     "slide_type": "skip"
    }
   },
   "outputs": [
    {
     "name": "stdout",
     "output_type": "stream",
     "text": [
      "1.07925963515537\n"
     ]
    }
   ],
   "source": [
    "def findrf(gam):\n",
    "    print(rf.subs([(beta, 0.99), (gamma, gam), (mu, 0.028), (sigma, 0.0184)]))\n",
    "interact(findrf, gam=(1.1, 20))"
   ]
  },
  {
   "cell_type": "markdown",
   "metadata": {
    "slideshow": {
     "slide_type": "slide"
    }
   },
   "source": [
    "### Risk Neutral Probability"
   ]
  },
  {
   "cell_type": "code",
   "execution_count": 27,
   "metadata": {
    "slideshow": {
     "slide_type": "skip"
    }
   },
   "outputs": [
    {
     "data": {
      "image/png": "[encoded data removed]",
      "text/latex": [
       "$$\\frac{\\sqrt{2}}{2 \\sqrt{\\pi} \\sigma} e^{- \\frac{\\left(- \\mu + z\\right)^{2}}{2 \\sigma^{2}}}$$"
      ],
      "text/plain": [
       "                2 \n",
       "       -(-μ + z)  \n",
       "       ───────────\n",
       "              2   \n",
       "  ___      2⋅σ    \n",
       "╲╱ 2 ⋅ℯ           \n",
       "──────────────────\n",
       "        ___       \n",
       "    2⋅╲╱ π ⋅σ     "
      ]
     },
     "execution_count": 27,
     "metadata": {},
     "output_type": "execute_result"
    }
   ],
   "source": [
    "pdfz = density(X)(z)\n",
    "pdfz"
   ]
  },
  {
   "cell_type": "code",
   "execution_count": 28,
   "metadata": {
    "slideshow": {
     "slide_type": "skip"
    }
   },
   "outputs": [],
   "source": [
    "m0=m.subs(X, z)"
   ]
  },
  {
   "cell_type": "code",
   "execution_count": 29,
   "metadata": {
    "slideshow": {
     "slide_type": "fragment"
    }
   },
   "outputs": [
    {
     "name": "stdout",
     "output_type": "stream",
     "text": [
      "pi^* = pdf(z)*m/q1\n"
     ]
    },
    {
     "data": {
      "image/png": "[encoded data removed]",
      "text/latex": [
       "$$\\frac{\\sqrt{2}}{2 \\sqrt{\\pi} \\sigma} e^{- \\frac{\\gamma^{2} \\sigma^{2}}{2} + \\gamma \\mu - \\gamma z - \\frac{\\left(\\mu - z\\right)^{2}}{2 \\sigma^{2}}}$$"
      ],
      "text/plain": [
       "          2  2                      2\n",
       "         γ ⋅σ                (μ - z) \n",
       "       - ───── + γ⋅μ - γ⋅z - ────────\n",
       "           2                      2  \n",
       "  ___                          2⋅σ   \n",
       "╲╱ 2 ⋅ℯ                              \n",
       "─────────────────────────────────────\n",
       "                  ___                \n",
       "              2⋅╲╱ π ⋅σ              "
      ]
     },
     "execution_count": 29,
     "metadata": {},
     "output_type": "execute_result"
    }
   ],
   "source": [
    "print('pi^* = pdf(z)*m/q1')\n",
    "rn_p = pdfz*m0/q1\n",
    "rn_p.simplify()"
   ]
  },
  {
   "cell_type": "markdown",
   "metadata": {
    "slideshow": {
     "slide_type": "slide"
    }
   },
   "source": [
    "The risk neutral probability is $N(\\mu, \\sigma^2)$ with its mean shifted to $\\mu-\\gamma \\sigma^2$. To see this, you can just compare to the distribution function of $N(\\mu-\\gamma \\sigma^2, \\sigma^2)$"
   ]
  },
  {
   "cell_type": "code",
   "execution_count": 30,
   "metadata": {
    "slideshow": {
     "slide_type": "fragment"
    }
   },
   "outputs": [
    {
     "name": "stdout",
     "output_type": "stream",
     "text": [
      "to check, sub mu-gamma*sigma**2 as mu in normal pdf\n"
     ]
    },
    {
     "data": {
      "image/png": "[encoded data removed]",
      "text/latex": [
       "$$\\frac{\\sqrt{2}}{2 \\sqrt{\\pi} \\sigma} e^{- \\frac{1}{2 \\sigma^{2}} \\left(\\gamma \\sigma^{2} - \\mu + z\\right)^{2}}$$"
      ],
      "text/plain": [
       "                      2 \n",
       "        ⎛   2        ⎞  \n",
       "       -⎝γ⋅σ  - μ + z⎠  \n",
       "       ─────────────────\n",
       "                 2      \n",
       "  ___         2⋅σ       \n",
       "╲╱ 2 ⋅ℯ                 \n",
       "────────────────────────\n",
       "           ___          \n",
       "       2⋅╲╱ π ⋅σ        "
      ]
     },
     "execution_count": 30,
     "metadata": {},
     "output_type": "execute_result"
    }
   ],
   "source": [
    "print('to check, sub mu-gamma*sigma**2 as mu in normal pdf')\n",
    "Y = Normal(\"x\", mu-gamma*sigma**2, sigma)\n",
    "density(Y)(z)"
   ]
  },
  {
   "cell_type": "code",
   "execution_count": 31,
   "metadata": {
    "slideshow": {
     "slide_type": "fragment"
    }
   },
   "outputs": [
    {
     "name": "stdout",
     "output_type": "stream",
     "text": [
      "and notice the exponential part of pi^* can be simplified as\n"
     ]
    },
    {
     "data": {
      "image/png": "[encoded data removed]",
      "text/latex": [
       "$$- \\frac{1}{2 \\sigma^{2}} \\left(\\gamma \\sigma^{2} - \\mu + z\\right)^{2}$$"
      ],
      "text/plain": [
       "               2 \n",
       " ⎛   2        ⎞  \n",
       "-⎝γ⋅σ  - μ + z⎠  \n",
       "─────────────────\n",
       "          2      \n",
       "       2⋅σ       "
      ]
     },
     "execution_count": 31,
     "metadata": {},
     "output_type": "execute_result"
    }
   ],
   "source": [
    "print('and notice the exponential part of pi^* can be simplified as')\n",
    "factor(-gamma**2*sigma**2/2+gamma*mu-gamma*z-(mu-z)**2/(2*sigma**2))"
   ]
  },
  {
   "cell_type": "markdown",
   "metadata": {
    "slideshow": {
     "slide_type": "slide"
    }
   },
   "source": [
    "We see that risk neutal probability in this context is normal distribution with mean $\\mu-\\gamma\\sigma^2$ and same standard deviation of $\\sigma$. (No change in standard deviation is due to log-normal. In more general distributions, it can also change.)"
   ]
  },
  {
   "cell_type": "markdown",
   "metadata": {
    "slideshow": {
     "slide_type": "slide"
    }
   },
   "source": [
    "In our SDF pricing earlier, the effects of risk were captured by the pricing kernel $m=\\beta e^{-gamma z}<1$. Here the same effects are reflected in the difference between the true and risk-neutral probabilities. In the lognormal case, the change is in the mean: risk-neutral probabilities build in risk aversion by reducing the mean. "
   ]
  },
  {
   "cell_type": "markdown",
   "metadata": {
    "slideshow": {
     "slide_type": "slide"
    }
   },
   "source": [
    "We can decouple m with consumption, but how volatile sdf needs to be?\n",
    "$$E(R^{i})-R^{f}=-R^{f}cov(m,R^{i}) =-R^{f}\\rho \\sigma_{i}\\sigma_{m} $$"
   ]
  },
  {
   "cell_type": "code",
   "execution_count": 49,
   "metadata": {
    "slideshow": {
     "slide_type": "fragment"
    }
   },
   "outputs": [
    {
     "data": {
      "image/png": "[encoded data removed]",
      "text/latex": [
       "$$0.140021144789$$"
      ],
      "text/plain": [
       "0.140021144789"
      ]
     },
     "execution_count": 49,
     "metadata": {},
     "output_type": "execute_result"
    }
   ],
   "source": [
    "(0.06/1.01)/(0.18)**0.5"
   ]
  },
  {
   "cell_type": "markdown",
   "metadata": {
    "slideshow": {
     "slide_type": "slide"
    }
   },
   "source": [
    "discretize"
   ]
  },
  {
   "cell_type": "code",
   "execution_count": 126,
   "metadata": {
    "scrolled": false
   },
   "outputs": [
    {
     "data": {
      "text/plain": [
       "[<matplotlib.lines.Line2D at 0x11d2e3450>]"
      ]
     },
     "execution_count": 126,
     "metadata": {},
     "output_type": "execute_result"
    },
    {
     "data": {
      "image/png": "[encoded data removed]",
      "text/plain": [
       "<matplotlib.figure.Figure at 0x11d0c6b10>"
      ]
     },
     "metadata": {},
     "output_type": "display_data"
    }
   ],
   "source": [
    "import math\n",
    "z = np.linspace(-3, 3, 100)\n",
    "gamma1=-0.35\n",
    "gamma2=0.85\n",
    "# Gram-Charlier distribution\n",
    "p = np.exp(-z**2/2)*(1 + gamma1*(z**3-3*z)/6 + gamma2*(z**4-6*z**2+3)/24)*(1/2*np.math.sqrt(pi))\n",
    "logg = 0.028+0.018*z\n",
    "g=np.exp(logg)\n",
    "m = 0.98*g**(-2)\n",
    "q1 = p.dot(m)\n",
    "pstar = p*m/q1\n",
    "plt.plot(z,pstar)"
   ]
  },
  {
   "cell_type": "code",
   "execution_count": 125,
   "metadata": {},
   "outputs": [
    {
     "data": {
      "image/png": "[encoded data removed]",
      "text/latex": [
       "$$8.32667268469e-17$$"
      ],
      "text/plain": [
       "8.32667268469e-17"
      ]
     },
     "execution_count": 125,
     "metadata": {},
     "output_type": "execute_result"
    }
   ],
   "source": [
    "gamma1=0\n",
    "gamma2=0\n",
    "p = np.exp(-z**2/2)*(1 + gamma1*(z**3-3*z)/6 + gamma2*(z**4-6*z**2+3)/24)*(1/2*np.math.sqrt(pi))\n",
    "p.dot(z)"
   ]
  },
  {
   "cell_type": "code",
   "execution_count": null,
   "metadata": {
    "collapsed": true
   },
   "outputs": [],
   "source": []
  }
 ],
 "metadata": {
  "anaconda-cloud": {},
  "celltoolbar": "Slideshow",
  "hide_input": false,
  "kernelspec": {
   "display_name": "Python [default]",
   "language": "python",
   "name": "python2"
  },
  "language_info": {
   "codemirror_mode": {
    "name": "ipython",
    "version": 2
   },
   "file_extension": ".py",
   "mimetype": "text/x-python",
   "name": "python",
   "nbconvert_exporter": "python",
   "pygments_lexer": "ipython2",
   "version": "2.7.13"
  },
  "latex_envs": {
   "bibliofile": "biblio.bib",
   "cite_by": "apalike",
   "current_citInitial": 1,
   "eqLabelWithNumbers": true,
   "eqNumInitial": 0
  }
 },
 "nbformat": 4,
 "nbformat_minor": 1
}
