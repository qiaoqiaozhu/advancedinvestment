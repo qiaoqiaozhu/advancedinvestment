{
 "cells": [
  {
   "cell_type": "code",
   "execution_count": 1,
   "metadata": {
    "collapsed": true
   },
   "outputs": [],
   "source": [
    "from __future__ import division\n",
    "from __future__ import print_function\n",
    "import numpy as np\n",
    "from pandas import Series, DataFrame\n",
    "import pandas as pd\n",
    "import matplotlib.pyplot as plt\n",
    "%matplotlib inline\n",
    "import seaborn as sns\n",
    "\n",
    "import datetime\n",
    "plt.rc('figure', figsize=(16, 10))\n",
    "from numpy.linalg import inv\n",
    "from numpy import dot\n",
    "from IPython.display import Image"
   ]
  },
  {
   "cell_type": "code",
   "execution_count": 2,
   "metadata": {
    "collapsed": true
   },
   "outputs": [],
   "source": [
    "permnolist = [14593, 12490, 10107, 57665, 26403]\n",
    "msf = pd.read_csv('../datalib/msf92.csv')\n",
    "msf['date']=pd.to_datetime(msf.date) + pd.\n",
    "msf = msf.set_index('date')\n",
    "msf['PERMNO'] = msf['PERMNO'].astype('int')\n",
    "msf = msf[msf.PERMNO.isin(permnolist)]"
   ]
  },
  {
   "cell_type": "code",
   "execution_count": 104,
   "metadata": {},
   "outputs": [
    {
     "data": {
      "text/html": [
       "<div>\n",
       "<table border=\"1\" class=\"dataframe\">\n",
       "  <thead>\n",
       "    <tr style=\"text-align: right;\">\n",
       "      <th></th>\n",
       "      <th>mktrf</th>\n",
       "      <th>rf</th>\n",
       "    </tr>\n",
       "    <tr>\n",
       "      <th>date</th>\n",
       "      <th></th>\n",
       "      <th></th>\n",
       "    </tr>\n",
       "  </thead>\n",
       "  <tbody>\n",
       "    <tr>\n",
       "      <th>1994-01-31</th>\n",
       "      <td>0.0287</td>\n",
       "      <td>0.0025</td>\n",
       "    </tr>\n",
       "    <tr>\n",
       "      <th>1994-02-28</th>\n",
       "      <td>-0.0256</td>\n",
       "      <td>0.0021</td>\n",
       "    </tr>\n",
       "    <tr>\n",
       "      <th>1994-03-31</th>\n",
       "      <td>-0.0478</td>\n",
       "      <td>0.0027</td>\n",
       "    </tr>\n",
       "  </tbody>\n",
       "</table>\n",
       "</div>"
      ],
      "text/plain": [
       "             mktrf      rf\n",
       "date                      \n",
       "1994-01-31  0.0287  0.0025\n",
       "1994-02-28 -0.0256  0.0021\n",
       "1994-03-31 -0.0478  0.0027"
      ]
     },
     "execution_count": 104,
     "metadata": {},
     "output_type": "execute_result"
    }
   ],
   "source": [
    "df = pd.read_csv(\"../datalib/ff_factors.csv\")\n",
    "df['date']=pd.to_datetime(df.dateff.astype('str'))\n",
    "df = df.set_index('date')\n",
    "df = df[['mktrf', 'rf']]\n",
    "df = df['1994':'2015']\n",
    "df.head(3)"
   ]
  },
  {
   "cell_type": "code",
   "execution_count": 3,
   "metadata": {},
   "outputs": [
    {
     "data": {
      "text/html": [
       "<div>\n",
       "<style>\n",
       "    .dataframe thead tr:only-child th {\n",
       "        text-align: right;\n",
       "    }\n",
       "\n",
       "    .dataframe thead th {\n",
       "        text-align: left;\n",
       "    }\n",
       "\n",
       "    .dataframe tbody tr th {\n",
       "        vertical-align: top;\n",
       "    }\n",
       "</style>\n",
       "<table border=\"1\" class=\"dataframe\">\n",
       "  <thead>\n",
       "    <tr style=\"text-align: right;\">\n",
       "      <th></th>\n",
       "      <th>PERMNO</th>\n",
       "      <th>RET</th>\n",
       "    </tr>\n",
       "    <tr>\n",
       "      <th>date</th>\n",
       "      <th></th>\n",
       "      <th></th>\n",
       "    </tr>\n",
       "  </thead>\n",
       "  <tbody>\n",
       "    <tr>\n",
       "      <th>1992-01-31</th>\n",
       "      <td>10107</td>\n",
       "      <td>0.080899</td>\n",
       "    </tr>\n",
       "    <tr>\n",
       "      <th>1992-02-28</th>\n",
       "      <td>10107</td>\n",
       "      <td>0.027027</td>\n",
       "    </tr>\n",
       "    <tr>\n",
       "      <th>1992-03-31</th>\n",
       "      <td>10107</td>\n",
       "      <td>-0.040486</td>\n",
       "    </tr>\n",
       "    <tr>\n",
       "      <th>1992-04-30</th>\n",
       "      <td>10107</td>\n",
       "      <td>-0.069620</td>\n",
       "    </tr>\n",
       "    <tr>\n",
       "      <th>1992-05-29</th>\n",
       "      <td>10107</td>\n",
       "      <td>0.097506</td>\n",
       "    </tr>\n",
       "  </tbody>\n",
       "</table>\n",
       "</div>"
      ],
      "text/plain": [
       "            PERMNO       RET\n",
       "date                        \n",
       "1992-01-31   10107  0.080899\n",
       "1992-02-28   10107  0.027027\n",
       "1992-03-31   10107 -0.040486\n",
       "1992-04-30   10107 -0.069620\n",
       "1992-05-29   10107  0.097506"
      ]
     },
     "execution_count": 3,
     "metadata": {},
     "output_type": "execute_result"
    }
   ],
   "source": [
    "msf.head()"
   ]
  },
  {
   "cell_type": "code",
   "execution_count": null,
   "metadata": {
    "collapsed": true
   },
   "outputs": [],
   "source": []
  },
  {
   "cell_type": "code",
   "execution_count": 105,
   "metadata": {},
   "outputs": [],
   "source": [
    "msf = msf.join(df).dropna()\n",
    "msf.head(3)"
   ]
  },
  {
   "cell_type": "code",
   "execution_count": null,
   "metadata": {
    "collapsed": true
   },
   "outputs": [],
   "source": [
    "msf[['PERMNO', 'RET', 'rf']].sort_values('PERMNO').to_csv('asgn1.csv')"
   ]
  },
  {
   "cell_type": "code",
   "execution_count": 106,
   "metadata": {
    "collapsed": true
   },
   "outputs": [],
   "source": [
    "investmonth = pd.datetime(1997, 1, 31)"
   ]
  },
  {
   "cell_type": "code",
   "execution_count": 107,
   "metadata": {},
   "outputs": [
    {
     "data": {
      "text/plain": [
       "DatetimeIndex(['1994-02-28', '1994-03-31', '1994-04-30', '1994-05-31',\n",
       "               '1994-06-30', '1994-07-31', '1994-08-31', '1994-09-30',\n",
       "               '1994-10-31', '1994-11-30', '1994-12-31', '1995-01-31',\n",
       "               '1995-02-28', '1995-03-31', '1995-04-30', '1995-05-31',\n",
       "               '1995-06-30', '1995-07-31', '1995-08-31', '1995-09-30',\n",
       "               '1995-10-31', '1995-11-30', '1995-12-31', '1996-01-31',\n",
       "               '1996-02-29', '1996-03-31', '1996-04-30', '1996-05-31',\n",
       "               '1996-06-30', '1996-07-31', '1996-08-31', '1996-09-30',\n",
       "               '1996-10-31', '1996-11-30', '1996-12-31', '1997-01-31'],\n",
       "              dtype='datetime64[ns]', freq='M')"
      ]
     },
     "execution_count": 107,
     "metadata": {},
     "output_type": "execute_result"
    }
   ],
   "source": [
    "mrange = pd.date_range(end=investmonth, periods=36, freq='M')\n",
    "mrange"
   ]
  },
  {
   "cell_type": "code",
   "execution_count": 113,
   "metadata": {},
   "outputs": [],
   "source": [
    "mrangeret = msf.loc[msf.index.isin(mrange), ['PERMNO', 'RET']]\n",
    "rbar =mrangeret.groupby('PERMNO')['RET'].mean().as_matrix()\n",
    "cov = mrangeret.reset_index().set_index(['PERMNO', 'date']).unstack('PERMNO').cov().as_matrix()"
   ]
  },
  {
   "cell_type": "code",
   "execution_count": 118,
   "metadata": {},
   "outputs": [
    {
     "data": {
      "text/plain": [
       "array([[ 0.00568656,  0.00195596, -0.00106025,  0.0003364 ,  0.00201006],\n",
       "       [ 0.00195596,  0.00464513, -0.00013526,  0.00086203, -0.00011306],\n",
       "       [-0.00106025, -0.00013526,  0.0108573 , -0.00041829, -0.00076439],\n",
       "       [ 0.0003364 ,  0.00086203, -0.00041829,  0.0037554 ,  0.00036651],\n",
       "       [ 0.00201006, -0.00011306, -0.00076439,  0.00036651,  0.00319383]])"
      ]
     },
     "execution_count": 118,
     "metadata": {},
     "output_type": "execute_result"
    }
   ],
   "source": [
    "cov"
   ]
  },
  {
   "cell_type": "code",
   "execution_count": 123,
   "metadata": {
    "collapsed": true
   },
   "outputs": [],
   "source": [
    "def meanvar(mu, rbar=rbar, cov=cov):\n",
    "    ones = np.ones(rbar.shape)\n",
    "    A = rbar.T.dot(inv(cov)).dot(rbar)\n",
    "    B = rbar.T.dot(inv(cov)).dot(ones)\n",
    "    C = ones.T.dot(inv(cov)).dot(ones)\n",
    "    omega = (C*mu-B)/(A*C-B**2)*dot(inv(cov), rbar) + (A-B*mu)/(A*C-B**2)*dot(inv(cov), ones)\n",
    "    sigmahut = np.sqrt(omega.transpose().dot(cov).dot(omega))\n",
    "    rp = omega.T.dot(rbar)\n",
    "    return omega, sigmahut, rp"
   ]
  },
  {
   "cell_type": "code",
   "execution_count": 144,
   "metadata": {
    "collapsed": true
   },
   "outputs": [],
   "source": [
    "def hutmusigma(w):\n",
    "    hutsigma = np.sqrt(w.transpose().dot(cov).dot(w))\n",
    "    hutmu = w.T.dot(rbar)\n",
    "    return hutmu, hutsigma"
   ]
  },
  {
   "cell_type": "code",
   "execution_count": 145,
   "metadata": {},
   "outputs": [
    {
     "data": {
      "text/plain": [
       "(array([ 0.08459457,  0.28160583,  0.07434323,  0.10916773,  0.45028863]),\n",
       " 0.037380975567164798,\n",
       " 0.030000000000000006)"
      ]
     },
     "execution_count": 145,
     "metadata": {},
     "output_type": "execute_result"
    }
   ],
   "source": [
    "meanvar(0.03, rbar=rbar, cov=cov)"
   ]
  },
  {
   "cell_type": "code",
   "execution_count": 150,
   "metadata": {},
   "outputs": [],
   "source": [
    "alloc1 = meanvar(0.03, rbar=rbar, cov=cov)[0]\n",
    "r1 = hutmusigma(alloc1)[0]\n",
    "s1 = hutmusigma(alloc1)[1]"
   ]
  },
  {
   "cell_type": "code",
   "execution_count": 151,
   "metadata": {},
   "outputs": [],
   "source": [
    "alloc2 = meanvar(0.04, rbar=rbar, cov=cov)[0]\n",
    "r2 = hutmusigma(alloc2)[0]\n",
    "s2 = hutmusigma(alloc2)[1]"
   ]
  },
  {
   "cell_type": "code",
   "execution_count": 152,
   "metadata": {},
   "outputs": [],
   "source": [
    "alloc3 = 0.3*alloc1 + 0.7*alloc2"
   ]
  },
  {
   "cell_type": "code",
   "execution_count": 153,
   "metadata": {
    "collapsed": true
   },
   "outputs": [],
   "source": [
    "r3 = hutmusigma(alloc3)[0]\n",
    "s3 = hutmusigma(alloc3)[1]"
   ]
  },
  {
   "cell_type": "code",
   "execution_count": 155,
   "metadata": {},
   "outputs": [
    {
     "data": {
      "image/png": "[encoded data removed]",
      "text/plain": [
       "<matplotlib.figure.Figure at 0x117ff1e48>"
      ]
     },
     "metadata": {},
     "output_type": "display_data"
    }
   ],
   "source": [
    "mus = np.linspace(0.001, 0.06, 100)\n",
    "sigmas =[]\n",
    "for m in mus:\n",
    "    sm = meanvar(m)[1]\n",
    "    sigmas.append(sm)\n",
    "\n",
    "fig, ax = plt.subplots()\n",
    "plt.plot(sigmas, mus, label='Mean Variance Frontier')\n",
    "plt.xlabel(r'$\\sigma (R)$')\n",
    "plt.ylabel(r'$E(R)$')\n",
    "plt.title('Mean Variance Frontier')\n",
    "ax.plot(s1, r1, 'or')\n",
    "ax.text(s1, r1, 'allocation 1')\n",
    "ax.plot(s2, r2, 'or')\n",
    "ax.text(s2, r2, 'allocation 2')\n",
    "ax.plot(s3, r3, 'or')\n",
    "ax.text(s3, r3, 'allocation 3')\n",
    "plt.show()"
   ]
  },
  {
   "cell_type": "code",
   "execution_count": null,
   "metadata": {
    "collapsed": true
   },
   "outputs": [],
   "source": []
  },
  {
   "cell_type": "code",
   "execution_count": 159,
   "metadata": {},
   "outputs": [],
   "source": []
  },
  {
   "cell_type": "code",
   "execution_count": null,
   "metadata": {
    "collapsed": true
   },
   "outputs": [],
   "source": []
  },
  {
   "cell_type": "code",
   "execution_count": null,
   "metadata": {
    "collapsed": true
   },
   "outputs": [],
   "source": []
  },
  {
   "cell_type": "code",
   "execution_count": null,
   "metadata": {
    "collapsed": true
   },
   "outputs": [],
   "source": []
  },
  {
   "cell_type": "code",
   "execution_count": 82,
   "metadata": {
    "collapsed": true
   },
   "outputs": [],
   "source": [
    "start = pd.datetime(1997, 1, 31)\n",
    "end = pd.datetime(2011, 1, 1)"
   ]
  },
  {
   "cell_type": "code",
   "execution_count": 83,
   "metadata": {},
   "outputs": [
    {
     "data": {
      "text/plain": [
       "DatetimeIndex(['1997-01-31', '1997-02-28', '1997-03-31', '1997-04-30',\n",
       "               '1997-05-31', '1997-06-30', '1997-07-31', '1997-08-31',\n",
       "               '1997-09-30', '1997-10-31',\n",
       "               ...\n",
       "               '2010-03-31', '2010-04-30', '2010-05-31', '2010-06-30',\n",
       "               '2010-07-31', '2010-08-31', '2010-09-30', '2010-10-31',\n",
       "               '2010-11-30', '2010-12-31'],\n",
       "              dtype='datetime64[ns]', length=168, freq='M')"
      ]
     },
     "execution_count": 83,
     "metadata": {},
     "output_type": "execute_result"
    }
   ],
   "source": [
    "pd.date_range(start=start, end=end, freq='M')"
   ]
  },
  {
   "cell_type": "code",
   "execution_count": 84,
   "metadata": {},
   "outputs": [
    {
     "data": {
      "text/plain": [
       "DatetimeIndex(['2008-01-31', '2008-02-29', '2008-03-31', '2008-04-30',\n",
       "               '2008-05-31', '2008-06-30', '2008-07-31', '2008-08-31',\n",
       "               '2008-09-30', '2008-10-31', '2008-11-30', '2008-12-31',\n",
       "               '2009-01-31', '2009-02-28', '2009-03-31', '2009-04-30',\n",
       "               '2009-05-31', '2009-06-30', '2009-07-31', '2009-08-31',\n",
       "               '2009-09-30', '2009-10-31', '2009-11-30', '2009-12-31',\n",
       "               '2010-01-31', '2010-02-28', '2010-03-31', '2010-04-30',\n",
       "               '2010-05-31', '2010-06-30', '2010-07-31', '2010-08-31',\n",
       "               '2010-09-30', '2010-10-31', '2010-11-30', '2010-12-31'],\n",
       "              dtype='datetime64[ns]', freq='M')"
      ]
     },
     "execution_count": 84,
     "metadata": {},
     "output_type": "execute_result"
    }
   ],
   "source": [
    "mrange = pd.date_range(end=end, periods=36, freq='M')\n",
    "mrange"
   ]
  },
  {
   "cell_type": "code",
   "execution_count": 38,
   "metadata": {},
   "outputs": [
    {
     "data": {
      "text/html": [
       "<div>\n",
       "<style>\n",
       "    .dataframe thead tr:only-child th {\n",
       "        text-align: right;\n",
       "    }\n",
       "\n",
       "    .dataframe thead th {\n",
       "        text-align: left;\n",
       "    }\n",
       "\n",
       "    .dataframe tbody tr th {\n",
       "        vertical-align: top;\n",
       "    }\n",
       "</style>\n",
       "<table border=\"1\" class=\"dataframe\">\n",
       "  <thead>\n",
       "    <tr style=\"text-align: right;\">\n",
       "      <th></th>\n",
       "      <th>mktrf</th>\n",
       "      <th>rf</th>\n",
       "    </tr>\n",
       "    <tr>\n",
       "      <th>Date</th>\n",
       "      <th></th>\n",
       "      <th></th>\n",
       "    </tr>\n",
       "  </thead>\n",
       "  <tbody>\n",
       "    <tr>\n",
       "      <th>2008-01-31</th>\n",
       "      <td>-0.0636</td>\n",
       "      <td>0.0021</td>\n",
       "    </tr>\n",
       "    <tr>\n",
       "      <th>2008-02-29</th>\n",
       "      <td>-0.0309</td>\n",
       "      <td>0.0013</td>\n",
       "    </tr>\n",
       "    <tr>\n",
       "      <th>2008-03-31</th>\n",
       "      <td>-0.0093</td>\n",
       "      <td>0.0017</td>\n",
       "    </tr>\n",
       "    <tr>\n",
       "      <th>2008-04-30</th>\n",
       "      <td>0.0460</td>\n",
       "      <td>0.0018</td>\n",
       "    </tr>\n",
       "    <tr>\n",
       "      <th>2008-06-30</th>\n",
       "      <td>-0.0844</td>\n",
       "      <td>0.0017</td>\n",
       "    </tr>\n",
       "    <tr>\n",
       "      <th>2008-07-31</th>\n",
       "      <td>-0.0077</td>\n",
       "      <td>0.0015</td>\n",
       "    </tr>\n",
       "    <tr>\n",
       "      <th>2008-09-30</th>\n",
       "      <td>-0.0924</td>\n",
       "      <td>0.0015</td>\n",
       "    </tr>\n",
       "    <tr>\n",
       "      <th>2008-10-31</th>\n",
       "      <td>-0.1723</td>\n",
       "      <td>0.0008</td>\n",
       "    </tr>\n",
       "    <tr>\n",
       "      <th>2008-12-31</th>\n",
       "      <td>0.0174</td>\n",
       "      <td>0.0000</td>\n",
       "    </tr>\n",
       "    <tr>\n",
       "      <th>2009-03-31</th>\n",
       "      <td>0.0895</td>\n",
       "      <td>0.0002</td>\n",
       "    </tr>\n",
       "    <tr>\n",
       "      <th>2009-04-30</th>\n",
       "      <td>0.1019</td>\n",
       "      <td>0.0001</td>\n",
       "    </tr>\n",
       "    <tr>\n",
       "      <th>2009-06-30</th>\n",
       "      <td>0.0043</td>\n",
       "      <td>0.0001</td>\n",
       "    </tr>\n",
       "    <tr>\n",
       "      <th>2009-07-31</th>\n",
       "      <td>0.0772</td>\n",
       "      <td>0.0001</td>\n",
       "    </tr>\n",
       "    <tr>\n",
       "      <th>2009-08-31</th>\n",
       "      <td>0.0333</td>\n",
       "      <td>0.0001</td>\n",
       "    </tr>\n",
       "    <tr>\n",
       "      <th>2009-09-30</th>\n",
       "      <td>0.0408</td>\n",
       "      <td>0.0001</td>\n",
       "    </tr>\n",
       "    <tr>\n",
       "      <th>2009-11-30</th>\n",
       "      <td>0.0556</td>\n",
       "      <td>0.0000</td>\n",
       "    </tr>\n",
       "    <tr>\n",
       "      <th>2009-12-31</th>\n",
       "      <td>0.0275</td>\n",
       "      <td>0.0001</td>\n",
       "    </tr>\n",
       "    <tr>\n",
       "      <th>2010-03-31</th>\n",
       "      <td>0.0631</td>\n",
       "      <td>0.0001</td>\n",
       "    </tr>\n",
       "    <tr>\n",
       "      <th>2010-04-30</th>\n",
       "      <td>0.0200</td>\n",
       "      <td>0.0001</td>\n",
       "    </tr>\n",
       "    <tr>\n",
       "      <th>2010-06-30</th>\n",
       "      <td>-0.0556</td>\n",
       "      <td>0.0001</td>\n",
       "    </tr>\n",
       "    <tr>\n",
       "      <th>2010-08-31</th>\n",
       "      <td>-0.0477</td>\n",
       "      <td>0.0001</td>\n",
       "    </tr>\n",
       "    <tr>\n",
       "      <th>2010-09-30</th>\n",
       "      <td>0.0954</td>\n",
       "      <td>0.0001</td>\n",
       "    </tr>\n",
       "    <tr>\n",
       "      <th>2010-11-30</th>\n",
       "      <td>0.0060</td>\n",
       "      <td>0.0001</td>\n",
       "    </tr>\n",
       "    <tr>\n",
       "      <th>2010-12-31</th>\n",
       "      <td>0.0682</td>\n",
       "      <td>0.0001</td>\n",
       "    </tr>\n",
       "  </tbody>\n",
       "</table>\n",
       "</div>"
      ],
      "text/plain": [
       "             mktrf      rf\n",
       "Date                      \n",
       "2008-01-31 -0.0636  0.0021\n",
       "2008-02-29 -0.0309  0.0013\n",
       "2008-03-31 -0.0093  0.0017\n",
       "2008-04-30  0.0460  0.0018\n",
       "2008-06-30 -0.0844  0.0017\n",
       "2008-07-31 -0.0077  0.0015\n",
       "2008-09-30 -0.0924  0.0015\n",
       "2008-10-31 -0.1723  0.0008\n",
       "2008-12-31  0.0174  0.0000\n",
       "2009-03-31  0.0895  0.0002\n",
       "2009-04-30  0.1019  0.0001\n",
       "2009-06-30  0.0043  0.0001\n",
       "2009-07-31  0.0772  0.0001\n",
       "2009-08-31  0.0333  0.0001\n",
       "2009-09-30  0.0408  0.0001\n",
       "2009-11-30  0.0556  0.0000\n",
       "2009-12-31  0.0275  0.0001\n",
       "2010-03-31  0.0631  0.0001\n",
       "2010-04-30  0.0200  0.0001\n",
       "2010-06-30 -0.0556  0.0001\n",
       "2010-08-31 -0.0477  0.0001\n",
       "2010-09-30  0.0954  0.0001\n",
       "2010-11-30  0.0060  0.0001\n",
       "2010-12-31  0.0682  0.0001"
      ]
     },
     "execution_count": 38,
     "metadata": {},
     "output_type": "execute_result"
    }
   ],
   "source": [
    "df[df.index.isin(mrange)]"
   ]
  },
  {
   "cell_type": "code",
   "execution_count": null,
   "metadata": {
    "collapsed": true
   },
   "outputs": [],
   "source": []
  },
  {
   "cell_type": "code",
   "execution_count": null,
   "metadata": {
    "collapsed": true
   },
   "outputs": [],
   "source": []
  },
  {
   "cell_type": "code",
   "execution_count": null,
   "metadata": {
    "collapsed": true
   },
   "outputs": [],
   "source": []
  },
  {
   "cell_type": "code",
   "execution_count": 10,
   "metadata": {},
   "outputs": [
    {
     "data": {
      "text/html": [
       "<div>\n",
       "<style>\n",
       "    .dataframe thead tr:only-child th {\n",
       "        text-align: right;\n",
       "    }\n",
       "\n",
       "    .dataframe thead th {\n",
       "        text-align: left;\n",
       "    }\n",
       "\n",
       "    .dataframe tbody tr th {\n",
       "        vertical-align: top;\n",
       "    }\n",
       "</style>\n",
       "<table border=\"1\" class=\"dataframe\">\n",
       "  <thead>\n",
       "    <tr style=\"text-align: right;\">\n",
       "      <th></th>\n",
       "      <th>PERMNO</th>\n",
       "      <th>RET</th>\n",
       "    </tr>\n",
       "    <tr>\n",
       "      <th>date</th>\n",
       "      <th></th>\n",
       "      <th></th>\n",
       "    </tr>\n",
       "  </thead>\n",
       "  <tbody>\n",
       "    <tr>\n",
       "      <th>1997-03-31</th>\n",
       "      <td>10107</td>\n",
       "      <td>-0.059615</td>\n",
       "    </tr>\n",
       "    <tr>\n",
       "      <th>1997-04-30</th>\n",
       "      <td>10107</td>\n",
       "      <td>0.325153</td>\n",
       "    </tr>\n",
       "    <tr>\n",
       "      <th>1997-05-30</th>\n",
       "      <td>10107</td>\n",
       "      <td>0.020576</td>\n",
       "    </tr>\n",
       "  </tbody>\n",
       "</table>\n",
       "</div>"
      ],
      "text/plain": [
       "            PERMNO       RET\n",
       "date                        \n",
       "1997-03-31   10107 -0.059615\n",
       "1997-04-30   10107  0.325153\n",
       "1997-05-30   10107  0.020576"
      ]
     },
     "execution_count": 10,
     "metadata": {},
     "output_type": "execute_result"
    }
   ],
   "source": [
    "msf1 = msf['1997-03-31':'2001-02-28']\n",
    "msf1.head(3)"
   ]
  },
  {
   "cell_type": "code",
   "execution_count": 71,
   "metadata": {},
   "outputs": [
    {
     "data": {
      "text/plain": [
       "0.004186111111111111"
      ]
     },
     "execution_count": 71,
     "metadata": {},
     "output_type": "execute_result"
    }
   ],
   "source": [
    "df['1998':'2000'].rf.mean()"
   ]
  },
  {
   "cell_type": "code",
   "execution_count": 11,
   "metadata": {},
   "outputs": [
    {
     "name": "stdout",
     "output_type": "stream",
     "text": [
      "[[ 0.03007748]\n",
      " [ 0.02734687]\n",
      " [ 0.03855904]\n",
      " [ 0.00950101]\n",
      " [-0.00171863]]\n"
     ]
    }
   ],
   "source": [
    "rbar = msf1.groupby('PERMNO').mean().as_matrix()\n",
    "print(rbar)\n",
    "cov = msf1.reset_index().set_index(['PERMNO', 'date']).unstack('PERMNO').cov().as_matrix()"
   ]
  },
  {
   "cell_type": "code",
   "execution_count": 7,
   "metadata": {
    "collapsed": true
   },
   "outputs": [],
   "source": [
    "def meanvar_rf(rf, mu, rbar=rbar, cov=cov):\n",
    "    ones = np.ones(rbar.shape)\n",
    "    w = inv(cov).dot(rbar-rf*ones)/ones.T.dot(inv(cov)).dot(rbar-rf*ones)\n",
    "    return w"
   ]
  },
  {
   "cell_type": "code",
   "execution_count": 8,
   "metadata": {},
   "outputs": [
    {
     "data": {
      "text/plain": [
       "array([[ 0.15239144],\n",
       "       [ 0.74905067],\n",
       "       [ 0.21460426],\n",
       "       [-0.06118855],\n",
       "       [-0.05485783]])"
      ]
     },
     "execution_count": 8,
     "metadata": {},
     "output_type": "execute_result"
    }
   ],
   "source": [
    "mvalloc = meanvar_rf(0.0042, 0.02, rbar=rbar, cov=cov)\n",
    "mvalloc"
   ]
  },
  {
   "cell_type": "code",
   "execution_count": 67,
   "metadata": {
    "collapsed": true
   },
   "outputs": [],
   "source": [
    "msf2mean = msf['2001':'2005'].groupby('PERMNO').mean()"
   ]
  },
  {
   "cell_type": "code",
   "execution_count": 68,
   "metadata": {},
   "outputs": [
    {
     "data": {
      "text/plain": [
       "RET    0.014576\n",
       "dtype: float64"
      ]
     },
     "execution_count": 68,
     "metadata": {},
     "output_type": "execute_result"
    }
   ],
   "source": [
    "msf2mean.mean()"
   ]
  },
  {
   "cell_type": "code",
   "execution_count": 57,
   "metadata": {},
   "outputs": [
    {
     "data": {
      "text/plain": [
       "array([[ 0.00519672]])"
      ]
     },
     "execution_count": 57,
     "metadata": {},
     "output_type": "execute_result"
    }
   ],
   "source": [
    "mvalloc.T.dot(msf2mean)"
   ]
  },
  {
   "cell_type": "code",
   "execution_count": 29,
   "metadata": {
    "collapsed": true
   },
   "outputs": [],
   "source": [
    "msf2 = msf['1991':'2005'].copy()\n",
    "msf2['cumret'] = msf2.groupby('PERMNO')['RET'].apply(lambda x: (1+x).cumprod())"
   ]
  },
  {
   "cell_type": "code",
   "execution_count": 33,
   "metadata": {},
   "outputs": [
    {
     "data": {
      "text/plain": [
       "RET      -0.015441\n",
       "cumret    6.212408\n",
       "dtype: float64"
      ]
     },
     "execution_count": 33,
     "metadata": {},
     "output_type": "execute_result"
    }
   ],
   "source": [
    "msf2.groupby('PERMNO').last().mean()"
   ]
  },
  {
   "cell_type": "code",
   "execution_count": 34,
   "metadata": {},
   "outputs": [
    {
     "data": {
      "text/plain": [
       "array([[-0.10134341,  9.9882521 ]])"
      ]
     },
     "execution_count": 34,
     "metadata": {},
     "output_type": "execute_result"
    }
   ],
   "source": [
    "mvalloc.T.dot(msf2.groupby('PERMNO').last())"
   ]
  },
  {
   "cell_type": "code",
   "execution_count": 80,
   "metadata": {},
   "outputs": [
    {
     "data": {
      "text/plain": [
       "date\n",
       "2001-02-28   -0.033777\n",
       "2001-02-28   -0.106875\n",
       "2001-02-28   -0.156069\n",
       "2001-02-28    0.016420\n",
       "2001-02-28   -0.290258\n",
       "Name: RET, dtype: float64"
      ]
     },
     "execution_count": 80,
     "metadata": {},
     "output_type": "execute_result"
    }
   ],
   "source": [
    "msf.loc['2001-02-28', 'RET']"
   ]
  },
  {
   "cell_type": "code",
   "execution_count": 75,
   "metadata": {},
   "outputs": [
    {
     "name": "stdout",
     "output_type": "stream",
     "text": [
      "[ 0.36867563]\n",
      "0.24345561713\n"
     ]
    }
   ],
   "source": [
    "m = msf.loc['2001-1-31', 'RET'].as_matrix()\n",
    "print(mvalloc.T.dot(m))\n",
    "print(m.mean())"
   ]
  },
  {
   "cell_type": "code",
   "execution_count": 13,
   "metadata": {},
   "outputs": [
    {
     "name": "stdout",
     "output_type": "stream",
     "text": [
      "[ 0.00825872]\n",
      "0.0129081852734\n"
     ]
    }
   ],
   "source": [
    "m = msf.loc['2001-03-30', 'RET'].as_matrix()\n",
    "print(mvalloc.T.dot(m))\n",
    "print(m.mean())"
   ]
  },
  {
   "cell_type": "code",
   "execution_count": null,
   "metadata": {
    "collapsed": true
   },
   "outputs": [],
   "source": []
  }
 ],
 "metadata": {
  "anaconda-cloud": {},
  "kernelspec": {
   "display_name": "Python [conda root]",
   "language": "python",
   "name": "conda-root-py"
  },
  "language_info": {
   "codemirror_mode": {
    "name": "ipython",
    "version": 2
   },
   "file_extension": ".py",
   "mimetype": "text/x-python",
   "name": "python",
   "nbconvert_exporter": "python",
   "pygments_lexer": "ipython2",
   "version": "2.7.13"
  }
 },
 "nbformat": 4,
 "nbformat_minor": 1
}
