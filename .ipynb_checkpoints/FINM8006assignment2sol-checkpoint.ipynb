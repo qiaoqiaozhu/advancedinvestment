{
 "cells": [
  {
   "cell_type": "code",
   "execution_count": 2,
   "metadata": {},
   "outputs": [],
   "source": [
    "from __future__ import division\n",
    "from __future__ import print_function\n",
    "import numpy as np\n",
    "from pandas import Series, DataFrame\n",
    "from pandas.tseries.offsets import MonthEnd\n",
    "import pandas as pd\n",
    "import matplotlib.pyplot as plt\n",
    "%matplotlib inline\n",
    "import seaborn as sns\n",
    "import statsmodels.api as sm\n",
    "import statsmodels.formula.api as smf\n",
    "from scipy.stats import ttest_1samp\n",
    "\n",
    "import datetime\n",
    "plt.rc('figure', figsize=(16, 10))\n",
    "from numpy.linalg import inv\n",
    "from numpy import dot\n",
    "import re"
   ]
  },
  {
   "cell_type": "markdown",
   "metadata": {},
   "source": [
    "# FINM 8006 Assignment 2"
   ]
  },
  {
   "cell_type": "markdown",
   "metadata": {},
   "source": [
    "## Instructions"
   ]
  },
  {
   "cell_type": "markdown",
   "metadata": {},
   "source": [
    "* You have the option of completing your assignment directly in this notebook. You should have Jupyter (conda install jupyter) installed if you want to use this. \n",
    "* You can alternatively write your answers in the editor of your choosing (Words, etc.), and run your code in Python or R in a separate file. \n",
    "* If you want to use R, I suggest you use R studio and [R Markdown](http://rmarkdown.rstudio.com)\n",
    "* Some parts contains hints in code, you don't neccesary need to follow the exact hint. If you want to follow the hint, change the cell type to code cell, and complete the code. "
   ]
  },
  {
   "cell_type": "markdown",
   "metadata": {},
   "source": [
    "### Quick Jupyter notebook\n",
    "* You can add or delete cell as you go\n",
    "* Cells can be a [Markdown](https://github.com/adam-p/markdown-here/wiki/Markdown-Cheatsheet#html) cell in which you write your texts and maths. Your math can be typed in [latex symbols](https://oeis.org/wiki/List_of_LaTeX_mathematical_symbols) using `$$ math $$` in a markdown cell. \n",
    "* Default cells are code cells in which you run your python code. \n",
    "* When you are ready to run a (markdown or code) cell, press RETURN + SHIFT at the same time to run the cell.  \n",
    "* Jupyter uses Ipython, so that your codes can be run cell by cell. "
   ]
  },
  {
   "cell_type": "markdown",
   "metadata": {},
   "source": [
    "## Set up and Questions"
   ]
  },
  {
   "cell_type": "markdown",
   "metadata": {},
   "source": [
    "### Asset Pricing in Chinese Markets\n",
    "\n",
    "Many have commented that the Chinese stock market is very different from the more mature markets. In this assignment, you will explore some aspects of the asset pricing in Chinese markets."
   ]
  },
  {
   "cell_type": "markdown",
   "metadata": {},
   "source": [
    "#### Loading data\n",
    "\n",
    "You are given three data sets from year 2000: 'csmar_be.csv' has the December book value (BE) of firms (STKCD). 'csmarstk0016.csv' has monthly market value (ME) and return (ret) information of individual stocks. Data is cleaned to exclude micro stoks and penny stocks. 'csmarmktretrf.csv' has market and risk free returns. Market return here is proxied by returns on the SSE. "
   ]
  },
  {
   "cell_type": "code",
   "execution_count": 6,
   "metadata": {},
   "outputs": [
    {
     "data": {
      "text/html": [
       "<div>\n",
       "<style>\n",
       "    .dataframe thead tr:only-child th {\n",
       "        text-align: right;\n",
       "    }\n",
       "\n",
       "    .dataframe thead th {\n",
       "        text-align: left;\n",
       "    }\n",
       "\n",
       "    .dataframe tbody tr th {\n",
       "        vertical-align: top;\n",
       "    }\n",
       "</style>\n",
       "<table border=\"1\" class=\"dataframe\">\n",
       "  <thead>\n",
       "    <tr style=\"text-align: right;\">\n",
       "      <th></th>\n",
       "      <th>STKCD</th>\n",
       "      <th>date</th>\n",
       "      <th>BE</th>\n",
       "    </tr>\n",
       "  </thead>\n",
       "  <tbody>\n",
       "    <tr>\n",
       "      <th>0</th>\n",
       "      <td>1</td>\n",
       "      <td>1999-12-31</td>\n",
       "      <td>2.900831e+09</td>\n",
       "    </tr>\n",
       "    <tr>\n",
       "      <th>1</th>\n",
       "      <td>1</td>\n",
       "      <td>2000-12-31</td>\n",
       "      <td>4.738884e+09</td>\n",
       "    </tr>\n",
       "    <tr>\n",
       "      <th>2</th>\n",
       "      <td>1</td>\n",
       "      <td>2001-12-31</td>\n",
       "      <td>3.627669e+09</td>\n",
       "    </tr>\n",
       "  </tbody>\n",
       "</table>\n",
       "</div>"
      ],
      "text/plain": [
       "   STKCD       date            BE\n",
       "0      1 1999-12-31  2.900831e+09\n",
       "1      1 2000-12-31  4.738884e+09\n",
       "2      1 2001-12-31  3.627669e+09"
      ]
     },
     "execution_count": 6,
     "metadata": {},
     "output_type": "execute_result"
    }
   ],
   "source": [
    "# December Book Equity where BE >0\n",
    "decbe = pd.read_csv('csmar_be.csv')\n",
    "decbe.date = pd.to_datetime(decbe.date.astype('str'), format='%Y-%m-%d') \n",
    "decbe = decbe.sort_values([\"STKCD\", 'date', 'BE'])\n",
    "decbe = decbe.groupby(['STKCD', 'date']).last().reset_index()\n",
    "decbe.head(3)"
   ]
  },
  {
   "cell_type": "code",
   "execution_count": 7,
   "metadata": {},
   "outputs": [
    {
     "data": {
      "text/html": [
       "<div>\n",
       "<style>\n",
       "    .dataframe thead tr:only-child th {\n",
       "        text-align: right;\n",
       "    }\n",
       "\n",
       "    .dataframe thead th {\n",
       "        text-align: left;\n",
       "    }\n",
       "\n",
       "    .dataframe tbody tr th {\n",
       "        vertical-align: top;\n",
       "    }\n",
       "</style>\n",
       "<table border=\"1\" class=\"dataframe\">\n",
       "  <thead>\n",
       "    <tr style=\"text-align: right;\">\n",
       "      <th></th>\n",
       "      <th>STKCD</th>\n",
       "      <th>MARKETTYPE</th>\n",
       "      <th>TRDMNT</th>\n",
       "      <th>ME</th>\n",
       "      <th>ret</th>\n",
       "    </tr>\n",
       "  </thead>\n",
       "  <tbody>\n",
       "    <tr>\n",
       "      <th>0</th>\n",
       "      <td>1</td>\n",
       "      <td>4</td>\n",
       "      <td>2000-01-31</td>\n",
       "      <td>2.875573e+10</td>\n",
       "      <td>0.061891</td>\n",
       "    </tr>\n",
       "    <tr>\n",
       "      <th>1</th>\n",
       "      <td>1</td>\n",
       "      <td>4</td>\n",
       "      <td>2000-02-29</td>\n",
       "      <td>2.842984e+10</td>\n",
       "      <td>-0.011333</td>\n",
       "    </tr>\n",
       "    <tr>\n",
       "      <th>2</th>\n",
       "      <td>1</td>\n",
       "      <td>4</td>\n",
       "      <td>2000-03-31</td>\n",
       "      <td>2.850743e+10</td>\n",
       "      <td>0.002729</td>\n",
       "    </tr>\n",
       "  </tbody>\n",
       "</table>\n",
       "</div>"
      ],
      "text/plain": [
       "   STKCD  MARKETTYPE     TRDMNT            ME       ret\n",
       "0      1           4 2000-01-31  2.875573e+10  0.061891\n",
       "1      1           4 2000-02-29  2.842984e+10 -0.011333\n",
       "2      1           4 2000-03-31  2.850743e+10  0.002729"
      ]
     },
     "execution_count": 7,
     "metadata": {},
     "output_type": "execute_result"
    }
   ],
   "source": [
    "# markettype 1 Shanghai A, 4, Shengzhen A\n",
    "# require price to be higher than 2\n",
    "# require minimum size to be 500 mill CNY\n",
    "stkret =pd.read_csv('csmarstk0016.csv')\n",
    "stkret.TRDMNT = pd.to_datetime(stkret.TRDMNT.astype('str'), format='%Y-%m-%d') \n",
    "#stkret = stkret.set_index('TRDMNT')\n",
    "stkret.head(3)"
   ]
  },
  {
   "cell_type": "code",
   "execution_count": 8,
   "metadata": {},
   "outputs": [
    {
     "data": {
      "text/html": [
       "<div>\n",
       "<style>\n",
       "    .dataframe thead tr:only-child th {\n",
       "        text-align: right;\n",
       "    }\n",
       "\n",
       "    .dataframe thead th {\n",
       "        text-align: left;\n",
       "    }\n",
       "\n",
       "    .dataframe tbody tr th {\n",
       "        vertical-align: top;\n",
       "    }\n",
       "</style>\n",
       "<table border=\"1\" class=\"dataframe\">\n",
       "  <thead>\n",
       "    <tr style=\"text-align: right;\">\n",
       "      <th></th>\n",
       "      <th>mktret</th>\n",
       "      <th>rf</th>\n",
       "    </tr>\n",
       "    <tr>\n",
       "      <th>TRDMNT</th>\n",
       "      <th></th>\n",
       "      <th></th>\n",
       "    </tr>\n",
       "  </thead>\n",
       "  <tbody>\n",
       "    <tr>\n",
       "      <th>2000-01-31</th>\n",
       "      <td>0.123413</td>\n",
       "      <td>0.001856</td>\n",
       "    </tr>\n",
       "    <tr>\n",
       "      <th>2000-02-29</th>\n",
       "      <td>0.118776</td>\n",
       "      <td>0.001856</td>\n",
       "    </tr>\n",
       "    <tr>\n",
       "      <th>2000-03-31</th>\n",
       "      <td>0.049308</td>\n",
       "      <td>0.001856</td>\n",
       "    </tr>\n",
       "  </tbody>\n",
       "</table>\n",
       "</div>"
      ],
      "text/plain": [
       "              mktret        rf\n",
       "TRDMNT                        \n",
       "2000-01-31  0.123413  0.001856\n",
       "2000-02-29  0.118776  0.001856\n",
       "2000-03-31  0.049308  0.001856"
      ]
     },
     "execution_count": 8,
     "metadata": {},
     "output_type": "execute_result"
    }
   ],
   "source": [
    "mktret = pd.read_csv('csmarmktretrf.csv')\n",
    "mktret.TRDMNT = pd.to_datetime(mktret.TRDMNT.astype('str'), format='%Y-%m-%d') \n",
    "mktret = mktret[['TRDMNT', 'mktret', 'rf']].set_index('TRDMNT')\n",
    "mktret.head(3)"
   ]
  },
  {
   "cell_type": "markdown",
   "metadata": {},
   "source": [
    "#### Preliminaries"
   ]
  },
  {
   "cell_type": "markdown",
   "metadata": {},
   "source": [
    "* Q(1a) calculate the Chinese mean (annualized) market excess return."
   ]
  },
  {
   "cell_type": "code",
   "execution_count": 9,
   "metadata": {},
   "outputs": [
    {
     "name": "stdout",
     "output_type": "stream",
     "text": [
      "0.0738791624599\n"
     ]
    }
   ],
   "source": [
    "mktexcess_mean = (mktret.mktret - mktret.rf).mean() \n",
    "print(mktexcess_mean*12)"
   ]
  },
  {
   "cell_type": "markdown",
   "metadata": {},
   "source": [
    "* Q(1b) Assume power utility and relative risk aversion is 3, and constent expected market excess return, what is the optimal proportion of wealth to invest in the risky (stock) assets? (you will invest in a market portfolio). "
   ]
  },
  {
   "cell_type": "code",
   "execution_count": 10,
   "metadata": {},
   "outputs": [
    {
     "name": "stdout",
     "output_type": "stream",
     "text": [
      "0.305143669601\n"
     ]
    }
   ],
   "source": [
    "optimal_w = (mktret.mktret - mktret.rf).mean() /(3 * (mktret.mktret - mktret.rf).var())\n",
    "print(optimal_w)"
   ]
  },
  {
   "cell_type": "markdown",
   "metadata": {},
   "source": [
    "* Q(1c) Your answer above may be different from the typical answer in the U.S. market, explain what mainly drives this difference?"
   ]
  },
  {
   "cell_type": "markdown",
   "metadata": {},
   "source": [
    "Chinese market return is much more variable than the U.S. market (mean excess return is not very different). Or, in other words, if the optimal allocation is the same, Chinese investors are less risk averse. "
   ]
  },
  {
   "cell_type": "markdown",
   "metadata": {},
   "source": [
    "#### Beta sorts and Fama-Macbeth style estimations\n",
    "\n",
    "* Q(2) For each stock, obtain the CAPM beta over the whole sample. Sort stocks into 20 portfolios according to beta estimates, then do a Fama-Macbeth style estimation test. "
   ]
  },
  {
   "cell_type": "code",
   "execution_count": 11,
   "metadata": {},
   "outputs": [
    {
     "data": {
      "text/html": [
       "<div>\n",
       "<style>\n",
       "    .dataframe thead tr:only-child th {\n",
       "        text-align: right;\n",
       "    }\n",
       "\n",
       "    .dataframe thead th {\n",
       "        text-align: left;\n",
       "    }\n",
       "\n",
       "    .dataframe tbody tr th {\n",
       "        vertical-align: top;\n",
       "    }\n",
       "</style>\n",
       "<table border=\"1\" class=\"dataframe\">\n",
       "  <thead>\n",
       "    <tr style=\"text-align: right;\">\n",
       "      <th></th>\n",
       "      <th>STKCD</th>\n",
       "      <th>MARKETTYPE</th>\n",
       "      <th>TRDMNT</th>\n",
       "      <th>ret</th>\n",
       "      <th>mktret</th>\n",
       "      <th>rf</th>\n",
       "      <th>rirf</th>\n",
       "      <th>mktrf</th>\n",
       "      <th>nobs</th>\n",
       "    </tr>\n",
       "  </thead>\n",
       "  <tbody>\n",
       "    <tr>\n",
       "      <th>0</th>\n",
       "      <td>1</td>\n",
       "      <td>4</td>\n",
       "      <td>2000-01-31</td>\n",
       "      <td>0.061891</td>\n",
       "      <td>0.123413</td>\n",
       "      <td>0.001856</td>\n",
       "      <td>0.060035</td>\n",
       "      <td>0.121557</td>\n",
       "      <td>192.0</td>\n",
       "    </tr>\n",
       "    <tr>\n",
       "      <th>1</th>\n",
       "      <td>2</td>\n",
       "      <td>4</td>\n",
       "      <td>2000-01-31</td>\n",
       "      <td>0.161126</td>\n",
       "      <td>0.123413</td>\n",
       "      <td>0.001856</td>\n",
       "      <td>0.159270</td>\n",
       "      <td>0.121557</td>\n",
       "      <td>192.0</td>\n",
       "    </tr>\n",
       "  </tbody>\n",
       "</table>\n",
       "</div>"
      ],
      "text/plain": [
       "   STKCD  MARKETTYPE     TRDMNT       ret    mktret        rf      rirf  \\\n",
       "0      1           4 2000-01-31  0.061891  0.123413  0.001856  0.060035   \n",
       "1      2           4 2000-01-31  0.161126  0.123413  0.001856  0.159270   \n",
       "\n",
       "      mktrf   nobs  \n",
       "0  0.121557  192.0  \n",
       "1  0.121557  192.0  "
      ]
     },
     "execution_count": 11,
     "metadata": {},
     "output_type": "execute_result"
    }
   ],
   "source": [
    "stkretx = stkret[['STKCD', 'MARKETTYPE', 'TRDMNT', 'ret']].merge(mktret.reset_index(), \n",
    "                                                                 on=['TRDMNT'], how='inner')\n",
    "stkretx['rirf'] = stkretx.ret - stkretx.rf\n",
    "stkretx['mktrf'] = stkretx.mktret - stkretx.rf\n",
    "stkretx = stkretx.loc[stkretx.ret.notnull()]\n",
    "stkretx['nobs'] = stkretx.groupby(['STKCD'])['ret'].transform(lambda x: x.count())\n",
    "stkretx = stkretx[stkretx.nobs>=60]\n",
    "stkretx.head(2)"
   ]
  },
  {
   "cell_type": "code",
   "execution_count": 12,
   "metadata": {
    "collapsed": true
   },
   "outputs": [],
   "source": [
    "def ols_beta(df, xcols,  ycol):\n",
    "    X = df[xcols]\n",
    "    X = sm.add_constant(X)\n",
    "    fit = sm.OLS(df[ycol], X).fit()\n",
    "    return fit.params[1]\n",
    "\n",
    "def ols_res(df, xcols,  ycol):\n",
    "    X = df[xcols]\n",
    "    X = sm.add_constant(X)\n",
    "    fit = sm.OLS(df[ycol], X).fit()\n",
    "    return fit.params"
   ]
  },
  {
   "cell_type": "code",
   "execution_count": 13,
   "metadata": {},
   "outputs": [
    {
     "data": {
      "text/html": [
       "<div>\n",
       "<style>\n",
       "    .dataframe thead tr:only-child th {\n",
       "        text-align: right;\n",
       "    }\n",
       "\n",
       "    .dataframe thead th {\n",
       "        text-align: left;\n",
       "    }\n",
       "\n",
       "    .dataframe tbody tr th {\n",
       "        vertical-align: top;\n",
       "    }\n",
       "</style>\n",
       "<table border=\"1\" class=\"dataframe\">\n",
       "  <thead>\n",
       "    <tr style=\"text-align: right;\">\n",
       "      <th></th>\n",
       "      <th>beta</th>\n",
       "      <th>betaport</th>\n",
       "    </tr>\n",
       "    <tr>\n",
       "      <th>STKCD</th>\n",
       "      <th></th>\n",
       "      <th></th>\n",
       "    </tr>\n",
       "  </thead>\n",
       "  <tbody>\n",
       "    <tr>\n",
       "      <th>1</th>\n",
       "      <td>1.128374</td>\n",
       "      <td>13</td>\n",
       "    </tr>\n",
       "    <tr>\n",
       "      <th>2</th>\n",
       "      <td>0.967537</td>\n",
       "      <td>6</td>\n",
       "    </tr>\n",
       "    <tr>\n",
       "      <th>4</th>\n",
       "      <td>1.044616</td>\n",
       "      <td>10</td>\n",
       "    </tr>\n",
       "  </tbody>\n",
       "</table>\n",
       "</div>"
      ],
      "text/plain": [
       "           beta  betaport\n",
       "STKCD                    \n",
       "1      1.128374        13\n",
       "2      0.967537         6\n",
       "4      1.044616        10"
      ]
     },
     "execution_count": 13,
     "metadata": {},
     "output_type": "execute_result"
    }
   ],
   "source": [
    "stkbeta = stkretx.groupby('STKCD').apply(ols_beta, ['mktrf'], ['rirf'])\n",
    "stkbeta = pd.DataFrame(stkbeta, columns=['beta'])\n",
    "stkbeta['betaport'] = pd.Series(pd.qcut(stkbeta['beta'],20,labels=False))\n",
    "stkbeta.head(3)"
   ]
  },
  {
   "cell_type": "code",
   "execution_count": 14,
   "metadata": {
    "collapsed": true
   },
   "outputs": [],
   "source": [
    "stkretx = stkretx.merge(stkbeta.reset_index(), on=['STKCD'])"
   ]
  },
  {
   "cell_type": "code",
   "execution_count": 15,
   "metadata": {},
   "outputs": [
    {
     "data": {
      "text/html": [
       "<div>\n",
       "<style>\n",
       "    .dataframe thead tr:only-child th {\n",
       "        text-align: right;\n",
       "    }\n",
       "\n",
       "    .dataframe thead th {\n",
       "        text-align: left;\n",
       "    }\n",
       "\n",
       "    .dataframe tbody tr th {\n",
       "        vertical-align: top;\n",
       "    }\n",
       "</style>\n",
       "<table border=\"1\" class=\"dataframe\">\n",
       "  <thead>\n",
       "    <tr style=\"text-align: right;\">\n",
       "      <th></th>\n",
       "      <th>TRDMNT</th>\n",
       "      <th>betaport</th>\n",
       "      <th>rirf</th>\n",
       "      <th>mktrf</th>\n",
       "      <th>beta</th>\n",
       "    </tr>\n",
       "  </thead>\n",
       "  <tbody>\n",
       "    <tr>\n",
       "      <th>0</th>\n",
       "      <td>2000-01-31</td>\n",
       "      <td>0</td>\n",
       "      <td>0.147671</td>\n",
       "      <td>0.121557</td>\n",
       "      <td>0.599972</td>\n",
       "    </tr>\n",
       "    <tr>\n",
       "      <th>1</th>\n",
       "      <td>2000-01-31</td>\n",
       "      <td>1</td>\n",
       "      <td>0.163345</td>\n",
       "      <td>0.121557</td>\n",
       "      <td>0.765856</td>\n",
       "    </tr>\n",
       "    <tr>\n",
       "      <th>2</th>\n",
       "      <td>2000-01-31</td>\n",
       "      <td>2</td>\n",
       "      <td>0.097019</td>\n",
       "      <td>0.121557</td>\n",
       "      <td>0.825844</td>\n",
       "    </tr>\n",
       "  </tbody>\n",
       "</table>\n",
       "</div>"
      ],
      "text/plain": [
       "      TRDMNT  betaport      rirf     mktrf      beta\n",
       "0 2000-01-31         0  0.147671  0.121557  0.599972\n",
       "1 2000-01-31         1  0.163345  0.121557  0.765856\n",
       "2 2000-01-31         2  0.097019  0.121557  0.825844"
      ]
     },
     "execution_count": 15,
     "metadata": {},
     "output_type": "execute_result"
    }
   ],
   "source": [
    "stkbetaport = stkretx[['TRDMNT', 'rirf', 'mktrf', 'beta', 'betaport']]\n",
    "stkbetaport = stkbetaport.groupby(['TRDMNT', 'betaport'])[['rirf', 'mktrf', 'beta']].mean()\n",
    "stkbetaport = stkbetaport.reset_index()\n",
    "stkbetaport.head(3)"
   ]
  },
  {
   "cell_type": "code",
   "execution_count": 16,
   "metadata": {},
   "outputs": [
    {
     "name": "stdout",
     "output_type": "stream",
     "text": [
      "mean alpha: 0.0151195386322\n"
     ]
    },
    {
     "data": {
      "text/plain": [
       "Ttest_1sampResult(statistic=0.20501896757300733, pvalue=0.83777336815113723)"
      ]
     },
     "execution_count": 16,
     "metadata": {},
     "output_type": "execute_result"
    }
   ],
   "source": [
    "# the portfolio beta estimated here may be different from simply average because portfolio\n",
    "# composition may change during the estimation period. \n",
    "estbymonth = stkbetaport.groupby(['TRDMNT']).apply(ols_res, ['beta'], ['rirf'])\n",
    "print('mean alpha:', estbymonth.const.mean()*12)\n",
    "ttest_1samp(estbymonth.const, 0)"
   ]
  },
  {
   "cell_type": "code",
   "execution_count": 17,
   "metadata": {},
   "outputs": [
    {
     "name": "stdout",
     "output_type": "stream",
     "text": [
      "Coefficeint on beta: 0.169911647761\n"
     ]
    },
    {
     "data": {
      "text/plain": [
       "Ttest_1sampResult(statistic=1.8778925739499155, pvalue=0.061904100770109396)"
      ]
     },
     "execution_count": 17,
     "metadata": {},
     "output_type": "execute_result"
    }
   ],
   "source": [
    "print('Coefficeint on beta:', estbymonth.beta.mean()*12)\n",
    "ttest_1samp(estbymonth.beta, 0)"
   ]
  },
  {
   "cell_type": "markdown",
   "metadata": {},
   "source": [
    "#### Forming Portfolios\n",
    "\n",
    "According to size and MTB."
   ]
  },
  {
   "cell_type": "markdown",
   "metadata": {},
   "source": [
    "Starting from '2000-7-31', from July to end of June of each year, categorize each stock to form a 5X5 portfolios of size and book-to-market. Size and book-to-market are defined as in Fama Frech (1993). You may want to create a 'year' variable that designate portfolio formation year. \n",
    "\n",
    "code to generate year from datetimeindex column of data df: ```df.datetimeindex.dt.year```"
   ]
  },
  {
   "cell_type": "code",
   "execution_count": 18,
   "metadata": {
    "collapsed": true
   },
   "outputs": [],
   "source": [
    "# year variable here is the portfolio formation year\n",
    "stkret['year'] = np.where(stkret.TRDMNT.dt.month>=7, stkret.TRDMNT.dt.year, stkret.TRDMNT.dt.year-1)"
   ]
  },
  {
   "cell_type": "code",
   "execution_count": 19,
   "metadata": {},
   "outputs": [
    {
     "data": {
      "text/html": [
       "<div>\n",
       "<style>\n",
       "    .dataframe thead tr:only-child th {\n",
       "        text-align: right;\n",
       "    }\n",
       "\n",
       "    .dataframe thead th {\n",
       "        text-align: left;\n",
       "    }\n",
       "\n",
       "    .dataframe tbody tr th {\n",
       "        vertical-align: top;\n",
       "    }\n",
       "</style>\n",
       "<table border=\"1\" class=\"dataframe\">\n",
       "  <thead>\n",
       "    <tr style=\"text-align: right;\">\n",
       "      <th></th>\n",
       "      <th>STKCD</th>\n",
       "      <th>MARKETTYPE</th>\n",
       "      <th>ME</th>\n",
       "      <th>year</th>\n",
       "    </tr>\n",
       "  </thead>\n",
       "  <tbody>\n",
       "    <tr>\n",
       "      <th>5</th>\n",
       "      <td>1</td>\n",
       "      <td>4</td>\n",
       "      <td>2.813499e+10</td>\n",
       "      <td>2000</td>\n",
       "    </tr>\n",
       "    <tr>\n",
       "      <th>17</th>\n",
       "      <td>1</td>\n",
       "      <td>4</td>\n",
       "      <td>2.979054e+10</td>\n",
       "      <td>2001</td>\n",
       "    </tr>\n",
       "    <tr>\n",
       "      <th>29</th>\n",
       "      <td>1</td>\n",
       "      <td>4</td>\n",
       "      <td>2.918733e+10</td>\n",
       "      <td>2002</td>\n",
       "    </tr>\n",
       "  </tbody>\n",
       "</table>\n",
       "</div>"
      ],
      "text/plain": [
       "    STKCD  MARKETTYPE            ME  year\n",
       "5       1           4  2.813499e+10  2000\n",
       "17      1           4  2.979054e+10  2001\n",
       "29      1           4  2.918733e+10  2002"
      ]
     },
     "execution_count": 19,
     "metadata": {},
     "output_type": "execute_result"
    }
   ],
   "source": [
    "# End of June ME\n",
    "# year is the portfolio formation year\n",
    "juneme = stkret.loc[stkret.TRDMNT.dt.month==6, ['STKCD', 'MARKETTYPE', 'TRDMNT', 'ME']]\n",
    "juneme['year'] = juneme.TRDMNT.dt.year\n",
    "juneme = juneme.drop('TRDMNT', axis=1)\n",
    "juneme.head(3)"
   ]
  },
  {
   "cell_type": "code",
   "execution_count": 20,
   "metadata": {},
   "outputs": [
    {
     "data": {
      "text/html": [
       "<div>\n",
       "<style>\n",
       "    .dataframe thead tr:only-child th {\n",
       "        text-align: right;\n",
       "    }\n",
       "\n",
       "    .dataframe thead th {\n",
       "        text-align: left;\n",
       "    }\n",
       "\n",
       "    .dataframe tbody tr th {\n",
       "        vertical-align: top;\n",
       "    }\n",
       "</style>\n",
       "<table border=\"1\" class=\"dataframe\">\n",
       "  <thead>\n",
       "    <tr style=\"text-align: right;\">\n",
       "      <th></th>\n",
       "      <th>STKCD</th>\n",
       "      <th>BE</th>\n",
       "      <th>year</th>\n",
       "    </tr>\n",
       "  </thead>\n",
       "  <tbody>\n",
       "    <tr>\n",
       "      <th>0</th>\n",
       "      <td>1</td>\n",
       "      <td>2.900831e+09</td>\n",
       "      <td>2000</td>\n",
       "    </tr>\n",
       "    <tr>\n",
       "      <th>1</th>\n",
       "      <td>1</td>\n",
       "      <td>4.738884e+09</td>\n",
       "      <td>2001</td>\n",
       "    </tr>\n",
       "    <tr>\n",
       "      <th>2</th>\n",
       "      <td>1</td>\n",
       "      <td>3.627669e+09</td>\n",
       "      <td>2002</td>\n",
       "    </tr>\n",
       "  </tbody>\n",
       "</table>\n",
       "</div>"
      ],
      "text/plain": [
       "   STKCD            BE  year\n",
       "0      1  2.900831e+09  2000\n",
       "1      1  4.738884e+09  2001\n",
       "2      1  3.627669e+09  2002"
      ]
     },
     "execution_count": 20,
     "metadata": {},
     "output_type": "execute_result"
    }
   ],
   "source": [
    "# End of December BE\n",
    "# year is the portfolio formation year\n",
    "decbe['year'] = decbe.date.dt.year + 1\n",
    "decbe = decbe.drop('date', axis=1)\n",
    "decbe.head(3)"
   ]
  },
  {
   "cell_type": "code",
   "execution_count": 21,
   "metadata": {},
   "outputs": [
    {
     "data": {
      "text/html": [
       "<div>\n",
       "<style>\n",
       "    .dataframe thead tr:only-child th {\n",
       "        text-align: right;\n",
       "    }\n",
       "\n",
       "    .dataframe thead th {\n",
       "        text-align: left;\n",
       "    }\n",
       "\n",
       "    .dataframe tbody tr th {\n",
       "        vertical-align: top;\n",
       "    }\n",
       "</style>\n",
       "<table border=\"1\" class=\"dataframe\">\n",
       "  <thead>\n",
       "    <tr style=\"text-align: right;\">\n",
       "      <th></th>\n",
       "      <th>STKCD</th>\n",
       "      <th>MARKETTYPE</th>\n",
       "      <th>TRDMNT</th>\n",
       "      <th>year</th>\n",
       "      <th>ret</th>\n",
       "      <th>ME</th>\n",
       "      <th>BE</th>\n",
       "      <th>BTM</th>\n",
       "    </tr>\n",
       "  </thead>\n",
       "  <tbody>\n",
       "    <tr>\n",
       "      <th>0</th>\n",
       "      <td>1</td>\n",
       "      <td>4</td>\n",
       "      <td>2000-07-31</td>\n",
       "      <td>2000</td>\n",
       "      <td>0.020960</td>\n",
       "      <td>2.813499e+10</td>\n",
       "      <td>2.900831e+09</td>\n",
       "      <td>0.103104</td>\n",
       "    </tr>\n",
       "    <tr>\n",
       "      <th>1</th>\n",
       "      <td>1</td>\n",
       "      <td>4</td>\n",
       "      <td>2000-08-31</td>\n",
       "      <td>2000</td>\n",
       "      <td>-0.041059</td>\n",
       "      <td>2.813499e+10</td>\n",
       "      <td>2.900831e+09</td>\n",
       "      <td>0.103104</td>\n",
       "    </tr>\n",
       "    <tr>\n",
       "      <th>2</th>\n",
       "      <td>1</td>\n",
       "      <td>4</td>\n",
       "      <td>2000-09-30</td>\n",
       "      <td>2000</td>\n",
       "      <td>-0.044507</td>\n",
       "      <td>2.813499e+10</td>\n",
       "      <td>2.900831e+09</td>\n",
       "      <td>0.103104</td>\n",
       "    </tr>\n",
       "  </tbody>\n",
       "</table>\n",
       "</div>"
      ],
      "text/plain": [
       "   STKCD  MARKETTYPE     TRDMNT  year       ret            ME            BE  \\\n",
       "0      1           4 2000-07-31  2000  0.020960  2.813499e+10  2.900831e+09   \n",
       "1      1           4 2000-08-31  2000 -0.041059  2.813499e+10  2.900831e+09   \n",
       "2      1           4 2000-09-30  2000 -0.044507  2.813499e+10  2.900831e+09   \n",
       "\n",
       "        BTM  \n",
       "0  0.103104  \n",
       "1  0.103104  \n",
       "2  0.103104  "
      ]
     },
     "execution_count": 21,
     "metadata": {},
     "output_type": "execute_result"
    }
   ],
   "source": [
    "# merge back to return data and calculate B/M\n",
    "stkret_btm = stkret.loc[stkret.TRDMNT>='2000-7-30', ['STKCD', 'MARKETTYPE', 'TRDMNT', 'year', 'ret']]\n",
    "stkret_btm = stkret_btm.merge(juneme[['STKCD', 'year', 'ME']], on=['STKCD', 'year'], how='inner')\n",
    "stkret_btm = stkret_btm.merge(decbe[['STKCD', 'year', 'BE']], on=['STKCD', 'year'], how='inner')\n",
    "stkret_btm['BTM'] = stkret_btm.BE/stkret_btm.ME\n",
    "stkret_btm.head(3)"
   ]
  },
  {
   "cell_type": "code",
   "execution_count": 22,
   "metadata": {},
   "outputs": [
    {
     "data": {
      "text/html": [
       "<div>\n",
       "<style>\n",
       "    .dataframe thead tr:only-child th {\n",
       "        text-align: right;\n",
       "    }\n",
       "\n",
       "    .dataframe thead th {\n",
       "        text-align: left;\n",
       "    }\n",
       "\n",
       "    .dataframe tbody tr th {\n",
       "        vertical-align: top;\n",
       "    }\n",
       "</style>\n",
       "<table border=\"1\" class=\"dataframe\">\n",
       "  <thead>\n",
       "    <tr style=\"text-align: right;\">\n",
       "      <th></th>\n",
       "      <th>STKCD</th>\n",
       "      <th>MARKETTYPE</th>\n",
       "      <th>TRDMNT</th>\n",
       "      <th>year</th>\n",
       "      <th>ret</th>\n",
       "      <th>ME</th>\n",
       "      <th>BE</th>\n",
       "      <th>BTM</th>\n",
       "      <th>assignsz</th>\n",
       "      <th>assignbm</th>\n",
       "      <th>port</th>\n",
       "    </tr>\n",
       "  </thead>\n",
       "  <tbody>\n",
       "    <tr>\n",
       "      <th>0</th>\n",
       "      <td>1</td>\n",
       "      <td>4</td>\n",
       "      <td>2000-07-31</td>\n",
       "      <td>2000</td>\n",
       "      <td>0.020960</td>\n",
       "      <td>2.813499e+10</td>\n",
       "      <td>2.900831e+09</td>\n",
       "      <td>0.103104</td>\n",
       "      <td>sz5</td>\n",
       "      <td>bm1</td>\n",
       "      <td>sz5 bm1</td>\n",
       "    </tr>\n",
       "    <tr>\n",
       "      <th>1</th>\n",
       "      <td>1</td>\n",
       "      <td>4</td>\n",
       "      <td>2000-08-31</td>\n",
       "      <td>2000</td>\n",
       "      <td>-0.041059</td>\n",
       "      <td>2.813499e+10</td>\n",
       "      <td>2.900831e+09</td>\n",
       "      <td>0.103104</td>\n",
       "      <td>sz5</td>\n",
       "      <td>bm1</td>\n",
       "      <td>sz5 bm1</td>\n",
       "    </tr>\n",
       "    <tr>\n",
       "      <th>2</th>\n",
       "      <td>1</td>\n",
       "      <td>4</td>\n",
       "      <td>2000-09-30</td>\n",
       "      <td>2000</td>\n",
       "      <td>-0.044507</td>\n",
       "      <td>2.813499e+10</td>\n",
       "      <td>2.900831e+09</td>\n",
       "      <td>0.103104</td>\n",
       "      <td>sz5</td>\n",
       "      <td>bm1</td>\n",
       "      <td>sz5 bm1</td>\n",
       "    </tr>\n",
       "  </tbody>\n",
       "</table>\n",
       "</div>"
      ],
      "text/plain": [
       "   STKCD  MARKETTYPE     TRDMNT  year       ret            ME            BE  \\\n",
       "0      1           4 2000-07-31  2000  0.020960  2.813499e+10  2.900831e+09   \n",
       "1      1           4 2000-08-31  2000 -0.041059  2.813499e+10  2.900831e+09   \n",
       "2      1           4 2000-09-30  2000 -0.044507  2.813499e+10  2.900831e+09   \n",
       "\n",
       "        BTM assignsz assignbm     port  \n",
       "0  0.103104      sz5      bm1  sz5 bm1  \n",
       "1  0.103104      sz5      bm1  sz5 bm1  \n",
       "2  0.103104      sz5      bm1  sz5 bm1  "
      ]
     },
     "execution_count": 22,
     "metadata": {},
     "output_type": "execute_result"
    }
   ],
   "source": [
    "# assign 5x5 size bm each period\n",
    "\n",
    "bmstkret = stkret_btm.copy()\n",
    "\n",
    "assignsz = lambda x: pd.qcut(x, 5, labels=['sz1', 'sz2', 'sz3', 'sz4', 'sz5'], retbins=False)\n",
    "bmstkret['assignsz'] = bmstkret.groupby('TRDMNT')['ME'].apply(assignsz)\n",
    "assignbm = lambda x: pd.qcut(x, 5, labels=['bm1', 'bm2', 'bm3', 'bm4', 'bm5'], retbins=False)\n",
    "bmstkret['assignbm'] = bmstkret.groupby('TRDMNT')['BTM'].apply(assignbm)\n",
    "bmstkret['port'] =  bmstkret.assignsz.astype('str') + (\" \") + bmstkret.assignbm.astype('str') \n",
    "#bmstkret = bmstkret[['STKCD', 'MARKETTYPE', 'TRDMNT', 'ret', 'port']]\n",
    "bmstkret.head(3)"
   ]
  },
  {
   "cell_type": "code",
   "execution_count": 23,
   "metadata": {},
   "outputs": [
    {
     "data": {
      "text/html": [
       "<div>\n",
       "<style>\n",
       "    .dataframe thead tr:only-child th {\n",
       "        text-align: right;\n",
       "    }\n",
       "\n",
       "    .dataframe thead th {\n",
       "        text-align: left;\n",
       "    }\n",
       "\n",
       "    .dataframe tbody tr th {\n",
       "        vertical-align: top;\n",
       "    }\n",
       "</style>\n",
       "<table border=\"1\" class=\"dataframe\">\n",
       "  <thead>\n",
       "    <tr style=\"text-align: right;\">\n",
       "      <th></th>\n",
       "      <th>port</th>\n",
       "      <th>ret</th>\n",
       "    </tr>\n",
       "    <tr>\n",
       "      <th>TRDMNT</th>\n",
       "      <th></th>\n",
       "      <th></th>\n",
       "    </tr>\n",
       "  </thead>\n",
       "  <tbody>\n",
       "    <tr>\n",
       "      <th>2000-07-31</th>\n",
       "      <td>sz1 bm1</td>\n",
       "      <td>0.096083</td>\n",
       "    </tr>\n",
       "    <tr>\n",
       "      <th>2000-07-31</th>\n",
       "      <td>sz1 bm2</td>\n",
       "      <td>0.075515</td>\n",
       "    </tr>\n",
       "    <tr>\n",
       "      <th>2000-07-31</th>\n",
       "      <td>sz1 bm3</td>\n",
       "      <td>0.090938</td>\n",
       "    </tr>\n",
       "  </tbody>\n",
       "</table>\n",
       "</div>"
      ],
      "text/plain": [
       "               port       ret\n",
       "TRDMNT                       \n",
       "2000-07-31  sz1 bm1  0.096083\n",
       "2000-07-31  sz1 bm2  0.075515\n",
       "2000-07-31  sz1 bm3  0.090938"
      ]
     },
     "execution_count": 23,
     "metadata": {},
     "output_type": "execute_result"
    }
   ],
   "source": [
    "#mean portfolio return of 5x5 portfolios\n",
    "\n",
    "bmsz = bmstkret.groupby(['TRDMNT', 'port'])['ret'].mean()\n",
    "bmsz = bmsz.reset_index().set_index('TRDMNT')\n",
    "bmsz.head(3)"
   ]
  },
  {
   "cell_type": "code",
   "execution_count": 24,
   "metadata": {
    "collapsed": true
   },
   "outputs": [],
   "source": [
    "# portfolio excess returns\n",
    "\n",
    "bmsz = bmsz.join(mktret[['mktret', 'rf']], how='inner')\n",
    "bmsz['retrf'] = bmsz.ret -bmsz.rf\n",
    "bmsz['mktretrf'] = bmsz.mktret - bmsz.rf"
   ]
  },
  {
   "cell_type": "code",
   "execution_count": 25,
   "metadata": {},
   "outputs": [
    {
     "data": {
      "text/html": [
       "<div>\n",
       "<style>\n",
       "    .dataframe thead tr:only-child th {\n",
       "        text-align: right;\n",
       "    }\n",
       "\n",
       "    .dataframe thead th {\n",
       "        text-align: left;\n",
       "    }\n",
       "\n",
       "    .dataframe tbody tr th {\n",
       "        vertical-align: top;\n",
       "    }\n",
       "</style>\n",
       "<table border=\"1\" class=\"dataframe\">\n",
       "  <thead>\n",
       "    <tr style=\"text-align: right;\">\n",
       "      <th>port</th>\n",
       "      <th>sz1 bm1</th>\n",
       "      <th>sz1 bm2</th>\n",
       "      <th>sz1 bm3</th>\n",
       "      <th>sz1 bm4</th>\n",
       "      <th>sz1 bm5</th>\n",
       "      <th>sz2 bm1</th>\n",
       "      <th>sz2 bm2</th>\n",
       "      <th>sz2 bm3</th>\n",
       "      <th>sz2 bm4</th>\n",
       "      <th>sz2 bm5</th>\n",
       "      <th>...</th>\n",
       "      <th>sz4 bm1</th>\n",
       "      <th>sz4 bm2</th>\n",
       "      <th>sz4 bm3</th>\n",
       "      <th>sz4 bm4</th>\n",
       "      <th>sz4 bm5</th>\n",
       "      <th>sz5 bm1</th>\n",
       "      <th>sz5 bm2</th>\n",
       "      <th>sz5 bm3</th>\n",
       "      <th>sz5 bm4</th>\n",
       "      <th>sz5 bm5</th>\n",
       "    </tr>\n",
       "    <tr>\n",
       "      <th>TRDMNT</th>\n",
       "      <th></th>\n",
       "      <th></th>\n",
       "      <th></th>\n",
       "      <th></th>\n",
       "      <th></th>\n",
       "      <th></th>\n",
       "      <th></th>\n",
       "      <th></th>\n",
       "      <th></th>\n",
       "      <th></th>\n",
       "      <th></th>\n",
       "      <th></th>\n",
       "      <th></th>\n",
       "      <th></th>\n",
       "      <th></th>\n",
       "      <th></th>\n",
       "      <th></th>\n",
       "      <th></th>\n",
       "      <th></th>\n",
       "      <th></th>\n",
       "      <th></th>\n",
       "    </tr>\n",
       "  </thead>\n",
       "  <tbody>\n",
       "    <tr>\n",
       "      <th>2000-07-31</th>\n",
       "      <td>0.094227</td>\n",
       "      <td>0.073659</td>\n",
       "      <td>0.089082</td>\n",
       "      <td>0.067891</td>\n",
       "      <td>0.102070</td>\n",
       "      <td>0.052887</td>\n",
       "      <td>0.019621</td>\n",
       "      <td>0.055047</td>\n",
       "      <td>0.046375</td>\n",
       "      <td>0.096738</td>\n",
       "      <td>...</td>\n",
       "      <td>-0.002362</td>\n",
       "      <td>0.037984</td>\n",
       "      <td>0.029606</td>\n",
       "      <td>0.051353</td>\n",
       "      <td>0.078154</td>\n",
       "      <td>0.018904</td>\n",
       "      <td>0.020259</td>\n",
       "      <td>0.014206</td>\n",
       "      <td>0.042592</td>\n",
       "      <td>0.069002</td>\n",
       "    </tr>\n",
       "    <tr>\n",
       "      <th>2000-08-31</th>\n",
       "      <td>0.019105</td>\n",
       "      <td>0.060425</td>\n",
       "      <td>0.074348</td>\n",
       "      <td>0.040122</td>\n",
       "      <td>0.045046</td>\n",
       "      <td>0.040742</td>\n",
       "      <td>0.004471</td>\n",
       "      <td>0.002841</td>\n",
       "      <td>-0.002348</td>\n",
       "      <td>0.017209</td>\n",
       "      <td>...</td>\n",
       "      <td>-0.002988</td>\n",
       "      <td>-0.027820</td>\n",
       "      <td>-0.008248</td>\n",
       "      <td>-0.008640</td>\n",
       "      <td>-0.027837</td>\n",
       "      <td>0.001700</td>\n",
       "      <td>-0.045348</td>\n",
       "      <td>-0.001824</td>\n",
       "      <td>-0.005982</td>\n",
       "      <td>-0.034308</td>\n",
       "    </tr>\n",
       "    <tr>\n",
       "      <th>2000-09-30</th>\n",
       "      <td>-0.000691</td>\n",
       "      <td>0.017083</td>\n",
       "      <td>0.004288</td>\n",
       "      <td>-0.024706</td>\n",
       "      <td>-0.048461</td>\n",
       "      <td>0.007680</td>\n",
       "      <td>-0.024672</td>\n",
       "      <td>-0.024920</td>\n",
       "      <td>-0.044224</td>\n",
       "      <td>-0.048476</td>\n",
       "      <td>...</td>\n",
       "      <td>-0.023008</td>\n",
       "      <td>-0.043280</td>\n",
       "      <td>-0.049834</td>\n",
       "      <td>-0.068664</td>\n",
       "      <td>-0.073404</td>\n",
       "      <td>-0.048153</td>\n",
       "      <td>-0.064596</td>\n",
       "      <td>-0.054451</td>\n",
       "      <td>-0.060620</td>\n",
       "      <td>-0.086188</td>\n",
       "    </tr>\n",
       "  </tbody>\n",
       "</table>\n",
       "<p>3 rows × 25 columns</p>\n",
       "</div>"
      ],
      "text/plain": [
       "port         sz1 bm1   sz1 bm2   sz1 bm3   sz1 bm4   sz1 bm5   sz2 bm1  \\\n",
       "TRDMNT                                                                   \n",
       "2000-07-31  0.094227  0.073659  0.089082  0.067891  0.102070  0.052887   \n",
       "2000-08-31  0.019105  0.060425  0.074348  0.040122  0.045046  0.040742   \n",
       "2000-09-30 -0.000691  0.017083  0.004288 -0.024706 -0.048461  0.007680   \n",
       "\n",
       "port         sz2 bm2   sz2 bm3   sz2 bm4   sz2 bm5    ...      sz4 bm1  \\\n",
       "TRDMNT                                                ...                \n",
       "2000-07-31  0.019621  0.055047  0.046375  0.096738    ...    -0.002362   \n",
       "2000-08-31  0.004471  0.002841 -0.002348  0.017209    ...    -0.002988   \n",
       "2000-09-30 -0.024672 -0.024920 -0.044224 -0.048476    ...    -0.023008   \n",
       "\n",
       "port         sz4 bm2   sz4 bm3   sz4 bm4   sz4 bm5   sz5 bm1   sz5 bm2  \\\n",
       "TRDMNT                                                                   \n",
       "2000-07-31  0.037984  0.029606  0.051353  0.078154  0.018904  0.020259   \n",
       "2000-08-31 -0.027820 -0.008248 -0.008640 -0.027837  0.001700 -0.045348   \n",
       "2000-09-30 -0.043280 -0.049834 -0.068664 -0.073404 -0.048153 -0.064596   \n",
       "\n",
       "port         sz5 bm3   sz5 bm4   sz5 bm5  \n",
       "TRDMNT                                    \n",
       "2000-07-31  0.014206  0.042592  0.069002  \n",
       "2000-08-31 -0.001824 -0.005982 -0.034308  \n",
       "2000-09-30 -0.054451 -0.060620 -0.086188  \n",
       "\n",
       "[3 rows x 25 columns]"
      ]
     },
     "execution_count": 25,
     "metadata": {},
     "output_type": "execute_result"
    }
   ],
   "source": [
    "portret = bmsz[['port',  'retrf']].reset_index().set_index(['port', 'TRDMNT']).unstack('port')\n",
    "portret.columns = portret.columns.droplevel()\n",
    "portret.head(3)"
   ]
  },
  {
   "cell_type": "code",
   "execution_count": 26,
   "metadata": {},
   "outputs": [
    {
     "data": {
      "text/html": [
       "<div>\n",
       "<style>\n",
       "    .dataframe thead tr:only-child th {\n",
       "        text-align: right;\n",
       "    }\n",
       "\n",
       "    .dataframe thead th {\n",
       "        text-align: left;\n",
       "    }\n",
       "\n",
       "    .dataframe tbody tr th {\n",
       "        vertical-align: top;\n",
       "    }\n",
       "</style>\n",
       "<table border=\"1\" class=\"dataframe\">\n",
       "  <thead>\n",
       "    <tr style=\"text-align: right;\">\n",
       "      <th></th>\n",
       "      <th>mktret</th>\n",
       "      <th>rf</th>\n",
       "      <th>mktretrf</th>\n",
       "    </tr>\n",
       "    <tr>\n",
       "      <th>TRDMNT</th>\n",
       "      <th></th>\n",
       "      <th></th>\n",
       "      <th></th>\n",
       "    </tr>\n",
       "  </thead>\n",
       "  <tbody>\n",
       "    <tr>\n",
       "      <th>2000-07-31</th>\n",
       "      <td>0.052413</td>\n",
       "      <td>0.001856</td>\n",
       "      <td>0.050557</td>\n",
       "    </tr>\n",
       "    <tr>\n",
       "      <th>2000-08-31</th>\n",
       "      <td>-0.000579</td>\n",
       "      <td>0.001856</td>\n",
       "      <td>-0.002435</td>\n",
       "    </tr>\n",
       "    <tr>\n",
       "      <th>2000-09-30</th>\n",
       "      <td>-0.053758</td>\n",
       "      <td>0.001856</td>\n",
       "      <td>-0.055614</td>\n",
       "    </tr>\n",
       "  </tbody>\n",
       "</table>\n",
       "</div>"
      ],
      "text/plain": [
       "              mktret        rf  mktretrf\n",
       "TRDMNT                                  \n",
       "2000-07-31  0.052413  0.001856  0.050557\n",
       "2000-08-31 -0.000579  0.001856 -0.002435\n",
       "2000-09-30 -0.053758  0.001856 -0.055614"
      ]
     },
     "execution_count": 26,
     "metadata": {},
     "output_type": "execute_result"
    }
   ],
   "source": [
    "mktxret = mktret['2000-07-31':].copy()\n",
    "mktxret['mktretrf'] = mktxret.mktret -mktxret.rf\n",
    "mktxret.head(3)"
   ]
  },
  {
   "cell_type": "code",
   "execution_count": 27,
   "metadata": {
    "collapsed": true
   },
   "outputs": [],
   "source": [
    "def ols_capm(Y, xcols=mktxret['mktretrf']):\n",
    "    X = sm.add_constant(xcols)\n",
    "    fit = sm.OLS(Y, X).fit()\n",
    "    return fit.params[0], fit.params[1]"
   ]
  },
  {
   "cell_type": "code",
   "execution_count": 28,
   "metadata": {
    "collapsed": true
   },
   "outputs": [],
   "source": [
    "# CAPM estimation for each portfolio\n",
    "\n",
    "capm_out = portret.apply(ols_capm)\n",
    "alpha = capm_out.apply(lambda x: x[0])\n",
    "beta = capm_out.apply(lambda x: x[1])"
   ]
  },
  {
   "cell_type": "markdown",
   "metadata": {},
   "source": [
    "* Q(3a) Show the CAPM alpha and beta of these portfolios"
   ]
  },
  {
   "cell_type": "code",
   "execution_count": 29,
   "metadata": {
    "collapsed": true
   },
   "outputs": [],
   "source": [
    "def results_matrix(dfvar):\n",
    "    # get index\n",
    "    szindex = np.array([idx.split()[0] for idx in capm_out.index]).reshape(5,5)[:,0].tolist() \n",
    "    bmindex = np.array([idx.split()[1] for idx in capm_out.index]).reshape(5,5)[0].tolist()\n",
    "    results5by5 = pd.DataFrame(dfvar.values.reshape(5,5), index=szindex, columns=bmindex)\n",
    "    return results5by5"
   ]
  },
  {
   "cell_type": "code",
   "execution_count": 30,
   "metadata": {},
   "outputs": [
    {
     "name": "stdout",
     "output_type": "stream",
     "text": [
      "Portfolio Beta:\n"
     ]
    },
    {
     "data": {
      "text/html": [
       "<div>\n",
       "<style>\n",
       "    .dataframe thead tr:only-child th {\n",
       "        text-align: right;\n",
       "    }\n",
       "\n",
       "    .dataframe thead th {\n",
       "        text-align: left;\n",
       "    }\n",
       "\n",
       "    .dataframe tbody tr th {\n",
       "        vertical-align: top;\n",
       "    }\n",
       "</style>\n",
       "<table border=\"1\" class=\"dataframe\">\n",
       "  <thead>\n",
       "    <tr style=\"text-align: right;\">\n",
       "      <th></th>\n",
       "      <th>bm1</th>\n",
       "      <th>bm2</th>\n",
       "      <th>bm3</th>\n",
       "      <th>bm4</th>\n",
       "      <th>bm5</th>\n",
       "    </tr>\n",
       "  </thead>\n",
       "  <tbody>\n",
       "    <tr>\n",
       "      <th>sz1</th>\n",
       "      <td>1.004256</td>\n",
       "      <td>1.013053</td>\n",
       "      <td>1.022078</td>\n",
       "      <td>1.023646</td>\n",
       "      <td>1.056337</td>\n",
       "    </tr>\n",
       "    <tr>\n",
       "      <th>sz2</th>\n",
       "      <td>1.011905</td>\n",
       "      <td>1.034257</td>\n",
       "      <td>1.040501</td>\n",
       "      <td>1.037229</td>\n",
       "      <td>1.057532</td>\n",
       "    </tr>\n",
       "    <tr>\n",
       "      <th>sz3</th>\n",
       "      <td>0.974909</td>\n",
       "      <td>0.999313</td>\n",
       "      <td>1.017646</td>\n",
       "      <td>1.045791</td>\n",
       "      <td>1.097528</td>\n",
       "    </tr>\n",
       "    <tr>\n",
       "      <th>sz4</th>\n",
       "      <td>0.963864</td>\n",
       "      <td>0.979064</td>\n",
       "      <td>1.042761</td>\n",
       "      <td>1.077214</td>\n",
       "      <td>1.091487</td>\n",
       "    </tr>\n",
       "    <tr>\n",
       "      <th>sz5</th>\n",
       "      <td>0.973367</td>\n",
       "      <td>1.056570</td>\n",
       "      <td>1.072836</td>\n",
       "      <td>1.088492</td>\n",
       "      <td>1.054921</td>\n",
       "    </tr>\n",
       "  </tbody>\n",
       "</table>\n",
       "</div>"
      ],
      "text/plain": [
       "          bm1       bm2       bm3       bm4       bm5\n",
       "sz1  1.004256  1.013053  1.022078  1.023646  1.056337\n",
       "sz2  1.011905  1.034257  1.040501  1.037229  1.057532\n",
       "sz3  0.974909  0.999313  1.017646  1.045791  1.097528\n",
       "sz4  0.963864  0.979064  1.042761  1.077214  1.091487\n",
       "sz5  0.973367  1.056570  1.072836  1.088492  1.054921"
      ]
     },
     "execution_count": 30,
     "metadata": {},
     "output_type": "execute_result"
    }
   ],
   "source": [
    "print('Portfolio Beta:')\n",
    "betatb = results_matrix(beta)\n",
    "betatb"
   ]
  },
  {
   "cell_type": "code",
   "execution_count": 31,
   "metadata": {},
   "outputs": [
    {
     "name": "stdout",
     "output_type": "stream",
     "text": [
      "CAPM alpha:\n"
     ]
    },
    {
     "data": {
      "text/html": [
       "<div>\n",
       "<style>\n",
       "    .dataframe thead tr:only-child th {\n",
       "        text-align: right;\n",
       "    }\n",
       "\n",
       "    .dataframe thead th {\n",
       "        text-align: left;\n",
       "    }\n",
       "\n",
       "    .dataframe tbody tr th {\n",
       "        vertical-align: top;\n",
       "    }\n",
       "</style>\n",
       "<table border=\"1\" class=\"dataframe\">\n",
       "  <thead>\n",
       "    <tr style=\"text-align: right;\">\n",
       "      <th></th>\n",
       "      <th>bm1</th>\n",
       "      <th>bm2</th>\n",
       "      <th>bm3</th>\n",
       "      <th>bm4</th>\n",
       "      <th>bm5</th>\n",
       "    </tr>\n",
       "  </thead>\n",
       "  <tbody>\n",
       "    <tr>\n",
       "      <th>sz1</th>\n",
       "      <td>0.016435</td>\n",
       "      <td>0.016883</td>\n",
       "      <td>0.017146</td>\n",
       "      <td>0.016172</td>\n",
       "      <td>0.017011</td>\n",
       "    </tr>\n",
       "    <tr>\n",
       "      <th>sz2</th>\n",
       "      <td>0.006768</td>\n",
       "      <td>0.010654</td>\n",
       "      <td>0.010438</td>\n",
       "      <td>0.010584</td>\n",
       "      <td>0.011888</td>\n",
       "    </tr>\n",
       "    <tr>\n",
       "      <th>sz3</th>\n",
       "      <td>0.003945</td>\n",
       "      <td>0.004637</td>\n",
       "      <td>0.008176</td>\n",
       "      <td>0.007018</td>\n",
       "      <td>0.008312</td>\n",
       "    </tr>\n",
       "    <tr>\n",
       "      <th>sz4</th>\n",
       "      <td>0.003516</td>\n",
       "      <td>0.003055</td>\n",
       "      <td>0.005246</td>\n",
       "      <td>0.007249</td>\n",
       "      <td>0.007561</td>\n",
       "    </tr>\n",
       "    <tr>\n",
       "      <th>sz5</th>\n",
       "      <td>-0.001918</td>\n",
       "      <td>0.001706</td>\n",
       "      <td>0.001806</td>\n",
       "      <td>0.003067</td>\n",
       "      <td>0.005033</td>\n",
       "    </tr>\n",
       "  </tbody>\n",
       "</table>\n",
       "</div>"
      ],
      "text/plain": [
       "          bm1       bm2       bm3       bm4       bm5\n",
       "sz1  0.016435  0.016883  0.017146  0.016172  0.017011\n",
       "sz2  0.006768  0.010654  0.010438  0.010584  0.011888\n",
       "sz3  0.003945  0.004637  0.008176  0.007018  0.008312\n",
       "sz4  0.003516  0.003055  0.005246  0.007249  0.007561\n",
       "sz5 -0.001918  0.001706  0.001806  0.003067  0.005033"
      ]
     },
     "execution_count": 31,
     "metadata": {},
     "output_type": "execute_result"
    }
   ],
   "source": [
    "print('CAPM alpha:')\n",
    "alphatb = results_matrix(alpha)\n",
    "alphatb"
   ]
  },
  {
   "cell_type": "markdown",
   "metadata": {},
   "source": [
    "* Q(3b) Calculate mean portfolio return and compare them with the CAPM estimates, explain any patterns in the data. "
   ]
  },
  {
   "cell_type": "code",
   "execution_count": 32,
   "metadata": {},
   "outputs": [
    {
     "name": "stdout",
     "output_type": "stream",
     "text": [
      "Mean Excess Return:\n"
     ]
    },
    {
     "data": {
      "text/html": [
       "<div>\n",
       "<style>\n",
       "    .dataframe thead tr:only-child th {\n",
       "        text-align: right;\n",
       "    }\n",
       "\n",
       "    .dataframe thead th {\n",
       "        text-align: left;\n",
       "    }\n",
       "\n",
       "    .dataframe tbody tr th {\n",
       "        vertical-align: top;\n",
       "    }\n",
       "</style>\n",
       "<table border=\"1\" class=\"dataframe\">\n",
       "  <thead>\n",
       "    <tr style=\"text-align: right;\">\n",
       "      <th></th>\n",
       "      <th>bm1</th>\n",
       "      <th>bm2</th>\n",
       "      <th>bm3</th>\n",
       "      <th>bm4</th>\n",
       "      <th>bm5</th>\n",
       "    </tr>\n",
       "  </thead>\n",
       "  <tbody>\n",
       "    <tr>\n",
       "      <th>sz1</th>\n",
       "      <td>0.020953</td>\n",
       "      <td>0.021441</td>\n",
       "      <td>0.021745</td>\n",
       "      <td>0.020778</td>\n",
       "      <td>0.021763</td>\n",
       "    </tr>\n",
       "    <tr>\n",
       "      <th>sz2</th>\n",
       "      <td>0.011321</td>\n",
       "      <td>0.015307</td>\n",
       "      <td>0.015119</td>\n",
       "      <td>0.015251</td>\n",
       "      <td>0.016646</td>\n",
       "    </tr>\n",
       "    <tr>\n",
       "      <th>sz3</th>\n",
       "      <td>0.008332</td>\n",
       "      <td>0.009133</td>\n",
       "      <td>0.012754</td>\n",
       "      <td>0.011724</td>\n",
       "      <td>0.013250</td>\n",
       "    </tr>\n",
       "    <tr>\n",
       "      <th>sz4</th>\n",
       "      <td>0.007853</td>\n",
       "      <td>0.007460</td>\n",
       "      <td>0.009938</td>\n",
       "      <td>0.012095</td>\n",
       "      <td>0.012472</td>\n",
       "    </tr>\n",
       "    <tr>\n",
       "      <th>sz5</th>\n",
       "      <td>0.002461</td>\n",
       "      <td>0.006460</td>\n",
       "      <td>0.006633</td>\n",
       "      <td>0.007964</td>\n",
       "      <td>0.009779</td>\n",
       "    </tr>\n",
       "  </tbody>\n",
       "</table>\n",
       "</div>"
      ],
      "text/plain": [
       "          bm1       bm2       bm3       bm4       bm5\n",
       "sz1  0.020953  0.021441  0.021745  0.020778  0.021763\n",
       "sz2  0.011321  0.015307  0.015119  0.015251  0.016646\n",
       "sz3  0.008332  0.009133  0.012754  0.011724  0.013250\n",
       "sz4  0.007853  0.007460  0.009938  0.012095  0.012472\n",
       "sz5  0.002461  0.006460  0.006633  0.007964  0.009779"
      ]
     },
     "execution_count": 32,
     "metadata": {},
     "output_type": "execute_result"
    }
   ],
   "source": [
    "#mean excess returns\n",
    "meanrettb = results_matrix(portret.mean())\n",
    "print('Mean Excess Return:')\n",
    "meanrettb"
   ]
  },
  {
   "cell_type": "markdown",
   "metadata": {},
   "source": [
    "small stocks has larger excess return than big stocks, across all BM quintiles. This larger return cannot be explained by differences in portfolio beta. Value stocks has higher return than growth stocks but the difference is small, it's not clear whether the differences in beta (generally higher for value) can explain the return differences. "
   ]
  },
  {
   "cell_type": "markdown",
   "metadata": {},
   "source": [
    "* Q(3c) plot the mean excess return against CAPM predicted return. Plot both within size (BM) plots and the within BM (size) plots."
   ]
  },
  {
   "cell_type": "code",
   "execution_count": 33,
   "metadata": {},
   "outputs": [
    {
     "data": {
      "image/png": "[encoded data removed]",
      "text/plain": [
       "<matplotlib.figure.Figure at 0x1030b8910>"
      ]
     },
     "metadata": {},
     "output_type": "display_data"
    }
   ],
   "source": [
    "plt.rc('figure')\n",
    "fig, ax = plt.subplots()\n",
    "for ptfl in meanrettb.columns:\n",
    "    plt.plot(betatb[ptfl], meanrettb[ptfl], '-o', label=ptfl)\n",
    "plt.title('Mean excess return v.s. market beta, Within-BM Size Plot')\n",
    "plt.xlabel(r'CAPM BETA($\\beta$)')\n",
    "plt.ylabel('Mean Excess Return')\n",
    "plt.legend()\n",
    "plt.show()"
   ]
  },
  {
   "cell_type": "code",
   "execution_count": 34,
   "metadata": {},
   "outputs": [
    {
     "data": {
      "image/png": "[encoded data removed]",
      "text/plain": [
       "<matplotlib.figure.Figure at 0x1149c1f50>"
      ]
     },
     "metadata": {},
     "output_type": "display_data"
    }
   ],
   "source": [
    "fig, ax = plt.subplots()\n",
    "for ptfl in meanrettb.T.columns:\n",
    "    plt.plot(betatb.T[ptfl], meanrettb.T[ptfl], '-o', label=ptfl)\n",
    "plt.title('Mean excess return v.s. market beta, Within-Size BM Plot')\n",
    "plt.xlabel(r'CAPM BETA($\\beta$)')\n",
    "plt.ylabel('Mean Excess Return')\n",
    "plt.legend()\n",
    "plt.show()"
   ]
  },
  {
   "cell_type": "markdown",
   "metadata": {
    "collapsed": true
   },
   "source": [
    "#### Constructing SMB and HML factors\n",
    "\n",
    "Construct 2x3 portfolios of size and BTM according to the Shanghai Stock Exchange cutoff (MARKETTYPE==1). Calculate the value-weighted returns of the portfolios and then construct SMB and HML factors following Fama French (93) procedure. "
   ]
  },
  {
   "cell_type": "code",
   "execution_count": 35,
   "metadata": {},
   "outputs": [
    {
     "data": {
      "text/html": [
       "<div>\n",
       "<style>\n",
       "    .dataframe thead tr:only-child th {\n",
       "        text-align: right;\n",
       "    }\n",
       "\n",
       "    .dataframe thead th {\n",
       "        text-align: left;\n",
       "    }\n",
       "\n",
       "    .dataframe tbody tr th {\n",
       "        vertical-align: top;\n",
       "    }\n",
       "</style>\n",
       "<table border=\"1\" class=\"dataframe\">\n",
       "  <thead>\n",
       "    <tr style=\"text-align: right;\">\n",
       "      <th></th>\n",
       "      <th>STKCD</th>\n",
       "      <th>MARKETTYPE</th>\n",
       "      <th>ME</th>\n",
       "      <th>year</th>\n",
       "      <th>BE</th>\n",
       "      <th>BTM</th>\n",
       "    </tr>\n",
       "  </thead>\n",
       "  <tbody>\n",
       "    <tr>\n",
       "      <th>11296</th>\n",
       "      <td>600000</td>\n",
       "      <td>1</td>\n",
       "      <td>5.675550e+10</td>\n",
       "      <td>2000</td>\n",
       "      <td>7.776053e+09</td>\n",
       "      <td>0.137010</td>\n",
       "    </tr>\n",
       "    <tr>\n",
       "      <th>11297</th>\n",
       "      <td>600000</td>\n",
       "      <td>1</td>\n",
       "      <td>4.807950e+10</td>\n",
       "      <td>2001</td>\n",
       "      <td>7.444769e+09</td>\n",
       "      <td>0.154843</td>\n",
       "    </tr>\n",
       "    <tr>\n",
       "      <th>11298</th>\n",
       "      <td>600000</td>\n",
       "      <td>1</td>\n",
       "      <td>4.125920e+10</td>\n",
       "      <td>2002</td>\n",
       "      <td>7.066667e+09</td>\n",
       "      <td>0.171275</td>\n",
       "    </tr>\n",
       "  </tbody>\n",
       "</table>\n",
       "</div>"
      ],
      "text/plain": [
       "        STKCD  MARKETTYPE            ME  year            BE       BTM\n",
       "11296  600000           1  5.675550e+10  2000  7.776053e+09  0.137010\n",
       "11297  600000           1  4.807950e+10  2001  7.444769e+09  0.154843\n",
       "11298  600000           1  4.125920e+10  2002  7.066667e+09  0.171275"
      ]
     },
     "execution_count": 35,
     "metadata": {},
     "output_type": "execute_result"
    }
   ],
   "source": [
    "# SSE ME and BTM for cutoff \n",
    "mebe = juneme.merge(decbe, on=['STKCD', 'year'], how='inner')\n",
    "mebe['BTM'] = mebe.BE / mebe.ME\n",
    "mebe = mebe.loc[mebe.MARKETTYPE==1]  #only shanghai market for cutoff calculation\n",
    "mebe.head(3)"
   ]
  },
  {
   "cell_type": "code",
   "execution_count": 36,
   "metadata": {
    "collapsed": true
   },
   "outputs": [],
   "source": [
    "btmcutoff = mebe.groupby('year')['BTM'].quantile([ .3, .7,]).unstack()\n",
    "btmcutoff.columns = ['highcut', 'lowcut']\n",
    "btmcutoff = btmcutoff.reset_index()\n",
    "sizecutoff = pd.DataFrame(mebe.groupby('year')['ME'].quantile(0.5))\n",
    "sizecutoff.columns = ['largecut']\n",
    "sizecutoff = sizecutoff.reset_index()"
   ]
  },
  {
   "cell_type": "code",
   "execution_count": 37,
   "metadata": {},
   "outputs": [
    {
     "data": {
      "text/html": [
       "<div>\n",
       "<style>\n",
       "    .dataframe thead tr:only-child th {\n",
       "        text-align: right;\n",
       "    }\n",
       "\n",
       "    .dataframe thead th {\n",
       "        text-align: left;\n",
       "    }\n",
       "\n",
       "    .dataframe tbody tr th {\n",
       "        vertical-align: top;\n",
       "    }\n",
       "</style>\n",
       "<table border=\"1\" class=\"dataframe\">\n",
       "  <thead>\n",
       "    <tr style=\"text-align: right;\">\n",
       "      <th></th>\n",
       "      <th>ME</th>\n",
       "      <th>BE</th>\n",
       "      <th>BTM</th>\n",
       "    </tr>\n",
       "  </thead>\n",
       "  <tbody>\n",
       "    <tr>\n",
       "      <th>count</th>\n",
       "      <td>1.227700e+04</td>\n",
       "      <td>1.227700e+04</td>\n",
       "      <td>12277.000000</td>\n",
       "    </tr>\n",
       "    <tr>\n",
       "      <th>mean</th>\n",
       "      <td>1.369731e+10</td>\n",
       "      <td>8.007849e+09</td>\n",
       "      <td>0.435102</td>\n",
       "    </tr>\n",
       "    <tr>\n",
       "      <th>std</th>\n",
       "      <td>6.984837e+10</td>\n",
       "      <td>5.492053e+10</td>\n",
       "      <td>0.544921</td>\n",
       "    </tr>\n",
       "    <tr>\n",
       "      <th>min</th>\n",
       "      <td>5.018970e+08</td>\n",
       "      <td>1.310127e+06</td>\n",
       "      <td>0.000253</td>\n",
       "    </tr>\n",
       "    <tr>\n",
       "      <th>25%</th>\n",
       "      <td>1.908148e+09</td>\n",
       "      <td>5.814786e+08</td>\n",
       "      <td>0.211803</td>\n",
       "    </tr>\n",
       "    <tr>\n",
       "      <th>50%</th>\n",
       "      <td>3.492360e+09</td>\n",
       "      <td>1.170211e+09</td>\n",
       "      <td>0.347941</td>\n",
       "    </tr>\n",
       "    <tr>\n",
       "      <th>75%</th>\n",
       "      <td>7.560102e+09</td>\n",
       "      <td>2.788825e+09</td>\n",
       "      <td>0.551965</td>\n",
       "    </tr>\n",
       "    <tr>\n",
       "      <th>max</th>\n",
       "      <td>2.419116e+12</td>\n",
       "      <td>1.537304e+12</td>\n",
       "      <td>27.114589</td>\n",
       "    </tr>\n",
       "  </tbody>\n",
       "</table>\n",
       "</div>"
      ],
      "text/plain": [
       "                 ME            BE           BTM\n",
       "count  1.227700e+04  1.227700e+04  12277.000000\n",
       "mean   1.369731e+10  8.007849e+09      0.435102\n",
       "std    6.984837e+10  5.492053e+10      0.544921\n",
       "min    5.018970e+08  1.310127e+06      0.000253\n",
       "25%    1.908148e+09  5.814786e+08      0.211803\n",
       "50%    3.492360e+09  1.170211e+09      0.347941\n",
       "75%    7.560102e+09  2.788825e+09      0.551965\n",
       "max    2.419116e+12  1.537304e+12     27.114589"
      ]
     },
     "execution_count": 37,
     "metadata": {},
     "output_type": "execute_result"
    }
   ],
   "source": [
    "mebe[['ME', 'BE', 'BTM']].describe()"
   ]
  },
  {
   "cell_type": "code",
   "execution_count": 38,
   "metadata": {},
   "outputs": [
    {
     "data": {
      "text/html": [
       "<div>\n",
       "<style>\n",
       "    .dataframe thead tr:only-child th {\n",
       "        text-align: right;\n",
       "    }\n",
       "\n",
       "    .dataframe thead th {\n",
       "        text-align: left;\n",
       "    }\n",
       "\n",
       "    .dataframe tbody tr th {\n",
       "        vertical-align: top;\n",
       "    }\n",
       "</style>\n",
       "<table border=\"1\" class=\"dataframe\">\n",
       "  <thead>\n",
       "    <tr style=\"text-align: right;\">\n",
       "      <th></th>\n",
       "      <th>STKCD</th>\n",
       "      <th>MARKETTYPE</th>\n",
       "      <th>TRDMNT</th>\n",
       "      <th>year</th>\n",
       "      <th>ret</th>\n",
       "      <th>ME</th>\n",
       "      <th>BE</th>\n",
       "      <th>BTM</th>\n",
       "      <th>highcut</th>\n",
       "      <th>lowcut</th>\n",
       "      <th>largecut</th>\n",
       "      <th>bmport</th>\n",
       "      <th>szport</th>\n",
       "      <th>bmsz</th>\n",
       "    </tr>\n",
       "  </thead>\n",
       "  <tbody>\n",
       "    <tr>\n",
       "      <th>0</th>\n",
       "      <td>1</td>\n",
       "      <td>4</td>\n",
       "      <td>2000-07-31</td>\n",
       "      <td>2000</td>\n",
       "      <td>0.020960</td>\n",
       "      <td>2.813499e+10</td>\n",
       "      <td>2.900831e+09</td>\n",
       "      <td>0.103104</td>\n",
       "      <td>0.138547</td>\n",
       "      <td>0.23676</td>\n",
       "      <td>3.277852e+09</td>\n",
       "      <td>low</td>\n",
       "      <td>big</td>\n",
       "      <td>lowbig</td>\n",
       "    </tr>\n",
       "    <tr>\n",
       "      <th>1</th>\n",
       "      <td>1</td>\n",
       "      <td>4</td>\n",
       "      <td>2000-08-31</td>\n",
       "      <td>2000</td>\n",
       "      <td>-0.041059</td>\n",
       "      <td>2.813499e+10</td>\n",
       "      <td>2.900831e+09</td>\n",
       "      <td>0.103104</td>\n",
       "      <td>0.138547</td>\n",
       "      <td>0.23676</td>\n",
       "      <td>3.277852e+09</td>\n",
       "      <td>low</td>\n",
       "      <td>big</td>\n",
       "      <td>lowbig</td>\n",
       "    </tr>\n",
       "    <tr>\n",
       "      <th>2</th>\n",
       "      <td>1</td>\n",
       "      <td>4</td>\n",
       "      <td>2000-09-30</td>\n",
       "      <td>2000</td>\n",
       "      <td>-0.044507</td>\n",
       "      <td>2.813499e+10</td>\n",
       "      <td>2.900831e+09</td>\n",
       "      <td>0.103104</td>\n",
       "      <td>0.138547</td>\n",
       "      <td>0.23676</td>\n",
       "      <td>3.277852e+09</td>\n",
       "      <td>low</td>\n",
       "      <td>big</td>\n",
       "      <td>lowbig</td>\n",
       "    </tr>\n",
       "  </tbody>\n",
       "</table>\n",
       "</div>"
      ],
      "text/plain": [
       "   STKCD  MARKETTYPE     TRDMNT  year       ret            ME            BE  \\\n",
       "0      1           4 2000-07-31  2000  0.020960  2.813499e+10  2.900831e+09   \n",
       "1      1           4 2000-08-31  2000 -0.041059  2.813499e+10  2.900831e+09   \n",
       "2      1           4 2000-09-30  2000 -0.044507  2.813499e+10  2.900831e+09   \n",
       "\n",
       "        BTM   highcut   lowcut      largecut bmport szport    bmsz  \n",
       "0  0.103104  0.138547  0.23676  3.277852e+09    low    big  lowbig  \n",
       "1  0.103104  0.138547  0.23676  3.277852e+09    low    big  lowbig  \n",
       "2  0.103104  0.138547  0.23676  3.277852e+09    low    big  lowbig  "
      ]
     },
     "execution_count": 38,
     "metadata": {},
     "output_type": "execute_result"
    }
   ],
   "source": [
    "# merge cutoff point back to bm portfolios\n",
    "\n",
    "stkretcut = stkret_btm.merge(btmcutoff, on=['year'], how='inner')\n",
    "stkretcut = stkretcut.merge(sizecutoff, on=['year'], how='inner')\n",
    "stkretcut.loc[stkretcut.BTM>=stkretcut.highcut, 'bmport'] = 'high'\n",
    "stkretcut.loc[(stkretcut.lowcut<=stkretcut.BTM) & (stkretcut.BTM<stkretcut.highcut), 'bmport'] = 'medium'\n",
    "stkretcut.loc[stkretcut.BTM<stkretcut.lowcut, 'bmport'] = 'low'\n",
    "stkretcut.loc[stkretcut.ME>=stkretcut.largecut, 'szport'] = 'big'\n",
    "stkretcut.loc[stkretcut.ME<stkretcut.largecut, 'szport'] = 'small'\n",
    "stkretcut['bmsz'] = stkretcut.bmport + stkretcut.szport\n",
    "stkretcut.head(3)"
   ]
  },
  {
   "cell_type": "markdown",
   "metadata": {},
   "source": [
    "calculate value weighted return within each 2X3 portfolio, then construct factors using these portfolio returns."
   ]
  },
  {
   "cell_type": "code",
   "execution_count": 39,
   "metadata": {
    "collapsed": true
   },
   "outputs": [],
   "source": [
    "# you can use a lambda function to calculate value weighted returns\n",
    "# Here, I calculate the weight explicitly\n",
    "# the weight here is the weight in the portfolio formation\n",
    "# Other more complicated weighting would not change the answer materially. \n",
    "\n",
    "g = stkretcut.groupby(['year', 'bmsz'])\n",
    "stkretcut['w'] = stkretcut.ME / g.ME.transform(\"sum\")\n",
    "stkretcut['wret'] = stkretcut.ret * stkretcut.w\n",
    "vwportret = stkretcut.groupby(['TRDMNT', 'bmsz'])['wret'].sum().reset_index()"
   ]
  },
  {
   "cell_type": "code",
   "execution_count": 40,
   "metadata": {
    "collapsed": true
   },
   "outputs": [],
   "source": [
    "h = vwportret.loc[vwportret.bmsz.str.contains('high'), ['wret', 'TRDMNT']].groupby('TRDMNT')['wret'].mean()\n",
    "l = vwportret.loc[vwportret.bmsz.str.contains('low'), ['wret', 'TRDMNT']].groupby('TRDMNT')['wret'].mean()\n",
    "hml = h-l\n",
    "hml.name = 'HML'"
   ]
  },
  {
   "cell_type": "code",
   "execution_count": 41,
   "metadata": {
    "collapsed": true
   },
   "outputs": [],
   "source": [
    "s = vwportret.loc[vwportret.bmsz.str.contains('small'), ['wret', 'TRDMNT']].groupby('TRDMNT')['wret'].mean()\n",
    "b = vwportret.loc[vwportret.bmsz.str.contains('big'), ['wret', 'TRDMNT']].groupby('TRDMNT')['wret'].mean()\n",
    "smb = s-b\n",
    "smb.name = 'SMB'"
   ]
  },
  {
   "cell_type": "markdown",
   "metadata": {
    "collapsed": true
   },
   "source": [
    "plot cumulative returns of the HML and SMB factors"
   ]
  },
  {
   "cell_type": "code",
   "execution_count": 42,
   "metadata": {},
   "outputs": [
    {
     "data": {
      "image/png": "[encoded data removed]",
      "text/plain": [
       "<matplotlib.figure.Figure at 0x10fb1e310>"
      ]
     },
     "metadata": {},
     "output_type": "display_data"
    }
   ],
   "source": [
    "cumhml = (1+hml).cumprod()\n",
    "cumsbm = (1+smb).cumprod()\n",
    "pd.concat([cumhml, cumsbm], axis=1).plot()\n",
    "plt.show()"
   ]
  },
  {
   "cell_type": "markdown",
   "metadata": {},
   "source": [
    "* Q(4a) Joinning factors with 25 portfolio returns, run FF 3 factor model. Does the coefficients estimates make sense? Get predicted returns."
   ]
  },
  {
   "cell_type": "code",
   "execution_count": 43,
   "metadata": {},
   "outputs": [
    {
     "data": {
      "text/html": [
       "<div>\n",
       "<style>\n",
       "    .dataframe thead tr:only-child th {\n",
       "        text-align: right;\n",
       "    }\n",
       "\n",
       "    .dataframe thead th {\n",
       "        text-align: left;\n",
       "    }\n",
       "\n",
       "    .dataframe tbody tr th {\n",
       "        vertical-align: top;\n",
       "    }\n",
       "</style>\n",
       "<table border=\"1\" class=\"dataframe\">\n",
       "  <thead>\n",
       "    <tr style=\"text-align: right;\">\n",
       "      <th></th>\n",
       "      <th>port</th>\n",
       "      <th>ret</th>\n",
       "      <th>mktret</th>\n",
       "      <th>rf</th>\n",
       "      <th>retrf</th>\n",
       "      <th>mktretrf</th>\n",
       "      <th>HML</th>\n",
       "      <th>SMB</th>\n",
       "    </tr>\n",
       "    <tr>\n",
       "      <th>TRDMNT</th>\n",
       "      <th></th>\n",
       "      <th></th>\n",
       "      <th></th>\n",
       "      <th></th>\n",
       "      <th></th>\n",
       "      <th></th>\n",
       "      <th></th>\n",
       "      <th></th>\n",
       "    </tr>\n",
       "  </thead>\n",
       "  <tbody>\n",
       "    <tr>\n",
       "      <th>2000-07-31</th>\n",
       "      <td>sz1 bm1</td>\n",
       "      <td>0.096083</td>\n",
       "      <td>0.052413</td>\n",
       "      <td>0.001856</td>\n",
       "      <td>0.094227</td>\n",
       "      <td>0.050557</td>\n",
       "      <td>0.003079</td>\n",
       "      <td>0.001483</td>\n",
       "    </tr>\n",
       "    <tr>\n",
       "      <th>2000-07-31</th>\n",
       "      <td>sz1 bm2</td>\n",
       "      <td>0.075515</td>\n",
       "      <td>0.052413</td>\n",
       "      <td>0.001856</td>\n",
       "      <td>0.073659</td>\n",
       "      <td>0.050557</td>\n",
       "      <td>0.003079</td>\n",
       "      <td>0.001483</td>\n",
       "    </tr>\n",
       "    <tr>\n",
       "      <th>2000-07-31</th>\n",
       "      <td>sz1 bm3</td>\n",
       "      <td>0.090938</td>\n",
       "      <td>0.052413</td>\n",
       "      <td>0.001856</td>\n",
       "      <td>0.089082</td>\n",
       "      <td>0.050557</td>\n",
       "      <td>0.003079</td>\n",
       "      <td>0.001483</td>\n",
       "    </tr>\n",
       "  </tbody>\n",
       "</table>\n",
       "</div>"
      ],
      "text/plain": [
       "               port       ret    mktret        rf     retrf  mktretrf  \\\n",
       "TRDMNT                                                                  \n",
       "2000-07-31  sz1 bm1  0.096083  0.052413  0.001856  0.094227  0.050557   \n",
       "2000-07-31  sz1 bm2  0.075515  0.052413  0.001856  0.073659  0.050557   \n",
       "2000-07-31  sz1 bm3  0.090938  0.052413  0.001856  0.089082  0.050557   \n",
       "\n",
       "                 HML       SMB  \n",
       "TRDMNT                          \n",
       "2000-07-31  0.003079  0.001483  \n",
       "2000-07-31  0.003079  0.001483  \n",
       "2000-07-31  0.003079  0.001483  "
      ]
     },
     "execution_count": 43,
     "metadata": {},
     "output_type": "execute_result"
    }
   ],
   "source": [
    "bmsz = bmsz.join(hml)\n",
    "bmsz = bmsz.join(smb)\n",
    "bmsz.head(3)"
   ]
  },
  {
   "cell_type": "code",
   "execution_count": 44,
   "metadata": {},
   "outputs": [
    {
     "data": {
      "text/html": [
       "<div>\n",
       "<style>\n",
       "    .dataframe thead tr:only-child th {\n",
       "        text-align: right;\n",
       "    }\n",
       "\n",
       "    .dataframe thead th {\n",
       "        text-align: left;\n",
       "    }\n",
       "\n",
       "    .dataframe tbody tr th {\n",
       "        vertical-align: top;\n",
       "    }\n",
       "</style>\n",
       "<table border=\"1\" class=\"dataframe\">\n",
       "  <thead>\n",
       "    <tr style=\"text-align: right;\">\n",
       "      <th></th>\n",
       "      <th>const</th>\n",
       "      <th>mktretrf</th>\n",
       "      <th>SMB</th>\n",
       "      <th>HML</th>\n",
       "    </tr>\n",
       "    <tr>\n",
       "      <th>port</th>\n",
       "      <th></th>\n",
       "      <th></th>\n",
       "      <th></th>\n",
       "      <th></th>\n",
       "    </tr>\n",
       "  </thead>\n",
       "  <tbody>\n",
       "    <tr>\n",
       "      <th>sz1 bm1</th>\n",
       "      <td>0.006288</td>\n",
       "      <td>0.927687</td>\n",
       "      <td>14.612588</td>\n",
       "      <td>-2.232115</td>\n",
       "    </tr>\n",
       "    <tr>\n",
       "      <th>sz1 bm2</th>\n",
       "      <td>0.007812</td>\n",
       "      <td>0.938491</td>\n",
       "      <td>13.925465</td>\n",
       "      <td>-4.338794</td>\n",
       "    </tr>\n",
       "    <tr>\n",
       "      <th>sz1 bm3</th>\n",
       "      <td>0.007267</td>\n",
       "      <td>0.946078</td>\n",
       "      <td>14.431634</td>\n",
       "      <td>-2.730320</td>\n",
       "    </tr>\n",
       "  </tbody>\n",
       "</table>\n",
       "</div>"
      ],
      "text/plain": [
       "            const  mktretrf        SMB       HML\n",
       "port                                            \n",
       "sz1 bm1  0.006288  0.927687  14.612588 -2.232115\n",
       "sz1 bm2  0.007812  0.938491  13.925465 -4.338794\n",
       "sz1 bm3  0.007267  0.946078  14.431634 -2.730320"
      ]
     },
     "execution_count": 44,
     "metadata": {},
     "output_type": "execute_result"
    }
   ],
   "source": [
    "ff3m = bmsz.groupby(['port']).apply(ols_res, ['mktretrf', 'SMB', 'HML'], ['retrf'])\n",
    "ff3m.head(3)"
   ]
  },
  {
   "cell_type": "code",
   "execution_count": 45,
   "metadata": {
    "collapsed": true
   },
   "outputs": [],
   "source": [
    "f3beta = results_matrix(ff3m['mktretrf'])\n",
    "f3smb = results_matrix(ff3m['SMB'])\n",
    "f3hml = results_matrix(ff3m['HML'])"
   ]
  },
  {
   "cell_type": "code",
   "execution_count": 46,
   "metadata": {},
   "outputs": [
    {
     "name": "stdout",
     "output_type": "stream",
     "text": [
      "FF 3 factor model factor loadings\n"
     ]
    },
    {
     "data": {
      "text/html": [
       "<div>\n",
       "<style>\n",
       "    .dataframe thead tr:only-child th {\n",
       "        text-align: right;\n",
       "    }\n",
       "\n",
       "    .dataframe thead th {\n",
       "        text-align: left;\n",
       "    }\n",
       "\n",
       "    .dataframe tbody tr th {\n",
       "        vertical-align: top;\n",
       "    }\n",
       "</style>\n",
       "<table border=\"1\" class=\"dataframe\">\n",
       "  <thead>\n",
       "    <tr>\n",
       "      <th></th>\n",
       "      <th colspan=\"5\" halign=\"left\">b</th>\n",
       "      <th colspan=\"5\" halign=\"left\">s</th>\n",
       "      <th colspan=\"5\" halign=\"left\">h</th>\n",
       "    </tr>\n",
       "    <tr>\n",
       "      <th></th>\n",
       "      <th>bm1</th>\n",
       "      <th>bm2</th>\n",
       "      <th>bm3</th>\n",
       "      <th>bm4</th>\n",
       "      <th>bm5</th>\n",
       "      <th>bm1</th>\n",
       "      <th>bm2</th>\n",
       "      <th>bm3</th>\n",
       "      <th>bm4</th>\n",
       "      <th>bm5</th>\n",
       "      <th>bm1</th>\n",
       "      <th>bm2</th>\n",
       "      <th>bm3</th>\n",
       "      <th>bm4</th>\n",
       "      <th>bm5</th>\n",
       "    </tr>\n",
       "  </thead>\n",
       "  <tbody>\n",
       "    <tr>\n",
       "      <th>sz1</th>\n",
       "      <td>0.927687</td>\n",
       "      <td>0.938491</td>\n",
       "      <td>0.946078</td>\n",
       "      <td>0.952728</td>\n",
       "      <td>0.985362</td>\n",
       "      <td>14.612588</td>\n",
       "      <td>13.925465</td>\n",
       "      <td>14.431634</td>\n",
       "      <td>13.678294</td>\n",
       "      <td>14.095156</td>\n",
       "      <td>-2.232115</td>\n",
       "      <td>-4.338794</td>\n",
       "      <td>-2.730320</td>\n",
       "      <td>-1.041973</td>\n",
       "      <td>1.845783</td>\n",
       "    </tr>\n",
       "    <tr>\n",
       "      <th>sz2</th>\n",
       "      <td>0.944901</td>\n",
       "      <td>0.966060</td>\n",
       "      <td>0.973782</td>\n",
       "      <td>0.971481</td>\n",
       "      <td>0.992397</td>\n",
       "      <td>12.184702</td>\n",
       "      <td>12.807438</td>\n",
       "      <td>12.758023</td>\n",
       "      <td>12.749560</td>\n",
       "      <td>13.456941</td>\n",
       "      <td>-6.241818</td>\n",
       "      <td>-3.463913</td>\n",
       "      <td>-1.766478</td>\n",
       "      <td>-0.477440</td>\n",
       "      <td>5.407216</td>\n",
       "    </tr>\n",
       "    <tr>\n",
       "      <th>sz3</th>\n",
       "      <td>0.911607</td>\n",
       "      <td>0.939779</td>\n",
       "      <td>0.958711</td>\n",
       "      <td>0.985358</td>\n",
       "      <td>1.042360</td>\n",
       "      <td>11.274794</td>\n",
       "      <td>10.725508</td>\n",
       "      <td>11.009342</td>\n",
       "      <td>12.005665</td>\n",
       "      <td>11.609676</td>\n",
       "      <td>-7.581812</td>\n",
       "      <td>-6.262590</td>\n",
       "      <td>-3.412233</td>\n",
       "      <td>1.600726</td>\n",
       "      <td>6.088134</td>\n",
       "    </tr>\n",
       "    <tr>\n",
       "      <th>sz4</th>\n",
       "      <td>0.916607</td>\n",
       "      <td>0.932044</td>\n",
       "      <td>0.993011</td>\n",
       "      <td>1.027871</td>\n",
       "      <td>1.045102</td>\n",
       "      <td>7.807929</td>\n",
       "      <td>8.214998</td>\n",
       "      <td>9.314589</td>\n",
       "      <td>9.803714</td>\n",
       "      <td>9.894713</td>\n",
       "      <td>-9.995470</td>\n",
       "      <td>-6.768257</td>\n",
       "      <td>-2.729987</td>\n",
       "      <td>1.316121</td>\n",
       "      <td>6.067305</td>\n",
       "    </tr>\n",
       "    <tr>\n",
       "      <th>sz5</th>\n",
       "      <td>0.947910</td>\n",
       "      <td>1.033981</td>\n",
       "      <td>1.050148</td>\n",
       "      <td>1.065823</td>\n",
       "      <td>1.037429</td>\n",
       "      <td>3.336795</td>\n",
       "      <td>3.574951</td>\n",
       "      <td>4.176186</td>\n",
       "      <td>4.625582</td>\n",
       "      <td>4.606343</td>\n",
       "      <td>-11.572492</td>\n",
       "      <td>-5.896963</td>\n",
       "      <td>-1.754819</td>\n",
       "      <td>1.470419</td>\n",
       "      <td>8.516716</td>\n",
       "    </tr>\n",
       "  </tbody>\n",
       "</table>\n",
       "</div>"
      ],
      "text/plain": [
       "            b                                                  s             \\\n",
       "          bm1       bm2       bm3       bm4       bm5        bm1        bm2   \n",
       "sz1  0.927687  0.938491  0.946078  0.952728  0.985362  14.612588  13.925465   \n",
       "sz2  0.944901  0.966060  0.973782  0.971481  0.992397  12.184702  12.807438   \n",
       "sz3  0.911607  0.939779  0.958711  0.985358  1.042360  11.274794  10.725508   \n",
       "sz4  0.916607  0.932044  0.993011  1.027871  1.045102   7.807929   8.214998   \n",
       "sz5  0.947910  1.033981  1.050148  1.065823  1.037429   3.336795   3.574951   \n",
       "\n",
       "                                              h                                \\\n",
       "           bm3        bm4        bm5        bm1       bm2       bm3       bm4   \n",
       "sz1  14.431634  13.678294  14.095156  -2.232115 -4.338794 -2.730320 -1.041973   \n",
       "sz2  12.758023  12.749560  13.456941  -6.241818 -3.463913 -1.766478 -0.477440   \n",
       "sz3  11.009342  12.005665  11.609676  -7.581812 -6.262590 -3.412233  1.600726   \n",
       "sz4   9.314589   9.803714   9.894713  -9.995470 -6.768257 -2.729987  1.316121   \n",
       "sz5   4.176186   4.625582   4.606343 -11.572492 -5.896963 -1.754819  1.470419   \n",
       "\n",
       "               \n",
       "          bm5  \n",
       "sz1  1.845783  \n",
       "sz2  5.407216  \n",
       "sz3  6.088134  \n",
       "sz4  6.067305  \n",
       "sz5  8.516716  "
      ]
     },
     "execution_count": 46,
     "metadata": {},
     "output_type": "execute_result"
    }
   ],
   "source": [
    "print('FF 3 factor model factor loadings')\n",
    "bsh = pd.concat([f3beta, f3smb, f3hml], axis=1, keys=['b', 's', 'h'])\n",
    "bsh"
   ]
  },
  {
   "cell_type": "code",
   "execution_count": 47,
   "metadata": {},
   "outputs": [
    {
     "data": {
      "text/html": [
       "<div>\n",
       "<style>\n",
       "    .dataframe thead tr:only-child th {\n",
       "        text-align: right;\n",
       "    }\n",
       "\n",
       "    .dataframe thead th {\n",
       "        text-align: left;\n",
       "    }\n",
       "\n",
       "    .dataframe tbody tr th {\n",
       "        vertical-align: top;\n",
       "    }\n",
       "</style>\n",
       "<table border=\"1\" class=\"dataframe\">\n",
       "  <thead>\n",
       "    <tr style=\"text-align: right;\">\n",
       "      <th></th>\n",
       "      <th>bm1</th>\n",
       "      <th>bm2</th>\n",
       "      <th>bm3</th>\n",
       "      <th>bm4</th>\n",
       "      <th>bm5</th>\n",
       "    </tr>\n",
       "  </thead>\n",
       "  <tbody>\n",
       "    <tr>\n",
       "      <th>sz1</th>\n",
       "      <td>0.006288</td>\n",
       "      <td>0.007812</td>\n",
       "      <td>0.007267</td>\n",
       "      <td>0.006391</td>\n",
       "      <td>0.006141</td>\n",
       "    </tr>\n",
       "    <tr>\n",
       "      <th>sz2</th>\n",
       "      <td>-0.000508</td>\n",
       "      <td>0.002168</td>\n",
       "      <td>0.001529</td>\n",
       "      <td>0.001333</td>\n",
       "      <td>0.000524</td>\n",
       "    </tr>\n",
       "    <tr>\n",
       "      <th>sz3</th>\n",
       "      <td>-0.002299</td>\n",
       "      <td>-0.001560</td>\n",
       "      <td>0.000999</td>\n",
       "      <td>-0.002247</td>\n",
       "      <td>-0.001876</td>\n",
       "    </tr>\n",
       "    <tr>\n",
       "      <th>sz4</th>\n",
       "      <td>0.000476</td>\n",
       "      <td>-0.001158</td>\n",
       "      <td>-0.000868</td>\n",
       "      <td>-0.000320</td>\n",
       "      <td>-0.001360</td>\n",
       "    </tr>\n",
       "    <tr>\n",
       "      <th>sz5</th>\n",
       "      <td>-0.001243</td>\n",
       "      <td>0.000671</td>\n",
       "      <td>-0.000792</td>\n",
       "      <td>-0.000734</td>\n",
       "      <td>-0.000660</td>\n",
       "    </tr>\n",
       "  </tbody>\n",
       "</table>\n",
       "</div>"
      ],
      "text/plain": [
       "          bm1       bm2       bm3       bm4       bm5\n",
       "sz1  0.006288  0.007812  0.007267  0.006391  0.006141\n",
       "sz2 -0.000508  0.002168  0.001529  0.001333  0.000524\n",
       "sz3 -0.002299 -0.001560  0.000999 -0.002247 -0.001876\n",
       "sz4  0.000476 -0.001158 -0.000868 -0.000320 -0.001360\n",
       "sz5 -0.001243  0.000671 -0.000792 -0.000734 -0.000660"
      ]
     },
     "execution_count": 47,
     "metadata": {},
     "output_type": "execute_result"
    }
   ],
   "source": [
    "f3alpha = results_matrix(ff3m['const'])\n",
    "f3alpha"
   ]
  },
  {
   "cell_type": "code",
   "execution_count": 48,
   "metadata": {
    "collapsed": true
   },
   "outputs": [],
   "source": [
    "coeff = ff3m.drop('const', axis=1)\n",
    "predictmean = coeff.dot(bmsz[['mktretrf', 'SMB', 'HML']].mean())"
   ]
  },
  {
   "cell_type": "markdown",
   "metadata": {},
   "source": [
    "* Q(4b) plot the Mean portfolio return against the Fama-French 3 factor predicted return. Again for both Within-BM Size Plot and Within-Size BM Plot. "
   ]
  },
  {
   "cell_type": "code",
   "execution_count": 49,
   "metadata": {
    "collapsed": true
   },
   "outputs": [],
   "source": [
    "def plotpred(modelpredictmean, actualmean, pltmodel, indextable):\n",
    "    fig, ax = plt.subplots()\n",
    "    for ptfl in indextable.columns:\n",
    "        plt.plot(modelpredictmean[ptfl], actualmean[ptfl], '-o', label=ptfl)\n",
    "    plt.title('Mean excess return v.s. Predicted Mean Excess Return with FF-3 Factor, %s' %pltmodel)\n",
    "    plt.xlabel('Model Predicted Mean Excess Return')\n",
    "    plt.ylabel('Actual Mean Excess Return')\n",
    "    plt.legend()   \n",
    "    plt.show()"
   ]
  },
  {
   "cell_type": "code",
   "execution_count": 50,
   "metadata": {},
   "outputs": [
    {
     "data": {
      "image/png": "[encoded data removed]",
      "text/plain": [
       "<matplotlib.figure.Figure at 0x10fb102d0>"
      ]
     },
     "metadata": {},
     "output_type": "display_data"
    }
   ],
   "source": [
    "plotpred(results_matrix(predictmean), meanrettb ,'Within-BM Size Plot', meanrettb)"
   ]
  },
  {
   "cell_type": "code",
   "execution_count": 51,
   "metadata": {},
   "outputs": [
    {
     "data": {
      "image/png": "[encoded data removed]",
      "text/plain": [
       "<matplotlib.figure.Figure at 0x11000e250>"
      ]
     },
     "metadata": {},
     "output_type": "display_data"
    }
   ],
   "source": [
    "plotpred(results_matrix(predictmean).T, meanrettb.T, 'Within-Size BM Plot', meanrettb.T)"
   ]
  },
  {
   "cell_type": "markdown",
   "metadata": {
    "collapsed": true
   },
   "source": [
    "* Q(4c) How do the graphs compare to the earlier CAPM plots? In the U.S. data, the most severe violation of CAPM happens along BTM portfolios, What about China? Can you explain why this factor comes up so significant in the Chinese markets?"
   ]
  },
  {
   "cell_type": "markdown",
   "metadata": {},
   "source": [
    "The more severe violation is the big vs small firm dimention. This can be seen from the within BM plots, which is corrected after the 3 factor model. Explanation can be many. One such explanation is that liquidity problem is more severe in the Chinese markets, which demands a higher premium. HML is not as much a problem possiblly because the delisting and financial distress risk is smaller among Chinese listed firms. "
   ]
  },
  {
   "cell_type": "code",
   "execution_count": null,
   "metadata": {
    "collapsed": true
   },
   "outputs": [],
   "source": []
  }
 ],
 "metadata": {
  "anaconda-cloud": {},
  "hide_input": false,
  "kernelspec": {
   "display_name": "Python 3",
   "language": "python",
   "name": "python3"
  },
  "language_info": {
   "codemirror_mode": {
    "name": "ipython",
    "version": 3
   },
   "file_extension": ".py",
   "mimetype": "text/x-python",
   "name": "python",
   "nbconvert_exporter": "python",
   "pygments_lexer": "ipython3",
   "version": "3.6.1"
  },
  "latex_envs": {
   "bibliofile": "biblio.bib",
   "cite_by": "apalike",
   "current_citInitial": 1,
   "eqLabelWithNumbers": true,
   "eqNumInitial": 0
  }
 },
 "nbformat": 4,
 "nbformat_minor": 1
}
