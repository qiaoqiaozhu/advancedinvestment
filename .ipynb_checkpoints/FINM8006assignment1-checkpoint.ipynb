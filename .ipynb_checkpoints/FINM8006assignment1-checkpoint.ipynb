{
 "cells": [
  {
   "cell_type": "code",
   "execution_count": 1,
   "metadata": {
    "collapsed": true
   },
   "outputs": [],
   "source": [
    "from __future__ import division\n",
    "from __future__ import print_function\n",
    "import numpy as np\n",
    "from pandas import Series, DataFrame\n",
    "from pandas.tseries.offsets import MonthEnd\n",
    "import pandas as pd\n",
    "import matplotlib.pyplot as plt\n",
    "%matplotlib inline\n",
    "import seaborn as sns\n",
    "\n",
    "import datetime\n",
    "plt.rc('figure', figsize=(16, 10))\n",
    "from numpy.linalg import inv\n",
    "from numpy import dot"
   ]
  },
  {
   "cell_type": "markdown",
   "metadata": {},
   "source": [
    "# FINM 8006 Assignment 1"
   ]
  },
  {
   "cell_type": "markdown",
   "metadata": {},
   "source": [
    "## Instructions"
   ]
  },
  {
   "cell_type": "markdown",
   "metadata": {},
   "source": [
    "* You have the option of completing your assignment directly in this notebook. You should have Jupyter (conda install jupyter) installed if you want to use this. \n",
    "* You can alternatively write your answers in the editor of your choosing (Words, etc.), and run your code in Python or R in a separate file. \n",
    "* If you want to use R, I suggest you use R studio and [R Markdown](http://rmarkdown.rstudio.com)\n",
    "* Some parts contains hints in code, you don't neccesary need to follow the exact hint. If you want to follow the hint, change the cell type to code cell, and complete the code. "
   ]
  },
  {
   "cell_type": "markdown",
   "metadata": {},
   "source": [
    "### Quick Jupyter notebook\n",
    "* You can add or delete cell as you go\n",
    "* Cells can be a [Markdown](https://github.com/adam-p/markdown-here/wiki/Markdown-Cheatsheet#html) cell in which you write your texts and maths. Your math can be typed in [latex symbols](https://oeis.org/wiki/List_of_LaTeX_mathematical_symbols) using `$$ math $$` in a markdown cell. \n",
    "* Default cells are code cells in which you run your python code. \n",
    "* When you are ready to run a (markdown or code) cell, press RETURN + SHIFT at the same time to run the cell.  \n",
    "* Jupyter uses Ipython, so that your codes can be run cell by cell. "
   ]
  },
  {
   "cell_type": "markdown",
   "metadata": {},
   "source": [
    "## Set up and Questions"
   ]
  },
  {
   "cell_type": "markdown",
   "metadata": {},
   "source": [
    "The file `asgn1.csv` has monthly returns (RET) of Apple, IBM, Microsoft, Nike, and Disney (PERMNO = 14593, 12490, 10107, 57665, 26403) from 1994 to Oct 2015. It contains also data on risk free rates (rf). \n",
    "\n",
    "You decide that your estimation of the mean and variance of the risky stocks are from data from the past 36 months.  The risk free rate is known at the beginning of the periods. "
   ]
  },
  {
   "cell_type": "code",
   "execution_count": 2,
   "metadata": {
    "collapsed": false
   },
   "outputs": [
    {
     "data": {
      "text/html": [
       "<div>\n",
       "<table border=\"1\" class=\"dataframe\">\n",
       "  <thead>\n",
       "    <tr style=\"text-align: right;\">\n",
       "      <th></th>\n",
       "      <th>stocks</th>\n",
       "      <th>PERMNO</th>\n",
       "    </tr>\n",
       "  </thead>\n",
       "  <tbody>\n",
       "    <tr>\n",
       "      <th>3</th>\n",
       "      <td>Microsoft</td>\n",
       "      <td>10107</td>\n",
       "    </tr>\n",
       "    <tr>\n",
       "      <th>2</th>\n",
       "      <td>IBM</td>\n",
       "      <td>12490</td>\n",
       "    </tr>\n",
       "    <tr>\n",
       "      <th>0</th>\n",
       "      <td>Apple</td>\n",
       "      <td>14593</td>\n",
       "    </tr>\n",
       "    <tr>\n",
       "      <th>1</th>\n",
       "      <td>Disney</td>\n",
       "      <td>26403</td>\n",
       "    </tr>\n",
       "    <tr>\n",
       "      <th>4</th>\n",
       "      <td>Nike</td>\n",
       "      <td>57665</td>\n",
       "    </tr>\n",
       "  </tbody>\n",
       "</table>\n",
       "</div>"
      ],
      "text/plain": [
       "      stocks  PERMNO\n",
       "3  Microsoft   10107\n",
       "2        IBM   12490\n",
       "0      Apple   14593\n",
       "1     Disney   26403\n",
       "4       Nike   57665"
      ]
     },
     "execution_count": 2,
     "metadata": {},
     "output_type": "execute_result"
    }
   ],
   "source": [
    "stocks=DataFrame([{'Apple':14593, 'IBM':12490, 'Microsoft':10107, 'Nike':57665, 'Disney':26403}], \n",
    "                 index=['PERMNO']).T\n",
    "stocks.index.name = 'stocks'\n",
    "stocks = stocks.reset_index()\n",
    "stocks = stocks.sort_values('PERMNO')\n",
    "stocks"
   ]
  },
  {
   "cell_type": "code",
   "execution_count": 3,
   "metadata": {
    "collapsed": false
   },
   "outputs": [
    {
     "data": {
      "text/html": [
       "<div>\n",
       "<table border=\"1\" class=\"dataframe\">\n",
       "  <thead>\n",
       "    <tr style=\"text-align: right;\">\n",
       "      <th></th>\n",
       "      <th>PERMNO</th>\n",
       "      <th>RET</th>\n",
       "      <th>rf</th>\n",
       "    </tr>\n",
       "    <tr>\n",
       "      <th>date</th>\n",
       "      <th></th>\n",
       "      <th></th>\n",
       "      <th></th>\n",
       "    </tr>\n",
       "  </thead>\n",
       "  <tbody>\n",
       "    <tr>\n",
       "      <th>1994-01-31</th>\n",
       "      <td>10107</td>\n",
       "      <td>0.055814</td>\n",
       "      <td>0.0025</td>\n",
       "    </tr>\n",
       "    <tr>\n",
       "      <th>1994-02-28</th>\n",
       "      <td>10107</td>\n",
       "      <td>-0.030837</td>\n",
       "      <td>0.0021</td>\n",
       "    </tr>\n",
       "    <tr>\n",
       "      <th>1994-03-31</th>\n",
       "      <td>10107</td>\n",
       "      <td>0.027273</td>\n",
       "      <td>0.0027</td>\n",
       "    </tr>\n",
       "  </tbody>\n",
       "</table>\n",
       "</div>"
      ],
      "text/plain": [
       "            PERMNO       RET      rf\n",
       "date                                \n",
       "1994-01-31   10107  0.055814  0.0025\n",
       "1994-02-28   10107 -0.030837  0.0021\n",
       "1994-03-31   10107  0.027273  0.0027"
      ]
     },
     "execution_count": 3,
     "metadata": {},
     "output_type": "execute_result"
    }
   ],
   "source": [
    "msf = pd.read_csv('asgn1.csv')\n",
    "msf['date']=pd.to_datetime(msf.date)\n",
    "msf = msf.sort_values(['PERMNO', 'date'])\n",
    "msf = msf.set_index('date')\n",
    "msf.head(3)"
   ]
  },
  {
   "cell_type": "markdown",
   "metadata": {},
   "source": [
    "### Mean-Variance Without Risk Free Assets"
   ]
  },
  {
   "cell_type": "markdown",
   "metadata": {},
   "source": [
    "Suppose you are about to invest at the beginning of January 1997. "
   ]
  },
  {
   "cell_type": "code",
   "execution_count": 4,
   "metadata": {
    "collapsed": true
   },
   "outputs": [],
   "source": [
    "investmonth = pd.datetime(1997, 1, 1)\n",
    "# end of the month in the same period\n",
    "investmonthEnd = investmonth + MonthEnd(0)"
   ]
  },
  {
   "cell_type": "markdown",
   "metadata": {},
   "source": [
    "Notice that the range of time (months) of parameter estimation is:"
   ]
  },
  {
   "cell_type": "code",
   "execution_count": 5,
   "metadata": {
    "collapsed": false
   },
   "outputs": [
    {
     "data": {
      "text/plain": [
       "DatetimeIndex(['1994-01-31', '1994-02-28', '1994-03-31', '1994-04-30',\n",
       "               '1994-05-31', '1994-06-30', '1994-07-31', '1994-08-31',\n",
       "               '1994-09-30', '1994-10-31', '1994-11-30', '1994-12-31',\n",
       "               '1995-01-31', '1995-02-28', '1995-03-31', '1995-04-30',\n",
       "               '1995-05-31', '1995-06-30', '1995-07-31', '1995-08-31',\n",
       "               '1995-09-30', '1995-10-31', '1995-11-30', '1995-12-31',\n",
       "               '1996-01-31', '1996-02-29', '1996-03-31', '1996-04-30',\n",
       "               '1996-05-31', '1996-06-30', '1996-07-31', '1996-08-31',\n",
       "               '1996-09-30', '1996-10-31', '1996-11-30', '1996-12-31'],\n",
       "              dtype='datetime64[ns]', freq='M')"
      ]
     },
     "execution_count": 5,
     "metadata": {},
     "output_type": "execute_result"
    }
   ],
   "source": [
    "mrange = pd.date_range(end=investmonth, periods=36, freq='M')\n",
    "mrange"
   ]
  },
  {
   "cell_type": "code",
   "execution_count": 6,
   "metadata": {
    "collapsed": true
   },
   "outputs": [],
   "source": [
    "# risky return in the range\n",
    "mrangeret = msf.loc[msf.index.isin(mrange), ['PERMNO', 'RET']]"
   ]
  },
  {
   "cell_type": "code",
   "execution_count": 7,
   "metadata": {
    "collapsed": false
   },
   "outputs": [
    {
     "data": {
      "text/html": [
       "<div>\n",
       "<table border=\"1\" class=\"dataframe\">\n",
       "  <thead>\n",
       "    <tr>\n",
       "      <th></th>\n",
       "      <th colspan=\"5\" halign=\"left\">RET</th>\n",
       "    </tr>\n",
       "    <tr>\n",
       "      <th>PERMNO</th>\n",
       "      <th>10107</th>\n",
       "      <th>12490</th>\n",
       "      <th>14593</th>\n",
       "      <th>26403</th>\n",
       "      <th>57665</th>\n",
       "    </tr>\n",
       "    <tr>\n",
       "      <th>date</th>\n",
       "      <th></th>\n",
       "      <th></th>\n",
       "      <th></th>\n",
       "      <th></th>\n",
       "      <th></th>\n",
       "    </tr>\n",
       "  </thead>\n",
       "  <tbody>\n",
       "    <tr>\n",
       "      <th>1994-01-31</th>\n",
       "      <td>0.055814</td>\n",
       "      <td>0.000000</td>\n",
       "      <td>0.119658</td>\n",
       "      <td>0.109971</td>\n",
       "      <td>0.081081</td>\n",
       "    </tr>\n",
       "    <tr>\n",
       "      <th>1994-02-28</th>\n",
       "      <td>-0.030837</td>\n",
       "      <td>-0.059735</td>\n",
       "      <td>0.118168</td>\n",
       "      <td>0.015873</td>\n",
       "      <td>0.035000</td>\n",
       "    </tr>\n",
       "    <tr>\n",
       "      <th>1994-03-31</th>\n",
       "      <td>0.027273</td>\n",
       "      <td>0.033097</td>\n",
       "      <td>-0.089041</td>\n",
       "      <td>-0.125000</td>\n",
       "      <td>0.028019</td>\n",
       "    </tr>\n",
       "  </tbody>\n",
       "</table>\n",
       "</div>"
      ],
      "text/plain": [
       "                 RET                                        \n",
       "PERMNO         10107     12490     14593     26403     57665\n",
       "date                                                        \n",
       "1994-01-31  0.055814  0.000000  0.119658  0.109971  0.081081\n",
       "1994-02-28 -0.030837 -0.059735  0.118168  0.015873  0.035000\n",
       "1994-03-31  0.027273  0.033097 -0.089041 -0.125000  0.028019"
      ]
     },
     "execution_count": 7,
     "metadata": {},
     "output_type": "execute_result"
    }
   ],
   "source": [
    "# return by stock\n",
    "retbystock = mrangeret.groupby('PERMNO')['RET']\n",
    "# return matrix in time\n",
    "retmat = mrangeret.reset_index().set_index(['PERMNO', 'date']).unstack('PERMNO')\n",
    "retmat.head(3)"
   ]
  },
  {
   "cell_type": "markdown",
   "metadata": {},
   "source": [
    "* Q1\n",
    "\n",
    "suppose that your desired rate of return is 3% in the month, and you want to acheive mean-variance efficiency using **just the 5 stocks**. Find the **optimal weights on the stocks, and the expected mean and standard deviation of your portfolio.** "
   ]
  },
  {
   "cell_type": "code",
   "execution_count": null,
   "metadata": {
    "collapsed": true
   },
   "outputs": [],
   "source": [
    "# mean and variance\n",
    "rbar0 = \n",
    "cov0 = "
   ]
  },
  {
   "cell_type": "code",
   "execution_count": null,
   "metadata": {
    "collapsed": true
   },
   "outputs": [],
   "source": [
    "## function to find mean-variance without rf\n",
    "def meanvar(mu, rbar=rbar0, cov=cov0):\n",
    "    \"\"\" complete fucntion to output weight, estimated return and sigma \"\"\"\n",
    "    return omega, rp, sigmahut"
   ]
  },
  {
   "cell_type": "code",
   "execution_count": null,
   "metadata": {
    "collapsed": true
   },
   "outputs": [],
   "source": [
    "alloc1 = meanvar(0.03)\n",
    "r1 = alloc1[1]\n",
    "s1 = alloc1[2]\n",
    "print('expected mean of portfolio:', r1)\n",
    "print('standard deviation of portfolio:', s1)"
   ]
  },
  {
   "cell_type": "markdown",
   "metadata": {},
   "source": [
    "* Q2\n",
    "\n",
    "Find the **optimal weights on the stocks, and the expected mean and standard deviation of your portfolio** if your required rate of return is 4%. "
   ]
  },
  {
   "cell_type": "code",
   "execution_count": null,
   "metadata": {
    "collapsed": true
   },
   "outputs": [],
   "source": [
    "alloc2 = meanvar(0.04)\n",
    "r2 = alloc2[1]\n",
    "s2 = alloc2[2]\n",
    "print('expected mean of portfolio:', r2)\n",
    "print('standard deviation of portfolio:', s2)"
   ]
  },
  {
   "cell_type": "markdown",
   "metadata": {},
   "source": [
    "* Q3\n",
    "\n",
    "Now, form a new portfolio with 30% in your first allocation above, and 70% in your second allocation above. Show on MV efficient graph that this new portfolio is also on your efficeint curve. "
   ]
  },
  {
   "cell_type": "code",
   "execution_count": null,
   "metadata": {
    "collapsed": true
   },
   "outputs": [],
   "source": [
    "alloc3 = "
   ]
  },
  {
   "cell_type": "code",
   "execution_count": null,
   "metadata": {
    "collapsed": true
   },
   "outputs": [],
   "source": [
    "def hutmusigma(w, cov=cov0, rbar=rbar0):\n",
    "    \"\"\" calculate mean and sgima given weight\"\"\"\n",
    "    return hutmu, hutsigma\n",
    "r3 = hutmusigma(alloc3)[0]\n",
    "s3 = hutmusigma(alloc3)[1]"
   ]
  },
  {
   "cell_type": "code",
   "execution_count": null,
   "metadata": {
    "collapsed": true
   },
   "outputs": [],
   "source": [
    "# find combination of mean and sigma that's on the frontier\n",
    "# your code\n",
    "\n",
    "fig, ax = plt.subplots()\n",
    "# your plot code\n",
    "plt.xlabel(r'$\\sigma (R)$')\n",
    "plt.ylabel(r'$E(R)$')\n",
    "plt.title('Mean Variance Frontier')\n",
    "ax.plot(s1, r1, 'or')\n",
    "ax.text(s1, r1, 'allocation 1')\n",
    "ax.plot(s2, r2, 'or')\n",
    "ax.text(s2, r2, 'allocation 2')\n",
    "ax.plot(s3, r3, 'or')\n",
    "ax.text(s3, r3, 'allocation 3')\n",
    "plt.show()"
   ]
  },
  {
   "cell_type": "markdown",
   "metadata": {},
   "source": [
    "### Mean-Variance With Risk Free Assets"
   ]
  },
  {
   "cell_type": "markdown",
   "metadata": {
    "collapsed": true
   },
   "source": [
    "* Q4\n",
    "\n",
    "You've seen the derivation of mean-variance optimal allocation with risk free assets in class notes. Derive an expression of **relative weights in risky assets (out of total investment in risky assets)** for a portfolios of N risky assets. Use the same notation as the lecture notes. "
   ]
  },
  {
   "cell_type": "markdown",
   "metadata": {},
   "source": []
  },
  {
   "cell_type": "markdown",
   "metadata": {},
   "source": [
    "Now that you can invest (or borrow) from risk free rate. \n",
    "\n",
    "* Q5\n",
    "\n",
    "Use the math expression you derive above to find the optimal relative weights in the five stocks in January 1997.  \n"
   ]
  },
  {
   "cell_type": "code",
   "execution_count": 42,
   "metadata": {
    "collapsed": false
   },
   "outputs": [
    {
     "data": {
      "text/plain": [
       "0.0045"
      ]
     },
     "execution_count": 42,
     "metadata": {},
     "output_type": "execute_result"
    }
   ],
   "source": [
    "rf0 = msf.loc[investmonthEnd, 'rf'].mean()\n",
    "rf0"
   ]
  },
  {
   "cell_type": "code",
   "execution_count": null,
   "metadata": {
    "collapsed": true
   },
   "outputs": [],
   "source": [
    "def meanvar_rfra(rf, rbar=rbar0, cov=cov0):\n",
    "    \"\"\" define function for mv with risk free\"\"\"\n",
    "    \n",
    "    return w"
   ]
  },
  {
   "cell_type": "code",
   "execution_count": null,
   "metadata": {
    "collapsed": true
   },
   "outputs": [],
   "source": [
    "mvalloc = meanvar_rfra(rf0, rbar=rbar0, cov=cov0)\n",
    "w4 = DataFrame(mvalloc, index=stocks.PERMNO.as_matrix(), columns=['weight'])\n",
    "w4 = w4.join(stocks.set_index('PERMNO'))\n",
    "print('weights\\n')\n",
    "w4"
   ]
  },
  {
   "cell_type": "markdown",
   "metadata": {},
   "source": [
    "* Q5.2\n",
    "\n",
    "What is your realized return of risky portfolio, how does it compare with an equally weighted portfolio? If your risk preference determines that you invest 80% of your wealth in risky portfolio and 20% in risk free asset, what is the realized return of your wealth?"
   ]
  },
  {
   "cell_type": "code",
   "execution_count": null,
   "metadata": {
    "collapsed": true
   },
   "outputs": [],
   "source": [
    "# find your realized return, equally weighted return and relized return of wealth \n",
    "alpha = 0.8\n",
    "\n",
    "\n",
    "retrisk =\n",
    "eqret = \n",
    "print('Optimized Realized Return:', retrisk)\n",
    "print('Equally weighted portfolio return:', eqret)\n",
    "\n",
    "rw =\n",
    "print('Realized return of wealth:', rw)\n"
   ]
  },
  {
   "cell_type": "markdown",
   "metadata": {},
   "source": [
    "* Q6\n",
    "\n",
    "At the beginning of the next month, i.e., Feb 1997, how would you adjust your portfolio to remain on the efficient frontier. Show the weight changes as a proportion of your original wealth. Notice that your portfolio weight at the end of the month will change. "
   ]
  },
  {
   "cell_type": "raw",
   "metadata": {},
   "source": [
    "# your end of month weight"
   ]
  },
  {
   "cell_type": "code",
   "execution_count": null,
   "metadata": {
    "collapsed": true
   },
   "outputs": [],
   "source": [
    "def findparam(year, month, day):\n",
    "    \"\"\" function to find mean, SIGMA, rf\"\"\"\n",
    "    return rbar, cov, rf"
   ]
  },
  {
   "cell_type": "code",
   "execution_count": null,
   "metadata": {
    "collapsed": true
   },
   "outputs": [],
   "source": [
    "param = findparam(1997, 2, 1)"
   ]
  },
  {
   "cell_type": "code",
   "execution_count": null,
   "metadata": {
    "collapsed": true
   },
   "outputs": [],
   "source": [
    "## Your new weight\n",
    "## and weight difference"
   ]
  },
  {
   "cell_type": "markdown",
   "metadata": {
    "collapsed": true
   },
   "source": [
    "#### Multiple periods"
   ]
  },
  {
   "cell_type": "markdown",
   "metadata": {},
   "source": [
    "Now let's put everything together. You are trying to do mean-variance period by period. The weight on risky and risk free assets are fixed at 80% and 20%. Plot the realized cumulative return of mean-variance strategy together with the cumulative return of equally weighted strategy for the period of Jan 2004 to July 2007, and again for the period of Jan 2007 to July 2010. \n",
    "\n",
    "* Q7\n",
    "\n",
    "Evaluate the success of your mean-variance strategy in the two periods. Can you explain why your strategy breaks down in the second period?"
   ]
  },
  {
   "cell_type": "code",
   "execution_count": 31,
   "metadata": {
    "collapsed": false
   },
   "outputs": [
    {
     "data": {
      "text/plain": [
       "DatetimeIndex(['2004-01-01', '2004-02-01', '2004-03-01', '2004-04-01',\n",
       "               '2004-05-01', '2004-06-01', '2004-07-01', '2004-08-01',\n",
       "               '2004-09-01', '2004-10-01', '2004-11-01', '2004-12-01',\n",
       "               '2005-01-01', '2005-02-01', '2005-03-01', '2005-04-01',\n",
       "               '2005-05-01', '2005-06-01', '2005-07-01', '2005-08-01',\n",
       "               '2005-09-01', '2005-10-01', '2005-11-01', '2005-12-01',\n",
       "               '2006-01-01', '2006-02-01', '2006-03-01', '2006-04-01',\n",
       "               '2006-05-01', '2006-06-01', '2006-07-01', '2006-08-01',\n",
       "               '2006-09-01', '2006-10-01', '2006-11-01', '2006-12-01',\n",
       "               '2007-01-01', '2007-02-01', '2007-03-01', '2007-04-01',\n",
       "               '2007-05-01', '2007-06-01', '2007-07-01'],\n",
       "              dtype='datetime64[ns]', freq='MS')"
      ]
     },
     "execution_count": 31,
     "metadata": {},
     "output_type": "execute_result"
    }
   ],
   "source": [
    "## your loop month over the index can be written as \n",
    "# freq='MS' means month start\n",
    "pd.date_range(start='2004-1-1', end='2007-7-1', freq='MS')"
   ]
  },
  {
   "cell_type": "code",
   "execution_count": null,
   "metadata": {
    "collapsed": true
   },
   "outputs": [],
   "source": [
    "def meanvar_rfloop(loopstart, loopend):\n",
    "    \"\"\" write a loop to find realized optimal return\"\"\"\n",
    "    \n",
    "    #pret is your list of realized returns\n",
    "    return DataFrame(pret,index=loopm+MonthEnd(0), columns=['pret'])"
   ]
  },
  {
   "cell_type": "code",
   "execution_count": null,
   "metadata": {
    "collapsed": true
   },
   "outputs": [],
   "source": [
    "def oneovern_loop(loopstart, loopend):\n",
    "    \"\"\" find equaly weighted returns\"\"\"\n",
    "    \n",
    "    return DataFrame(pret,index=loopm+MonthEnd(0), columns=['ewret'])"
   ]
  },
  {
   "cell_type": "code",
   "execution_count": null,
   "metadata": {
    "collapsed": true
   },
   "outputs": [],
   "source": [
    "pret = meanvar_rfloop('2004-1-1', '2007-7-1')\n",
    "poneovern = oneovern_loop('2004-1-1', '2007-7-1')"
   ]
  },
  {
   "cell_type": "code",
   "execution_count": null,
   "metadata": {
    "collapsed": true
   },
   "outputs": [],
   "source": [
    "# transform to cumulative returns\n",
    "plt.figure()\n",
    "pd.concat([cumuret, cumueqret], axis=1).plot()\n",
    "plt.show()"
   ]
  },
  {
   "cell_type": "code",
   "execution_count": null,
   "metadata": {
    "collapsed": true
   },
   "outputs": [],
   "source": [
    "# do the same for second period"
   ]
  },
  {
   "cell_type": "markdown",
   "metadata": {},
   "source": [
    "Consider an investor with risk aversion $\\gamma$\n",
    "whose preferences are fully described by the mean and variance of a chosen portfolio such that his expected utility is characterized by:\n",
    "\n",
    "$$E(U)= E(R_{p})-\\frac{\\gamma}{2}VAR(R_{p})$$\n",
    "where $R_{p}$ is the return of her investment portfolio.\n",
    "\n",
    "\n",
    "Suppose there are N risky assets with expected return $\\bar R$ and return variance-covariance of $\\Sigma$. $\\bar R$ is $N \\times 1$ vestor and $\\Sigma$ is a $N \\times N$ matrix. Risk-free asset is available with return $R_{f}$. Let $\\omega$ be a $N \\times 1$ vector of portfolio weights (as a reportion of wealth) on risky assets. \n",
    "\n",
    "* Q8\n",
    "\n",
    "Solve for the optimal  $\\omega$ for this investor by maximizing expected utility. Show that you can the same solution in terms of relative weight of risky assets in the risky portfolio as the mean-variance with risk free rate above. Discuss how risk aversion is related to the weight on risky assets based on your solution. "
   ]
  },
  {
   "cell_type": "code",
   "execution_count": null,
   "metadata": {
    "collapsed": true
   },
   "outputs": [],
   "source": []
  }
 ],
 "metadata": {
  "anaconda-cloud": {},
  "kernelspec": {
   "display_name": "Python [conda root]",
   "language": "python",
   "name": "conda-root-py"
  },
  "language_info": {
   "codemirror_mode": {
    "name": "ipython",
    "version": 3
   },
   "file_extension": ".py",
   "mimetype": "text/x-python",
   "name": "python",
   "nbconvert_exporter": "python",
   "pygments_lexer": "ipython3",
   "version": "3.5.2"
  }
 },
 "nbformat": 4,
 "nbformat_minor": 1
}
