{
 "cells": [
  {
   "cell_type": "markdown",
   "metadata": {},
   "source": [
    "## BAYESIAN ANALYSIS OF NORMAL DISTRIBUTIONS\n",
    "\n",
    "https://www.richrelevance.com/blog/2013/07/31/bayesian-analysis-of-normal-distributions-with-python/"
   ]
  },
  {
   "cell_type": "markdown",
   "metadata": {},
   "source": [
    "Drawing samples from the posterior\n",
    "Because we chose to use conjugate priors, we get to know the form of the joint posterior distribution of $$p(\\mu,\\sigma^2|text{data})$$ without a lot of extra work.  This means our model is easier to write down and compute with.  Now, Gelman et al. tell us how to draw samples from this posterior (page 80):\n",
    "\n",
    "To sample from the joint posterior distribution we first draw a $$\\sigma^2$$ from its marginal posterior distribution, then draw $$\\mu$$ from its normal conditional posterior distribution, using the simulated value of $$\\sigma^2$$.\n"
   ]
  },
  {
   "cell_type": "code",
   "execution_count": 1,
   "metadata": {
    "collapsed": true
   },
   "outputs": [],
   "source": [
    "from numpy import sum, mean, size, sqrt\n",
    "from scipy.stats import norm, invgamma\n",
    "\n",
    "def draw_mus_and_sigmas(data,m0,k0,s_sq0,v0,n_samples=10000):\n",
    "    # number of samples\n",
    "    N = size(data)\n",
    "    # find the mean of the data\n",
    "    the_mean = mean(data) \n",
    "    # sum of squared differences between data and mean\n",
    "    SSD = sum( (data - the_mean)**2 ) \n",
    "\n",
    "    # combining the prior with the data - page 79 of Gelman et al.\n",
    "    # to make sense of this note that \n",
    "    # inv-chi-sq(v,s^2) = inv-gamma(v/2,(v*s^2)/2)\n",
    "    kN = float(k0 + N)\n",
    "    mN = (k0/kN)*m0 + (N/kN)*the_mean\n",
    "    vN = v0 + N\n",
    "    vN_times_s_sqN = v0*s_sq0 + SSD + (N*k0*(m0-the_mean)**2)/kN\n",
    "\n",
    "    # 1) draw the variances from an inverse gamma \n",
    "    # (params: alpha, beta)\n",
    "    alpha = vN/2\n",
    "    beta = vN_times_s_sqN/2\n",
    "    # thanks to wikipedia, we know that:\n",
    "    # if X ~ inv-gamma(a,1) then b*X ~ inv-gamma(a,b)\n",
    "    sig_sq_samples = beta*invgamma.rvs(alpha,size=n_samples)\n",
    "\n",
    "    # 2) draw means from a normal conditioned on the drawn sigmas\n",
    "    # (params: mean_norm, var_norm)\n",
    "    mean_norm = mN\n",
    "    var_norm = sqrt(sig_sq_samples)/kN\n",
    "    mu_samples = norm.rvs(mean_norm,scale=var_norm,size=n_samples)\n",
    "\n",
    "    # 3) return the mu_samples and sig_sq_samples\n",
    "    return mu_samples, sig_sq_samples"
   ]
  },
  {
   "cell_type": "code",
   "execution_count": 3,
   "metadata": {},
   "outputs": [
    {
     "name": "stdout",
     "output_type": "stream",
     "text": [
      "1.0\n",
      "0.0057\n"
     ]
    }
   ],
   "source": [
    "from numpy.random import normal\n",
    "\n",
    "# step 1: define prior parameters for the normal and inverse gamma\n",
    "m0 = 4. \n",
    "k0 = 1.  \n",
    "s_sq0 = 1. \n",
    "v0 = 1. \n",
    "\n",
    "# step 2: get some random data, with slightly different statistics\n",
    "A_data = normal(loc=4.1, scale=0.9, size=500)\n",
    "B_data = normal(loc=4.0, scale=1.0, size=500) \n",
    "\n",
    "# step 3: get posterior samples\n",
    "A_mus,A_sig_sqs = draw_mus_and_sigmas(A_data,m0,k0,s_sq0,v0)\n",
    "B_mus,B_sig_sqs = draw_mus_and_sigmas(B_data,m0,k0,s_sq0,v0)\n",
    "\n",
    "# step 4: perform numerical integration\n",
    "# probability that mean of A is greater than mean of B:\n",
    "print(mean(A_mus > B_mus) )\n",
    "# probability that variance of A is greater than variance of B:\n",
    "print(mean(A_sig_sqs > B_sig_sqs))"
   ]
  },
  {
   "cell_type": "code",
   "execution_count": null,
   "metadata": {
    "collapsed": true
   },
   "outputs": [],
   "source": []
  }
 ],
 "metadata": {
  "anaconda-cloud": {},
  "hide_input": false,
  "kernelspec": {
   "display_name": "Python [default]",
   "language": "python",
   "name": "python3"
  },
  "language_info": {
   "codemirror_mode": {
    "name": "ipython",
    "version": 3
   },
   "file_extension": ".py",
   "mimetype": "text/x-python",
   "name": "python",
   "nbconvert_exporter": "python",
   "pygments_lexer": "ipython3",
   "version": "3.5.2"
  },
  "latex_envs": {
   "bibliofile": "biblio.bib",
   "cite_by": "apalike",
   "current_citInitial": 1,
   "eqLabelWithNumbers": true,
   "eqNumInitial": 0
  }
 },
 "nbformat": 4,
 "nbformat_minor": 1
}
