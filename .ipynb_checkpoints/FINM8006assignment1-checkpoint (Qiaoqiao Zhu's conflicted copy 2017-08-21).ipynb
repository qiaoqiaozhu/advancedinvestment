{
 "cells": [
  {
   "cell_type": "code",
   "execution_count": 31,
   "metadata": {
    "collapsed": true
   },
   "outputs": [],
   "source": [
    "from __future__ import division\n",
    "from __future__ import print_function\n",
    "import numpy as np\n",
    "from pandas import Series, DataFrame\n",
    "from pandas.tseries.offsets import MonthEnd\n",
    "import pandas as pd\n",
    "import matplotlib.pyplot as plt\n",
    "%matplotlib inline\n",
    "import seaborn as sns\n",
    "\n",
    "import datetime\n",
    "plt.rc('figure', figsize=(16, 10))\n",
    "from numpy.linalg import inv\n",
    "from numpy import dot"
   ]
  },
  {
   "cell_type": "markdown",
   "metadata": {},
   "source": [
    "# FINM 8006 Assignment 1"
   ]
  },
  {
   "cell_type": "markdown",
   "metadata": {},
   "source": [
    "## Instructions"
   ]
  },
  {
   "cell_type": "markdown",
   "metadata": {},
   "source": [
    "* You have the option of completing your assignment directly in this notebook. You should have Jupyter (conda install jupyter) installed if you want to use this. \n",
    "* You can alternatively write your answers in the editor of your choosing (Words, etc.), and run your code in Python or R in a separate file. \n",
    "* If you want to use R, I suggest you use R studio and [R Markdown](http://rmarkdown.rstudio.com)"
   ]
  },
  {
   "cell_type": "markdown",
   "metadata": {},
   "source": [
    "### Quick Jupyter notebook\n",
    "* You can add or delete cell as you go\n",
    "* Cells can be a [Markdown](https://github.com/adam-p/markdown-here/wiki/Markdown-Cheatsheet#html) cell in which you write your texts and maths. Your math can be typed in [latex symbols](https://oeis.org/wiki/List_of_LaTeX_mathematical_symbols) using `$$ math $$` in a markdown cell. \n",
    "* Default cells are code cells in which you run your python code. \n",
    "* When you are ready to run a (markdown or code) cell, press CTRL (command for Mac) + SHIFT at the same time to run the cell.  \n",
    "* Jupyter uses Ipython, so that your codes can be run cell by cell. "
   ]
  },
  {
   "cell_type": "markdown",
   "metadata": {},
   "source": [
    "## Set up and Questions"
   ]
  },
  {
   "cell_type": "markdown",
   "metadata": {},
   "source": [
    "The file `asgn1.csv` has monthly returns (RET) of Apple, IBM, Microsoft, Nike, and Disney (PERMNO = 14593, 12490, 10107, 57665, 26403) from 1994 to Oct 2015. It contains also data on risk free rates (rf). \n",
    "\n",
    "You decide that your estimation of the mean and variance of the risky stocks are from data from the past 36 months.  The risk free rate is known at the beginning of the periods. "
   ]
  },
  {
   "cell_type": "code",
   "execution_count": 181,
   "metadata": {},
   "outputs": [
    {
     "data": {
      "text/html": [
       "<div>\n",
       "<style>\n",
       "    .dataframe thead tr:only-child th {\n",
       "        text-align: right;\n",
       "    }\n",
       "\n",
       "    .dataframe thead th {\n",
       "        text-align: left;\n",
       "    }\n",
       "\n",
       "    .dataframe tbody tr th {\n",
       "        vertical-align: top;\n",
       "    }\n",
       "</style>\n",
       "<table border=\"1\" class=\"dataframe\">\n",
       "  <thead>\n",
       "    <tr style=\"text-align: right;\">\n",
       "      <th></th>\n",
       "      <th>stocks</th>\n",
       "      <th>PERMNO</th>\n",
       "    </tr>\n",
       "  </thead>\n",
       "  <tbody>\n",
       "    <tr>\n",
       "      <th>3</th>\n",
       "      <td>Microsoft</td>\n",
       "      <td>10107</td>\n",
       "    </tr>\n",
       "    <tr>\n",
       "      <th>2</th>\n",
       "      <td>IBM</td>\n",
       "      <td>12490</td>\n",
       "    </tr>\n",
       "    <tr>\n",
       "      <th>0</th>\n",
       "      <td>Apple</td>\n",
       "      <td>14593</td>\n",
       "    </tr>\n",
       "    <tr>\n",
       "      <th>1</th>\n",
       "      <td>Disney</td>\n",
       "      <td>26403</td>\n",
       "    </tr>\n",
       "    <tr>\n",
       "      <th>4</th>\n",
       "      <td>Nike</td>\n",
       "      <td>57665</td>\n",
       "    </tr>\n",
       "  </tbody>\n",
       "</table>\n",
       "</div>"
      ],
      "text/plain": [
       "      stocks  PERMNO\n",
       "3  Microsoft   10107\n",
       "2        IBM   12490\n",
       "0      Apple   14593\n",
       "1     Disney   26403\n",
       "4       Nike   57665"
      ]
     },
     "execution_count": 181,
     "metadata": {},
     "output_type": "execute_result"
    }
   ],
   "source": [
    "stocks=DataFrame([{'Apple':14593, 'IBM':12490, 'Microsoft':10107, 'Nike':57665, 'Disney':26403}], \n",
    "                 index=['PERMNO']).T\n",
    "stocks.index.name = 'stocks'\n",
    "stocks = stocks.reset_index()\n",
    "stocks = stocks.sort_values('PERMNO')\n",
    "stocks"
   ]
  },
  {
   "cell_type": "code",
   "execution_count": 169,
   "metadata": {},
   "outputs": [
    {
     "data": {
      "text/html": [
       "<div>\n",
       "<style>\n",
       "    .dataframe thead tr:only-child th {\n",
       "        text-align: right;\n",
       "    }\n",
       "\n",
       "    .dataframe thead th {\n",
       "        text-align: left;\n",
       "    }\n",
       "\n",
       "    .dataframe tbody tr th {\n",
       "        vertical-align: top;\n",
       "    }\n",
       "</style>\n",
       "<table border=\"1\" class=\"dataframe\">\n",
       "  <thead>\n",
       "    <tr style=\"text-align: right;\">\n",
       "      <th></th>\n",
       "      <th>PERMNO</th>\n",
       "      <th>RET</th>\n",
       "      <th>rf</th>\n",
       "    </tr>\n",
       "    <tr>\n",
       "      <th>date</th>\n",
       "      <th></th>\n",
       "      <th></th>\n",
       "      <th></th>\n",
       "    </tr>\n",
       "  </thead>\n",
       "  <tbody>\n",
       "    <tr>\n",
       "      <th>1994-01-31</th>\n",
       "      <td>10107</td>\n",
       "      <td>0.055814</td>\n",
       "      <td>0.0025</td>\n",
       "    </tr>\n",
       "    <tr>\n",
       "      <th>1994-02-28</th>\n",
       "      <td>10107</td>\n",
       "      <td>-0.030837</td>\n",
       "      <td>0.0021</td>\n",
       "    </tr>\n",
       "    <tr>\n",
       "      <th>1994-03-31</th>\n",
       "      <td>10107</td>\n",
       "      <td>0.027273</td>\n",
       "      <td>0.0027</td>\n",
       "    </tr>\n",
       "  </tbody>\n",
       "</table>\n",
       "</div>"
      ],
      "text/plain": [
       "            PERMNO       RET      rf\n",
       "date                                \n",
       "1994-01-31   10107  0.055814  0.0025\n",
       "1994-02-28   10107 -0.030837  0.0021\n",
       "1994-03-31   10107  0.027273  0.0027"
      ]
     },
     "execution_count": 169,
     "metadata": {},
     "output_type": "execute_result"
    }
   ],
   "source": [
    "msf = pd.read_csv('asgn1.csv')\n",
    "msf['date']=pd.to_datetime(msf.date)\n",
    "msf = msf.sort_values(['PERMNO', 'date'])\n",
    "msf = msf.set_index('date')\n",
    "msf.head(3)"
   ]
  },
  {
   "cell_type": "markdown",
   "metadata": {},
   "source": [
    "### Mean-Variance Without Risk Free Assets"
   ]
  },
  {
   "cell_type": "markdown",
   "metadata": {},
   "source": [
    "Suppose you are about to invest at the beginning of January 1997. "
   ]
  },
  {
   "cell_type": "code",
   "execution_count": 147,
   "metadata": {
    "collapsed": true
   },
   "outputs": [],
   "source": [
    "investmonth = pd.datetime(1997, 1, 1)\n",
    "# end of the month in the same period\n",
    "investmonthEnd = investmonth + MonthEnd(0)"
   ]
  },
  {
   "cell_type": "markdown",
   "metadata": {},
   "source": [
    "Notice that the range of time (months) of parameter estimation is:"
   ]
  },
  {
   "cell_type": "code",
   "execution_count": 146,
   "metadata": {},
   "outputs": [
    {
     "data": {
      "text/plain": [
       "DatetimeIndex(['1994-01-31', '1994-02-28', '1994-03-31', '1994-04-30',\n",
       "               '1994-05-31', '1994-06-30', '1994-07-31', '1994-08-31',\n",
       "               '1994-09-30', '1994-10-31', '1994-11-30', '1994-12-31',\n",
       "               '1995-01-31', '1995-02-28', '1995-03-31', '1995-04-30',\n",
       "               '1995-05-31', '1995-06-30', '1995-07-31', '1995-08-31',\n",
       "               '1995-09-30', '1995-10-31', '1995-11-30', '1995-12-31',\n",
       "               '1996-01-31', '1996-02-29', '1996-03-31', '1996-04-30',\n",
       "               '1996-05-31', '1996-06-30', '1996-07-31', '1996-08-31',\n",
       "               '1996-09-30', '1996-10-31', '1996-11-30', '1996-12-31'],\n",
       "              dtype='datetime64[ns]', freq='M')"
      ]
     },
     "execution_count": 146,
     "metadata": {},
     "output_type": "execute_result"
    }
   ],
   "source": [
    "mrange = pd.date_range(end=investmonth, periods=36, freq='M')\n",
    "mrange"
   ]
  },
  {
   "cell_type": "code",
   "execution_count": 148,
   "metadata": {
    "collapsed": true
   },
   "outputs": [],
   "source": [
    "# risky return in the range\n",
    "mrangeret = msf.loc[msf.index.isin(mrange), ['PERMNO', 'RET']]"
   ]
  },
  {
   "cell_type": "code",
   "execution_count": 150,
   "metadata": {},
   "outputs": [
    {
     "data": {
      "text/html": [
       "<div>\n",
       "<style>\n",
       "    .dataframe thead tr:only-child th {\n",
       "        text-align: right;\n",
       "    }\n",
       "\n",
       "    .dataframe thead th {\n",
       "        text-align: left;\n",
       "    }\n",
       "\n",
       "    .dataframe tbody tr th {\n",
       "        vertical-align: top;\n",
       "    }\n",
       "</style>\n",
       "<table border=\"1\" class=\"dataframe\">\n",
       "  <thead>\n",
       "    <tr>\n",
       "      <th></th>\n",
       "      <th colspan=\"5\" halign=\"left\">RET</th>\n",
       "    </tr>\n",
       "    <tr>\n",
       "      <th>PERMNO</th>\n",
       "      <th>10107</th>\n",
       "      <th>12490</th>\n",
       "      <th>14593</th>\n",
       "      <th>26403</th>\n",
       "      <th>57665</th>\n",
       "    </tr>\n",
       "    <tr>\n",
       "      <th>date</th>\n",
       "      <th></th>\n",
       "      <th></th>\n",
       "      <th></th>\n",
       "      <th></th>\n",
       "      <th></th>\n",
       "    </tr>\n",
       "  </thead>\n",
       "  <tbody>\n",
       "    <tr>\n",
       "      <th>1994-01-31</th>\n",
       "      <td>0.055814</td>\n",
       "      <td>0.000000</td>\n",
       "      <td>0.119658</td>\n",
       "      <td>0.109971</td>\n",
       "      <td>0.081081</td>\n",
       "    </tr>\n",
       "    <tr>\n",
       "      <th>1994-02-28</th>\n",
       "      <td>-0.030837</td>\n",
       "      <td>-0.059735</td>\n",
       "      <td>0.118168</td>\n",
       "      <td>0.015873</td>\n",
       "      <td>0.035000</td>\n",
       "    </tr>\n",
       "    <tr>\n",
       "      <th>1994-03-31</th>\n",
       "      <td>0.027273</td>\n",
       "      <td>0.033097</td>\n",
       "      <td>-0.089041</td>\n",
       "      <td>-0.125000</td>\n",
       "      <td>0.028019</td>\n",
       "    </tr>\n",
       "  </tbody>\n",
       "</table>\n",
       "</div>"
      ],
      "text/plain": [
       "                 RET                                        \n",
       "PERMNO         10107     12490     14593     26403     57665\n",
       "date                                                        \n",
       "1994-01-31  0.055814  0.000000  0.119658  0.109971  0.081081\n",
       "1994-02-28 -0.030837 -0.059735  0.118168  0.015873  0.035000\n",
       "1994-03-31  0.027273  0.033097 -0.089041 -0.125000  0.028019"
      ]
     },
     "execution_count": 150,
     "metadata": {},
     "output_type": "execute_result"
    }
   ],
   "source": [
    "# return by stock\n",
    "retbystock = mrangeret.groupby('PERMNO')['RET']\n",
    "# return matrix in time\n",
    "retmat = mrangeret.reset_index().set_index(['PERMNO', 'date']).unstack('PERMNO')\n",
    "retmat.head(3)"
   ]
  },
  {
   "cell_type": "code",
   "execution_count": 170,
   "metadata": {},
   "outputs": [
    {
     "name": "stdout",
     "output_type": "stream",
     "text": [
      "mean return: [ 0.04190048  0.03180703 -0.00255689  0.01599337  0.05014063]\n",
      "Covariance Matrix:\n",
      " [[ 0.00410043  0.0027044   0.00074736  0.00036128 -0.00011222]\n",
      " [ 0.0027044   0.00640606  0.00241909  0.00138859 -0.00230378]\n",
      " [ 0.00074736  0.00241909  0.01277051  0.00073859 -0.00166859]\n",
      " [ 0.00036128  0.00138859  0.00073859  0.00342317 -0.00017993]\n",
      " [-0.00011222 -0.00230378 -0.00166859 -0.00017993  0.00547186]]\n"
     ]
    }
   ],
   "source": [
    "# mean and variance\n",
    "rbar0 = retbystock.mean().as_matrix()\n",
    "cov0 = retmat.cov().as_matrix()\n",
    "print('mean return:', rbar0)\n",
    "print('Covariance Matrix:\\n', cov0)"
   ]
  },
  {
   "cell_type": "markdown",
   "metadata": {},
   "source": [
    "* Q1\n",
    "\n",
    "suppose that your desired rate of return is 3% in the month, and you want to acheive mean-variance efficiency using **just the 5 stocks**. Find the **optimal weights on the stocks, and the expected mean and standard deviation of your portfolio.** "
   ]
  },
  {
   "cell_type": "code",
   "execution_count": 206,
   "metadata": {
    "collapsed": true
   },
   "outputs": [],
   "source": [
    "## function to find mean-variance without rf\n",
    "def meanvar(mu, rbar=rbar0, cov=cov0):\n",
    "    ones = np.ones(rbar.shape)\n",
    "    A = rbar.T.dot(inv(cov)).dot(rbar)\n",
    "    B = rbar.T.dot(inv(cov)).dot(ones)\n",
    "    C = ones.T.dot(inv(cov)).dot(ones)\n",
    "    omega = (C*mu-B)/(A*C-B**2)*dot(inv(cov), rbar) + (A-B*mu)/(A*C-B**2)*dot(inv(cov), ones)\n",
    "    sigmahut = np.sqrt(omega.transpose().dot(cov).dot(omega))\n",
    "    rp = omega.T.dot(rbar)\n",
    "    return omega, rp, sigmahut"
   ]
  },
  {
   "cell_type": "code",
   "execution_count": 207,
   "metadata": {
    "collapsed": true
   },
   "outputs": [],
   "source": [
    "alloc1 = meanvar(0.03)"
   ]
  },
  {
   "cell_type": "code",
   "execution_count": 218,
   "metadata": {},
   "outputs": [
    {
     "name": "stdout",
     "output_type": "stream",
     "text": [
      "weights\n",
      "\n"
     ]
    },
    {
     "data": {
      "text/html": [
       "<div>\n",
       "<style>\n",
       "    .dataframe thead tr:only-child th {\n",
       "        text-align: right;\n",
       "    }\n",
       "\n",
       "    .dataframe thead th {\n",
       "        text-align: left;\n",
       "    }\n",
       "\n",
       "    .dataframe tbody tr th {\n",
       "        vertical-align: top;\n",
       "    }\n",
       "</style>\n",
       "<table border=\"1\" class=\"dataframe\">\n",
       "  <thead>\n",
       "    <tr style=\"text-align: right;\">\n",
       "      <th></th>\n",
       "      <th>weight</th>\n",
       "      <th>stocks</th>\n",
       "    </tr>\n",
       "  </thead>\n",
       "  <tbody>\n",
       "    <tr>\n",
       "      <th>10107</th>\n",
       "      <td>0.160129</td>\n",
       "      <td>Microsoft</td>\n",
       "    </tr>\n",
       "    <tr>\n",
       "      <th>12490</th>\n",
       "      <td>0.118093</td>\n",
       "      <td>IBM</td>\n",
       "    </tr>\n",
       "    <tr>\n",
       "      <th>14593</th>\n",
       "      <td>0.106078</td>\n",
       "      <td>Apple</td>\n",
       "    </tr>\n",
       "    <tr>\n",
       "      <th>26403</th>\n",
       "      <td>0.324069</td>\n",
       "      <td>Disney</td>\n",
       "    </tr>\n",
       "    <tr>\n",
       "      <th>57665</th>\n",
       "      <td>0.291632</td>\n",
       "      <td>Nike</td>\n",
       "    </tr>\n",
       "  </tbody>\n",
       "</table>\n",
       "</div>"
      ],
      "text/plain": [
       "         weight     stocks\n",
       "10107  0.160129  Microsoft\n",
       "12490  0.118093        IBM\n",
       "14593  0.106078      Apple\n",
       "26403  0.324069     Disney\n",
       "57665  0.291632       Nike"
      ]
     },
     "execution_count": 218,
     "metadata": {},
     "output_type": "execute_result"
    }
   ],
   "source": [
    "w1 = DataFrame(alloc1[0], index=stocks.PERMNO.as_matrix(), columns=['weight'])\n",
    "w1 = w1.join(stocks.set_index('PERMNO'))\n",
    "print('weights\\n')\n",
    "w1"
   ]
  },
  {
   "cell_type": "code",
   "execution_count": 219,
   "metadata": {},
   "outputs": [
    {
     "name": "stdout",
     "output_type": "stream",
     "text": [
      "expected mean of portfolio: 0.03\n",
      "standard deviation of portfolio: 0.0352063245287\n"
     ]
    }
   ],
   "source": [
    "r1 = alloc1[1]\n",
    "s1 = alloc1[2]\n",
    "print('expected mean of portfolio:', r1)\n",
    "print('standard deviation of portfolio:', s1)"
   ]
  },
  {
   "cell_type": "markdown",
   "metadata": {},
   "source": [
    "* Q2\n",
    "\n",
    "Find the **optimal weights on the stocks, and the expected mean and standard deviation of your portfolio** if your required rate of return is 4%. "
   ]
  },
  {
   "cell_type": "code",
   "execution_count": 220,
   "metadata": {},
   "outputs": [
    {
     "name": "stdout",
     "output_type": "stream",
     "text": [
      "weights\n",
      "\n"
     ]
    },
    {
     "data": {
      "text/html": [
       "<div>\n",
       "<style>\n",
       "    .dataframe thead tr:only-child th {\n",
       "        text-align: right;\n",
       "    }\n",
       "\n",
       "    .dataframe thead th {\n",
       "        text-align: left;\n",
       "    }\n",
       "\n",
       "    .dataframe tbody tr th {\n",
       "        vertical-align: top;\n",
       "    }\n",
       "</style>\n",
       "<table border=\"1\" class=\"dataframe\">\n",
       "  <thead>\n",
       "    <tr style=\"text-align: right;\">\n",
       "      <th></th>\n",
       "      <th>weight</th>\n",
       "      <th>stocks</th>\n",
       "    </tr>\n",
       "  </thead>\n",
       "  <tbody>\n",
       "    <tr>\n",
       "      <th>10107</th>\n",
       "      <td>0.228632</td>\n",
       "      <td>Microsoft</td>\n",
       "    </tr>\n",
       "    <tr>\n",
       "      <th>12490</th>\n",
       "      <td>0.220406</td>\n",
       "      <td>IBM</td>\n",
       "    </tr>\n",
       "    <tr>\n",
       "      <th>14593</th>\n",
       "      <td>0.004398</td>\n",
       "      <td>Apple</td>\n",
       "    </tr>\n",
       "    <tr>\n",
       "      <th>26403</th>\n",
       "      <td>0.116673</td>\n",
       "      <td>Disney</td>\n",
       "    </tr>\n",
       "    <tr>\n",
       "      <th>57665</th>\n",
       "      <td>0.429891</td>\n",
       "      <td>Nike</td>\n",
       "    </tr>\n",
       "  </tbody>\n",
       "</table>\n",
       "</div>"
      ],
      "text/plain": [
       "         weight     stocks\n",
       "10107  0.228632  Microsoft\n",
       "12490  0.220406        IBM\n",
       "14593  0.004398      Apple\n",
       "26403  0.116673     Disney\n",
       "57665  0.429891       Nike"
      ]
     },
     "execution_count": 220,
     "metadata": {},
     "output_type": "execute_result"
    }
   ],
   "source": [
    "alloc2 = meanvar(0.04)\n",
    "w2 = DataFrame(alloc2[0], index=stocks.PERMNO.as_matrix(), columns=['weight'])\n",
    "w2 = w2.join(stocks.set_index('PERMNO'))\n",
    "print('weights\\n')\n",
    "w2"
   ]
  },
  {
   "cell_type": "code",
   "execution_count": 221,
   "metadata": {},
   "outputs": [
    {
     "name": "stdout",
     "output_type": "stream",
     "text": [
      "expected mean of portfolio: 0.04\n",
      "standard deviation of portfolio: 0.0383514456892\n"
     ]
    }
   ],
   "source": [
    "r2 = alloc2[1]\n",
    "s2 = alloc2[2]\n",
    "print('expected mean of portfolio:', r2)\n",
    "print('standard deviation of portfolio:', s2)"
   ]
  },
  {
   "cell_type": "markdown",
   "metadata": {},
   "source": [
    "* Q3\n",
    "\n",
    "Now, form a new portfolio with 30% in your first allocation above, and 70% in your second allocation above. Show on MV efficient graph that this new portfolio is also on your efficeint curve. "
   ]
  },
  {
   "cell_type": "code",
   "execution_count": 227,
   "metadata": {},
   "outputs": [
    {
     "name": "stdout",
     "output_type": "stream",
     "text": [
      "New Portfolio Weight\n"
     ]
    },
    {
     "data": {
      "text/html": [
       "<div>\n",
       "<style>\n",
       "    .dataframe thead tr:only-child th {\n",
       "        text-align: right;\n",
       "    }\n",
       "\n",
       "    .dataframe thead th {\n",
       "        text-align: left;\n",
       "    }\n",
       "\n",
       "    .dataframe tbody tr th {\n",
       "        vertical-align: top;\n",
       "    }\n",
       "</style>\n",
       "<table border=\"1\" class=\"dataframe\">\n",
       "  <thead>\n",
       "    <tr style=\"text-align: right;\">\n",
       "      <th></th>\n",
       "      <th>weight</th>\n",
       "      <th>stocks</th>\n",
       "    </tr>\n",
       "  </thead>\n",
       "  <tbody>\n",
       "    <tr>\n",
       "      <th>10107</th>\n",
       "      <td>0.208081</td>\n",
       "      <td>Microsoft</td>\n",
       "    </tr>\n",
       "    <tr>\n",
       "      <th>12490</th>\n",
       "      <td>0.189712</td>\n",
       "      <td>IBM</td>\n",
       "    </tr>\n",
       "    <tr>\n",
       "      <th>14593</th>\n",
       "      <td>0.034902</td>\n",
       "      <td>Apple</td>\n",
       "    </tr>\n",
       "    <tr>\n",
       "      <th>26403</th>\n",
       "      <td>0.178891</td>\n",
       "      <td>Disney</td>\n",
       "    </tr>\n",
       "    <tr>\n",
       "      <th>57665</th>\n",
       "      <td>0.388414</td>\n",
       "      <td>Nike</td>\n",
       "    </tr>\n",
       "  </tbody>\n",
       "</table>\n",
       "</div>"
      ],
      "text/plain": [
       "         weight     stocks\n",
       "10107  0.208081  Microsoft\n",
       "12490  0.189712        IBM\n",
       "14593  0.034902      Apple\n",
       "26403  0.178891     Disney\n",
       "57665  0.388414       Nike"
      ]
     },
     "execution_count": 227,
     "metadata": {},
     "output_type": "execute_result"
    }
   ],
   "source": [
    "print('New Portfolio Weight')\n",
    "(0.3*w1[['weight']]+0.7*w2[['weight']]).join(w2[['stocks']])"
   ]
  },
  {
   "cell_type": "code",
   "execution_count": 212,
   "metadata": {},
   "outputs": [],
   "source": [
    "alloc3 = 0.3*alloc1[0] + 0.7*alloc2[0]"
   ]
  },
  {
   "cell_type": "code",
   "execution_count": 213,
   "metadata": {
    "collapsed": true
   },
   "outputs": [],
   "source": [
    "def hutmusigma(w):\n",
    "    hutsigma = np.sqrt(w.transpose().dot(cov).dot(w))\n",
    "    hutmu = w.T.dot(rbar)\n",
    "    return hutmu, hutsigma"
   ]
  },
  {
   "cell_type": "code",
   "execution_count": 214,
   "metadata": {
    "collapsed": true
   },
   "outputs": [],
   "source": [
    "r3 = hutmusigma(alloc3)[0]\n",
    "s3 = hutmusigma(alloc3)[1]"
   ]
  },
  {
   "cell_type": "code",
   "execution_count": 216,
   "metadata": {},
   "outputs": [
    {
     "data": {
      "image/png": "[encoded data removed]",
      "text/plain": [
       "<matplotlib.figure.Figure at 0x113261350>"
      ]
     },
     "metadata": {},
     "output_type": "display_data"
    }
   ],
   "source": [
    "mus = np.linspace(0.001, 0.06, 100)\n",
    "sigmas =[]\n",
    "for m in mus:\n",
    "    sm = meanvar(m)[2]\n",
    "    sigmas.append(sm)\n",
    "\n",
    "fig, ax = plt.subplots()\n",
    "plt.plot(sigmas, mus, label='Mean Variance Frontier')\n",
    "plt.xlabel(r'$\\sigma (R)$')\n",
    "plt.ylabel(r'$E(R)$')\n",
    "plt.title('Mean Variance Frontier')\n",
    "ax.plot(s1, r1, 'or')\n",
    "ax.text(s1, r1, 'allocation 1')\n",
    "ax.plot(s2, r2, 'or')\n",
    "ax.text(s2, r2, 'allocation 2')\n",
    "ax.plot(s3, r3, 'or')\n",
    "ax.text(s3, r3, 'allocation 3')\n",
    "plt.show()"
   ]
  },
  {
   "cell_type": "markdown",
   "metadata": {},
   "source": [
    "### Mean-Variance With Risk Free Assets"
   ]
  },
  {
   "cell_type": "markdown",
   "metadata": {
    "collapsed": true
   },
   "source": [
    "* Q4\n",
    "\n",
    "You've seen the derivation of mean-variance optimal allocation with risk free assets in class notes. Derive an expression of **relative weights in risky assets (out of total investment in risky assets)** for a portfolios of N risky assets. Use the same notation as the lecture notes. "
   ]
  },
  {
   "cell_type": "markdown",
   "metadata": {},
   "source": [
    "$$ \\min_{\\omega} \\frac{1}{2}\\omega' \\Sigma \\omega \\qquad\n",
    "\\text{s.t. }  \\omega'(\\bar{R}-R_{f}\\iota)=\\mu-R_{f} $$\n",
    "\n",
    "Solving FOC we get $$\\omega =\\lambda \\Sigma^{-1}(\\bar{R}-R_{f}\\iota) $$\n",
    "$$\\lambda =\\frac{\\mu-R_{f}}{(\\bar{R}-R_{f}\\iota)'\\Sigma^{-1}(\\bar{R}-R_{f}\\iota)} $$\n",
    "\n",
    "$$ w = \\frac{\\omega_{i}}{\\iota'\\omega'} = \\frac{\\lambda \\Sigma^{-1}(\\bar{R}-R_{f}\\iota)}{\\lambda \\iota' \\Sigma^{-1}(\\bar{R}-R_{f}\\iota)}= \\frac{ \\Sigma^{-1}(\\bar{R}-R_{f}\\iota)}{\\iota' \\Sigma^{-1}(\\bar{R}-R_{f}\\iota)}$$"
   ]
  },
  {
   "cell_type": "markdown",
   "metadata": {},
   "source": [
    "Now that you can invest (or borrow) from risk free rate. \n",
    "\n",
    "* Q5\n",
    "\n",
    "Use the math expression you derive above to find the optimal relative weights in the five stocks in January 1997.  \n"
   ]
  },
  {
   "cell_type": "code",
   "execution_count": 232,
   "metadata": {},
   "outputs": [
    {
     "data": {
      "text/plain": [
       "0.0045"
      ]
     },
     "execution_count": 232,
     "metadata": {},
     "output_type": "execute_result"
    }
   ],
   "source": [
    "rf0 = msf.loc[investmonthEnd, 'rf'].mean()\n",
    "rf0"
   ]
  },
  {
   "cell_type": "code",
   "execution_count": 231,
   "metadata": {
    "collapsed": true
   },
   "outputs": [],
   "source": [
    "def meanvar_rfra(rf, rbar=rbar0, cov=cov0):\n",
    "    ones = np.ones(rbar.shape)\n",
    "    w = inv(cov).dot(rbar-rf*ones)/ones.T.dot(inv(cov)).dot(rbar-rf*ones)\n",
    "    return w"
   ]
  },
  {
   "cell_type": "code",
   "execution_count": 234,
   "metadata": {},
   "outputs": [
    {
     "name": "stdout",
     "output_type": "stream",
     "text": [
      "weights\n",
      "\n"
     ]
    },
    {
     "data": {
      "text/html": [
       "<div>\n",
       "<style>\n",
       "    .dataframe thead tr:only-child th {\n",
       "        text-align: right;\n",
       "    }\n",
       "\n",
       "    .dataframe thead th {\n",
       "        text-align: left;\n",
       "    }\n",
       "\n",
       "    .dataframe tbody tr th {\n",
       "        vertical-align: top;\n",
       "    }\n",
       "</style>\n",
       "<table border=\"1\" class=\"dataframe\">\n",
       "  <thead>\n",
       "    <tr style=\"text-align: right;\">\n",
       "      <th></th>\n",
       "      <th>weight</th>\n",
       "      <th>stocks</th>\n",
       "    </tr>\n",
       "  </thead>\n",
       "  <tbody>\n",
       "    <tr>\n",
       "      <th>10107</th>\n",
       "      <td>0.250488</td>\n",
       "      <td>Microsoft</td>\n",
       "    </tr>\n",
       "    <tr>\n",
       "      <th>12490</th>\n",
       "      <td>0.253049</td>\n",
       "      <td>IBM</td>\n",
       "    </tr>\n",
       "    <tr>\n",
       "      <th>14593</th>\n",
       "      <td>-0.028042</td>\n",
       "      <td>Apple</td>\n",
       "    </tr>\n",
       "    <tr>\n",
       "      <th>26403</th>\n",
       "      <td>0.050503</td>\n",
       "      <td>Disney</td>\n",
       "    </tr>\n",
       "    <tr>\n",
       "      <th>57665</th>\n",
       "      <td>0.474003</td>\n",
       "      <td>Nike</td>\n",
       "    </tr>\n",
       "  </tbody>\n",
       "</table>\n",
       "</div>"
      ],
      "text/plain": [
       "         weight     stocks\n",
       "10107  0.250488  Microsoft\n",
       "12490  0.253049        IBM\n",
       "14593 -0.028042      Apple\n",
       "26403  0.050503     Disney\n",
       "57665  0.474003       Nike"
      ]
     },
     "execution_count": 234,
     "metadata": {},
     "output_type": "execute_result"
    }
   ],
   "source": [
    "mvalloc = meanvar_rfra(rf0, rbar=rbar0, cov=cov0)\n",
    "w4 = DataFrame(mvalloc, index=stocks.PERMNO.as_matrix(), columns=['weight'])\n",
    "w4 = w4.join(stocks.set_index('PERMNO'))\n",
    "print('weights\\n')\n",
    "w4"
   ]
  },
  {
   "cell_type": "code",
   "execution_count": 236,
   "metadata": {},
   "outputs": [
    {
     "data": {
      "text/plain": [
       "1.0"
      ]
     },
     "execution_count": 236,
     "metadata": {},
     "output_type": "execute_result"
    }
   ],
   "source": [
    "w4.weight.sum()"
   ]
  },
  {
   "cell_type": "code",
   "execution_count": 239,
   "metadata": {},
   "outputs": [
    {
     "name": "stdout",
     "output_type": "stream",
     "text": [
      "Optimized Realized Return: 0.141929872857\n",
      "Equally weighted portfolio return: 0.0504684396089\n"
     ]
    }
   ],
   "source": [
    "cmret = msf.loc[investmonthEnd, 'RET'].as_matrix()\n",
    "print('Optimized Realized Return:', mvalloc.T.dot(cmret))\n",
    "print('Equally weighted portfolio return:', cmret.mean())"
   ]
  },
  {
   "cell_type": "markdown",
   "metadata": {},
   "source": [
    "* Q6\n",
    "\n",
    "At the beginning of the next month, i.e., Feb 1997, how would you adjust your portfolio to remain on the efficient frontier. Notice that your portfolio weight at the end of the month will change. "
   ]
  },
  {
   "cell_type": "code",
   "execution_count": 241,
   "metadata": {},
   "outputs": [
    {
     "data": {
      "text/plain": [
       "array([ 0.3092253 ,  0.26202666, -0.02233308,  0.05284537,  0.54016562])"
      ]
     },
     "execution_count": 241,
     "metadata": {},
     "output_type": "execute_result"
    }
   ],
   "source": [
    "endmonthw = (1+cmret) * mvalloc\n",
    "endmonthw"
   ]
  },
  {
   "cell_type": "code",
   "execution_count": 245,
   "metadata": {},
   "outputs": [],
   "source": [
    "def findparam(year, month, day):\n",
    "    investmonth = pd.datetime(year, month, day)\n",
    "    investmonthEnd = investmonth + MonthEnd(0)\n",
    "    mrange = pd.date_range(end=investmonth, periods=36, freq='M')\n",
    "    mrangeret = msf.loc[msf.index.isin(mrange), ['PERMNO', 'RET']]\n",
    "    retbystock = mrangeret.groupby('PERMNO')['RET']\n",
    "    retmat = mrangeret.reset_index().set_index(['PERMNO', 'date']).unstack('PERMNO')\n",
    "    rbar = retbystock.mean().as_matrix()\n",
    "    cov = retmat.cov().as_matrix()\n",
    "    rf = msf.loc[investmonthEnd, 'rf'].mean()\n",
    "    return rbar, cov, rf"
   ]
  },
  {
   "cell_type": "code",
   "execution_count": 247,
   "metadata": {},
   "outputs": [],
   "source": [
    "param = findparam(1997, 2, 1)"
   ]
  },
  {
   "cell_type": "code",
   "execution_count": 248,
   "metadata": {},
   "outputs": [
    {
     "name": "stdout",
     "output_type": "stream",
     "text": [
      "weights\n",
      "\n"
     ]
    },
    {
     "data": {
      "text/html": [
       "<div>\n",
       "<style>\n",
       "    .dataframe thead tr:only-child th {\n",
       "        text-align: right;\n",
       "    }\n",
       "\n",
       "    .dataframe thead th {\n",
       "        text-align: left;\n",
       "    }\n",
       "\n",
       "    .dataframe tbody tr th {\n",
       "        vertical-align: top;\n",
       "    }\n",
       "</style>\n",
       "<table border=\"1\" class=\"dataframe\">\n",
       "  <thead>\n",
       "    <tr style=\"text-align: right;\">\n",
       "      <th></th>\n",
       "      <th>weight</th>\n",
       "      <th>stocks</th>\n",
       "    </tr>\n",
       "  </thead>\n",
       "  <tbody>\n",
       "    <tr>\n",
       "      <th>10107</th>\n",
       "      <td>0.186707</td>\n",
       "      <td>Microsoft</td>\n",
       "    </tr>\n",
       "    <tr>\n",
       "      <th>12490</th>\n",
       "      <td>0.324245</td>\n",
       "      <td>IBM</td>\n",
       "    </tr>\n",
       "    <tr>\n",
       "      <th>14593</th>\n",
       "      <td>-0.024209</td>\n",
       "      <td>Apple</td>\n",
       "    </tr>\n",
       "    <tr>\n",
       "      <th>26403</th>\n",
       "      <td>0.004659</td>\n",
       "      <td>Disney</td>\n",
       "    </tr>\n",
       "    <tr>\n",
       "      <th>57665</th>\n",
       "      <td>0.508598</td>\n",
       "      <td>Nike</td>\n",
       "    </tr>\n",
       "  </tbody>\n",
       "</table>\n",
       "</div>"
      ],
      "text/plain": [
       "         weight     stocks\n",
       "10107  0.186707  Microsoft\n",
       "12490  0.324245        IBM\n",
       "14593 -0.024209      Apple\n",
       "26403  0.004659     Disney\n",
       "57665  0.508598       Nike"
      ]
     },
     "execution_count": 248,
     "metadata": {},
     "output_type": "execute_result"
    }
   ],
   "source": [
    "mvalloc1 = meanvar_rfra(param[2], rbar=param[0], cov=param[1])\n",
    "w5 = DataFrame(mvalloc1, index=stocks.PERMNO.as_matrix(), columns=['weight'])\n",
    "w5 = w5.join(stocks.set_index('PERMNO'))\n",
    "print('weights\\n')\n",
    "w5"
   ]
  },
  {
   "cell_type": "code",
   "execution_count": 250,
   "metadata": {},
   "outputs": [
    {
     "data": {
      "text/plain": [
       "array([ 0.1225188 ,  0.06221863,  0.00187606,  0.04818606,  0.03156759])"
      ]
     },
     "execution_count": 250,
     "metadata": {},
     "output_type": "execute_result"
    }
   ],
   "source": [
    "abs(mvalloc1 - endmonthw)"
   ]
  },
  {
   "cell_type": "code",
   "execution_count": null,
   "metadata": {
    "collapsed": true
   },
   "outputs": [],
   "source": []
  },
  {
   "cell_type": "code",
   "execution_count": 65,
   "metadata": {
    "collapsed": true
   },
   "outputs": [],
   "source": [
    "def meanvar_rf(rf, mu, rbar=rbar, cov=cov):\n",
    "    ones = np.ones(rbar.shape)\n",
    "    lamda = (mu-rf)/(rbar-rf*ones).T.dot(inv(cov)).dot(rbar-rf*ones)\n",
    "    omegarf = lamda*inv(cov).dot(rbar-rf*ones)\n",
    "    return omegarf"
   ]
  },
  {
   "cell_type": "code",
   "execution_count": 66,
   "metadata": {},
   "outputs": [
    {
     "data": {
      "text/plain": [
       "array([ 0.06955305,  0.12149609, -0.0102011 , -0.00098306,  0.18960923])"
      ]
     },
     "execution_count": 66,
     "metadata": {},
     "output_type": "execute_result"
    }
   ],
   "source": [
    "meanvar_rf(rf, 0.02, rbar=rbar, cov=cov)"
   ]
  },
  {
   "cell_type": "code",
   "execution_count": 67,
   "metadata": {},
   "outputs": [
    {
     "data": {
      "text/plain": [
       "0.36947421726957375"
      ]
     },
     "execution_count": 67,
     "metadata": {},
     "output_type": "execute_result"
    }
   ],
   "source": [
    "meanvar_rf(rf, 0.02, rbar=rbar, cov=cov).sum()"
   ]
  },
  {
   "cell_type": "code",
   "execution_count": 68,
   "metadata": {},
   "outputs": [
    {
     "data": {
      "text/plain": [
       "0.0045"
      ]
     },
     "execution_count": 68,
     "metadata": {},
     "output_type": "execute_result"
    }
   ],
   "source": [
    "rf"
   ]
  },
  {
   "cell_type": "code",
   "execution_count": null,
   "metadata": {
    "collapsed": true
   },
   "outputs": [],
   "source": []
  },
  {
   "cell_type": "code",
   "execution_count": 130,
   "metadata": {},
   "outputs": [],
   "source": [
    "def meanvar_rfloop(loopstart, loopend):\n",
    "    loopm = pd.date_range(start=loopstart, end=loopend, freq='M')\n",
    "    wstar = pd.DataFrame(columns=['w1','w2','w3','w4','w5' ])\n",
    "    pret = []\n",
    "    for investmonth in loopm:\n",
    "        mrange = pd.date_range(end=investmonth, periods=36, freq='M')\n",
    "        mrangeret = msf.loc[msf.index.isin(mrange), ['PERMNO', 'RET']]\n",
    "        rbar =mrangeret.groupby('PERMNO')['RET'].mean().as_matrix()\n",
    "        cov = mrangeret.reset_index().set_index(['PERMNO', 'date']).unstack('PERMNO').cov().as_matrix()\n",
    "        rf = msf.loc[investmonth+MonthEnd(0), 'rf'].mean()\n",
    "        ones = np.ones(rbar.shape)\n",
    "        w = inv(cov).dot(rbar-rf*ones)/ones.T.dot(inv(cov)).dot(rbar-rf*ones)\n",
    "        W = DataFrame(w, index=['w1','w2','w3','w4','w5' ]).T\n",
    "        mret = msf.loc[investmonth+MonthEnd(0), 'RET'].as_matrix()\n",
    "        mretp = w.T.dot(mret)\n",
    "        wstar = wstar.append(W)\n",
    "        pret.append(mretp)\n",
    "    wstar.index = loopm\n",
    "    return DataFrame(pret,index=loopm, columns=['pret']), wstar"
   ]
  },
  {
   "cell_type": "code",
   "execution_count": 135,
   "metadata": {},
   "outputs": [],
   "source": [
    "pret, wstar = meanvar_rfloop('1997-01-30', '1997-12-30')"
   ]
  },
  {
   "cell_type": "code",
   "execution_count": 137,
   "metadata": {},
   "outputs": [
    {
     "data": {
      "text/plain": [
       "1997-01-31    1.0\n",
       "1997-02-28    1.0\n",
       "1997-03-31    1.0\n",
       "1997-04-30    1.0\n",
       "1997-05-31    1.0\n",
       "1997-06-30    1.0\n",
       "1997-07-31    1.0\n",
       "1997-08-31    1.0\n",
       "1997-09-30    1.0\n",
       "1997-10-31    1.0\n",
       "1997-11-30    1.0\n",
       "Freq: M, dtype: float64"
      ]
     },
     "execution_count": 137,
     "metadata": {},
     "output_type": "execute_result"
    }
   ],
   "source": [
    "wstar.sum(axis=1)"
   ]
  },
  {
   "cell_type": "code",
   "execution_count": 141,
   "metadata": {},
   "outputs": [
    {
     "data": {
      "text/latex": [
       "$$ \\pi = \\Sigma$$"
      ],
      "text/plain": [
       "<IPython.core.display.Latex object>"
      ]
     },
     "metadata": {},
     "output_type": "display_data"
    }
   ],
   "source": [
    "%%latex  \n",
    "$$ \\pi = \\Sigma$$"
   ]
  },
  {
   "cell_type": "code",
   "execution_count": 142,
   "metadata": {},
   "outputs": [
    {
     "data": {
      "text/latex": [
       "$$F(k) = \\int_{-\\infty}^{\\infty} f(x) e^{2\\pi i k} dx$$"
      ],
      "text/plain": [
       "<IPython.core.display.Math object>"
      ]
     },
     "metadata": {},
     "output_type": "display_data"
    }
   ],
   "source": [
    "from IPython.display import display, Math, Latex\n",
    "display(Math(r'F(k) = \\int_{-\\infty}^{\\infty} f(x) e^{2\\pi i k} dx'))"
   ]
  },
  {
   "cell_type": "code",
   "execution_count": null,
   "metadata": {
    "collapsed": true
   },
   "outputs": [],
   "source": []
  }
 ],
 "metadata": {
  "anaconda-cloud": {},
  "kernelspec": {
   "display_name": "Python [conda root]",
   "language": "python",
   "name": "conda-root-py"
  },
  "language_info": {
   "codemirror_mode": {
    "name": "ipython",
    "version": 2
   },
   "file_extension": ".py",
   "mimetype": "text/x-python",
   "name": "python",
   "nbconvert_exporter": "python",
   "pygments_lexer": "ipython2",
   "version": "2.7.13"
  }
 },
 "nbformat": 4,
 "nbformat_minor": 1
}
