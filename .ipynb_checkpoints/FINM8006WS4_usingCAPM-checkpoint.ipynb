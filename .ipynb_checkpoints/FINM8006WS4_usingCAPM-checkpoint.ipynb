{
 "cells": [
  {
   "cell_type": "code",
   "execution_count": 1,
   "metadata": {},
   "outputs": [
    {
     "name": "stderr",
     "output_type": "stream",
     "text": [
      "/Users/qiaoqiaozhu/anaconda/lib/python2.7/site-packages/statsmodels/compat/pandas.py:56: FutureWarning: The pandas.core.datetools module is deprecated and will be removed in a future version. Please use the pandas.tseries module instead.\n",
      "  from pandas.core import datetools\n"
     ]
    }
   ],
   "source": [
    "from __future__ import division\n",
    "from __future__ import print_function\n",
    "import numpy as np\n",
    "from pandas import Series, DataFrame\n",
    "import pandas as pd\n",
    "import statsmodels.api as sm\n",
    "import matplotlib.pyplot as plt\n",
    "%matplotlib inline\n",
    "import seaborn as sns\n",
    "\n",
    "#import pandas_datareader.data as web\n",
    "import datetime\n",
    "plt.rc('figure', figsize=(16, 10))\n",
    "from numpy.linalg import inv\n",
    "from numpy import dot"
   ]
  },
  {
   "cell_type": "code",
   "execution_count": 2,
   "metadata": {},
   "outputs": [
    {
     "data": {
      "text/html": [
       "<div>\n",
       "<style>\n",
       "    .dataframe thead tr:only-child th {\n",
       "        text-align: right;\n",
       "    }\n",
       "\n",
       "    .dataframe thead th {\n",
       "        text-align: left;\n",
       "    }\n",
       "\n",
       "    .dataframe tbody tr th {\n",
       "        vertical-align: top;\n",
       "    }\n",
       "</style>\n",
       "<table border=\"1\" class=\"dataframe\">\n",
       "  <thead>\n",
       "    <tr style=\"text-align: right;\">\n",
       "      <th></th>\n",
       "      <th>PERMNO</th>\n",
       "      <th>RET</th>\n",
       "    </tr>\n",
       "    <tr>\n",
       "      <th>date</th>\n",
       "      <th></th>\n",
       "      <th></th>\n",
       "    </tr>\n",
       "  </thead>\n",
       "  <tbody>\n",
       "    <tr>\n",
       "      <th>1994-01-31</th>\n",
       "      <td>10107</td>\n",
       "      <td>0.055814</td>\n",
       "    </tr>\n",
       "    <tr>\n",
       "      <th>1994-02-28</th>\n",
       "      <td>10107</td>\n",
       "      <td>-0.030837</td>\n",
       "    </tr>\n",
       "    <tr>\n",
       "      <th>1994-03-31</th>\n",
       "      <td>10107</td>\n",
       "      <td>0.027273</td>\n",
       "    </tr>\n",
       "  </tbody>\n",
       "</table>\n",
       "</div>"
      ],
      "text/plain": [
       "            PERMNO       RET\n",
       "date                        \n",
       "1994-01-31   10107  0.055814\n",
       "1994-02-28   10107 -0.030837\n",
       "1994-03-31   10107  0.027273"
      ]
     },
     "execution_count": 2,
     "metadata": {},
     "output_type": "execute_result"
    }
   ],
   "source": [
    "msf = pd.read_csv('asgn1.csv')\n",
    "msf['date']=pd.to_datetime(msf.date)\n",
    "msf = msf.sort_values(['PERMNO', 'date'])\n",
    "msf = msf.set_index('date')\n",
    "msf = msf[['PERMNO', 'RET']]\n",
    "msf.head(3)"
   ]
  },
  {
   "cell_type": "markdown",
   "metadata": {},
   "source": [
    "### Expected Return and Realized Return"
   ]
  },
  {
   "cell_type": "code",
   "execution_count": 3,
   "metadata": {},
   "outputs": [
    {
     "data": {
      "text/html": [
       "<div>\n",
       "<style>\n",
       "    .dataframe thead tr:only-child th {\n",
       "        text-align: right;\n",
       "    }\n",
       "\n",
       "    .dataframe thead th {\n",
       "        text-align: left;\n",
       "    }\n",
       "\n",
       "    .dataframe tbody tr th {\n",
       "        vertical-align: top;\n",
       "    }\n",
       "</style>\n",
       "<table border=\"1\" class=\"dataframe\">\n",
       "  <thead>\n",
       "    <tr style=\"text-align: right;\">\n",
       "      <th></th>\n",
       "      <th>RET</th>\n",
       "    </tr>\n",
       "    <tr>\n",
       "      <th>PERMNO</th>\n",
       "      <th></th>\n",
       "    </tr>\n",
       "  </thead>\n",
       "  <tbody>\n",
       "    <tr>\n",
       "      <th>10107</th>\n",
       "      <td>0.007026</td>\n",
       "    </tr>\n",
       "    <tr>\n",
       "      <th>12490</th>\n",
       "      <td>0.005709</td>\n",
       "    </tr>\n",
       "    <tr>\n",
       "      <th>14593</th>\n",
       "      <td>0.061304</td>\n",
       "    </tr>\n",
       "    <tr>\n",
       "      <th>26403</th>\n",
       "      <td>0.017271</td>\n",
       "    </tr>\n",
       "    <tr>\n",
       "      <th>57665</th>\n",
       "      <td>0.019287</td>\n",
       "    </tr>\n",
       "  </tbody>\n",
       "</table>\n",
       "</div>"
      ],
      "text/plain": [
       "             RET\n",
       "PERMNO          \n",
       "10107   0.007026\n",
       "12490   0.005709\n",
       "14593   0.061304\n",
       "26403   0.017271\n",
       "57665   0.019287"
      ]
     },
     "execution_count": 3,
     "metadata": {},
     "output_type": "execute_result"
    }
   ],
   "source": [
    "msf['2003-1-31': '2006-12-30'].groupby('PERMNO').mean()"
   ]
  },
  {
   "cell_type": "code",
   "execution_count": 4,
   "metadata": {},
   "outputs": [
    {
     "data": {
      "text/html": [
       "<div>\n",
       "<style>\n",
       "    .dataframe thead tr:only-child th {\n",
       "        text-align: right;\n",
       "    }\n",
       "\n",
       "    .dataframe thead th {\n",
       "        text-align: left;\n",
       "    }\n",
       "\n",
       "    .dataframe tbody tr th {\n",
       "        vertical-align: top;\n",
       "    }\n",
       "</style>\n",
       "<table border=\"1\" class=\"dataframe\">\n",
       "  <thead>\n",
       "    <tr style=\"text-align: right;\">\n",
       "      <th></th>\n",
       "      <th>RET</th>\n",
       "    </tr>\n",
       "    <tr>\n",
       "      <th>PERMNO</th>\n",
       "      <th></th>\n",
       "    </tr>\n",
       "  </thead>\n",
       "  <tbody>\n",
       "    <tr>\n",
       "      <th>10107</th>\n",
       "      <td>0.019185</td>\n",
       "    </tr>\n",
       "    <tr>\n",
       "      <th>12490</th>\n",
       "      <td>0.011290</td>\n",
       "    </tr>\n",
       "    <tr>\n",
       "      <th>14593</th>\n",
       "      <td>0.076164</td>\n",
       "    </tr>\n",
       "    <tr>\n",
       "      <th>26403</th>\n",
       "      <td>-0.002645</td>\n",
       "    </tr>\n",
       "    <tr>\n",
       "      <th>57665</th>\n",
       "      <td>0.023905</td>\n",
       "    </tr>\n",
       "  </tbody>\n",
       "</table>\n",
       "</div>"
      ],
      "text/plain": [
       "             RET\n",
       "PERMNO          \n",
       "10107   0.019185\n",
       "12490   0.011290\n",
       "14593   0.076164\n",
       "26403  -0.002645\n",
       "57665   0.023905"
      ]
     },
     "execution_count": 4,
     "metadata": {},
     "output_type": "execute_result"
    }
   ],
   "source": [
    "msf['2007'].groupby('PERMNO').mean()"
   ]
  },
  {
   "cell_type": "code",
   "execution_count": 5,
   "metadata": {},
   "outputs": [
    {
     "data": {
      "text/html": [
       "<div>\n",
       "<style>\n",
       "    .dataframe thead tr:only-child th {\n",
       "        text-align: right;\n",
       "    }\n",
       "\n",
       "    .dataframe thead th {\n",
       "        text-align: left;\n",
       "    }\n",
       "\n",
       "    .dataframe tbody tr th {\n",
       "        vertical-align: top;\n",
       "    }\n",
       "</style>\n",
       "<table border=\"1\" class=\"dataframe\">\n",
       "  <thead>\n",
       "    <tr style=\"text-align: right;\">\n",
       "      <th></th>\n",
       "      <th>RET</th>\n",
       "    </tr>\n",
       "    <tr>\n",
       "      <th>PERMNO</th>\n",
       "      <th></th>\n",
       "    </tr>\n",
       "  </thead>\n",
       "  <tbody>\n",
       "    <tr>\n",
       "      <th>10107</th>\n",
       "      <td>0.033490</td>\n",
       "    </tr>\n",
       "    <tr>\n",
       "      <th>12490</th>\n",
       "      <td>0.020587</td>\n",
       "    </tr>\n",
       "    <tr>\n",
       "      <th>14593</th>\n",
       "      <td>0.010490</td>\n",
       "    </tr>\n",
       "    <tr>\n",
       "      <th>26403</th>\n",
       "      <td>0.026262</td>\n",
       "    </tr>\n",
       "    <tr>\n",
       "      <th>57665</th>\n",
       "      <td>-0.002222</td>\n",
       "    </tr>\n",
       "  </tbody>\n",
       "</table>\n",
       "</div>"
      ],
      "text/plain": [
       "             RET\n",
       "PERMNO          \n",
       "10107   0.033490\n",
       "12490   0.020587\n",
       "14593   0.010490\n",
       "26403   0.026262\n",
       "57665  -0.002222"
      ]
     },
     "execution_count": 5,
     "metadata": {},
     "output_type": "execute_result"
    }
   ],
   "source": [
    "msf['2007-01-31'].set_index('PERMNO')"
   ]
  },
  {
   "cell_type": "markdown",
   "metadata": {},
   "source": [
    "#### COV"
   ]
  },
  {
   "cell_type": "code",
   "execution_count": 6,
   "metadata": {},
   "outputs": [
    {
     "data": {
      "text/html": [
       "<div>\n",
       "<style>\n",
       "    .dataframe thead tr:only-child th {\n",
       "        text-align: right;\n",
       "    }\n",
       "\n",
       "    .dataframe thead th {\n",
       "        text-align: left;\n",
       "    }\n",
       "\n",
       "    .dataframe tbody tr th {\n",
       "        vertical-align: top;\n",
       "    }\n",
       "</style>\n",
       "<table border=\"1\" class=\"dataframe\">\n",
       "  <thead>\n",
       "    <tr>\n",
       "      <th></th>\n",
       "      <th></th>\n",
       "      <th colspan=\"5\" halign=\"left\">RET</th>\n",
       "    </tr>\n",
       "    <tr>\n",
       "      <th></th>\n",
       "      <th>PERMNO</th>\n",
       "      <th>10107</th>\n",
       "      <th>12490</th>\n",
       "      <th>14593</th>\n",
       "      <th>26403</th>\n",
       "      <th>57665</th>\n",
       "    </tr>\n",
       "    <tr>\n",
       "      <th></th>\n",
       "      <th>PERMNO</th>\n",
       "      <th></th>\n",
       "      <th></th>\n",
       "      <th></th>\n",
       "      <th></th>\n",
       "      <th></th>\n",
       "    </tr>\n",
       "  </thead>\n",
       "  <tbody>\n",
       "    <tr>\n",
       "      <th rowspan=\"5\" valign=\"top\">RET</th>\n",
       "      <th>10107</th>\n",
       "      <td>0.002009</td>\n",
       "      <td>0.000390</td>\n",
       "      <td>0.000173</td>\n",
       "      <td>0.000131</td>\n",
       "      <td>-0.000378</td>\n",
       "    </tr>\n",
       "    <tr>\n",
       "      <th>12490</th>\n",
       "      <td>0.000390</td>\n",
       "      <td>0.002679</td>\n",
       "      <td>0.001678</td>\n",
       "      <td>0.001230</td>\n",
       "      <td>0.000976</td>\n",
       "    </tr>\n",
       "    <tr>\n",
       "      <th>14593</th>\n",
       "      <td>0.000173</td>\n",
       "      <td>0.001678</td>\n",
       "      <td>0.012348</td>\n",
       "      <td>0.002806</td>\n",
       "      <td>0.000411</td>\n",
       "    </tr>\n",
       "    <tr>\n",
       "      <th>26403</th>\n",
       "      <td>0.000131</td>\n",
       "      <td>0.001230</td>\n",
       "      <td>0.002806</td>\n",
       "      <td>0.003601</td>\n",
       "      <td>0.000546</td>\n",
       "    </tr>\n",
       "    <tr>\n",
       "      <th>57665</th>\n",
       "      <td>-0.000378</td>\n",
       "      <td>0.000976</td>\n",
       "      <td>0.000411</td>\n",
       "      <td>0.000546</td>\n",
       "      <td>0.002428</td>\n",
       "    </tr>\n",
       "  </tbody>\n",
       "</table>\n",
       "</div>"
      ],
      "text/plain": [
       "                 RET                                        \n",
       "PERMNO         10107     12490     14593     26403     57665\n",
       "    PERMNO                                                  \n",
       "RET 10107   0.002009  0.000390  0.000173  0.000131 -0.000378\n",
       "    12490   0.000390  0.002679  0.001678  0.001230  0.000976\n",
       "    14593   0.000173  0.001678  0.012348  0.002806  0.000411\n",
       "    26403   0.000131  0.001230  0.002806  0.003601  0.000546\n",
       "    57665  -0.000378  0.000976  0.000411  0.000546  0.002428"
      ]
     },
     "execution_count": 6,
     "metadata": {},
     "output_type": "execute_result"
    }
   ],
   "source": [
    "msf['2003-1-31': '2005-12-30'].reset_index().set_index(['PERMNO', 'date']).unstack('PERMNO').cov()"
   ]
  },
  {
   "cell_type": "code",
   "execution_count": 7,
   "metadata": {},
   "outputs": [
    {
     "data": {
      "text/html": [
       "<div>\n",
       "<style>\n",
       "    .dataframe thead tr:only-child th {\n",
       "        text-align: right;\n",
       "    }\n",
       "\n",
       "    .dataframe thead th {\n",
       "        text-align: left;\n",
       "    }\n",
       "\n",
       "    .dataframe tbody tr th {\n",
       "        vertical-align: top;\n",
       "    }\n",
       "</style>\n",
       "<table border=\"1\" class=\"dataframe\">\n",
       "  <thead>\n",
       "    <tr>\n",
       "      <th></th>\n",
       "      <th></th>\n",
       "      <th colspan=\"5\" halign=\"left\">RET</th>\n",
       "    </tr>\n",
       "    <tr>\n",
       "      <th></th>\n",
       "      <th>PERMNO</th>\n",
       "      <th>10107</th>\n",
       "      <th>12490</th>\n",
       "      <th>14593</th>\n",
       "      <th>26403</th>\n",
       "      <th>57665</th>\n",
       "    </tr>\n",
       "    <tr>\n",
       "      <th></th>\n",
       "      <th>PERMNO</th>\n",
       "      <th></th>\n",
       "      <th></th>\n",
       "      <th></th>\n",
       "      <th></th>\n",
       "      <th></th>\n",
       "    </tr>\n",
       "  </thead>\n",
       "  <tbody>\n",
       "    <tr>\n",
       "      <th rowspan=\"5\" valign=\"top\">RET</th>\n",
       "      <th>10107</th>\n",
       "      <td>0.004365</td>\n",
       "      <td>0.001035</td>\n",
       "      <td>0.002432</td>\n",
       "      <td>0.000390</td>\n",
       "      <td>0.000749</td>\n",
       "    </tr>\n",
       "    <tr>\n",
       "      <th>12490</th>\n",
       "      <td>0.001035</td>\n",
       "      <td>0.003336</td>\n",
       "      <td>0.001990</td>\n",
       "      <td>0.000835</td>\n",
       "      <td>0.000461</td>\n",
       "    </tr>\n",
       "    <tr>\n",
       "      <th>14593</th>\n",
       "      <td>0.002432</td>\n",
       "      <td>0.001990</td>\n",
       "      <td>0.010824</td>\n",
       "      <td>0.000101</td>\n",
       "      <td>0.001167</td>\n",
       "    </tr>\n",
       "    <tr>\n",
       "      <th>26403</th>\n",
       "      <td>0.000390</td>\n",
       "      <td>0.000835</td>\n",
       "      <td>0.000101</td>\n",
       "      <td>0.001630</td>\n",
       "      <td>0.000316</td>\n",
       "    </tr>\n",
       "    <tr>\n",
       "      <th>57665</th>\n",
       "      <td>0.000749</td>\n",
       "      <td>0.000461</td>\n",
       "      <td>0.001167</td>\n",
       "      <td>0.000316</td>\n",
       "      <td>0.002243</td>\n",
       "    </tr>\n",
       "  </tbody>\n",
       "</table>\n",
       "</div>"
      ],
      "text/plain": [
       "                 RET                                        \n",
       "PERMNO         10107     12490     14593     26403     57665\n",
       "    PERMNO                                                  \n",
       "RET 10107   0.004365  0.001035  0.002432  0.000390  0.000749\n",
       "    12490   0.001035  0.003336  0.001990  0.000835  0.000461\n",
       "    14593   0.002432  0.001990  0.010824  0.000101  0.001167\n",
       "    26403   0.000390  0.000835  0.000101  0.001630  0.000316\n",
       "    57665   0.000749  0.000461  0.001167  0.000316  0.002243"
      ]
     },
     "execution_count": 7,
     "metadata": {},
     "output_type": "execute_result"
    }
   ],
   "source": [
    "msf['2005-1-31': '2007-12-30'].reset_index().set_index(['PERMNO', 'date']).unstack('PERMNO').cov()"
   ]
  },
  {
   "cell_type": "markdown",
   "metadata": {},
   "source": [
    "### Other Diversification"
   ]
  },
  {
   "cell_type": "markdown",
   "metadata": {},
   "source": [
    "\\begin{align}\n",
    "& \\min_{\\omega_{t}} \\frac{1}{2}\\omega'_{t} \\Sigma_{t} \\omega_{t}\\\\\n",
    "& \\omega'_{t}\\iota=1\n",
    "\\end{align}\n",
    "where $\\iota$ is a $N\\times 1$ vector of 1s.\n",
    "\n",
    "Solving the FOC, we get \\begin{equation*}\\omega_{t}=\\lambda \\Sigma_{t}^{-1} \\iota\\end{equation*} and plug into $\\omega'_{t}\\iota=1$, then\n",
    "\\begin{equation*}\\lambda \\iota'\\Sigma_{t}^{-1} \\iota =1 \\end{equation*} or $\\lambda=\\frac{1}{\\iota'\\Sigma_{t}^{-1} \\iota}$\n",
    "therefore, \\begin{equation*}\\omega_{t}=\\frac{\\Sigma_{t}^{-1} \\iota}{\\iota'\\Sigma_{t}^{-1} \\iota} \\end{equation*} \n"
   ]
  },
  {
   "cell_type": "markdown",
   "metadata": {},
   "source": [
    "We can also see the derivation from the lecture notes when expected return constraint is not binding.\n",
    "Notice, here \\begin{equation*}\\omega'_{t}\\iota=1\\end{equation*}. That is, $\\omega_{t}$ is already weights in risky portfolio $w_{t}$."
   ]
  },
  {
   "cell_type": "code",
   "execution_count": 10,
   "metadata": {
    "collapsed": true
   },
   "outputs": [],
   "source": [
    "def meanvar(mu, syear, eyear):\n",
    "    ret = msf[syear:eyear]\n",
    "    rbar = ret.groupby('PERMNO')['RET'].mean().as_matrix()\n",
    "    cov = ret.reset_index().set_index(['PERMNO', 'date']).unstack('PERMNO').cov().as_matrix()\n",
    "    ones = np.ones(rbar.shape)\n",
    "    A = rbar.T.dot(inv(cov)).dot(rbar)\n",
    "    B = rbar.T.dot(inv(cov)).dot(ones)\n",
    "    C = ones.T.dot(inv(cov)).dot(ones)\n",
    "    omega = (C*mu-B)/(A*C-B**2)*dot(inv(cov), rbar) + (A-B*mu)/(A*C-B**2)*dot(inv(cov), ones)\n",
    "    sigmahut = np.sqrt(omega.transpose().dot(cov).dot(omega))\n",
    "    return omega, sigmahut"
   ]
  },
  {
   "cell_type": "code",
   "execution_count": 11,
   "metadata": {},
   "outputs": [
    {
     "data": {
      "text/plain": [
       "array([ 0.14628654,  0.0914625 ,  0.14445948,  0.21218013,  0.40561136])"
      ]
     },
     "execution_count": 11,
     "metadata": {},
     "output_type": "execute_result"
    }
   ],
   "source": [
    "w = meanvar(0.02, '2004', '2007')[0]\n",
    "w"
   ]
  },
  {
   "cell_type": "code",
   "execution_count": 12,
   "metadata": {
    "collapsed": true
   },
   "outputs": [],
   "source": [
    "def minvar(syear, eyear):\n",
    "    ret = msf[syear:eyear]\n",
    "    rbar = ret.groupby('PERMNO')['RET'].mean().as_matrix()\n",
    "    cov = ret.reset_index().set_index(['PERMNO', 'date']).unstack('PERMNO').cov().as_matrix()\n",
    "    ones = np.ones(rbar.shape)\n",
    "    omega = inv(cov).dot(ones)/ones.T.dot(inv(cov)).dot(ones) \n",
    "    sigmahut = np.sqrt(omega.transpose().dot(cov).dot(omega))\n",
    "    return omega, sigmahut"
   ]
  },
  {
   "cell_type": "code",
   "execution_count": 13,
   "metadata": {},
   "outputs": [
    {
     "data": {
      "text/plain": [
       "array([ 0.20166899,  0.22200651, -0.05260355,  0.25257048,  0.37635758])"
      ]
     },
     "execution_count": 13,
     "metadata": {},
     "output_type": "execute_result"
    }
   ],
   "source": [
    "w_minv, sigma_minv = minvar( '2004', '2007')\n",
    "w_minv"
   ]
  },
  {
   "cell_type": "code",
   "execution_count": 14,
   "metadata": {},
   "outputs": [
    {
     "data": {
      "text/plain": [
       "-0.093318866130872952"
      ]
     },
     "execution_count": 14,
     "metadata": {},
     "output_type": "execute_result"
    }
   ],
   "source": [
    "cmret = msf.loc['2008-01-31', 'RET']\n",
    "rw = w.dot(cmret)\n",
    "rw"
   ]
  },
  {
   "cell_type": "code",
   "execution_count": 15,
   "metadata": {},
   "outputs": [
    {
     "data": {
      "text/plain": [
       "-0.038511367387933607"
      ]
     },
     "execution_count": 15,
     "metadata": {},
     "output_type": "execute_result"
    }
   ],
   "source": [
    "w_minv.dot(cmret)"
   ]
  },
  {
   "cell_type": "code",
   "execution_count": 16,
   "metadata": {},
   "outputs": [
    {
     "data": {
      "text/plain": [
       "-0.10619099270552801"
      ]
     },
     "execution_count": 16,
     "metadata": {},
     "output_type": "execute_result"
    }
   ],
   "source": [
    "cmret.mean()"
   ]
  },
  {
   "cell_type": "code",
   "execution_count": 17,
   "metadata": {
    "collapsed": true
   },
   "outputs": [],
   "source": [
    "w2 = meanvar(0.02, '2003', '2005')[0]\n",
    "w2_minv = minvar( '2003', '2005')[0]"
   ]
  },
  {
   "cell_type": "code",
   "execution_count": 18,
   "metadata": {},
   "outputs": [
    {
     "name": "stdout",
     "output_type": "stream",
     "text": [
      "[ 0.01375867]\n",
      "[ 0.01704966]\n",
      "0.0209004130214\n"
     ]
    }
   ],
   "source": [
    "cmret2 = msf['2006-01-31'].set_index('PERMNO')\n",
    "print(w2.dot(cmret2))\n",
    "print(w2_minv.dot(cmret2))\n",
    "print(cmret2.RET.mean())"
   ]
  },
  {
   "cell_type": "markdown",
   "metadata": {},
   "source": [
    "### Incorporating Views"
   ]
  },
  {
   "cell_type": "markdown",
   "metadata": {},
   "source": [
    "You can incoporate your own views in the estimate. "
   ]
  },
  {
   "cell_type": "markdown",
   "metadata": {},
   "source": [
    "One popular approach is Black-Litterman approach.\n",
    "\n",
    "For example, to incorporate a simple view on the return of an asset,\n",
    "$$ \\frac{\\theta_{1}}{\\theta_{1}+\\theta_{2}} \\bar r_{i} + \\frac{\\theta_{2}}{\\theta_{1}+\\theta_{2}} v_{i} $$\n",
    "\n",
    "where $\\theta$ is confidence of estimate and views, $\\bar r_{i}$ is return estimate, and $v_{i}$ is view"
   ]
  },
  {
   "cell_type": "markdown",
   "metadata": {},
   "source": [
    "### Turnover"
   ]
  },
  {
   "cell_type": "code",
   "execution_count": 19,
   "metadata": {
    "collapsed": true
   },
   "outputs": [],
   "source": [
    "cmgret = (1+msf.loc['2008-01-31', 'RET']).as_matrix()"
   ]
  },
  {
   "cell_type": "code",
   "execution_count": 20,
   "metadata": {},
   "outputs": [
    {
     "data": {
      "text/plain": [
       "array([ 0.14774656,  0.0999523 ,  0.10887826,  0.21632935,  0.42709353])"
      ]
     },
     "execution_count": 20,
     "metadata": {},
     "output_type": "execute_result"
    }
   ],
   "source": [
    "# end of month weight\n",
    "cmgret *w /(1+ rw)"
   ]
  },
  {
   "cell_type": "code",
   "execution_count": 21,
   "metadata": {},
   "outputs": [
    {
     "data": {
      "text/plain": [
       "array([ 0.15028858,  0.07986148,  0.14632123,  0.21408766,  0.40944104])"
      ]
     },
     "execution_count": 21,
     "metadata": {},
     "output_type": "execute_result"
    }
   ],
   "source": [
    "# new optimal weight\n",
    "meanvar(0.02, '2004-02-28', '2008-1-28')[0]"
   ]
  },
  {
   "cell_type": "code",
   "execution_count": 22,
   "metadata": {},
   "outputs": [
    {
     "data": {
      "text/plain": [
       "array([ 0.00254202, -0.02009082,  0.03744297, -0.00224169, -0.01765249])"
      ]
     },
     "execution_count": 22,
     "metadata": {},
     "output_type": "execute_result"
    }
   ],
   "source": [
    "meanvar(0.02, '2004-02-28', '2008-1-28')[0] - cmgret *w /(1+ rw)"
   ]
  },
  {
   "cell_type": "code",
   "execution_count": null,
   "metadata": {
    "collapsed": true
   },
   "outputs": [],
   "source": []
  }
 ],
 "metadata": {
  "anaconda-cloud": {},
  "kernelspec": {
   "display_name": "Python 3",
   "language": "python",
   "name": "python3"
  },
  "language_info": {
   "codemirror_mode": {
    "name": "ipython",
    "version": 3
   },
   "file_extension": ".py",
   "mimetype": "text/x-python",
   "name": "python",
   "nbconvert_exporter": "python",
   "pygments_lexer": "ipython3",
   "version": "3.6.1"
  }
 },
 "nbformat": 4,
 "nbformat_minor": 2
}
