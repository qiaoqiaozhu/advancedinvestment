{
 "cells": [
  {
   "cell_type": "markdown",
   "metadata": {
    "slideshow": {
     "slide_type": "slide"
    }
   },
   "source": [
    "# FINM8006 Advanced Investment \n",
    "## Factor Models and APT\n",
    "---\n",
    "Qiaoqiao Zhu   \n",
    "Australian National University"
   ]
  },
  {
   "cell_type": "code",
   "execution_count": 16,
   "metadata": {
    "collapsed": true,
    "slideshow": {
     "slide_type": "skip"
    }
   },
   "outputs": [],
   "source": [
    "from __future__ import division\n",
    "from __future__ import print_function\n",
    "%matplotlib inline\n",
    "import numpy as np\n",
    "import matplotlib as mpl\n",
    "import matplotlib.cm as cm\n",
    "import matplotlib.pyplot as plt\n",
    "import pandas as pd\n",
    "from pandas.tseries.offsets import MonthEnd\n",
    "pd.set_option('display.width', 500)\n",
    "pd.set_option('display.max_columns', 100)\n",
    "pd.set_option('display.notebook_repr_html', True)\n",
    "import seaborn as sns\n",
    "#sns.set_style(\"whitegrid\")\n",
    "#sns.set_context(\"poster\")\n",
    "import sklearn as sk\n",
    "from sklearn.decomposition import PCA\n",
    "from sklearn.preprocessing import StandardScaler\n",
    "import pandas_datareader.data as web\n",
    "import datetime\n",
    "import statsmodels.api as sm\n",
    "import statsmodels.formula.api as smf\n",
    "\n",
    "plt.rc('figure', figsize=(14, 8))\n"
   ]
  },
  {
   "cell_type": "markdown",
   "metadata": {
    "collapsed": true,
    "slideshow": {
     "slide_type": "slide"
    }
   },
   "source": [
    "## CAPM through SDF\n",
    "\n",
    "We've seen through how MVO and CAPM work. Now the immediate questions are\n",
    "- What's the connection between SDF and CAPM?\n",
    "- Is CAPM a unique characterization of SDF?"
   ]
  },
  {
   "cell_type": "markdown",
   "metadata": {
    "slideshow": {
     "slide_type": "slide"
    }
   },
   "source": [
    "### CAPM and $\\beta$ representation\n",
    "\n",
    "Recall general $\\beta$ representation from SDF\n",
    "$$ E_{t}R^{e}_{i,t+1}=\\beta_{i,m}\\lambda_{m} $$\n",
    "\n",
    "CAPM\n",
    "$$ E_{t}R^{e}_{i,t+1}=\\beta_{it}E_{t}(R^{e}_{M,t+1}) $$\n",
    "therefore CAPM specifies\n",
    "$$ \\lambda_{m}=R^{e}_{M,t+1}; \\qquad \\beta_{i,m}=\\beta_{it} $$"
   ]
  },
  {
   "cell_type": "markdown",
   "metadata": {
    "slideshow": {
     "slide_type": "slide"
    }
   },
   "source": [
    "### Linear SDF to CAPM\n",
    "\n",
    "Recall\n",
    "$$0=E_{t}(m_{t+1}R^{e}_{i,t+1}) \\Rightarrow E_{t}R^{e}_{i,t+1}=-\\frac{cov(m_{t+1},R^{e}_{i,t+1})}{E_{t}(m_{t+1})}$$\n",
    "Let’s specify $m_{t+1}=a_{t}+b_{t}R_{M,t+1}$ therefore $$\\begin{aligned}\n",
    " E_{t}R^{e}_{i,t+1}&=-\\frac{cov(a_{t}+b_{t}R_{M,t+1},R^{e}_{i,t+1})}{E_{t}(a_{t}+b_{t}R_{M,t+1})} \\\\\n",
    "\\text{(Stein's Lemma)} &= \\frac{-b_{t}cov(R_{M,t+1},R^{e}_{i,t+1})}{a_{t}+b_{t}E_{t}(R_{M,t+1})} \\\\\n",
    "&=  \\frac{-b_{t}cov(R_{M,t+1},R_{i,t+1})}{a_{t}+b_{t}E_{t}(R_{M,t+1})} \\end{aligned}$$"
   ]
  },
  {
   "cell_type": "markdown",
   "metadata": {
    "slideshow": {
     "slide_type": "slide"
    }
   },
   "source": [
    "The above uses Stein’s Lemma:\n",
    "\n",
    "Suppose $Y=g(X)$, $X$ and $Z$ are bivariate normal, $g(X)$ is\n",
    "differentiable and $E|g'(X)|< \\infty$, then\n",
    "$$COV[Y,Z]=COV[g(X),Z]=E[g'(X)]COV(X, Z)$$"
   ]
  },
  {
   "cell_type": "markdown",
   "metadata": {
    "slideshow": {
     "slide_type": "slide"
    }
   },
   "source": [
    "since $m$ is SDF for all assets, the above derivation also applies to market\n",
    "portfolio $$\\begin{aligned}\n",
    " E_{t}R^{e}_{M,t+1} &=  \\frac{-b_{t}cov(R_{M,t+1},R_{M,t+1})}{a_{t}+b_{t}E_{t}(R_{M,t+1})} \\\\\n",
    "               &= \\frac{-b_{t}\\sigma^{2}_{M}}{a_{t}+b_{t}E_{t}(R_{M,t+1})} \\end{aligned}$$"
   ]
  },
  {
   "cell_type": "markdown",
   "metadata": {
    "slideshow": {
     "slide_type": "slide"
    }
   },
   "source": [
    "Therefore we have\n",
    "$$E_{t}R^{e}_{i,t+1}=  \\frac{cov(R_{M,t+1},R_{i,t+1})}{\\sigma^{2}_{M}}E_{t}R^{e}_{M,t+1}$$\n",
    "That’s exactly CAPM!"
   ]
  },
  {
   "cell_type": "markdown",
   "metadata": {
    "slideshow": {
     "slide_type": "slide"
    }
   },
   "source": [
    "From the derivation above, we see that CAPM needs some assumptions, it generally needs join normal return distribution, but can be relaxed using (log) linearization. "
   ]
  },
  {
   "cell_type": "markdown",
   "metadata": {
    "slideshow": {
     "slide_type": "slide"
    }
   },
   "source": [
    "### Comments\n",
    "\n",
    "-   CAPM is a special factor model, using $R_{M}$ as the sole factor.\n",
    "-   CAPM is not innocuous as you notice we need a host of assumptions to\n",
    "    derive it. It’s more likely to hold period by period.\n",
    "-   It’s central insight is in equilibrium covariance properties\n",
    "    (last lecture). Investors care about portfolio return, not\n",
    "    individual asset return.\n",
    "-   It’s “success” is built on the failure of consumption data in\n",
    "    pricing assets. That is, it has been worked “ok” empirically."
   ]
  },
  {
   "cell_type": "markdown",
   "metadata": {
    "slideshow": {
     "slide_type": "slide"
    }
   },
   "source": [
    "## Multi-factor Models\n",
    "\n",
    "We can generalize the argument before and specify SDF as\n",
    "$m_{t+1}= \\beta \\frac{u'(c_{t+1})}{u'(c_{t})}=a+\\sum_{k=1}^{k=K} b_{k}f_{k} $\n",
    "or in vector form $$m_{t+1}=a+b'F_{t+1}$$ where $F_{t+1}$ is a vector of\n",
    "factors that “proxy for marginal utility.”"
   ]
  },
  {
   "cell_type": "markdown",
   "metadata": {
    "slideshow": {
     "slide_type": "slide"
    }
   },
   "source": [
    "the beta-pricing model $$E_{t}R_{i,t+1}=\\gamma+\\beta'_{i}\\lambda$$ where\n",
    "$\\beta_{i}$ is regression coefficient vector of $R_{i}$ on the factors,\n",
    "or the factor “loading”, $\\lambda$ is vector of risk prices for each\n",
    "factor in $F_{t+1}$."
   ]
  },
  {
   "cell_type": "markdown",
   "metadata": {
    "slideshow": {
     "slide_type": "slide"
    }
   },
   "source": [
    "### APT \n",
    "\n",
    "In stead of starting from economic modeling, we can start with realized outcome and derive implication for expected return through statistical property of the portfolio residual, based on law of one price and no arbitrage. That's called Arbitrage Pricing Theory (APT)."
   ]
  },
  {
   "cell_type": "markdown",
   "metadata": {
    "collapsed": true,
    "slideshow": {
     "slide_type": "slide"
    }
   },
   "source": [
    "#### APT in a single-factor model\n",
    "Single-factor model expressed in realized returns\n",
    "$$R_{it}-R_{f}=\\alpha_{i}+\\beta_{im}(R_{Mt}-R_{f})+\\varepsilon_{it}$$\n",
    "suppose errors are uncorrelated across stocks $$\\begin{aligned}\n",
    "E[\\varepsilon_{it} \\varepsilon_{jt}] &=0 \\\\\n",
    " cov(R_{it}, R_{jt})&=\\beta_{im}\\beta_{jm} \\sigma^{2}_{M}\n",
    "   \\end{aligned}$$ The residual risk in any stock is idiosyncratic. If\n",
    "many assets are available, we should expect $\\alpha_{i}\\rightarrow 0 $, why?"
   ]
  },
  {
   "cell_type": "markdown",
   "metadata": {
    "slideshow": {
     "slide_type": "slide"
    }
   },
   "source": [
    "The portfolio return of N assets:\n",
    "$$R_{pt}-R_{f}=\\alpha_{p}+\\beta_{pm}(R_{Mt}-R_{f})+\\varepsilon_{pt}$$\n",
    "where $\\alpha_{p}=\\sum_{i=1}^{N}w_{i}\\alpha_{i}$,\n",
    "$\\beta_{pm}=\\sum_{i=1}^{N}w_{i}\\beta_{im}$ and\n",
    "$\\varepsilon_{pt}=\\sum_{i=1}^{N}w_{i}\\varepsilon_{it}$ The variance of\n",
    "$\\varepsilon_{pt} $ is\n",
    "$$var(\\varepsilon_{pt})=\\sum_{i=1}^{N}w^{2}_{i}var(\\varepsilon_{it})$$\n",
    "it will shrink rapidly with N provided that no single weight $w_{j}$ is\n",
    "too large.\n",
    "\n"
   ]
  },
  {
   "cell_type": "markdown",
   "metadata": {
    "slideshow": {
     "slide_type": "slide"
    }
   },
   "source": [
    "A well diversified portfolio \n",
    "$var(\\varepsilon_{pt}) \\rightarrow 0 $. We can then neglect\n",
    "$\\varepsilon_{pt}$ and write:\n",
    "$$R_{pt}-R_{f}=\\alpha_{p}+\\beta_{pm}(R_{Mt}-R_{f})$$ Then we should have\n",
    "$\\alpha_{p}=0$. Otherwise you can arbitrage with $\\beta_{pm}$ units of\n",
    "market and one unit of the portfolio to get riskless excess return of\n",
    "$\\alpha_{p}$."
   ]
  },
  {
   "cell_type": "markdown",
   "metadata": {
    "slideshow": {
     "slide_type": "slide"
    }
   },
   "source": [
    "APT (Ross (1976)) build on this to show that $\\alpha_{p}=0$ for all well\n",
    "diversified portfolio implies\n",
    "$$\\lim_{N\\rightarrow \\infty} \\frac{1}{N}\\sum_{i=1}^{N}\\alpha^{2}_{i}=0$$\n",
    "Each $\\alpha^{2}_{i}$ is nonnegative, the limiting average is zero,\n",
    "therefore almost all individual assets have $\\alpha_{i}$ very close to\n",
    "zero. We have Beta pricing without the CAPM assumptions."
   ]
  },
  {
   "cell_type": "markdown",
   "metadata": {
    "collapsed": true,
    "slideshow": {
     "slide_type": "slide"
    }
   },
   "source": [
    "#### k-Factor Structure\n",
    "\n",
    "Suppose we have return generating process\n",
    "$$R_{it}-R_{f}=a_{i}+\\sum_{k=1}^{K}\\beta_{ik}\\tilde{f}_{k}+\\varepsilon_{it}$$\n",
    "where $\\beta_{ik}$ is factor loading, $\\tilde{f}_{k}$ is zero-mean\n",
    "shocks to orthogonal factors $f_{k}$. "
   ]
  },
  {
   "cell_type": "markdown",
   "metadata": {
    "slideshow": {
     "slide_type": "slide"
    }
   },
   "source": [
    "If residual risk $\\varepsilon_{it}$ is idiosyncratic, then\n",
    "$$\\begin{aligned}\n",
    "E(\\varepsilon_{it})&=0 \\\\E[\\varepsilon_{it} \\varepsilon_{jt}] &=0 \\\\ E(\\varepsilon_{it}\\tilde{F})&=0 \\\\ E(\\tilde{F})&=0 \\end{aligned}$$"
   ]
  },
  {
   "cell_type": "markdown",
   "metadata": {
    "slideshow": {
     "slide_type": "slide"
    }
   },
   "source": [
    "#### Multi-Factor APT\n",
    "\n",
    "APT states that if $N\\gg K$,\n",
    "$$a_{i}=\\sum_{k=1}^{K}\\beta_{ik}\\lambda_{k}$$ where $\\lambda_{k}$ is the\n",
    "price of risk of the $k$’th factor. or in vector expectation form\n",
    "$$E(R_{i})-R_{f}=\\beta'_{i}\\lambda$$ that’s the same expression as in\n",
    "multi-factor return model!"
   ]
  },
  {
   "cell_type": "markdown",
   "metadata": {
    "slideshow": {
     "slide_type": "slide"
    }
   },
   "source": [
    "We will skip the formal proof, but the basic intuition is that a portfolio based on $$\\omega_{i}=\\frac{\\alpha_{i}}{\\|\\alpha\\|\\sqrt{N}}$$ where $\\alpha$ is \n",
    "$$\\alpha_{i} \\equiv (R_{it}-R_{f})-\\sum_{k=1}^{K}\\beta_{ik}\\lambda_{k}=\\beta'_{i}\\tilde{F}+\\varepsilon_{it}$$\n",
    "is self-financing and riskless, and therefore an arbitrage portfolio since,\n",
    "$$\\begin{aligned}\n",
    "E(\\alpha_{i}) &= 0  \\\\\n",
    "E(\\alpha_{i}\\beta_{ik})&=0  \\end{aligned}$$. Non-artitrage condition requires that $\\alpha_{i}\\rightarrow 0$."
   ]
  },
  {
   "cell_type": "markdown",
   "metadata": {
    "slideshow": {
     "slide_type": "slide"
    }
   },
   "source": [
    "$$R_{it} -R_{f} = \\sum \\beta_{it} \\lambda_{it} + \\beta_{it} \\tilde f_{it} +e_{ie}  $$\n",
    "$$ E(R_{it} - R_{f}) - \\sum \\beta_{it} \\lambda_{it} = \\alpha_{it}  =0  $$"
   ]
  },
  {
   "cell_type": "markdown",
   "metadata": {
    "slideshow": {
     "slide_type": "slide"
    }
   },
   "source": [
    "###### A trivial Example\n",
    "\n",
    "A Two company one period economy that depend on one factor (boom/bust)"
   ]
  },
  {
   "cell_type": "markdown",
   "metadata": {
    "slideshow": {
     "slide_type": "slide"
    }
   },
   "source": [
    "\n",
    "|     | IBM | DELL |\n",
    "|:---:|-----|------|\n",
    "|Boom Payoff (Pr=0.5)| 140 | 160 |\n",
    "|Bust Payoff (Pr=0.5) | 100 | 80 |\n",
    "|E(CF1) |120 |120 |\n",
    "|Time 0 Price| 100 | ? |\n",
    "|Discount Rate | 20% |? |"
   ]
  },
  {
   "cell_type": "markdown",
   "metadata": {
    "slideshow": {
     "slide_type": "slide"
    }
   },
   "source": [
    "expected returns\n",
    "\n",
    "In general you can fit a regression $R_{i,t}=E(R_{i})+\\beta_{i, bc}f_{bc,t}+\\epsilon_{i,t}$ Here, we have only two points, so we can fit a line exactly. For IBM\n",
    "$$ \\left\\{\\begin{aligned}0.4&=E(R_{IBM})+\\beta_{IBM, bc}0.5 \\quad \\text{(boom)}\\\\ 0.0&=E(R_{IBM})+\\beta_{IBM, bc}(-0.5) \\quad \\text{(bust)} \\end{aligned} \\right. $$\n",
    "solve for $E(R_{IBM})=0.2$ (we already know) and $\\beta_{IBM, bc}=0.4$. Assume $P_{DELL}=90$. Similar calculations for DELL gives $E(R_{Dell})=0.3333$ and $\\beta_{Dell, bc}=0.8889$. "
   ]
  },
  {
   "cell_type": "markdown",
   "metadata": {
    "slideshow": {
     "slide_type": "slide"
    }
   },
   "source": [
    "Factor Price\n",
    "$$ \\left\\{\\begin{aligned}E(R_{IBM}) &=\\lambda_{0}+\\beta_{IBM, bc}\\lambda_{bc}\\\\ E(R_{Dell})&=\\lambda_{0}+\\beta_{Dell, bc}\\lambda_{bc} \\end{aligned} \\right. $$\n",
    "and solve for $\\lambda_{0}=0.0909$ and $\\lambda_{bc}= 0.2727$. "
   ]
  },
  {
   "cell_type": "markdown",
   "metadata": {
    "slideshow": {
     "slide_type": "slide"
    }
   },
   "source": [
    "Obviously, $\\lambda_{0}=0.0909$ need to be the risk-free rate. What if it's not? If there is a risk-free asset of 5%, we can combine DELL and IBM (base assets) to create a synthetic risk-free asset with a\n",
    "return of 9.09%. Therefore we can borrow money at 5% and invest in equally risk free 9.09%.\n",
    "\n",
    "$$w_{IBM}\\beta_{IBM, bc}+(1-w_{IBM})\\beta_{Dell, bc}=\\beta_{p, bc}=0  $$. Therefore $w_{IBM}=1.8182$ and $w_{Dell}=1-w_{IBM}=-0.8182$. "
   ]
  },
  {
   "cell_type": "markdown",
   "metadata": {
    "slideshow": {
     "slide_type": "slide"
    }
   },
   "source": [
    "similarly, if we have some assets that implies a difference $\\lambda_{bc}$, then that price has to adjust to avoid arbitrage. APT relies on the fact that all assets are prices by the same factor price $\\lambda_{bc}$. "
   ]
  },
  {
   "cell_type": "markdown",
   "metadata": {
    "slideshow": {
     "slide_type": "slide"
    }
   },
   "source": [
    "## Finding Factors\n",
    "\n",
    "Multifactor and APT models are only as good as the factors you choose. But the models do not tell us what the factors are. Some approaches to the factor models:\n",
    "- Macroeconomic approach\n",
    "- Firm-Fundametal approach\n",
    "- Statistical approach\n",
    "\n",
    "Every investment firm has their own factor models."
   ]
  },
  {
   "cell_type": "markdown",
   "metadata": {
    "slideshow": {
     "slide_type": "slide"
    }
   },
   "source": [
    "### Macro Factors\n",
    "- Macroeconomic variables that affect \"state of the economy\" that market cares about\n",
    "- variables need to be stationary\n",
    "- Surprice in factors\n",
    "- Classicle example: Chen, Roll and Ross (1986)\n",
    " - Industrial output, inflation, default spread, term spread"
   ]
  },
  {
   "cell_type": "markdown",
   "metadata": {
    "collapsed": true,
    "slideshow": {
     "slide_type": "slide"
    }
   },
   "source": [
    "Once $k$ factors has been specified, we can \n",
    " - construct factor suprises $\\tilde f= f-E(f) $\n",
    " - estimate $\\beta_{ik}$ from time series regression for each asset $i$ rom\n",
    "$$R_{it}-R_{f}=a_{i}+\\sum_{k=1}^{K}\\beta_{ik}\\tilde{f}_{k}+\\varepsilon_{it}$$\n",
    " - estimate sample average excess return (i.e., expected) of each asset, $\\hat \\mu_{i}$. \n",
    " - run cross sectional regression of $$ \\hat \\mu_{i} = \\lambda_{0} +\\sum_{k=1}^{K}\\lambda_{k}\\hat \\beta_{ik}+ u_{i}$$"
   ]
  },
  {
   "cell_type": "markdown",
   "metadata": {
    "collapsed": true,
    "slideshow": {
     "slide_type": "slide"
    }
   },
   "source": [
    "- the $\\lambda_{k}$ you estimate is the reward for bearing factor-k risk, i.e., factor risk premium. \n",
    "- In order to test the model, we can use the same Fama-Macbeth approach as before."
   ]
  },
  {
   "cell_type": "markdown",
   "metadata": {
    "slideshow": {
     "slide_type": "subslide"
    }
   },
   "source": [
    "Let's see a simplified Chen, Roll and Ross (1986) example. All in surprises:\n",
    " - MP: Industrial output\n",
    " - UI: expected inflation\n",
    " - DEI: unexpected inflation\n",
    " - UTS: default spread\n",
    " - UPR: term spread"
   ]
  },
  {
   "cell_type": "code",
   "execution_count": 3,
   "metadata": {
    "collapsed": true,
    "slideshow": {
     "slide_type": "skip"
    }
   },
   "outputs": [],
   "source": [
    "def setmdate(x, ym='yyyymm'):\n",
    "    df = x.set_index(ym)\n",
    "    df.index = df.index.astype('str')\n",
    "    df.index = pd.to_datetime(df.index, format=\"%Y%m\")\n",
    "    df.index = df.index.to_period('M').to_timestamp('M')\n",
    "    df.index.name = 'Date'\n",
    "    return df"
   ]
  },
  {
   "cell_type": "code",
   "execution_count": 4,
   "metadata": {
    "slideshow": {
     "slide_type": "fragment"
    }
   },
   "outputs": [
    {
     "data": {
      "text/html": [
       "<div>\n",
       "<style>\n",
       "    .dataframe thead tr:only-child th {\n",
       "        text-align: right;\n",
       "    }\n",
       "\n",
       "    .dataframe thead th {\n",
       "        text-align: left;\n",
       "    }\n",
       "\n",
       "    .dataframe tbody tr th {\n",
       "        vertical-align: top;\n",
       "    }\n",
       "</style>\n",
       "<table border=\"1\" class=\"dataframe\">\n",
       "  <thead>\n",
       "    <tr style=\"text-align: right;\">\n",
       "      <th></th>\n",
       "      <th>MP</th>\n",
       "      <th>UI</th>\n",
       "      <th>DEI</th>\n",
       "      <th>UTS</th>\n",
       "      <th>UPR</th>\n",
       "    </tr>\n",
       "    <tr>\n",
       "      <th>Date</th>\n",
       "      <th></th>\n",
       "      <th></th>\n",
       "      <th></th>\n",
       "      <th></th>\n",
       "      <th></th>\n",
       "    </tr>\n",
       "  </thead>\n",
       "  <tbody>\n",
       "    <tr>\n",
       "      <th>1963-01-31</th>\n",
       "      <td>0.007285</td>\n",
       "      <td>0.001114</td>\n",
       "      <td>-0.000008</td>\n",
       "      <td>0.009024</td>\n",
       "      <td>0.0070</td>\n",
       "    </tr>\n",
       "    <tr>\n",
       "      <th>1963-02-28</th>\n",
       "      <td>0.011347</td>\n",
       "      <td>0.000461</td>\n",
       "      <td>0.000099</td>\n",
       "      <td>0.009217</td>\n",
       "      <td>0.0070</td>\n",
       "    </tr>\n",
       "    <tr>\n",
       "      <th>1963-03-31</th>\n",
       "      <td>0.006138</td>\n",
       "      <td>0.000032</td>\n",
       "      <td>0.000400</td>\n",
       "      <td>0.009270</td>\n",
       "      <td>0.0069</td>\n",
       "    </tr>\n",
       "  </tbody>\n",
       "</table>\n",
       "</div>"
      ],
      "text/plain": [
       "                  MP        UI       DEI       UTS     UPR\n",
       "Date                                                      \n",
       "1963-01-31  0.007285  0.001114 -0.000008  0.009024  0.0070\n",
       "1963-02-28  0.011347  0.000461  0.000099  0.009217  0.0070\n",
       "1963-03-31  0.006138  0.000032  0.000400  0.009270  0.0069"
      ]
     },
     "execution_count": 4,
     "metadata": {},
     "output_type": "execute_result"
    }
   ],
   "source": [
    "# monthly data from 1963 to 2011 (nov) of macro factors\n",
    "crr = pd.read_csv('../datalib/crr_2011.csv')\n",
    "crr = setmdate(crr, ym = 'yyyymm')\n",
    "crr.index = crr.index + MonthEnd(0)\n",
    "crr.head(3)"
   ]
  },
  {
   "cell_type": "markdown",
   "metadata": {
    "slideshow": {
     "slide_type": "slide"
    }
   },
   "source": [
    "And grab some portfolio returns from Fama-French website as testing portfolio. Here, we arbitrary use the 25-size-BM portfolio"
   ]
  },
  {
   "cell_type": "code",
   "execution_count": 5,
   "metadata": {
    "slideshow": {
     "slide_type": "skip"
    }
   },
   "outputs": [
    {
     "data": {
      "text/html": [
       "<div>\n",
       "<style>\n",
       "    .dataframe thead tr:only-child th {\n",
       "        text-align: right;\n",
       "    }\n",
       "\n",
       "    .dataframe thead th {\n",
       "        text-align: left;\n",
       "    }\n",
       "\n",
       "    .dataframe tbody tr th {\n",
       "        vertical-align: top;\n",
       "    }\n",
       "</style>\n",
       "<table border=\"1\" class=\"dataframe\">\n",
       "  <thead>\n",
       "    <tr style=\"text-align: right;\">\n",
       "      <th></th>\n",
       "      <th>SMALL LoBM</th>\n",
       "      <th>ME1 BM2</th>\n",
       "      <th>ME1 BM3</th>\n",
       "      <th>ME1 BM4</th>\n",
       "      <th>SMALL HiBM</th>\n",
       "      <th>ME2 BM1</th>\n",
       "      <th>ME2 BM2</th>\n",
       "      <th>ME2 BM3</th>\n",
       "      <th>ME2 BM4</th>\n",
       "      <th>ME2 BM5</th>\n",
       "      <th>ME3 BM1</th>\n",
       "      <th>ME3 BM2</th>\n",
       "      <th>ME3 BM3</th>\n",
       "      <th>ME3 BM4</th>\n",
       "      <th>ME3 BM5</th>\n",
       "      <th>ME4 BM1</th>\n",
       "      <th>ME4 BM2</th>\n",
       "      <th>ME4 BM3</th>\n",
       "      <th>ME4 BM4</th>\n",
       "      <th>ME4 BM5</th>\n",
       "      <th>BIG LoBM</th>\n",
       "      <th>ME5 BM2</th>\n",
       "      <th>ME5 BM3</th>\n",
       "      <th>ME5 BM4</th>\n",
       "      <th>BIG HiBM</th>\n",
       "    </tr>\n",
       "    <tr>\n",
       "      <th>Date</th>\n",
       "      <th></th>\n",
       "      <th></th>\n",
       "      <th></th>\n",
       "      <th></th>\n",
       "      <th></th>\n",
       "      <th></th>\n",
       "      <th></th>\n",
       "      <th></th>\n",
       "      <th></th>\n",
       "      <th></th>\n",
       "      <th></th>\n",
       "      <th></th>\n",
       "      <th></th>\n",
       "      <th></th>\n",
       "      <th></th>\n",
       "      <th></th>\n",
       "      <th></th>\n",
       "      <th></th>\n",
       "      <th></th>\n",
       "      <th></th>\n",
       "      <th></th>\n",
       "      <th></th>\n",
       "      <th></th>\n",
       "      <th></th>\n",
       "      <th></th>\n",
       "    </tr>\n",
       "  </thead>\n",
       "  <tbody>\n",
       "    <tr>\n",
       "      <th>1963-01-31</th>\n",
       "      <td>0.1302</td>\n",
       "      <td>0.1144</td>\n",
       "      <td>0.0969</td>\n",
       "      <td>0.1086</td>\n",
       "      <td>0.1113</td>\n",
       "      <td>0.0763</td>\n",
       "      <td>0.0581</td>\n",
       "      <td>0.0761</td>\n",
       "      <td>0.0870</td>\n",
       "      <td>0.1111</td>\n",
       "      <td>0.0637</td>\n",
       "      <td>0.0565</td>\n",
       "      <td>0.0488</td>\n",
       "      <td>0.0863</td>\n",
       "      <td>0.0933</td>\n",
       "      <td>0.0530</td>\n",
       "      <td>0.0500</td>\n",
       "      <td>0.0589</td>\n",
       "      <td>0.0971</td>\n",
       "      <td>0.0631</td>\n",
       "      <td>0.0527</td>\n",
       "      <td>0.0409</td>\n",
       "      <td>0.0346</td>\n",
       "      <td>0.0651</td>\n",
       "      <td>0.0640</td>\n",
       "    </tr>\n",
       "    <tr>\n",
       "      <th>1963-02-28</th>\n",
       "      <td>-0.0325</td>\n",
       "      <td>-0.0349</td>\n",
       "      <td>-0.0087</td>\n",
       "      <td>-0.0081</td>\n",
       "      <td>0.0278</td>\n",
       "      <td>-0.0402</td>\n",
       "      <td>-0.0189</td>\n",
       "      <td>-0.0240</td>\n",
       "      <td>-0.0170</td>\n",
       "      <td>-0.0009</td>\n",
       "      <td>-0.0376</td>\n",
       "      <td>-0.0126</td>\n",
       "      <td>-0.0064</td>\n",
       "      <td>-0.0245</td>\n",
       "      <td>0.0089</td>\n",
       "      <td>-0.0324</td>\n",
       "      <td>-0.0144</td>\n",
       "      <td>-0.0085</td>\n",
       "      <td>-0.0092</td>\n",
       "      <td>-0.0059</td>\n",
       "      <td>-0.0328</td>\n",
       "      <td>-0.0161</td>\n",
       "      <td>-0.0205</td>\n",
       "      <td>-0.0141</td>\n",
       "      <td>-0.0094</td>\n",
       "    </tr>\n",
       "    <tr>\n",
       "      <th>1963-03-31</th>\n",
       "      <td>0.0498</td>\n",
       "      <td>-0.0147</td>\n",
       "      <td>-0.0059</td>\n",
       "      <td>0.0145</td>\n",
       "      <td>0.0258</td>\n",
       "      <td>-0.0016</td>\n",
       "      <td>0.0118</td>\n",
       "      <td>0.0124</td>\n",
       "      <td>0.0293</td>\n",
       "      <td>0.0131</td>\n",
       "      <td>-0.0005</td>\n",
       "      <td>0.0155</td>\n",
       "      <td>0.0112</td>\n",
       "      <td>0.0363</td>\n",
       "      <td>0.0173</td>\n",
       "      <td>0.0220</td>\n",
       "      <td>0.0167</td>\n",
       "      <td>0.0280</td>\n",
       "      <td>0.0348</td>\n",
       "      <td>0.0372</td>\n",
       "      <td>0.0373</td>\n",
       "      <td>0.0283</td>\n",
       "      <td>0.0457</td>\n",
       "      <td>0.0482</td>\n",
       "      <td>0.0563</td>\n",
       "    </tr>\n",
       "  </tbody>\n",
       "</table>\n",
       "</div>"
      ],
      "text/plain": [
       "            SMALL LoBM  ME1 BM2  ME1 BM3  ME1 BM4  SMALL HiBM  ME2 BM1  ME2 BM2  ME2 BM3  ME2 BM4  ME2 BM5  ME3 BM1  ME3 BM2  ME3 BM3  ME3 BM4  ME3 BM5  ME4 BM1  ME4 BM2  ME4 BM3  ME4 BM4  ME4 BM5  BIG LoBM  ME5 BM2  ME5 BM3  ME5 BM4  BIG HiBM\n",
       "Date                                                                                                                                                                                                                                               \n",
       "1963-01-31      0.1302   0.1144   0.0969   0.1086      0.1113   0.0763   0.0581   0.0761   0.0870   0.1111   0.0637   0.0565   0.0488   0.0863   0.0933   0.0530   0.0500   0.0589   0.0971   0.0631    0.0527   0.0409   0.0346   0.0651    0.0640\n",
       "1963-02-28     -0.0325  -0.0349  -0.0087  -0.0081      0.0278  -0.0402  -0.0189  -0.0240  -0.0170  -0.0009  -0.0376  -0.0126  -0.0064  -0.0245   0.0089  -0.0324  -0.0144  -0.0085  -0.0092  -0.0059   -0.0328  -0.0161  -0.0205  -0.0141   -0.0094\n",
       "1963-03-31      0.0498  -0.0147  -0.0059   0.0145      0.0258  -0.0016   0.0118   0.0124   0.0293   0.0131  -0.0005   0.0155   0.0112   0.0363   0.0173   0.0220   0.0167   0.0280   0.0348   0.0372    0.0373   0.0283   0.0457   0.0482    0.0563"
      ]
     },
     "execution_count": 5,
     "metadata": {},
     "output_type": "execute_result"
    }
   ],
   "source": [
    "start = datetime.datetime(1963, 1, 1)\n",
    "end = datetime.datetime(2011, 12, 30)\n",
    "ds = web.DataReader(\"25_Portfolios_5x5\", \"famafrench\", start, end)\n",
    "tb = pd.DataFrame(ds[0])\n",
    "tb = tb.replace(-99.99, np.nan).dropna()\n",
    "tb.index = tb.index.to_timestamp('M')\n",
    "tb.index = tb.index + MonthEnd(0)\n",
    "tb = tb/100  # from percentages\n",
    "tb.head(3)"
   ]
  },
  {
   "cell_type": "code",
   "execution_count": 6,
   "metadata": {
    "slideshow": {
     "slide_type": "skip"
    }
   },
   "outputs": [
    {
     "data": {
      "text/html": [
       "<div>\n",
       "<style>\n",
       "    .dataframe thead tr:only-child th {\n",
       "        text-align: right;\n",
       "    }\n",
       "\n",
       "    .dataframe thead th {\n",
       "        text-align: left;\n",
       "    }\n",
       "\n",
       "    .dataframe tbody tr th {\n",
       "        vertical-align: top;\n",
       "    }\n",
       "</style>\n",
       "<table border=\"1\" class=\"dataframe\">\n",
       "  <thead>\n",
       "    <tr style=\"text-align: right;\">\n",
       "      <th></th>\n",
       "      <th>mktrf</th>\n",
       "      <th>SMB</th>\n",
       "      <th>HML</th>\n",
       "      <th>RF</th>\n",
       "      <th>mktret</th>\n",
       "    </tr>\n",
       "    <tr>\n",
       "      <th>Date</th>\n",
       "      <th></th>\n",
       "      <th></th>\n",
       "      <th></th>\n",
       "      <th></th>\n",
       "      <th></th>\n",
       "    </tr>\n",
       "  </thead>\n",
       "  <tbody>\n",
       "    <tr>\n",
       "      <th>1963-01-31</th>\n",
       "      <td>0.0493</td>\n",
       "      <td>0.0310</td>\n",
       "      <td>0.0219</td>\n",
       "      <td>0.0025</td>\n",
       "      <td>0.0518</td>\n",
       "    </tr>\n",
       "    <tr>\n",
       "      <th>1963-02-28</th>\n",
       "      <td>-0.0238</td>\n",
       "      <td>0.0048</td>\n",
       "      <td>0.0225</td>\n",
       "      <td>0.0023</td>\n",
       "      <td>-0.0215</td>\n",
       "    </tr>\n",
       "    <tr>\n",
       "      <th>1963-03-31</th>\n",
       "      <td>0.0308</td>\n",
       "      <td>-0.0251</td>\n",
       "      <td>0.0193</td>\n",
       "      <td>0.0023</td>\n",
       "      <td>0.0331</td>\n",
       "    </tr>\n",
       "  </tbody>\n",
       "</table>\n",
       "</div>"
      ],
      "text/plain": [
       "             mktrf     SMB     HML      RF  mktret\n",
       "Date                                              \n",
       "1963-01-31  0.0493  0.0310  0.0219  0.0025  0.0518\n",
       "1963-02-28 -0.0238  0.0048  0.0225  0.0023 -0.0215\n",
       "1963-03-31  0.0308 -0.0251  0.0193  0.0023  0.0331"
      ]
     },
     "execution_count": 6,
     "metadata": {},
     "output_type": "execute_result"
    }
   ],
   "source": [
    "start = datetime.datetime(1963, 1, 1)\n",
    "end = datetime.datetime(2011, 12, 30)\n",
    "ds = web.DataReader(\"F-F_Research_Data_Factors\", \"famafrench\", start, end)\n",
    "ff = pd.DataFrame(ds[0])\n",
    "ff.index = ff.index.to_timestamp('M')\n",
    "ff['mktret']=ff['Mkt-RF']+ff['RF']\n",
    "ff = ff.rename(columns={'Mkt-RF': 'mktrf'})\n",
    "ff = ff/100\n",
    "ff.index = ff.index + MonthEnd(0)\n",
    "ff.head(3)"
   ]
  },
  {
   "cell_type": "markdown",
   "metadata": {
    "slideshow": {
     "slide_type": "skip"
    }
   },
   "source": [
    "stack the returns and run time sereis regression by portfolio"
   ]
  },
  {
   "cell_type": "code",
   "execution_count": 7,
   "metadata": {
    "slideshow": {
     "slide_type": "slide"
    }
   },
   "outputs": [
    {
     "data": {
      "text/html": [
       "<div>\n",
       "<style>\n",
       "    .dataframe thead tr:only-child th {\n",
       "        text-align: right;\n",
       "    }\n",
       "\n",
       "    .dataframe thead th {\n",
       "        text-align: left;\n",
       "    }\n",
       "\n",
       "    .dataframe tbody tr th {\n",
       "        vertical-align: top;\n",
       "    }\n",
       "</style>\n",
       "<table border=\"1\" class=\"dataframe\">\n",
       "  <thead>\n",
       "    <tr style=\"text-align: right;\">\n",
       "      <th></th>\n",
       "      <th>port</th>\n",
       "      <th>ret</th>\n",
       "      <th>MP</th>\n",
       "      <th>UI</th>\n",
       "      <th>DEI</th>\n",
       "      <th>UTS</th>\n",
       "      <th>UPR</th>\n",
       "      <th>mktrf</th>\n",
       "      <th>RF</th>\n",
       "      <th>rirf</th>\n",
       "    </tr>\n",
       "    <tr>\n",
       "      <th>Date</th>\n",
       "      <th></th>\n",
       "      <th></th>\n",
       "      <th></th>\n",
       "      <th></th>\n",
       "      <th></th>\n",
       "      <th></th>\n",
       "      <th></th>\n",
       "      <th></th>\n",
       "      <th></th>\n",
       "      <th></th>\n",
       "    </tr>\n",
       "  </thead>\n",
       "  <tbody>\n",
       "    <tr>\n",
       "      <th>1963-01-31</th>\n",
       "      <td>SMALL LoBM</td>\n",
       "      <td>0.1302</td>\n",
       "      <td>0.007285</td>\n",
       "      <td>0.001114</td>\n",
       "      <td>-0.000008</td>\n",
       "      <td>0.009024</td>\n",
       "      <td>0.007</td>\n",
       "      <td>0.0493</td>\n",
       "      <td>0.0025</td>\n",
       "      <td>0.1277</td>\n",
       "    </tr>\n",
       "    <tr>\n",
       "      <th>1963-01-31</th>\n",
       "      <td>ME1 BM2</td>\n",
       "      <td>0.1144</td>\n",
       "      <td>0.007285</td>\n",
       "      <td>0.001114</td>\n",
       "      <td>-0.000008</td>\n",
       "      <td>0.009024</td>\n",
       "      <td>0.007</td>\n",
       "      <td>0.0493</td>\n",
       "      <td>0.0025</td>\n",
       "      <td>0.1119</td>\n",
       "    </tr>\n",
       "    <tr>\n",
       "      <th>1963-01-31</th>\n",
       "      <td>ME1 BM3</td>\n",
       "      <td>0.0969</td>\n",
       "      <td>0.007285</td>\n",
       "      <td>0.001114</td>\n",
       "      <td>-0.000008</td>\n",
       "      <td>0.009024</td>\n",
       "      <td>0.007</td>\n",
       "      <td>0.0493</td>\n",
       "      <td>0.0025</td>\n",
       "      <td>0.0944</td>\n",
       "    </tr>\n",
       "  </tbody>\n",
       "</table>\n",
       "</div>"
      ],
      "text/plain": [
       "                  port     ret        MP        UI       DEI       UTS    UPR   mktrf      RF    rirf\n",
       "Date                                                                                                 \n",
       "1963-01-31  SMALL LoBM  0.1302  0.007285  0.001114 -0.000008  0.009024  0.007  0.0493  0.0025  0.1277\n",
       "1963-01-31     ME1 BM2  0.1144  0.007285  0.001114 -0.000008  0.009024  0.007  0.0493  0.0025  0.1119\n",
       "1963-01-31     ME1 BM3  0.0969  0.007285  0.001114 -0.000008  0.009024  0.007  0.0493  0.0025  0.0944"
      ]
     },
     "execution_count": 7,
     "metadata": {},
     "output_type": "execute_result"
    }
   ],
   "source": [
    "varlist = crr.columns.tolist()\n",
    "df = pd.DataFrame(tb.stack())\n",
    "df.index = df.index.set_names('port', level=1)\n",
    "df.columns=['ret']\n",
    "df = df.reset_index().set_index('Date')\n",
    "df = df.join(crr).dropna()\n",
    "df = df.join(ff[['mktrf', 'RF']]).dropna()\n",
    "df['rirf'] = df['ret'] - df['RF']\n",
    "df.head(3)"
   ]
  },
  {
   "cell_type": "code",
   "execution_count": 8,
   "metadata": {},
   "outputs": [
    {
     "name": "stdout",
     "output_type": "stream",
     "text": [
      "                            OLS Regression Results                            \n",
      "==============================================================================\n",
      "Dep. Variable:                   rirf   R-squared:                       0.017\n",
      "Model:                            OLS   Adj. R-squared:                  0.016\n",
      "Method:                 Least Squares   F-statistic:                     49.44\n",
      "Date:                Wed, 30 Aug 2017   Prob (F-statistic):           6.04e-51\n",
      "Time:                        22:59:04   Log-Likelihood:                 21166.\n",
      "No. Observations:               14675   AIC:                        -4.232e+04\n",
      "Df Residuals:                   14669   BIC:                        -4.227e+04\n",
      "Df Model:                           5                                         \n",
      "Covariance Type:            nonrobust                                         \n",
      "==============================================================================\n",
      "                 coef    std err          t      P>|t|      [0.025      0.975]\n",
      "------------------------------------------------------------------------------\n",
      "Intercept     -0.0015      0.001     -1.203      0.229      -0.004       0.001\n",
      "MP            -0.0697      0.067     -1.045      0.296      -0.200       0.061\n",
      "UI            -2.1275      0.263     -8.104      0.000      -2.642      -1.613\n",
      "DEI            3.2928      0.645      5.106      0.000       2.029       4.557\n",
      "UTS            0.4175      0.032     12.930      0.000       0.354       0.481\n",
      "UPR            0.3460      0.109      3.175      0.002       0.132       0.560\n",
      "==============================================================================\n",
      "Omnibus:                     1355.076   Durbin-Watson:                   0.303\n",
      "Prob(Omnibus):                  0.000   Jarque-Bera (JB):             6246.325\n",
      "Skew:                          -0.346   Prob(JB):                         0.00\n",
      "Kurtosis:                       6.120   Cond. No.                     1.42e+03\n",
      "==============================================================================\n",
      "\n",
      "Warnings:\n",
      "[1] Standard Errors assume that the covariance matrix of the errors is correctly specified.\n",
      "[2] The condition number is large, 1.42e+03. This might indicate that there are\n",
      "strong multicollinearity or other numerical problems.\n"
     ]
    }
   ],
   "source": [
    "print(smf.ols('rirf ~ MP + UI + DEI + UTS + UPR', df).fit().summary())"
   ]
  },
  {
   "cell_type": "code",
   "execution_count": 9,
   "metadata": {
    "slideshow": {
     "slide_type": "slide"
    }
   },
   "outputs": [
    {
     "name": "stdout",
     "output_type": "stream",
     "text": [
      "                            OLS Regression Results                            \n",
      "==============================================================================\n",
      "Dep. Variable:                   rirf   R-squared:                       0.719\n",
      "Model:                            OLS   Adj. R-squared:                  0.719\n",
      "Method:                 Least Squares   F-statistic:                     6253.\n",
      "Date:                Wed, 30 Aug 2017   Prob (F-statistic):               0.00\n",
      "Time:                        22:59:11   Log-Likelihood:                 30355.\n",
      "No. Observations:               14675   AIC:                        -6.070e+04\n",
      "Df Residuals:                   14668   BIC:                        -6.064e+04\n",
      "Df Model:                           6                                         \n",
      "Covariance Type:            nonrobust                                         \n",
      "==============================================================================\n",
      "                 coef    std err          t      P>|t|      [0.025      0.975]\n",
      "------------------------------------------------------------------------------\n",
      "Intercept      0.0005      0.001      0.742      0.458      -0.001       0.002\n",
      "mktrf          1.0790      0.006    191.447      0.000       1.068       1.090\n",
      "MP            -0.0268      0.036     -0.752      0.452      -0.097       0.043\n",
      "UI             0.0170      0.141      0.121      0.904      -0.259       0.293\n",
      "DEI           -0.1117      0.345     -0.323      0.746      -0.788       0.565\n",
      "UTS            0.0565      0.017      3.253      0.001       0.022       0.091\n",
      "UPR            0.0862      0.058      1.479      0.139      -0.028       0.200\n",
      "==============================================================================\n",
      "Omnibus:                     3050.425   Durbin-Watson:                   0.881\n",
      "Prob(Omnibus):                  0.000   Jarque-Bera (JB):            36815.840\n",
      "Skew:                           0.652   Prob(JB):                         0.00\n",
      "Kurtosis:                      10.649   Cond. No.                     1.42e+03\n",
      "==============================================================================\n",
      "\n",
      "Warnings:\n",
      "[1] Standard Errors assume that the covariance matrix of the errors is correctly specified.\n",
      "[2] The condition number is large, 1.42e+03. This might indicate that there are\n",
      "strong multicollinearity or other numerical problems.\n"
     ]
    }
   ],
   "source": [
    "print(smf.ols('rirf ~ mktrf + MP + UI + DEI + UTS + UPR', df).fit().summary())"
   ]
  },
  {
   "cell_type": "code",
   "execution_count": 10,
   "metadata": {
    "collapsed": true,
    "slideshow": {
     "slide_type": "slide"
    }
   },
   "outputs": [],
   "source": [
    "def ols_res(df, xcols,  ycol):\n",
    "    X = sm.add_constant(df[xcols])\n",
    "    return sm.OLS(df[ycol], X).fit().params\n",
    "\n",
    "def coeffest(dfg, xlist, startd='1968-01' , endd='2010-12'):\n",
    "    betas = pd.DataFrame()\n",
    "    loopm = pd.date_range(start=startd, end=endd, freq='MS')\n",
    "    for m in loopm:\n",
    "        mrange = pd.date_range(end=m, periods=36, freq='M')\n",
    "        drange = dfg.loc[dfg.index.isin(mrange)]\n",
    "        ld = drange.groupby(['port']).apply(ols_res, xlist, ['rirf'])\n",
    "        ld['Date'] = m + MonthEnd(0)\n",
    "        betas = betas.append(ld)\n",
    "    for name in xlist:\n",
    "        betas = betas.rename(columns={name: name+'beta'})\n",
    "    return betas"
   ]
  },
  {
   "cell_type": "code",
   "execution_count": 11,
   "metadata": {
    "slideshow": {
     "slide_type": "slide"
    }
   },
   "outputs": [
    {
     "data": {
      "text/html": [
       "<div>\n",
       "<style>\n",
       "    .dataframe thead tr:only-child th {\n",
       "        text-align: right;\n",
       "    }\n",
       "\n",
       "    .dataframe thead th {\n",
       "        text-align: left;\n",
       "    }\n",
       "\n",
       "    .dataframe tbody tr th {\n",
       "        vertical-align: top;\n",
       "    }\n",
       "</style>\n",
       "<table border=\"1\" class=\"dataframe\">\n",
       "  <thead>\n",
       "    <tr style=\"text-align: right;\">\n",
       "      <th></th>\n",
       "      <th>Date</th>\n",
       "      <th>port</th>\n",
       "      <th>rirf</th>\n",
       "      <th>const</th>\n",
       "      <th>MPbeta</th>\n",
       "      <th>UIbeta</th>\n",
       "      <th>DEIbeta</th>\n",
       "      <th>UTSbeta</th>\n",
       "      <th>UPRbeta</th>\n",
       "    </tr>\n",
       "  </thead>\n",
       "  <tbody>\n",
       "    <tr>\n",
       "      <th>0</th>\n",
       "      <td>1968-01-31</td>\n",
       "      <td>SMALL LoBM</td>\n",
       "      <td>0.0274</td>\n",
       "      <td>-0.019875</td>\n",
       "      <td>-1.534972</td>\n",
       "      <td>-37.512400</td>\n",
       "      <td>133.482373</td>\n",
       "      <td>6.226264</td>\n",
       "      <td>11.920092</td>\n",
       "    </tr>\n",
       "    <tr>\n",
       "      <th>1</th>\n",
       "      <td>1968-01-31</td>\n",
       "      <td>ME1 BM2</td>\n",
       "      <td>0.0217</td>\n",
       "      <td>-0.001107</td>\n",
       "      <td>-0.818476</td>\n",
       "      <td>-31.584840</td>\n",
       "      <td>108.114928</td>\n",
       "      <td>5.512415</td>\n",
       "      <td>7.011172</td>\n",
       "    </tr>\n",
       "    <tr>\n",
       "      <th>2</th>\n",
       "      <td>1968-01-31</td>\n",
       "      <td>ME1 BM3</td>\n",
       "      <td>0.0250</td>\n",
       "      <td>-0.005549</td>\n",
       "      <td>-1.257649</td>\n",
       "      <td>-31.166854</td>\n",
       "      <td>99.396328</td>\n",
       "      <td>4.993825</td>\n",
       "      <td>7.393651</td>\n",
       "    </tr>\n",
       "  </tbody>\n",
       "</table>\n",
       "</div>"
      ],
      "text/plain": [
       "        Date        port    rirf     const    MPbeta     UIbeta     DEIbeta   UTSbeta    UPRbeta\n",
       "0 1968-01-31  SMALL LoBM  0.0274 -0.019875 -1.534972 -37.512400  133.482373  6.226264  11.920092\n",
       "1 1968-01-31     ME1 BM2  0.0217 -0.001107 -0.818476 -31.584840  108.114928  5.512415   7.011172\n",
       "2 1968-01-31     ME1 BM3  0.0250 -0.005549 -1.257649 -31.166854   99.396328  4.993825   7.393651"
      ]
     },
     "execution_count": 11,
     "metadata": {},
     "output_type": "execute_result"
    }
   ],
   "source": [
    "# Estimate beta from past x month of data\n",
    "betas = coeffest(df, ['MP', 'UI', 'DEI', 'UTS', 'UPR'], startd='1968-01' , endd='2011-11')\n",
    "\n",
    "df2 = df.reset_index().set_index(['Date', 'port'])\n",
    "betas2 = betas.reset_index().set_index(['Date', 'port'])\n",
    "df2 = df2[['rirf']].join(betas2).dropna().reset_index()\n",
    "df2.head(3)"
   ]
  },
  {
   "cell_type": "code",
   "execution_count": 13,
   "metadata": {
    "slideshow": {
     "slide_type": "slide"
    }
   },
   "outputs": [
    {
     "name": "stdout",
     "output_type": "stream",
     "text": [
      "Fama-Macbeth style cross-section premium estmations\n"
     ]
    },
    {
     "data": {
      "text/html": [
       "<div>\n",
       "<style>\n",
       "    .dataframe thead tr:only-child th {\n",
       "        text-align: right;\n",
       "    }\n",
       "\n",
       "    .dataframe thead th {\n",
       "        text-align: left;\n",
       "    }\n",
       "\n",
       "    .dataframe tbody tr th {\n",
       "        vertical-align: top;\n",
       "    }\n",
       "</style>\n",
       "<table border=\"1\" class=\"dataframe\">\n",
       "  <thead>\n",
       "    <tr style=\"text-align: right;\">\n",
       "      <th></th>\n",
       "      <th>coef</th>\n",
       "      <th>stderr</th>\n",
       "      <th>tvalue</th>\n",
       "      <th>pvalue</th>\n",
       "      <th>stars</th>\n",
       "    </tr>\n",
       "  </thead>\n",
       "  <tbody>\n",
       "    <tr>\n",
       "      <th>Intercept</th>\n",
       "      <td>0.006243</td>\n",
       "      <td>0.002318</td>\n",
       "      <td>2.693055</td>\n",
       "      <td>0.007080</td>\n",
       "      <td>***</td>\n",
       "    </tr>\n",
       "    <tr>\n",
       "      <th>MPbeta</th>\n",
       "      <td>-0.000972</td>\n",
       "      <td>0.000776</td>\n",
       "      <td>-1.251218</td>\n",
       "      <td>0.210855</td>\n",
       "      <td></td>\n",
       "    </tr>\n",
       "    <tr>\n",
       "      <th>UIbeta</th>\n",
       "      <td>0.000331</td>\n",
       "      <td>0.000188</td>\n",
       "      <td>1.759433</td>\n",
       "      <td>0.078504</td>\n",
       "      <td>*</td>\n",
       "    </tr>\n",
       "    <tr>\n",
       "      <th>DEIbeta</th>\n",
       "      <td>-0.000020</td>\n",
       "      <td>0.000090</td>\n",
       "      <td>-0.219613</td>\n",
       "      <td>0.826172</td>\n",
       "      <td></td>\n",
       "    </tr>\n",
       "    <tr>\n",
       "      <th>UTSbeta</th>\n",
       "      <td>0.001225</td>\n",
       "      <td>0.000920</td>\n",
       "      <td>1.332340</td>\n",
       "      <td>0.182748</td>\n",
       "      <td></td>\n",
       "    </tr>\n",
       "    <tr>\n",
       "      <th>UPRbeta</th>\n",
       "      <td>-0.000241</td>\n",
       "      <td>0.000235</td>\n",
       "      <td>-1.028585</td>\n",
       "      <td>0.303675</td>\n",
       "      <td></td>\n",
       "    </tr>\n",
       "  </tbody>\n",
       "</table>\n",
       "</div>"
      ],
      "text/plain": [
       "               coef    stderr    tvalue    pvalue stars\n",
       "Intercept  0.006243  0.002318  2.693055  0.007080   ***\n",
       "MPbeta    -0.000972  0.000776 -1.251218  0.210855      \n",
       "UIbeta     0.000331  0.000188  1.759433  0.078504     *\n",
       "DEIbeta   -0.000020  0.000090 -0.219613  0.826172      \n",
       "UTSbeta    0.001225  0.000920  1.332340  0.182748      \n",
       "UPRbeta   -0.000241  0.000235 -1.028585  0.303675      "
      ]
     },
     "execution_count": 13,
     "metadata": {},
     "output_type": "execute_result"
    }
   ],
   "source": [
    "print('Fama-Macbeth style cross-section premium estmations')\n",
    "%run fama_macbeth.py\n",
    "fm  = fama_macbeth('rirf ~ MPbeta + UIbeta + DEIbeta + UTSbeta + UPRbeta', 'Date', df2, lags=0)\n",
    "fm"
   ]
  },
  {
   "cell_type": "markdown",
   "metadata": {
    "collapsed": true,
    "slideshow": {
     "slide_type": "slide"
    }
   },
   "source": [
    "In general, unexpected inflation, interest rate term spread and default premium is find to have postive premiums. Explanatory powers are relatively small in general. Alpha still not eliminated. "
   ]
  },
  {
   "cell_type": "raw",
   "metadata": {
    "slideshow": {
     "slide_type": "skip"
    }
   },
   "source": [
    "df3 = df[:'2010'].copy()\n",
    "df3['year5g'] = df3.index.year//5\n",
    "ld = df3.groupby(['year5g', 'port']).apply(ols_res, varlist, 'ret').reset_index()\n",
    "for name in varlist:\n",
    "    ld = ld.rename(columns={name: name+'beta'})\n",
    "ld.year5g = ld.year5g +1\n",
    "ld = ld.set_index(['year5g', 'port'])\n",
    "ld.head(3)"
   ]
  },
  {
   "cell_type": "raw",
   "metadata": {
    "collapsed": true,
    "slideshow": {
     "slide_type": "skip"
    }
   },
   "source": [
    "mret = df3.groupby(['year5g', 'port'])['ret'].mean()\n",
    "mret.name='mret'\n",
    "mret = pd.DataFrame(mret)\n",
    "mret = mret.join(ld, how='inner').reset_index()\n",
    "mret.head(3)"
   ]
  },
  {
   "cell_type": "raw",
   "metadata": {
    "slideshow": {
     "slide_type": "skip"
    }
   },
   "source": [
    "# Note: pandas function need data to be indexed by (time, ID)\n",
    "%run fama_macbeth.py\n",
    "fm  = fama_macbeth('mret ~ MPbeta + UIbeta + DEIbeta + UTSbeta + UPRbeta', 'year5g', mret.reset_index(), lags=0)\n",
    "fm"
   ]
  },
  {
   "cell_type": "markdown",
   "metadata": {
    "slideshow": {
     "slide_type": "slide"
    }
   },
   "source": [
    "### Firm Fundamental Approach\n",
    " - Identify firm characteristics that proxy for sensitivity to systematic risk\n",
    "   - membership in specific industry\n",
    "   - BTM, liquidity, leverage, profitability etc."
   ]
  },
  {
   "cell_type": "markdown",
   "metadata": {
    "slideshow": {
     "slide_type": "slide"
    }
   },
   "source": [
    "#### BARRA Style\n",
    " - take $\\beta_{ik}$, a dummy variable whether firm $i$ is in industry $k$ as known, \n",
    " - More generally take observable asset specific fundamentals as the factor betas, $\\beta_{ik}$, which are time invariant.\n",
    " - cross-sectionally estimate $f_{kt}$ for each $t$.\n",
    " - popular in industry"
   ]
  },
  {
   "cell_type": "markdown",
   "metadata": {
    "slideshow": {
     "slide_type": "slide"
    }
   },
   "source": [
    "#### Fama-French Style\n",
    " - Sorted the cross-section of assets based on the values of the asset specific characteristic.\n",
    " - Form hedge portfolio along side dimensions that CAPM fails, and calculate factor prices, then estimate $\\beta_{ik}$.\n",
    " - more later."
   ]
  },
  {
   "cell_type": "markdown",
   "metadata": {
    "slideshow": {
     "slide_type": "slide"
    }
   },
   "source": [
    "## Statistical Approach: Variance Decomposition and Principal Component\n",
    "\n",
    "Factor models do not tell us what should be the factors. One approach is to see on which dimensions variance-covariance matrix of returns vary the most. "
   ]
  },
  {
   "cell_type": "markdown",
   "metadata": {
    "collapsed": true,
    "slideshow": {
     "slide_type": "slide"
    }
   },
   "source": [
    "Eigenvalues and eigenvectors\n",
    "\n",
    "Mathmatically, Eigenvalue $\\lambda$ and eigenvector $v$ of a square $n\\times n$ matrix $A$ is such that\n",
    "$$ Av=\\lambda v $$\n"
   ]
  },
  {
   "cell_type": "markdown",
   "metadata": {
    "slideshow": {
     "slide_type": "slide"
    }
   },
   "source": [
    "Variance Decomposition\n",
    "\n",
    "A variance covariance matrix $A$ can be decomposed as $$ A=Q\\Lambda Q^{-1} $$ where $Q$ is a $n\\times n$ matrix with eigenvector $v_{k}$ of $A$ in kth column, and $\\Lambda$ is a diagonal matrix with corresponding eigenvalues at diagonal, $\\Lambda_{kk}=\\lambda_{k}$. \n",
    "\n",
    "$\\lambda_{k}$ measures how much variation is explained by the kth eigenvector (factor)."
   ]
  },
  {
   "cell_type": "markdown",
   "metadata": {
    "slideshow": {
     "slide_type": "slide"
    }
   },
   "source": [
    "### Example: Manual PCA\n",
    "\n",
    "Let's do a \"manual\" PCA using a simple two-stock example."
   ]
  },
  {
   "cell_type": "code",
   "execution_count": 14,
   "metadata": {
    "slideshow": {
     "slide_type": "fragment"
    }
   },
   "outputs": [
    {
     "data": {
      "text/html": [
       "<div>\n",
       "<style>\n",
       "    .dataframe thead tr:only-child th {\n",
       "        text-align: right;\n",
       "    }\n",
       "\n",
       "    .dataframe thead th {\n",
       "        text-align: left;\n",
       "    }\n",
       "\n",
       "    .dataframe tbody tr th {\n",
       "        vertical-align: top;\n",
       "    }\n",
       "</style>\n",
       "<table border=\"1\" class=\"dataframe\">\n",
       "  <thead>\n",
       "    <tr style=\"text-align: right;\">\n",
       "      <th></th>\n",
       "      <th>AAPL</th>\n",
       "      <th>IBM</th>\n",
       "      <th>MSFT</th>\n",
       "      <th>SP500</th>\n",
       "      <th>mktrf</th>\n",
       "      <th>rf</th>\n",
       "      <th>mktret</th>\n",
       "    </tr>\n",
       "    <tr>\n",
       "      <th>Date</th>\n",
       "      <th></th>\n",
       "      <th></th>\n",
       "      <th></th>\n",
       "      <th></th>\n",
       "      <th></th>\n",
       "      <th></th>\n",
       "      <th></th>\n",
       "    </tr>\n",
       "  </thead>\n",
       "  <tbody>\n",
       "    <tr>\n",
       "      <th>2005-02-28</th>\n",
       "      <td>0.166710</td>\n",
       "      <td>-0.007101</td>\n",
       "      <td>-0.039664</td>\n",
       "      <td>0.018903</td>\n",
       "      <td>0.0189</td>\n",
       "      <td>0.0016</td>\n",
       "      <td>0.0205</td>\n",
       "    </tr>\n",
       "    <tr>\n",
       "      <th>2005-03-31</th>\n",
       "      <td>-0.071110</td>\n",
       "      <td>-0.012962</td>\n",
       "      <td>-0.039348</td>\n",
       "      <td>-0.019118</td>\n",
       "      <td>-0.0197</td>\n",
       "      <td>0.0021</td>\n",
       "      <td>-0.0176</td>\n",
       "    </tr>\n",
       "    <tr>\n",
       "      <th>2005-04-30</th>\n",
       "      <td>-0.134629</td>\n",
       "      <td>-0.164150</td>\n",
       "      <td>0.046752</td>\n",
       "      <td>-0.020109</td>\n",
       "      <td>-0.0261</td>\n",
       "      <td>0.0021</td>\n",
       "      <td>-0.0240</td>\n",
       "    </tr>\n",
       "  </tbody>\n",
       "</table>\n",
       "</div>"
      ],
      "text/plain": [
       "                AAPL       IBM      MSFT     SP500   mktrf      rf  mktret\n",
       "Date                                                                      \n",
       "2005-02-28  0.166710 -0.007101 -0.039664  0.018903  0.0189  0.0016  0.0205\n",
       "2005-03-31 -0.071110 -0.012962 -0.039348 -0.019118 -0.0197  0.0021 -0.0176\n",
       "2005-04-30 -0.134629 -0.164150  0.046752 -0.020109 -0.0261  0.0021 -0.0240"
      ]
     },
     "execution_count": 14,
     "metadata": {},
     "output_type": "execute_result"
    }
   ],
   "source": [
    "mreturns = pd.read_csv('../datalib/aapl5.csv')\n",
    "mreturns['mktret'] = mreturns.mktrf + mreturns.rf\n",
    "mreturns = mreturns.set_index('Date')\n",
    "mreturns.head(3)"
   ]
  },
  {
   "cell_type": "code",
   "execution_count": 17,
   "metadata": {
    "slideshow": {
     "slide_type": "slide"
    }
   },
   "outputs": [
    {
     "data": {
      "image/png": "[encoded data removed]",
      "text/plain": [
       "<matplotlib.figure.Figure at 0x11b6eda50>"
      ]
     },
     "metadata": {},
     "output_type": "display_data"
    }
   ],
   "source": [
    "fig, ax = plt.subplots()\n",
    "plt.scatter(x=mreturns['AAPL'], y=mreturns['MSFT'])\n",
    "#ols_fit = sm.OLS(returns['GOOGL'].values, returns['AAPL'].values).fit()\n",
    "#plt.plot(returns['AAPL'], ols_fit.fittedvalues, 'r')  #make sure to srop NA for this to show\n",
    "plt.xlabel('AAPL')\n",
    "plt.ylabel('MSFT')\n",
    "plt.title('Return Correlation between MSFT and Apple')\n",
    "plt.show()"
   ]
  },
  {
   "cell_type": "code",
   "execution_count": 18,
   "metadata": {
    "slideshow": {
     "slide_type": "slide"
    }
   },
   "outputs": [
    {
     "data": {
      "text/html": [
       "<div>\n",
       "<style>\n",
       "    .dataframe thead tr:only-child th {\n",
       "        text-align: right;\n",
       "    }\n",
       "\n",
       "    .dataframe thead th {\n",
       "        text-align: left;\n",
       "    }\n",
       "\n",
       "    .dataframe tbody tr th {\n",
       "        vertical-align: top;\n",
       "    }\n",
       "</style>\n",
       "<table border=\"1\" class=\"dataframe\">\n",
       "  <thead>\n",
       "    <tr style=\"text-align: right;\">\n",
       "      <th></th>\n",
       "      <th>AAPL</th>\n",
       "      <th>MSFT</th>\n",
       "    </tr>\n",
       "    <tr>\n",
       "      <th>Date</th>\n",
       "      <th></th>\n",
       "      <th></th>\n",
       "    </tr>\n",
       "  </thead>\n",
       "  <tbody>\n",
       "    <tr>\n",
       "      <th>2005-02-28</th>\n",
       "      <td>0.137280</td>\n",
       "      <td>-0.049344</td>\n",
       "    </tr>\n",
       "    <tr>\n",
       "      <th>2005-03-31</th>\n",
       "      <td>-0.100540</td>\n",
       "      <td>-0.049028</td>\n",
       "    </tr>\n",
       "    <tr>\n",
       "      <th>2005-04-30</th>\n",
       "      <td>-0.164059</td>\n",
       "      <td>0.037072</td>\n",
       "    </tr>\n",
       "    <tr>\n",
       "      <th>2005-05-31</th>\n",
       "      <td>0.073177</td>\n",
       "      <td>0.013317</td>\n",
       "    </tr>\n",
       "    <tr>\n",
       "      <th>2005-06-30</th>\n",
       "      <td>-0.103625</td>\n",
       "      <td>-0.046889</td>\n",
       "    </tr>\n",
       "  </tbody>\n",
       "</table>\n",
       "</div>"
      ],
      "text/plain": [
       "                AAPL      MSFT\n",
       "Date                          \n",
       "2005-02-28  0.137280 -0.049344\n",
       "2005-03-31 -0.100540 -0.049028\n",
       "2005-04-30 -0.164059  0.037072\n",
       "2005-05-31  0.073177  0.013317\n",
       "2005-06-30 -0.103625 -0.046889"
      ]
     },
     "execution_count": 18,
     "metadata": {},
     "output_type": "execute_result"
    }
   ],
   "source": [
    "## First, De-mean the return matrix of AAPL and MSFT.\n",
    "# demean returns\n",
    "df = mreturns.loc[:, ['AAPL','MSFT']]\n",
    "for col in df.columns:\n",
    "    df[col] -= df[col].mean()\n",
    "df.head()"
   ]
  },
  {
   "cell_type": "code",
   "execution_count": 19,
   "metadata": {
    "slideshow": {
     "slide_type": "slide"
    }
   },
   "outputs": [
    {
     "name": "stdout",
     "output_type": "stream",
     "text": [
      "Covariance matrix \n",
      "          AAPL      MSFT\n",
      "AAPL  1.000000  0.415895\n",
      "MSFT  0.415895  1.000000\n"
     ]
    }
   ],
   "source": [
    "## Then calculate the covariance matrix\n",
    "cov_mat = df.corr()\n",
    "print('Covariance matrix \\n%s'%cov_mat)"
   ]
  },
  {
   "cell_type": "code",
   "execution_count": 20,
   "metadata": {
    "slideshow": {
     "slide_type": "slide"
    }
   },
   "outputs": [
    {
     "name": "stdout",
     "output_type": "stream",
     "text": [
      "Eigenvectors \n",
      " [[ 0.70710678 -0.70710678]\n",
      " [ 0.70710678  0.70710678]]\n",
      "\n",
      "Eigenvalues\n",
      " [ 1.41589503  0.58410497]\n"
     ]
    }
   ],
   "source": [
    "## From covariance matrix, we can do Eigenvecor decomposition.\n",
    "eig_vals, eig_vecs = np.linalg.eig(cov_mat)\n",
    "print('Eigenvectors \\n', eig_vecs)\n",
    "print('\\nEigenvalues\\n', eig_vals)"
   ]
  },
  {
   "cell_type": "markdown",
   "metadata": {
    "slideshow": {
     "slide_type": "slide"
    }
   },
   "source": [
    "Notice that that first Eigenvalue is much bigger than the second. Sometimes, data is processed to be of mean zero and unit variance, then the first Eigenvalue is always greater than one. Eigenvector associated with the highest Eigenvalue is sometimes called PCA1, and so on."
   ]
  },
  {
   "cell_type": "markdown",
   "metadata": {
    "slideshow": {
     "slide_type": "slide"
    }
   },
   "source": [
    "Let's plot the first Eigenvector together with data. We can clearly see that it captures the biggest variation in the two returns.  "
   ]
  },
  {
   "cell_type": "code",
   "execution_count": 21,
   "metadata": {
    "slideshow": {
     "slide_type": "slide"
    }
   },
   "outputs": [
    {
     "data": {
      "image/png": "[encoded data removed]",
      "text/plain": [
       "<matplotlib.figure.Figure at 0x11b8b30d0>"
      ]
     },
     "metadata": {},
     "output_type": "display_data"
    }
   ],
   "source": [
    "# slope of eigenvector for plotting\n",
    "b = eig_vecs[:,0][1]/eig_vecs[:,0][0]\n",
    "fig, ax = plt.subplots()\n",
    "plt.scatter(x=df['AAPL'], y=df['MSFT'])\n",
    "#ols_fit = sm.OLS(returns['GOOGL'].values, returns['AAPL'].values).fit()\n",
    "#plt.plot(returns['AAPL'], ols_fit.fittedvalues, 'r')  #make sure to srop NA for this to show\n",
    "plt.plot(df['AAPL'], b*df['AAPL'])\n",
    "plt.xlabel('AAPL')\n",
    "plt.ylabel('MSFT')\n",
    "plt.title('Normalized Return of Google and Apple & the First First Pincipal Component')\n",
    "plt.show()"
   ]
  },
  {
   "cell_type": "code",
   "execution_count": 22,
   "metadata": {
    "slideshow": {
     "slide_type": "fragment"
    }
   },
   "outputs": [
    {
     "data": {
      "image/png": "[encoded data removed]",
      "text/plain": [
       "<matplotlib.figure.Figure at 0x11b5fec90>"
      ]
     },
     "metadata": {},
     "output_type": "display_data"
    }
   ],
   "source": [
    "b = eig_vecs[:,0][1]/eig_vecs[:,0][0]\n",
    "fig, ax = plt.subplots()\n",
    "plt.scatter(x=df['AAPL'], y=df['MSFT'])\n",
    "ols_fit = sm.OLS(mreturns['MSFT'].values, mreturns['AAPL'].values).fit()\n",
    "plt.plot(mreturns['AAPL'], ols_fit.fittedvalues, 'r', label='Regression Line')  #make sure to srop NA for this to show\n",
    "plt.plot(df['AAPL'], b*df['AAPL'], label='Principal Component EigenVector')\n",
    "plt.xlabel('AAPL')\n",
    "plt.ylabel('MSFT')\n",
    "plt.legend()\n",
    "plt.title('Normalized Return of MSFT and Apple')\n",
    "plt.show()"
   ]
  },
  {
   "cell_type": "markdown",
   "metadata": {
    "collapsed": true,
    "slideshow": {
     "slide_type": "slide"
    }
   },
   "source": [
    "Proportion of variance explained by the two PCA"
   ]
  },
  {
   "cell_type": "code",
   "execution_count": 23,
   "metadata": {
    "slideshow": {
     "slide_type": "fragment"
    }
   },
   "outputs": [
    {
     "name": "stdout",
     "output_type": "stream",
     "text": [
      "\n",
      "PCA 1: 70.79% of the variance\n",
      "PCA 2:  29.21% of the variance\n",
      "\n"
     ]
    }
   ],
   "source": [
    "print(\"\"\"\n",
    "PCA 1: {0:.2f}% of the variance\n",
    "PCA 2:  {1:.2f}% of the variance\n",
    "\"\"\".format(*tuple(eig_vals / eig_vals.sum() * 100)))"
   ]
  },
  {
   "cell_type": "markdown",
   "metadata": {
    "slideshow": {
     "slide_type": "slide"
    }
   },
   "source": [
    "We can \"get back\" the data by projecting PCA onto the initial return space. The projection using the PCA1 is the common comovement of the two stocks on the first direction. "
   ]
  },
  {
   "cell_type": "code",
   "execution_count": 24,
   "metadata": {
    "slideshow": {
     "slide_type": "fragment"
    }
   },
   "outputs": [
    {
     "data": {
      "text/html": [
       "<div>\n",
       "<style>\n",
       "    .dataframe thead tr:only-child th {\n",
       "        text-align: right;\n",
       "    }\n",
       "\n",
       "    .dataframe thead th {\n",
       "        text-align: left;\n",
       "    }\n",
       "\n",
       "    .dataframe tbody tr th {\n",
       "        vertical-align: top;\n",
       "    }\n",
       "</style>\n",
       "<table border=\"1\" class=\"dataframe\">\n",
       "  <thead>\n",
       "    <tr style=\"text-align: right;\">\n",
       "      <th></th>\n",
       "      <th>projection</th>\n",
       "    </tr>\n",
       "    <tr>\n",
       "      <th>Date</th>\n",
       "      <th></th>\n",
       "    </tr>\n",
       "  </thead>\n",
       "  <tbody>\n",
       "    <tr>\n",
       "      <th>2005-02-28</th>\n",
       "      <td>0.062180</td>\n",
       "    </tr>\n",
       "    <tr>\n",
       "      <th>2005-03-31</th>\n",
       "      <td>-0.105761</td>\n",
       "    </tr>\n",
       "    <tr>\n",
       "      <th>2005-04-30</th>\n",
       "      <td>-0.089794</td>\n",
       "    </tr>\n",
       "  </tbody>\n",
       "</table>\n",
       "</div>"
      ],
      "text/plain": [
       "            projection\n",
       "Date                  \n",
       "2005-02-28    0.062180\n",
       "2005-03-31   -0.105761\n",
       "2005-04-30   -0.089794"
      ]
     },
     "execution_count": 24,
     "metadata": {},
     "output_type": "execute_result"
    }
   ],
   "source": [
    "# Project data to our 1D space\n",
    "df_1D = pd.DataFrame(df[['AAPL', 'MSFT']].dot(eig_vecs[:,0]),\n",
    "                    columns=['projection'])\n",
    "\n",
    "df_1D.head(3)"
   ]
  },
  {
   "cell_type": "code",
   "execution_count": 25,
   "metadata": {
    "slideshow": {
     "slide_type": "slide"
    }
   },
   "outputs": [
    {
     "data": {
      "text/plain": [
       "<matplotlib.axes._subplots.AxesSubplot at 0x11b5456d0>"
      ]
     },
     "execution_count": 25,
     "metadata": {},
     "output_type": "execute_result"
    },
    {
     "data": {
      "image/png": "[encoded data removed]",
      "text/plain": [
       "<matplotlib.figure.Figure at 0x11b511550>"
      ]
     },
     "metadata": {},
     "output_type": "display_data"
    }
   ],
   "source": [
    "df_1D.plot()"
   ]
  },
  {
   "cell_type": "markdown",
   "metadata": {
    "slideshow": {
     "slide_type": "slide"
    }
   },
   "source": [
    "And the transformed return of AAPL and GOOGL based on just PCA1"
   ]
  },
  {
   "cell_type": "code",
   "execution_count": 26,
   "metadata": {
    "slideshow": {
     "slide_type": "fragment"
    }
   },
   "outputs": [
    {
     "data": {
      "text/html": [
       "<div>\n",
       "<style>\n",
       "    .dataframe thead tr:only-child th {\n",
       "        text-align: right;\n",
       "    }\n",
       "\n",
       "    .dataframe thead th {\n",
       "        text-align: left;\n",
       "    }\n",
       "\n",
       "    .dataframe tbody tr th {\n",
       "        vertical-align: top;\n",
       "    }\n",
       "</style>\n",
       "<table border=\"1\" class=\"dataframe\">\n",
       "  <thead>\n",
       "    <tr style=\"text-align: right;\">\n",
       "      <th></th>\n",
       "      <th>projection</th>\n",
       "      <th>AAPL</th>\n",
       "      <th>MSFT</th>\n",
       "    </tr>\n",
       "    <tr>\n",
       "      <th>Date</th>\n",
       "      <th></th>\n",
       "      <th></th>\n",
       "      <th></th>\n",
       "    </tr>\n",
       "  </thead>\n",
       "  <tbody>\n",
       "    <tr>\n",
       "      <th>2005-02-28</th>\n",
       "      <td>0.062180</td>\n",
       "      <td>0.043968</td>\n",
       "      <td>0.043968</td>\n",
       "    </tr>\n",
       "    <tr>\n",
       "      <th>2005-03-31</th>\n",
       "      <td>-0.105761</td>\n",
       "      <td>-0.074784</td>\n",
       "      <td>-0.074784</td>\n",
       "    </tr>\n",
       "    <tr>\n",
       "      <th>2005-04-30</th>\n",
       "      <td>-0.089794</td>\n",
       "      <td>-0.063494</td>\n",
       "      <td>-0.063494</td>\n",
       "    </tr>\n",
       "    <tr>\n",
       "      <th>2005-05-31</th>\n",
       "      <td>0.061160</td>\n",
       "      <td>0.043247</td>\n",
       "      <td>0.043247</td>\n",
       "    </tr>\n",
       "    <tr>\n",
       "      <th>2005-06-30</th>\n",
       "      <td>-0.106430</td>\n",
       "      <td>-0.075257</td>\n",
       "      <td>-0.075257</td>\n",
       "    </tr>\n",
       "  </tbody>\n",
       "</table>\n",
       "</div>"
      ],
      "text/plain": [
       "            projection      AAPL      MSFT\n",
       "Date                                      \n",
       "2005-02-28    0.062180  0.043968  0.043968\n",
       "2005-03-31   -0.105761 -0.074784 -0.074784\n",
       "2005-04-30   -0.089794 -0.063494 -0.063494\n",
       "2005-05-31    0.061160  0.043247  0.043247\n",
       "2005-06-30   -0.106430 -0.075257 -0.075257"
      ]
     },
     "execution_count": 26,
     "metadata": {},
     "output_type": "execute_result"
    }
   ],
   "source": [
    "df_1D['AAPL'] = df_1D['projection']*eig_vecs[:,0][0]\n",
    "df_1D['MSFT'] = df_1D['projection']*eig_vecs[:,0][1]\n",
    "df_1D.head()"
   ]
  },
  {
   "cell_type": "markdown",
   "metadata": {
    "slideshow": {
     "slide_type": "slide"
    }
   },
   "source": [
    "If we redo the initial plot of MSFT against AAPL using transformed return, we see that all data lines up along the first Pricipal Component. Clearly, some information is lost if we just use PCA1. "
   ]
  },
  {
   "cell_type": "code",
   "execution_count": 27,
   "metadata": {
    "slideshow": {
     "slide_type": "fragment"
    }
   },
   "outputs": [
    {
     "data": {
      "image/png": "[encoded data removed]",
      "text/plain": [
       "<matplotlib.figure.Figure at 0x11b2aac50>"
      ]
     },
     "metadata": {},
     "output_type": "display_data"
    }
   ],
   "source": [
    "fig, ax = plt.subplots()\n",
    "plt.scatter(x=df_1D['AAPL'], y=df_1D['MSFT'])\n",
    "plt.title('Transformed Return of Google and Apple Based on the First PC')\n",
    "plt.show()"
   ]
  },
  {
   "cell_type": "markdown",
   "metadata": {
    "collapsed": true,
    "slideshow": {
     "slide_type": "slide"
    }
   },
   "source": [
    "### Example: PCA of industry portfolios\n",
    "\n",
    "It doesn't make much sense to find factor for two stocks. Let's use a 30-industry portfolio. "
   ]
  },
  {
   "cell_type": "code",
   "execution_count": 28,
   "metadata": {
    "slideshow": {
     "slide_type": "fragment"
    }
   },
   "outputs": [
    {
     "data": {
      "text/html": [
       "<div>\n",
       "<style>\n",
       "    .dataframe thead tr:only-child th {\n",
       "        text-align: right;\n",
       "    }\n",
       "\n",
       "    .dataframe thead th {\n",
       "        text-align: left;\n",
       "    }\n",
       "\n",
       "    .dataframe tbody tr th {\n",
       "        vertical-align: top;\n",
       "    }\n",
       "</style>\n",
       "<table border=\"1\" class=\"dataframe\">\n",
       "  <thead>\n",
       "    <tr style=\"text-align: right;\">\n",
       "      <th></th>\n",
       "      <th>Food</th>\n",
       "      <th>Beer</th>\n",
       "      <th>Smoke</th>\n",
       "      <th>Games</th>\n",
       "      <th>Books</th>\n",
       "      <th>Hshld</th>\n",
       "      <th>Clths</th>\n",
       "      <th>Hlth</th>\n",
       "      <th>Chems</th>\n",
       "      <th>Txtls</th>\n",
       "      <th>Cnstr</th>\n",
       "      <th>Steel</th>\n",
       "      <th>FabPr</th>\n",
       "      <th>ElcEq</th>\n",
       "      <th>Autos</th>\n",
       "      <th>Carry</th>\n",
       "      <th>Mines</th>\n",
       "      <th>Coal</th>\n",
       "      <th>Oil</th>\n",
       "      <th>Util</th>\n",
       "      <th>Telcm</th>\n",
       "      <th>Servs</th>\n",
       "      <th>BusEq</th>\n",
       "      <th>Paper</th>\n",
       "      <th>Trans</th>\n",
       "      <th>Whlsl</th>\n",
       "      <th>Rtail</th>\n",
       "      <th>Meals</th>\n",
       "      <th>Fin</th>\n",
       "      <th>Other</th>\n",
       "    </tr>\n",
       "    <tr>\n",
       "      <th>Date</th>\n",
       "      <th></th>\n",
       "      <th></th>\n",
       "      <th></th>\n",
       "      <th></th>\n",
       "      <th></th>\n",
       "      <th></th>\n",
       "      <th></th>\n",
       "      <th></th>\n",
       "      <th></th>\n",
       "      <th></th>\n",
       "      <th></th>\n",
       "      <th></th>\n",
       "      <th></th>\n",
       "      <th></th>\n",
       "      <th></th>\n",
       "      <th></th>\n",
       "      <th></th>\n",
       "      <th></th>\n",
       "      <th></th>\n",
       "      <th></th>\n",
       "      <th></th>\n",
       "      <th></th>\n",
       "      <th></th>\n",
       "      <th></th>\n",
       "      <th></th>\n",
       "      <th></th>\n",
       "      <th></th>\n",
       "      <th></th>\n",
       "      <th></th>\n",
       "      <th></th>\n",
       "    </tr>\n",
       "  </thead>\n",
       "  <tbody>\n",
       "    <tr>\n",
       "      <th>1963-01-31</th>\n",
       "      <td>6.64</td>\n",
       "      <td>4.03</td>\n",
       "      <td>1.72</td>\n",
       "      <td>8.69</td>\n",
       "      <td>6.55</td>\n",
       "      <td>5.46</td>\n",
       "      <td>6.45</td>\n",
       "      <td>5.65</td>\n",
       "      <td>4.46</td>\n",
       "      <td>8.82</td>\n",
       "      <td>4.56</td>\n",
       "      <td>7.93</td>\n",
       "      <td>7.64</td>\n",
       "      <td>4.97</td>\n",
       "      <td>6.21</td>\n",
       "      <td>1.20</td>\n",
       "      <td>10.66</td>\n",
       "      <td>8.25</td>\n",
       "      <td>2.58</td>\n",
       "      <td>5.26</td>\n",
       "      <td>4.13</td>\n",
       "      <td>1.36</td>\n",
       "      <td>6.14</td>\n",
       "      <td>8.23</td>\n",
       "      <td>5.99</td>\n",
       "      <td>3.57</td>\n",
       "      <td>4.09</td>\n",
       "      <td>7.53</td>\n",
       "      <td>3.63</td>\n",
       "      <td>8.64</td>\n",
       "    </tr>\n",
       "    <tr>\n",
       "      <th>1963-02-28</th>\n",
       "      <td>-2.73</td>\n",
       "      <td>-5.05</td>\n",
       "      <td>-3.36</td>\n",
       "      <td>-6.65</td>\n",
       "      <td>-1.94</td>\n",
       "      <td>-3.25</td>\n",
       "      <td>-3.18</td>\n",
       "      <td>-2.58</td>\n",
       "      <td>-3.85</td>\n",
       "      <td>0.65</td>\n",
       "      <td>-0.71</td>\n",
       "      <td>-2.13</td>\n",
       "      <td>-2.60</td>\n",
       "      <td>-6.36</td>\n",
       "      <td>-2.93</td>\n",
       "      <td>-0.96</td>\n",
       "      <td>-1.76</td>\n",
       "      <td>-0.44</td>\n",
       "      <td>-1.33</td>\n",
       "      <td>-1.47</td>\n",
       "      <td>-1.09</td>\n",
       "      <td>0.06</td>\n",
       "      <td>-4.11</td>\n",
       "      <td>-2.17</td>\n",
       "      <td>0.29</td>\n",
       "      <td>-1.87</td>\n",
       "      <td>-0.52</td>\n",
       "      <td>-3.74</td>\n",
       "      <td>-0.35</td>\n",
       "      <td>0.30</td>\n",
       "    </tr>\n",
       "    <tr>\n",
       "      <th>1963-03-31</th>\n",
       "      <td>1.73</td>\n",
       "      <td>4.61</td>\n",
       "      <td>7.74</td>\n",
       "      <td>1.12</td>\n",
       "      <td>-0.87</td>\n",
       "      <td>4.00</td>\n",
       "      <td>1.42</td>\n",
       "      <td>1.18</td>\n",
       "      <td>3.65</td>\n",
       "      <td>0.83</td>\n",
       "      <td>3.44</td>\n",
       "      <td>2.24</td>\n",
       "      <td>2.90</td>\n",
       "      <td>1.39</td>\n",
       "      <td>6.82</td>\n",
       "      <td>0.23</td>\n",
       "      <td>2.73</td>\n",
       "      <td>6.20</td>\n",
       "      <td>6.99</td>\n",
       "      <td>1.79</td>\n",
       "      <td>1.94</td>\n",
       "      <td>3.90</td>\n",
       "      <td>3.70</td>\n",
       "      <td>3.01</td>\n",
       "      <td>3.31</td>\n",
       "      <td>0.60</td>\n",
       "      <td>2.17</td>\n",
       "      <td>-5.72</td>\n",
       "      <td>2.30</td>\n",
       "      <td>5.29</td>\n",
       "    </tr>\n",
       "    <tr>\n",
       "      <th>1963-04-30</th>\n",
       "      <td>1.10</td>\n",
       "      <td>0.66</td>\n",
       "      <td>6.30</td>\n",
       "      <td>-0.80</td>\n",
       "      <td>7.95</td>\n",
       "      <td>6.02</td>\n",
       "      <td>1.60</td>\n",
       "      <td>7.62</td>\n",
       "      <td>4.44</td>\n",
       "      <td>7.69</td>\n",
       "      <td>4.01</td>\n",
       "      <td>5.45</td>\n",
       "      <td>3.38</td>\n",
       "      <td>5.88</td>\n",
       "      <td>5.98</td>\n",
       "      <td>3.37</td>\n",
       "      <td>4.89</td>\n",
       "      <td>4.34</td>\n",
       "      <td>6.08</td>\n",
       "      <td>2.40</td>\n",
       "      <td>3.73</td>\n",
       "      <td>2.43</td>\n",
       "      <td>6.78</td>\n",
       "      <td>4.86</td>\n",
       "      <td>8.52</td>\n",
       "      <td>5.64</td>\n",
       "      <td>5.51</td>\n",
       "      <td>0.48</td>\n",
       "      <td>3.65</td>\n",
       "      <td>6.11</td>\n",
       "    </tr>\n",
       "    <tr>\n",
       "      <th>1963-05-31</th>\n",
       "      <td>3.49</td>\n",
       "      <td>1.20</td>\n",
       "      <td>-3.00</td>\n",
       "      <td>4.43</td>\n",
       "      <td>0.55</td>\n",
       "      <td>0.91</td>\n",
       "      <td>0.49</td>\n",
       "      <td>-0.25</td>\n",
       "      <td>1.28</td>\n",
       "      <td>2.44</td>\n",
       "      <td>1.18</td>\n",
       "      <td>6.56</td>\n",
       "      <td>6.08</td>\n",
       "      <td>4.68</td>\n",
       "      <td>7.15</td>\n",
       "      <td>-0.90</td>\n",
       "      <td>2.29</td>\n",
       "      <td>3.90</td>\n",
       "      <td>-0.19</td>\n",
       "      <td>1.03</td>\n",
       "      <td>-0.64</td>\n",
       "      <td>3.53</td>\n",
       "      <td>3.85</td>\n",
       "      <td>-1.13</td>\n",
       "      <td>6.56</td>\n",
       "      <td>1.09</td>\n",
       "      <td>2.68</td>\n",
       "      <td>3.12</td>\n",
       "      <td>0.42</td>\n",
       "      <td>-0.03</td>\n",
       "    </tr>\n",
       "  </tbody>\n",
       "</table>\n",
       "</div>"
      ],
      "text/plain": [
       "            Food   Beer   Smoke  Games  Books  Hshld  Clths  Hlth   Chems  Txtls  Cnstr  Steel  FabPr  ElcEq  Autos  Carry  Mines  Coal   Oil    Util   Telcm  Servs  BusEq  Paper  Trans  Whlsl  Rtail  Meals  Fin    Other\n",
       "Date                                                                                                                                                                                                                        \n",
       "1963-01-31   6.64   4.03   1.72   8.69   6.55   5.46   6.45   5.65   4.46   8.82   4.56   7.93   7.64   4.97   6.21   1.20  10.66   8.25   2.58   5.26   4.13   1.36   6.14   8.23   5.99   3.57   4.09   7.53   3.63   8.64\n",
       "1963-02-28  -2.73  -5.05  -3.36  -6.65  -1.94  -3.25  -3.18  -2.58  -3.85   0.65  -0.71  -2.13  -2.60  -6.36  -2.93  -0.96  -1.76  -0.44  -1.33  -1.47  -1.09   0.06  -4.11  -2.17   0.29  -1.87  -0.52  -3.74  -0.35   0.30\n",
       "1963-03-31   1.73   4.61   7.74   1.12  -0.87   4.00   1.42   1.18   3.65   0.83   3.44   2.24   2.90   1.39   6.82   0.23   2.73   6.20   6.99   1.79   1.94   3.90   3.70   3.01   3.31   0.60   2.17  -5.72   2.30   5.29\n",
       "1963-04-30   1.10   0.66   6.30  -0.80   7.95   6.02   1.60   7.62   4.44   7.69   4.01   5.45   3.38   5.88   5.98   3.37   4.89   4.34   6.08   2.40   3.73   2.43   6.78   4.86   8.52   5.64   5.51   0.48   3.65   6.11\n",
       "1963-05-31   3.49   1.20  -3.00   4.43   0.55   0.91   0.49  -0.25   1.28   2.44   1.18   6.56   6.08   4.68   7.15  -0.90   2.29   3.90  -0.19   1.03  -0.64   3.53   3.85  -1.13   6.56   1.09   2.68   3.12   0.42  -0.03"
      ]
     },
     "execution_count": 28,
     "metadata": {},
     "output_type": "execute_result"
    }
   ],
   "source": [
    "# Note that -99.99 is missing value\n",
    "start = datetime.datetime(1963, 1, 1)\n",
    "end = datetime.datetime(2015, 12, 30)\n",
    "ds = web.DataReader(\"30_Industry_Portfolios\", \"famafrench\", start, end)\n",
    "tb = pd.DataFrame(ds[0])\n",
    "tb = tb.replace(-99.99, np.nan)\n",
    "tb = tb.dropna()\n",
    "tb.index = tb.index.to_timestamp('M')\n",
    "tb.head()"
   ]
  },
  {
   "cell_type": "markdown",
   "metadata": {
    "slideshow": {
     "slide_type": "slide"
    }
   },
   "source": [
    "Find the first 3 Principal Component. "
   ]
  },
  {
   "cell_type": "code",
   "execution_count": 29,
   "metadata": {
    "slideshow": {
     "slide_type": "fragment"
    }
   },
   "outputs": [
    {
     "name": "stdout",
     "output_type": "stream",
     "text": [
      "Variance percent explained\n",
      " [ 0.62895045  0.0569373   0.0462166 ]\n"
     ]
    }
   ],
   "source": [
    "# pre-transform data to be mean zero and unit variance\n",
    "# here we use a sklearn shortcut\n",
    "X_std = StandardScaler().fit_transform(tb)\n",
    "pca = PCA(n_components=3)\n",
    "Y = pca.fit_transform(X_std)\n",
    "print('Variance percent explained\\n', pca.explained_variance_ratio_)"
   ]
  },
  {
   "cell_type": "code",
   "execution_count": 30,
   "metadata": {
    "slideshow": {
     "slide_type": "slide"
    }
   },
   "outputs": [
    {
     "data": {
      "text/plain": [
       "array([[  1.77772853e-01,   1.58815723e-01,   1.19812997e-01,\n",
       "          1.98380725e-01,   2.00439739e-01,   1.85209007e-01,\n",
       "          1.91115882e-01,   1.71509805e-01,   2.01484352e-01,\n",
       "          1.81069627e-01,   2.10619952e-01,   1.82587324e-01,\n",
       "          2.06015823e-01,   2.01860097e-01,   1.80708201e-01,\n",
       "          1.92703068e-01,   1.36587551e-01,   1.20178884e-01,\n",
       "          1.43919717e-01,   1.36107551e-01,   1.60017026e-01,\n",
       "          1.94211301e-01,   1.76860628e-01,   2.03453183e-01,\n",
       "          1.99605205e-01,   2.04970779e-01,   1.92983340e-01,\n",
       "          1.90742721e-01,   2.02660618e-01,   2.00245824e-01],\n",
       "       [ -3.17952446e-01,  -3.17015768e-01,  -2.47442627e-01,\n",
       "          1.07808743e-02,  -4.16167570e-02,  -2.41532330e-01,\n",
       "         -6.13170308e-02,  -2.50376513e-01,   1.22202963e-01,\n",
       "          2.45005826e-02,   5.26385010e-02,   3.21925070e-01,\n",
       "          2.27919453e-01,   5.58495537e-02,   1.12508573e-01,\n",
       "          2.25344736e-02,   3.81720737e-01,   3.36683602e-01,\n",
       "          2.66278023e-01,  -1.01560316e-01,  -5.18936297e-02,\n",
       "          3.63662263e-02,   1.24474938e-01,  -7.32237162e-05,\n",
       "          1.95302428e-02,   6.03499966e-03,  -1.68539438e-01,\n",
       "         -1.57194554e-01,  -8.20065435e-02,  -1.78666180e-02],\n",
       "       [ -2.02645455e-01,  -1.50543469e-01,  -3.64978355e-01,\n",
       "          1.73357063e-01,   1.10620097e-01,  -1.15159032e-02,\n",
       "          1.69952309e-01,  -1.35239932e-01,  -5.06991687e-02,\n",
       "          1.92628174e-01,   1.18600862e-02,   1.30060435e-02,\n",
       "          2.70419328e-02,   8.33040626e-02,   1.84260454e-01,\n",
       "          1.72627827e-02,  -1.92117095e-01,  -3.36384722e-01,\n",
       "         -4.08604591e-01,  -4.47497452e-01,   1.46721329e-03,\n",
       "          1.40982541e-01,   2.06384104e-01,   9.62730954e-03,\n",
       "          8.96516790e-02,   1.67857906e-02,   1.87958600e-01,\n",
       "          8.72104315e-02,  -2.01579760e-02,   7.72627640e-03]])"
      ]
     },
     "execution_count": 30,
     "metadata": {},
     "output_type": "execute_result"
    }
   ],
   "source": [
    "-pca.components_"
   ]
  },
  {
   "cell_type": "code",
   "execution_count": 31,
   "metadata": {
    "slideshow": {
     "slide_type": "slide"
    }
   },
   "outputs": [
    {
     "name": "stdout",
     "output_type": "stream",
     "text": [
      "Eigenvectors \n",
      " [[  1.77772853e-01  -3.18009912e-01  -2.02669551e-01]\n",
      " [  1.58815723e-01  -3.16990941e-01  -1.50597671e-01]\n",
      " [  1.19812997e-01  -2.47428578e-01  -3.64987429e-01]\n",
      " [  1.98380725e-01   1.08050108e-02   1.73294567e-01]\n",
      " [  2.00439739e-01  -4.16040368e-02   1.10487649e-01]\n",
      " [  1.85209007e-01  -2.41471465e-01  -1.14210225e-02]\n",
      " [  1.91115882e-01  -6.13340101e-02   1.70046231e-01]\n",
      " [  1.71509805e-01  -2.50404937e-01  -1.35218697e-01]\n",
      " [  2.01484352e-01   1.22153263e-01  -5.07535480e-02]\n",
      " [  1.81069627e-01   2.45527412e-02   1.92588582e-01]\n",
      " [  2.10619952e-01   5.26615665e-02   1.18305007e-02]\n",
      " [  1.82587324e-01   3.21868086e-01   1.29413496e-02]\n",
      " [  2.06015823e-01   2.27902498e-01   2.70637671e-02]\n",
      " [  2.01860097e-01   5.58467502e-02   8.33466631e-02]\n",
      " [  1.80708201e-01   1.12502754e-01   1.84369464e-01]\n",
      " [  1.92703068e-01   2.24966244e-02   1.74362909e-02]\n",
      " [  1.36587551e-01   3.81748203e-01  -1.92027013e-01]\n",
      " [  1.20178884e-01   3.36703061e-01  -3.36390935e-01]\n",
      " [  1.43919717e-01   2.66293792e-01  -4.08642729e-01]\n",
      " [  1.36107551e-01  -1.01585521e-01  -4.47380718e-01]\n",
      " [  1.60017026e-01  -5.18641074e-02   1.49237406e-03]\n",
      " [  1.94211301e-01   3.63779794e-02   1.40922656e-01]\n",
      " [  1.76860628e-01   1.24459287e-01   2.06484264e-01]\n",
      " [  2.03453183e-01  -9.33880435e-05   9.63331639e-03]\n",
      " [  1.99605205e-01   1.95229828e-02   8.96200756e-02]\n",
      " [  2.04970779e-01   6.04084223e-03   1.67157568e-02]\n",
      " [  1.92983340e-01  -1.68571863e-01   1.88018198e-01]\n",
      " [  1.90742721e-01  -1.57229894e-01   8.72885440e-02]\n",
      " [  2.02660618e-01  -8.19678342e-02  -2.02851351e-02]\n",
      " [  2.00245824e-01  -1.78019038e-02   7.57865662e-03]]\n"
     ]
    }
   ],
   "source": [
    "# We can check that we indeed get the correct eigenvectors\n",
    "cov_mat = np.cov(X_std.T)\n",
    "eig_vals, eig_vecs = np.linalg.eig(cov_mat)\n",
    "print('Eigenvectors \\n', eig_vecs[:,:3])"
   ]
  },
  {
   "cell_type": "markdown",
   "metadata": {
    "slideshow": {
     "slide_type": "slide"
    }
   },
   "source": [
    "And project back to the data space"
   ]
  },
  {
   "cell_type": "code",
   "execution_count": 32,
   "metadata": {
    "slideshow": {
     "slide_type": "fragment"
    }
   },
   "outputs": [
    {
     "data": {
      "text/html": [
       "<div>\n",
       "<style>\n",
       "    .dataframe thead tr:only-child th {\n",
       "        text-align: right;\n",
       "    }\n",
       "\n",
       "    .dataframe thead th {\n",
       "        text-align: left;\n",
       "    }\n",
       "\n",
       "    .dataframe tbody tr th {\n",
       "        vertical-align: top;\n",
       "    }\n",
       "</style>\n",
       "<table border=\"1\" class=\"dataframe\">\n",
       "  <thead>\n",
       "    <tr style=\"text-align: right;\">\n",
       "      <th></th>\n",
       "      <th>PCA1</th>\n",
       "      <th>PCA2</th>\n",
       "      <th>PCA3</th>\n",
       "    </tr>\n",
       "    <tr>\n",
       "      <th>Date</th>\n",
       "      <th></th>\n",
       "      <th></th>\n",
       "      <th></th>\n",
       "    </tr>\n",
       "  </thead>\n",
       "  <tbody>\n",
       "    <tr>\n",
       "      <th>1963-01-31</th>\n",
       "      <td>4.295524</td>\n",
       "      <td>0.128478</td>\n",
       "      <td>-0.291562</td>\n",
       "    </tr>\n",
       "    <tr>\n",
       "      <th>1963-02-28</th>\n",
       "      <td>-2.985328</td>\n",
       "      <td>0.666930</td>\n",
       "      <td>0.423871</td>\n",
       "    </tr>\n",
       "    <tr>\n",
       "      <th>1963-03-31</th>\n",
       "      <td>1.408518</td>\n",
       "      <td>0.346879</td>\n",
       "      <td>-1.053895</td>\n",
       "    </tr>\n",
       "    <tr>\n",
       "      <th>1963-04-30</th>\n",
       "      <td>3.278037</td>\n",
       "      <td>0.185319</td>\n",
       "      <td>-0.280010</td>\n",
       "    </tr>\n",
       "    <tr>\n",
       "      <th>1963-05-31</th>\n",
       "      <td>0.930098</td>\n",
       "      <td>0.785685</td>\n",
       "      <td>0.765601</td>\n",
       "    </tr>\n",
       "  </tbody>\n",
       "</table>\n",
       "</div>"
      ],
      "text/plain": [
       "                PCA1      PCA2      PCA3\n",
       "Date                                    \n",
       "1963-01-31  4.295524  0.128478 -0.291562\n",
       "1963-02-28 -2.985328  0.666930  0.423871\n",
       "1963-03-31  1.408518  0.346879 -1.053895\n",
       "1963-04-30  3.278037  0.185319 -0.280010\n",
       "1963-05-31  0.930098  0.785685  0.765601"
      ]
     },
     "execution_count": 32,
     "metadata": {},
     "output_type": "execute_result"
    }
   ],
   "source": [
    "df_pca = pd.DataFrame(Y*(-1),\n",
    "                     columns=['PCA1', 'PCA2','PCA3'])\n",
    "df_pca.index = tb.index\n",
    "df_pca.head()"
   ]
  },
  {
   "cell_type": "markdown",
   "metadata": {
    "slideshow": {
     "slide_type": "slide"
    }
   },
   "source": [
    "You may wonder what's the interpretation of the PCA1. Let's introduce some factor returns, and plot PCA1 against market return. "
   ]
  },
  {
   "cell_type": "code",
   "execution_count": 33,
   "metadata": {
    "slideshow": {
     "slide_type": "slide"
    }
   },
   "outputs": [
    {
     "data": {
      "image/png": "[encoded data removed]",
      "text/plain": [
       "<matplotlib.figure.Figure at 0x11b14d790>"
      ]
     },
     "metadata": {},
     "output_type": "display_data"
    }
   ],
   "source": [
    "df2 = df_pca.join(ff['mktret'])\n",
    "fig, ax = plt.subplots()\n",
    "plt.scatter(df2.mktret, df2.PCA1)\n",
    "plt.title('PCA1 Against Market Retrurn')\n",
    "plt.xlabel('Market Return')\n",
    "plt.ylabel('PCA1')\n",
    "plt.show()"
   ]
  },
  {
   "cell_type": "markdown",
   "metadata": {
    "collapsed": true,
    "slideshow": {
     "slide_type": "slide"
    }
   },
   "source": [
    "You guessed it right. The first PC is highly positively correlated with $R_M$."
   ]
  },
  {
   "cell_type": "markdown",
   "metadata": {
    "slideshow": {
     "slide_type": "slide"
    }
   },
   "source": [
    "Factor Mimicking Portfolios\n",
    "\n",
    "Recall that each sample principal component (factor) is a linear combination of returns weighted by eigenvector. If we normalized the wights in eigenvector we can get the portfolio weights to replicate factor returns. \n",
    "\n",
    "For example, mimicking portfolio weights of PCA1 in our example are: "
   ]
  },
  {
   "cell_type": "code",
   "execution_count": 38,
   "metadata": {
    "slideshow": {
     "slide_type": "slide"
    }
   },
   "outputs": [
    {
     "data": {
      "text/html": [
       "<div>\n",
       "<style>\n",
       "    .dataframe thead tr:only-child th {\n",
       "        text-align: right;\n",
       "    }\n",
       "\n",
       "    .dataframe thead th {\n",
       "        text-align: left;\n",
       "    }\n",
       "\n",
       "    .dataframe tbody tr th {\n",
       "        vertical-align: top;\n",
       "    }\n",
       "</style>\n",
       "<table border=\"1\" class=\"dataframe\">\n",
       "  <thead>\n",
       "    <tr style=\"text-align: right;\">\n",
       "      <th></th>\n",
       "      <th>Mimicking Portfolio Weight</th>\n",
       "    </tr>\n",
       "  </thead>\n",
       "  <tbody>\n",
       "    <tr>\n",
       "      <th>Cnstr</th>\n",
       "      <td>0.038841</td>\n",
       "    </tr>\n",
       "    <tr>\n",
       "      <th>FabPr</th>\n",
       "      <td>0.037992</td>\n",
       "    </tr>\n",
       "    <tr>\n",
       "      <th>Whlsl</th>\n",
       "      <td>0.037799</td>\n",
       "    </tr>\n",
       "    <tr>\n",
       "      <th>Paper</th>\n",
       "      <td>0.037519</td>\n",
       "    </tr>\n",
       "    <tr>\n",
       "      <th>Fin</th>\n",
       "      <td>0.037373</td>\n",
       "    </tr>\n",
       "    <tr>\n",
       "      <th>ElcEq</th>\n",
       "      <td>0.037225</td>\n",
       "    </tr>\n",
       "    <tr>\n",
       "      <th>Chems</th>\n",
       "      <td>0.037156</td>\n",
       "    </tr>\n",
       "    <tr>\n",
       "      <th>Books</th>\n",
       "      <td>0.036963</td>\n",
       "    </tr>\n",
       "    <tr>\n",
       "      <th>Other</th>\n",
       "      <td>0.036928</td>\n",
       "    </tr>\n",
       "    <tr>\n",
       "      <th>Trans</th>\n",
       "      <td>0.036810</td>\n",
       "    </tr>\n",
       "    <tr>\n",
       "      <th>Games</th>\n",
       "      <td>0.036584</td>\n",
       "    </tr>\n",
       "    <tr>\n",
       "      <th>Servs</th>\n",
       "      <td>0.035815</td>\n",
       "    </tr>\n",
       "    <tr>\n",
       "      <th>Rtail</th>\n",
       "      <td>0.035588</td>\n",
       "    </tr>\n",
       "    <tr>\n",
       "      <th>Carry</th>\n",
       "      <td>0.035537</td>\n",
       "    </tr>\n",
       "    <tr>\n",
       "      <th>Clths</th>\n",
       "      <td>0.035244</td>\n",
       "    </tr>\n",
       "    <tr>\n",
       "      <th>Meals</th>\n",
       "      <td>0.035175</td>\n",
       "    </tr>\n",
       "    <tr>\n",
       "      <th>Hshld</th>\n",
       "      <td>0.034155</td>\n",
       "    </tr>\n",
       "    <tr>\n",
       "      <th>Steel</th>\n",
       "      <td>0.033671</td>\n",
       "    </tr>\n",
       "    <tr>\n",
       "      <th>Txtls</th>\n",
       "      <td>0.033391</td>\n",
       "    </tr>\n",
       "    <tr>\n",
       "      <th>Autos</th>\n",
       "      <td>0.033325</td>\n",
       "    </tr>\n",
       "    <tr>\n",
       "      <th>Food</th>\n",
       "      <td>0.032783</td>\n",
       "    </tr>\n",
       "    <tr>\n",
       "      <th>BusEq</th>\n",
       "      <td>0.032615</td>\n",
       "    </tr>\n",
       "    <tr>\n",
       "      <th>Hlth</th>\n",
       "      <td>0.031628</td>\n",
       "    </tr>\n",
       "    <tr>\n",
       "      <th>Telcm</th>\n",
       "      <td>0.029509</td>\n",
       "    </tr>\n",
       "    <tr>\n",
       "      <th>Beer</th>\n",
       "      <td>0.029287</td>\n",
       "    </tr>\n",
       "    <tr>\n",
       "      <th>Oil</th>\n",
       "      <td>0.026540</td>\n",
       "    </tr>\n",
       "    <tr>\n",
       "      <th>Mines</th>\n",
       "      <td>0.025188</td>\n",
       "    </tr>\n",
       "    <tr>\n",
       "      <th>Util</th>\n",
       "      <td>0.025100</td>\n",
       "    </tr>\n",
       "    <tr>\n",
       "      <th>Coal</th>\n",
       "      <td>0.022162</td>\n",
       "    </tr>\n",
       "    <tr>\n",
       "      <th>Smoke</th>\n",
       "      <td>0.022095</td>\n",
       "    </tr>\n",
       "  </tbody>\n",
       "</table>\n",
       "</div>"
      ],
      "text/plain": [
       "       Mimicking Portfolio Weight\n",
       "Cnstr                    0.038841\n",
       "FabPr                    0.037992\n",
       "Whlsl                    0.037799\n",
       "Paper                    0.037519\n",
       "Fin                      0.037373\n",
       "ElcEq                    0.037225\n",
       "Chems                    0.037156\n",
       "Books                    0.036963\n",
       "Other                    0.036928\n",
       "Trans                    0.036810\n",
       "Games                    0.036584\n",
       "Servs                    0.035815\n",
       "Rtail                    0.035588\n",
       "Carry                    0.035537\n",
       "Clths                    0.035244\n",
       "Meals                    0.035175\n",
       "Hshld                    0.034155\n",
       "Steel                    0.033671\n",
       "Txtls                    0.033391\n",
       "Autos                    0.033325\n",
       "Food                     0.032783\n",
       "BusEq                    0.032615\n",
       "Hlth                     0.031628\n",
       "Telcm                    0.029509\n",
       "Beer                     0.029287\n",
       "Oil                      0.026540\n",
       "Mines                    0.025188\n",
       "Util                     0.025100\n",
       "Coal                     0.022162\n",
       "Smoke                    0.022095"
      ]
     },
     "execution_count": 38,
     "metadata": {},
     "output_type": "execute_result"
    }
   ],
   "source": [
    "evec = pca.components_\n",
    "mmp = []\n",
    "for i in range(len(evec[0])):\n",
    "    w = evec[0][i]/evec[0].sum()\n",
    "    mmp.append(w)\n",
    "w = pd.DataFrame(mmp, index=tb.columns)\n",
    "w.columns=['Mimicking Portfolio Weight']\n",
    "w = w.sort_values('Mimicking Portfolio Weight', ascending=False)\n",
    "w"
   ]
  },
  {
   "cell_type": "markdown",
   "metadata": {
    "collapsed": true,
    "slideshow": {
     "slide_type": "slide"
    }
   },
   "source": [
    "#### Constructing factor mimicking portfolios\n",
    "More generally, we construct factor mimicking portfolio by \"projecting\" factor $\\tilde f$ on to a relatively small number of diversified portfolios \n",
    "$$\\tilde{f}_{t}=b_{0}+\\sum_{i=1}^{N}b_{i}R^{e}_{it}+\\varepsilon_{it}$$\n",
    "the estimated coefficient $b_{1}, b_{2},\\cdots, b_{N}$ are the weights of the factor mimicking portfolio on N assets."
   ]
  },
  {
   "cell_type": "markdown",
   "metadata": {
    "collapsed": true,
    "slideshow": {
     "slide_type": "slide"
    }
   },
   "source": [
    "factor mimicking portfolios are useful for\n",
    " - hedging factor risks\n",
    " - factor tiling\n",
    " - estimating factor risk premium"
   ]
  },
  {
   "cell_type": "markdown",
   "metadata": {
    "collapsed": true,
    "slideshow": {
     "slide_type": "slide"
    }
   },
   "source": [
    "## Concluding Remarks\n",
    "\n",
    "-   CAPM impose structure and many assumptions to get specific model\n",
    "    predictions; in contracts, APT and multifactor models impose few\n",
    "    assumptions therefore get less specific model predictions. What best\n",
    "    describes asset prices then is an empirical question.\n",
    "    \n",
    "-   The selection and number of factors should consider both fit of the model and parsimonosity. There are models that's developed that can guide us in selection of factors. \n"
   ]
  },
  {
   "cell_type": "markdown",
   "metadata": {
    "collapsed": true,
    "slideshow": {
     "slide_type": "slide"
    }
   },
   "source": [
    "-   The most important takeaway from these theories should be that it’s\n",
    "    not only future cash flows that’s important for asset pricing, how\n",
    "    these cash flows correlate with the state of the economy is\n",
    "    also important. Payoffs in state of distress is more valued\n",
    "    therefore should have higher asset prices."
   ]
  },
  {
   "cell_type": "code",
   "execution_count": null,
   "metadata": {
    "collapsed": true
   },
   "outputs": [],
   "source": []
  }
 ],
 "metadata": {
  "anaconda-cloud": {},
  "celltoolbar": "Slideshow",
  "hide_input": false,
  "kernelspec": {
   "display_name": "Python 3",
   "language": "python",
   "name": "python3"
  },
  "language_info": {
   "codemirror_mode": {
    "name": "ipython",
    "version": 3
   },
   "file_extension": ".py",
   "mimetype": "text/x-python",
   "name": "python",
   "nbconvert_exporter": "python",
   "pygments_lexer": "ipython3",
   "version": "3.6.1"
  },
  "latex_envs": {
   "bibliofile": "biblio.bib",
   "cite_by": "apalike",
   "current_citInitial": 1,
   "eqLabelWithNumbers": true,
   "eqNumInitial": 0
  }
 },
 "nbformat": 4,
 "nbformat_minor": 1
}
